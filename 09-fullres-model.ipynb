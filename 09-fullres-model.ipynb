{
 "cells": [
  {
   "cell_type": "markdown",
   "metadata": {
    "toc": "true"
   },
   "source": [
    " # Table of Contents\n",
    "<div class=\"toc\" style=\"margin-top: 1em;\"><ul class=\"toc-item\" id=\"toc-level0\"><li><span><a href=\"http://localhost:8890/notebooks/09-fullres-model.ipynb#Load-libraries\" data-toc-modified-id=\"Load-libraries-1\"><span class=\"toc-item-num\">1&nbsp;&nbsp;</span>Load libraries</a></span></li><li><span><a href=\"http://localhost:8890/notebooks/09-fullres-model.ipynb#Define-loss-functions\" data-toc-modified-id=\"Define-loss-functions-2\"><span class=\"toc-item-num\">2&nbsp;&nbsp;</span>Define loss functions</a></span></li><li><span><a href=\"http://localhost:8890/notebooks/09-fullres-model.ipynb#Define-models\" data-toc-modified-id=\"Define-models-3\"><span class=\"toc-item-num\">3&nbsp;&nbsp;</span>Define models</a></span></li><li><span><a href=\"http://localhost:8890/notebooks/09-fullres-model.ipynb#Training\" data-toc-modified-id=\"Training-4\"><span class=\"toc-item-num\">4&nbsp;&nbsp;</span>Training</a></span></li><li><span><a href=\"http://localhost:8890/notebooks/09-fullres-model.ipynb#Predictions\" data-toc-modified-id=\"Predictions-5\"><span class=\"toc-item-num\">5&nbsp;&nbsp;</span>Predictions</a></span></li><li><span><a href=\"http://localhost:8890/notebooks/09-fullres-model.ipynb#Saving-predictions\" data-toc-modified-id=\"Saving-predictions-6\"><span class=\"toc-item-num\">6&nbsp;&nbsp;</span>Saving predictions</a></span></li></ul></div>"
   ]
  },
  {
   "cell_type": "markdown",
   "metadata": {},
   "source": [
    "# Load libraries"
   ]
  },
  {
   "cell_type": "code",
   "execution_count": 1,
   "metadata": {
    "ExecuteTime": {
     "end_time": "2017-09-08T19:45:15.748787Z",
     "start_time": "2017-09-08T19:44:45.528343Z"
    }
   },
   "outputs": [
    {
     "name": "stderr",
     "output_type": "stream",
     "text": [
      "Using TensorFlow backend.\n"
     ]
    }
   ],
   "source": [
    "import cv2\n",
    "import numpy as np\n",
    "import pandas as pd\n",
    "\n",
    "from keras.callbacks import EarlyStopping, ReduceLROnPlateau, ModelCheckpoint, TensorBoard\n",
    "from keras.models import Model\n",
    "from keras.layers import Input, concatenate, Conv2D, MaxPooling2D, Activation, UpSampling2D, BatchNormalization\n",
    "from keras.optimizers import RMSprop\n",
    "from keras.losses import binary_crossentropy\n",
    "import keras.backend as K\n",
    "\n",
    "from sklearn.model_selection import train_test_split"
   ]
  },
  {
   "cell_type": "markdown",
   "metadata": {},
   "source": [
    "# Define loss functions"
   ]
  },
  {
   "cell_type": "code",
   "execution_count": 2,
   "metadata": {
    "ExecuteTime": {
     "end_time": "2017-09-08T19:45:15.758789Z",
     "start_time": "2017-09-08T19:45:15.751147Z"
    },
    "collapsed": true
   },
   "outputs": [],
   "source": [
    "def dice_loss(y_true, y_pred):\n",
    "    smooth = 1.\n",
    "    y_true_f = K.flatten(y_true)\n",
    "    y_pred_f = K.flatten(y_pred)\n",
    "    intersection = K.sum(y_true_f * y_pred_f)\n",
    "    return (2. * intersection + smooth) / (K.sum(y_true_f) + K.sum(y_pred_f) + smooth)\n",
    "\n",
    "\n",
    "def bce_dice_loss(y_true, y_pred):\n",
    "    return binary_crossentropy(y_true, y_pred) + (1 - dice_loss(y_true, y_pred))"
   ]
  },
  {
   "cell_type": "markdown",
   "metadata": {},
   "source": [
    "# Define models"
   ]
  },
  {
   "cell_type": "code",
   "execution_count": 3,
   "metadata": {
    "ExecuteTime": {
     "end_time": "2017-09-08T19:45:15.779340Z",
     "start_time": "2017-09-08T19:45:15.760308Z"
    },
    "collapsed": true
   },
   "outputs": [],
   "source": [
    "def unet_down_one_block(inputs, num_filters):\n",
    "    x = Conv2D(num_filters, (3, 3), padding='same')(inputs)\n",
    "    x = BatchNormalization()(x)\n",
    "    x = Activation('relu')(x)\n",
    "    x = Conv2D(num_filters, (3, 3), padding='same')(x)\n",
    "    x = BatchNormalization()(x)\n",
    "    x = Activation('relu')(x)\n",
    "    return x"
   ]
  },
  {
   "cell_type": "code",
   "execution_count": 4,
   "metadata": {
    "ExecuteTime": {
     "end_time": "2017-09-08T19:45:15.804848Z",
     "start_time": "2017-09-08T19:45:15.780884Z"
    },
    "collapsed": true
   },
   "outputs": [],
   "source": [
    "def unet_max_pool(inputs):\n",
    "    x = MaxPooling2D((2, 2), strides=(2, 2))(inputs)\n",
    "    return x"
   ]
  },
  {
   "cell_type": "code",
   "execution_count": 5,
   "metadata": {
    "ExecuteTime": {
     "end_time": "2017-09-08T19:45:15.815708Z",
     "start_time": "2017-09-08T19:45:15.806483Z"
    },
    "collapsed": true
   },
   "outputs": [],
   "source": [
    "def unet_up_one_block(up_input, down_input, num_filters):\n",
    "    x = UpSampling2D((2,2))(up_input)\n",
    "    x = concatenate([down_input, x], axis=3)\n",
    "    x = Conv2D(num_filters, (3,3), padding='same')(x)\n",
    "    x = BatchNormalization()(x)\n",
    "    x = Activation('relu')(x)\n",
    "    x = Conv2D(num_filters, (3,3), padding='same')(x)\n",
    "    x = BatchNormalization()(x)\n",
    "    x = Activation('relu')(x)\n",
    "    x = Conv2D(num_filters, (3,3), padding='same')(x)\n",
    "    x = BatchNormalization()(x)\n",
    "    x = Activation('relu')(x)\n",
    "    return x"
   ]
  },
  {
   "cell_type": "code",
   "execution_count": 6,
   "metadata": {
    "ExecuteTime": {
     "end_time": "2017-09-08T19:45:15.837286Z",
     "start_time": "2017-09-08T19:45:15.817178Z"
    },
    "collapsed": true
   },
   "outputs": [],
   "source": [
    "def get_unet(input_shape = (256, 256, 3),\n",
    "             num_classes = 1,\n",
    "             initial_filters = 32,\n",
    "             central_filters = 1024):\n",
    "    \n",
    "    num_filters = initial_filters\n",
    "    \n",
    "    out_list    = [Input(shape=input_shape)]\n",
    "    down_interim_list = []\n",
    "    \n",
    "    while num_filters <= central_filters/2:\n",
    "        x = unet_down_one_block(out_list[-1], num_filters)\n",
    "        down_interim_list.append(x)\n",
    "        num_filters = num_filters * 2\n",
    "        y = unet_max_pool(x)\n",
    "        out_list.append(y)\n",
    "    \n",
    "    x = unet_down_one_block(out_list[-1], num_filters)\n",
    "    out_list.append(x)\n",
    "    num_filters = int(num_filters / 2)\n",
    "    \n",
    "    while num_filters >= initial_filters:\n",
    "        x = unet_up_one_block(out_list[-1], down_interim_list.pop(), num_filters)\n",
    "        out_list.append(x)\n",
    "        num_filters = int(num_filters / 2)\n",
    "    \n",
    "    classify = Conv2D(num_classes, (1,1), activation = 'sigmoid')(out_list[-1])\n",
    "    \n",
    "    model = Model(inputs=out_list[0], outputs=classify)\n",
    "    \n",
    "    model.compile(optimizer=RMSprop(lr=0.0001),\n",
    "                  loss=bce_dice_loss,\n",
    "                  metrics=[dice_loss])\n",
    "    \n",
    "    return model"
   ]
  },
  {
   "cell_type": "code",
   "execution_count": 7,
   "metadata": {
    "ExecuteTime": {
     "end_time": "2017-09-08T19:45:17.712739Z",
     "start_time": "2017-09-08T19:45:15.839003Z"
    },
    "collapsed": true,
    "scrolled": true
   },
   "outputs": [],
   "source": [
    "model = get_unet(input_shape=(1024,1024,3), initial_filters=8)"
   ]
  },
  {
   "cell_type": "code",
   "execution_count": 8,
   "metadata": {
    "ExecuteTime": {
     "end_time": "2017-09-08T19:45:17.851205Z",
     "start_time": "2017-09-08T19:45:17.714703Z"
    },
    "collapsed": true
   },
   "outputs": [
    {
     "ename": "OSError",
     "evalue": "Unable to open file (Unable to open file: name = './weights/best_weights_1024.hdf5', errno = 2, error message = 'no such file or directory', flags = 0, o_flags = 0)",
     "output_type": "error",
     "traceback": [
      "\u001b[0;31m---------------------------------------------------------------------------\u001b[0m",
      "\u001b[0;31mOSError\u001b[0m                                   Traceback (most recent call last)",
      "\u001b[0;32m<ipython-input-8-d0a6d48d4a4b>\u001b[0m in \u001b[0;36m<module>\u001b[0;34m()\u001b[0m\n\u001b[0;32m----> 1\u001b[0;31m \u001b[0mmodel\u001b[0m\u001b[0;34m.\u001b[0m\u001b[0mload_weights\u001b[0m\u001b[0;34m(\u001b[0m\u001b[0;34m'./weights/best_weights_1024.hdf5'\u001b[0m\u001b[0;34m)\u001b[0m\u001b[0;34m\u001b[0m\u001b[0m\n\u001b[0m",
      "\u001b[0;32m/home/sainath/anaconda3/lib/python3.6/site-packages/keras/engine/topology.py\u001b[0m in \u001b[0;36mload_weights\u001b[0;34m(self, filepath, by_name)\u001b[0m\n\u001b[1;32m   2611\u001b[0m         \u001b[0;32mif\u001b[0m \u001b[0mh5py\u001b[0m \u001b[0;32mis\u001b[0m \u001b[0;32mNone\u001b[0m\u001b[0;34m:\u001b[0m\u001b[0;34m\u001b[0m\u001b[0m\n\u001b[1;32m   2612\u001b[0m             \u001b[0;32mraise\u001b[0m \u001b[0mImportError\u001b[0m\u001b[0;34m(\u001b[0m\u001b[0;34m'`load_weights` requires h5py.'\u001b[0m\u001b[0;34m)\u001b[0m\u001b[0;34m\u001b[0m\u001b[0m\n\u001b[0;32m-> 2613\u001b[0;31m         \u001b[0mf\u001b[0m \u001b[0;34m=\u001b[0m \u001b[0mh5py\u001b[0m\u001b[0;34m.\u001b[0m\u001b[0mFile\u001b[0m\u001b[0;34m(\u001b[0m\u001b[0mfilepath\u001b[0m\u001b[0;34m,\u001b[0m \u001b[0mmode\u001b[0m\u001b[0;34m=\u001b[0m\u001b[0;34m'r'\u001b[0m\u001b[0;34m)\u001b[0m\u001b[0;34m\u001b[0m\u001b[0m\n\u001b[0m\u001b[1;32m   2614\u001b[0m         \u001b[0;32mif\u001b[0m \u001b[0;34m'layer_names'\u001b[0m \u001b[0;32mnot\u001b[0m \u001b[0;32min\u001b[0m \u001b[0mf\u001b[0m\u001b[0;34m.\u001b[0m\u001b[0mattrs\u001b[0m \u001b[0;32mand\u001b[0m \u001b[0;34m'model_weights'\u001b[0m \u001b[0;32min\u001b[0m \u001b[0mf\u001b[0m\u001b[0;34m:\u001b[0m\u001b[0;34m\u001b[0m\u001b[0m\n\u001b[1;32m   2615\u001b[0m             \u001b[0mf\u001b[0m \u001b[0;34m=\u001b[0m \u001b[0mf\u001b[0m\u001b[0;34m[\u001b[0m\u001b[0;34m'model_weights'\u001b[0m\u001b[0;34m]\u001b[0m\u001b[0;34m\u001b[0m\u001b[0m\n",
      "\u001b[0;32m/home/sainath/anaconda3/lib/python3.6/site-packages/h5py/_hl/files.py\u001b[0m in \u001b[0;36m__init__\u001b[0;34m(self, name, mode, driver, libver, userblock_size, swmr, **kwds)\u001b[0m\n\u001b[1;32m    269\u001b[0m \u001b[0;34m\u001b[0m\u001b[0m\n\u001b[1;32m    270\u001b[0m                 \u001b[0mfapl\u001b[0m \u001b[0;34m=\u001b[0m \u001b[0mmake_fapl\u001b[0m\u001b[0;34m(\u001b[0m\u001b[0mdriver\u001b[0m\u001b[0;34m,\u001b[0m \u001b[0mlibver\u001b[0m\u001b[0;34m,\u001b[0m \u001b[0;34m**\u001b[0m\u001b[0mkwds\u001b[0m\u001b[0;34m)\u001b[0m\u001b[0;34m\u001b[0m\u001b[0m\n\u001b[0;32m--> 271\u001b[0;31m                 \u001b[0mfid\u001b[0m \u001b[0;34m=\u001b[0m \u001b[0mmake_fid\u001b[0m\u001b[0;34m(\u001b[0m\u001b[0mname\u001b[0m\u001b[0;34m,\u001b[0m \u001b[0mmode\u001b[0m\u001b[0;34m,\u001b[0m \u001b[0muserblock_size\u001b[0m\u001b[0;34m,\u001b[0m \u001b[0mfapl\u001b[0m\u001b[0;34m,\u001b[0m \u001b[0mswmr\u001b[0m\u001b[0;34m=\u001b[0m\u001b[0mswmr\u001b[0m\u001b[0;34m)\u001b[0m\u001b[0;34m\u001b[0m\u001b[0m\n\u001b[0m\u001b[1;32m    272\u001b[0m \u001b[0;34m\u001b[0m\u001b[0m\n\u001b[1;32m    273\u001b[0m                 \u001b[0;32mif\u001b[0m \u001b[0mswmr_support\u001b[0m\u001b[0;34m:\u001b[0m\u001b[0;34m\u001b[0m\u001b[0m\n",
      "\u001b[0;32m/home/sainath/anaconda3/lib/python3.6/site-packages/h5py/_hl/files.py\u001b[0m in \u001b[0;36mmake_fid\u001b[0;34m(name, mode, userblock_size, fapl, fcpl, swmr)\u001b[0m\n\u001b[1;32m     99\u001b[0m         \u001b[0;32mif\u001b[0m \u001b[0mswmr\u001b[0m \u001b[0;32mand\u001b[0m \u001b[0mswmr_support\u001b[0m\u001b[0;34m:\u001b[0m\u001b[0;34m\u001b[0m\u001b[0m\n\u001b[1;32m    100\u001b[0m             \u001b[0mflags\u001b[0m \u001b[0;34m|=\u001b[0m \u001b[0mh5f\u001b[0m\u001b[0;34m.\u001b[0m\u001b[0mACC_SWMR_READ\u001b[0m\u001b[0;34m\u001b[0m\u001b[0m\n\u001b[0;32m--> 101\u001b[0;31m         \u001b[0mfid\u001b[0m \u001b[0;34m=\u001b[0m \u001b[0mh5f\u001b[0m\u001b[0;34m.\u001b[0m\u001b[0mopen\u001b[0m\u001b[0;34m(\u001b[0m\u001b[0mname\u001b[0m\u001b[0;34m,\u001b[0m \u001b[0mflags\u001b[0m\u001b[0;34m,\u001b[0m \u001b[0mfapl\u001b[0m\u001b[0;34m=\u001b[0m\u001b[0mfapl\u001b[0m\u001b[0;34m)\u001b[0m\u001b[0;34m\u001b[0m\u001b[0m\n\u001b[0m\u001b[1;32m    102\u001b[0m     \u001b[0;32melif\u001b[0m \u001b[0mmode\u001b[0m \u001b[0;34m==\u001b[0m \u001b[0;34m'r+'\u001b[0m\u001b[0;34m:\u001b[0m\u001b[0;34m\u001b[0m\u001b[0m\n\u001b[1;32m    103\u001b[0m         \u001b[0mfid\u001b[0m \u001b[0;34m=\u001b[0m \u001b[0mh5f\u001b[0m\u001b[0;34m.\u001b[0m\u001b[0mopen\u001b[0m\u001b[0;34m(\u001b[0m\u001b[0mname\u001b[0m\u001b[0;34m,\u001b[0m \u001b[0mh5f\u001b[0m\u001b[0;34m.\u001b[0m\u001b[0mACC_RDWR\u001b[0m\u001b[0;34m,\u001b[0m \u001b[0mfapl\u001b[0m\u001b[0;34m=\u001b[0m\u001b[0mfapl\u001b[0m\u001b[0;34m)\u001b[0m\u001b[0;34m\u001b[0m\u001b[0m\n",
      "\u001b[0;32mh5py/_objects.pyx\u001b[0m in \u001b[0;36mh5py._objects.with_phil.wrapper (/home/ilan/minonda/conda-bld/h5py_1490028290543/work/h5py/_objects.c:2846)\u001b[0;34m()\u001b[0m\n",
      "\u001b[0;32mh5py/_objects.pyx\u001b[0m in \u001b[0;36mh5py._objects.with_phil.wrapper (/home/ilan/minonda/conda-bld/h5py_1490028290543/work/h5py/_objects.c:2804)\u001b[0;34m()\u001b[0m\n",
      "\u001b[0;32mh5py/h5f.pyx\u001b[0m in \u001b[0;36mh5py.h5f.open (/home/ilan/minonda/conda-bld/h5py_1490028290543/work/h5py/h5f.c:2123)\u001b[0;34m()\u001b[0m\n",
      "\u001b[0;31mOSError\u001b[0m: Unable to open file (Unable to open file: name = './weights/best_weights_1024.hdf5', errno = 2, error message = 'no such file or directory', flags = 0, o_flags = 0)"
     ]
    }
   ],
   "source": [
    "model.load_weights('./weights/best_weights_1024.hdf5')"
   ]
  },
  {
   "cell_type": "markdown",
   "metadata": {},
   "source": [
    "# Training"
   ]
  },
  {
   "cell_type": "code",
   "execution_count": 9,
   "metadata": {
    "ExecuteTime": {
     "end_time": "2017-09-08T19:45:28.617067Z",
     "start_time": "2017-09-08T19:45:28.613754Z"
    },
    "collapsed": true
   },
   "outputs": [],
   "source": [
    "max_epochs = 50\n",
    "threshold  = 0.5"
   ]
  },
  {
   "cell_type": "code",
   "execution_count": 10,
   "metadata": {
    "ExecuteTime": {
     "end_time": "2017-09-08T19:45:29.360644Z",
     "start_time": "2017-09-08T19:45:28.935179Z"
    },
    "collapsed": true
   },
   "outputs": [],
   "source": [
    "df_train = pd.read_csv('data/train_masks.csv')"
   ]
  },
  {
   "cell_type": "code",
   "execution_count": 11,
   "metadata": {
    "ExecuteTime": {
     "end_time": "2017-09-08T19:45:29.368972Z",
     "start_time": "2017-09-08T19:45:29.362406Z"
    },
    "collapsed": true
   },
   "outputs": [],
   "source": [
    "ids_train = df_train['img'].map(lambda s: s.split('.')[0])"
   ]
  },
  {
   "cell_type": "code",
   "execution_count": 12,
   "metadata": {
    "ExecuteTime": {
     "end_time": "2017-09-08T19:45:29.590970Z",
     "start_time": "2017-09-08T19:45:29.586146Z"
    },
    "collapsed": true
   },
   "outputs": [],
   "source": [
    "ids_train_split, ids_valid_split = train_test_split(ids_train, test_size=0.2, random_state=42)"
   ]
  },
  {
   "cell_type": "code",
   "execution_count": 13,
   "metadata": {
    "ExecuteTime": {
     "end_time": "2017-09-08T19:45:29.959199Z",
     "start_time": "2017-09-08T19:45:29.948151Z"
    },
    "collapsed": true
   },
   "outputs": [],
   "source": [
    "def randomHueSaturationValue(image, hue_shift_limit=(-180, 180),\n",
    "                             sat_shift_limit=(-255, 255),\n",
    "                             val_shift_limit=(-255, 255), u=0.5):\n",
    "    if np.random.random() < u:\n",
    "        image = cv2.cvtColor(image, cv2.COLOR_BGR2HSV)\n",
    "        h, s, v = cv2.split(image)\n",
    "        hue_shift = np.random.uniform(hue_shift_limit[0], hue_shift_limit[1])\n",
    "        h = cv2.add(h, hue_shift)\n",
    "        sat_shift = np.random.uniform(sat_shift_limit[0], sat_shift_limit[1])\n",
    "        s = cv2.add(s, sat_shift)\n",
    "        val_shift = np.random.uniform(val_shift_limit[0], val_shift_limit[1])\n",
    "        v = cv2.add(v, val_shift)\n",
    "        image = cv2.merge((h, s, v))\n",
    "        image = cv2.cvtColor(image, cv2.COLOR_HSV2BGR)\n",
    "\n",
    "    return image"
   ]
  },
  {
   "cell_type": "code",
   "execution_count": 14,
   "metadata": {
    "ExecuteTime": {
     "end_time": "2017-09-08T19:45:30.458134Z",
     "start_time": "2017-09-08T19:45:30.429015Z"
    },
    "collapsed": true
   },
   "outputs": [],
   "source": [
    "def randomShiftScaleRotate(image, mask,\n",
    "                           shift_limit=(-0.0625, 0.0625),\n",
    "                           scale_limit=(-0.1, 0.1),\n",
    "                           rotate_limit=(-45, 45), aspect_limit=(0, 0),\n",
    "                           borderMode=cv2.BORDER_CONSTANT, u=0.5):\n",
    "    if np.random.random() < u:\n",
    "        height, width, channel = image.shape\n",
    "\n",
    "        angle = np.random.uniform(rotate_limit[0], rotate_limit[1])  # degree\n",
    "        scale = np.random.uniform(1 + scale_limit[0], 1 + scale_limit[1])\n",
    "        aspect = np.random.uniform(1 + aspect_limit[0], 1 + aspect_limit[1])\n",
    "        sx = scale * aspect / (aspect ** 0.5)\n",
    "        sy = scale / (aspect ** 0.5)\n",
    "        dx = round(np.random.uniform(shift_limit[0], shift_limit[1]) * width)\n",
    "        dy = round(np.random.uniform(shift_limit[0], shift_limit[1]) * height)\n",
    "\n",
    "        cc = np.math.cos(angle / 180 * np.math.pi) * sx\n",
    "        ss = np.math.sin(angle / 180 * np.math.pi) * sy\n",
    "        rotate_matrix = np.array([[cc, -ss], [ss, cc]])\n",
    "\n",
    "        box0 = np.array([[0, 0], [width, 0], [width, height], [0, height], ])\n",
    "        box1 = box0 - np.array([width / 2, height / 2])\n",
    "        box1 = np.dot(box1, rotate_matrix.T) + np.array([width / 2 + dx, height / 2 + dy])\n",
    "\n",
    "        box0 = box0.astype(np.float32)\n",
    "        box1 = box1.astype(np.float32)\n",
    "        mat = cv2.getPerspectiveTransform(box0, box1)\n",
    "        image = cv2.warpPerspective(image, mat, (width, height), flags=cv2.INTER_LINEAR, borderMode=borderMode,\n",
    "                                    borderValue=(\n",
    "                                        0, 0,\n",
    "                                        0,))\n",
    "        mask = cv2.warpPerspective(mask, mat, (width, height), flags=cv2.INTER_LINEAR, borderMode=borderMode,\n",
    "                                   borderValue=(\n",
    "                                       0, 0,\n",
    "                                       0,))\n",
    "\n",
    "    return image, mask\n"
   ]
  },
  {
   "cell_type": "code",
   "execution_count": 15,
   "metadata": {
    "ExecuteTime": {
     "end_time": "2017-09-08T19:45:31.359813Z",
     "start_time": "2017-09-08T19:45:31.355613Z"
    },
    "collapsed": true
   },
   "outputs": [],
   "source": [
    "def randomHorizontalFlip(image, mask, u=0.5):\n",
    "    if np.random.random() < u:\n",
    "        image = cv2.flip(image, 1)\n",
    "        mask = cv2.flip(mask, 1)\n",
    "\n",
    "    return image, mask\n"
   ]
  },
  {
   "cell_type": "code",
   "execution_count": 16,
   "metadata": {
    "ExecuteTime": {
     "end_time": "2017-09-08T19:45:32.847340Z",
     "start_time": "2017-09-08T19:45:32.060041Z"
    },
    "collapsed": true
   },
   "outputs": [],
   "source": [
    "import random\n",
    "import gzip\n",
    "import pickle\n",
    "import matplotlib.pyplot as plt\n",
    "%matplotlib inline"
   ]
  },
  {
   "cell_type": "code",
   "execution_count": 16,
   "metadata": {
    "ExecuteTime": {
     "end_time": "2017-09-08T19:16:00.542732Z",
     "start_time": "2017-09-08T19:16:00.491326Z"
    },
    "collapsed": true
   },
   "outputs": [],
   "source": [
    "def train_generator(train_batch_size):\n",
    "    while True:\n",
    "        this_ids_train_split = random.sample(list(ids_train_split), len(list(ids_train_split)))\n",
    "        for start in range(0, len(this_ids_train_split), train_batch_size):\n",
    "            x_batch = []\n",
    "            y_batch = []\n",
    "            \n",
    "            end = min(start + train_batch_size, len(this_ids_train_split))\n",
    "            ids_train_batch = this_ids_train_split[start:end]\n",
    "            \n",
    "            for id in ids_train_batch:\n",
    "                \n",
    "                f = gzip.open(\"./data/train_cut/\" + id + '_01.pklz','rb')\n",
    "                img = pickle.load(f)\n",
    "                f.close()\n",
    "                \n",
    "                f = gzip.open(\"./data/train_masks_cut/\" + id + '_01.pklz','rb')\n",
    "                mask = pickle.load(f)\n",
    "                f.close()\n",
    "                \n",
    "                img = randomHueSaturationValue(img,\n",
    "                                               hue_shift_limit=(-50, 50),\n",
    "                                               sat_shift_limit=(-5, 5),\n",
    "                                               val_shift_limit=(-15, 15))\n",
    "                \n",
    "                img, mask = randomShiftScaleRotate(img, mask,\n",
    "                                                   shift_limit=(0,0),\n",
    "                                                   scale_limit=(-0.1, 0.1),\n",
    "                                                   rotate_limit=(-0, 0))\n",
    "                \n",
    "                mask = np.expand_dims(mask, axis=2)\n",
    "                \n",
    "                x_batch.append(img)\n",
    "                y_batch.append(mask)\n",
    "                \n",
    "                f = gzip.open(\"./data/train_cut/\" + id + '_02.pklz','rb')\n",
    "                img = pickle.load(f)\n",
    "                f.close()\n",
    "                \n",
    "                f = gzip.open(\"./data/train_masks_cut/\" + id + '_02.pklz','rb')\n",
    "                mask = pickle.load(f)\n",
    "                f.close()\n",
    "                \n",
    "                img = randomHueSaturationValue(img,\n",
    "                                               hue_shift_limit=(-50, 50),\n",
    "                                               sat_shift_limit=(-5, 5),\n",
    "                                               val_shift_limit=(-15, 15))\n",
    "                \n",
    "                img, mask = randomShiftScaleRotate(img, mask,\n",
    "                                                   shift_limit=(-0.0625, 0.0625),\n",
    "                                                   scale_limit=(-0.1, 0.1),\n",
    "                                                   rotate_limit=(-0, 0))\n",
    "                \n",
    "                mask = np.expand_dims(mask, axis=2)\n",
    "                \n",
    "                x_batch.append(img)\n",
    "                y_batch.append(mask)\n",
    "                \n",
    "            x_batch = np.array(x_batch, np.float32) / 255\n",
    "            y_batch = np.array(y_batch, np.float32) / 255\n",
    "            \n",
    "            yield x_batch, y_batch\n"
   ]
  },
  {
   "cell_type": "code",
   "execution_count": 17,
   "metadata": {
    "ExecuteTime": {
     "end_time": "2017-09-08T19:16:00.570340Z",
     "start_time": "2017-09-08T19:16:00.544732Z"
    },
    "collapsed": true
   },
   "outputs": [],
   "source": [
    "def valid_generator(val_batch_size):\n",
    "    while True:\n",
    "        for start in range(0, len(ids_valid_split), val_batch_size):\n",
    "            \n",
    "            x_batch = []\n",
    "            y_batch = []\n",
    "            \n",
    "            end = min(start + val_batch_size, len(ids_valid_split))\n",
    "            ids_valid_batch = ids_valid_split[start:end]\n",
    "            \n",
    "            for id in ids_valid_batch.values:\n",
    "                f = gzip.open(\"./data/train_cut/\" + id + '_01.pklz','rb')\n",
    "                img = pickle.load(f)\n",
    "                f.close()\n",
    "                \n",
    "                f = gzip.open(\"./data/train_masks_cut/\" + id + '_01.pklz','rb')\n",
    "                mask = pickle.load(f)\n",
    "                f.close()\n",
    "                \n",
    "                mask = np.expand_dims(mask, axis=2)\n",
    "                \n",
    "                x_batch.append(img)\n",
    "                y_batch.append(mask)\n",
    "                \n",
    "                f = gzip.open(\"./data/train_cut/\" + id + '_02.pklz','rb')\n",
    "                img = pickle.load(f)\n",
    "                f.close()\n",
    "                \n",
    "                f = gzip.open(\"./data/train_masks_cut/\" + id + '_02.pklz','rb')\n",
    "                mask = pickle.load(f)\n",
    "                f.close()\n",
    "                \n",
    "                mask = np.expand_dims(mask, axis=2)\n",
    "                \n",
    "                x_batch.append(img)\n",
    "                y_batch.append(mask)\n",
    "                \n",
    "            x_batch = np.array(x_batch, np.float32) / 255\n",
    "            y_batch = np.array(y_batch, np.float32) / 255\n",
    "            yield x_batch, y_batch\n",
    "\n"
   ]
  },
  {
   "cell_type": "code",
   "execution_count": 17,
   "metadata": {
    "ExecuteTime": {
     "end_time": "2017-09-08T19:45:37.991463Z",
     "start_time": "2017-09-08T19:45:37.988433Z"
    },
    "collapsed": true
   },
   "outputs": [],
   "source": [
    "train_batch_size = 3\n",
    "val_batch_size   = 8"
   ]
  },
  {
   "cell_type": "code",
   "execution_count": 19,
   "metadata": {
    "ExecuteTime": {
     "end_time": "2017-09-08T19:16:01.284880Z",
     "start_time": "2017-09-08T19:16:01.281687Z"
    },
    "collapsed": true
   },
   "outputs": [],
   "source": [
    "max_epochs = 10"
   ]
  },
  {
   "cell_type": "code",
   "execution_count": null,
   "metadata": {
    "ExecuteTime": {
     "start_time": "2017-08-29T16:25:55.973Z"
    },
    "collapsed": true
   },
   "outputs": [
    {
     "name": "stdout",
     "output_type": "stream",
     "text": [
      "Epoch 1/10\n",
      "4745s - loss: 0.0126 - dice_loss: 0.9946 - val_loss: 0.0102 - val_dice_loss: 0.9954\n",
      "Epoch 2/10\n",
      "4737s - loss: 0.0106 - dice_loss: 0.9952 - val_loss: 0.0096 - val_dice_loss: 0.9957\n",
      "Epoch 3/10\n",
      "4750s - loss: 0.0093 - dice_loss: 0.9958 - val_loss: 0.0088 - val_dice_loss: 0.9961\n",
      "Epoch 7/10\n",
      "4739s - loss: 0.0090 - dice_loss: 0.9959 - val_loss: 0.0090 - val_dice_loss: 0.9960\n",
      "Epoch 8/10\n",
      "4746s - loss: 0.0088 - dice_loss: 0.9959 - val_loss: 0.0085 - val_dice_loss: 0.9962\n",
      "Epoch 9/10\n",
      "4719s - loss: 0.0086 - dice_loss: 0.9960 - val_loss: 0.0084 - val_dice_loss: 0.9962\n"
     ]
    }
   ],
   "source": [
    "callbacks = [EarlyStopping(monitor='val_dice_loss',\n",
    "                           patience=8,\n",
    "                           verbose=1,\n",
    "                           min_delta=1e-4,\n",
    "                           mode='max'),\n",
    "             ReduceLROnPlateau(monitor='val_dice_loss',\n",
    "                               factor=0.1,\n",
    "                               patience=4,\n",
    "                               verbose=1,\n",
    "                               epsilon=1e-4,\n",
    "                               mode='max'),\n",
    "             ModelCheckpoint(monitor='val_dice_loss',\n",
    "                             filepath='weights/best_weights_fullres.hdf5',\n",
    "                             save_best_only=True,\n",
    "                             save_weights_only=True,\n",
    "                             mode='max')]\n",
    "\n",
    "history = model.fit_generator(generator=train_generator(train_batch_size),\n",
    "                    steps_per_epoch=np.ceil(float(len(ids_train_split)) / float(train_batch_size)),\n",
    "                    epochs=max_epochs,\n",
    "                    verbose=2,\n",
    "                    callbacks=callbacks,\n",
    "                    validation_data=valid_generator(val_batch_size),\n",
    "                    validation_steps=np.ceil(float(len(ids_valid_split)) / float(val_batch_size)))"
   ]
  },
  {
   "cell_type": "code",
   "execution_count": 22,
   "metadata": {
    "ExecuteTime": {
     "end_time": "2017-08-30T07:17:56.945842Z",
     "start_time": "2017-08-30T07:17:56.939418Z"
    },
    "collapsed": true
   },
   "outputs": [
    {
     "data": {
      "text/plain": [
       "{'dice_loss': [0.99455717988037651,\n",
       "  0.99523690183273994,\n",
       "  0.99549948939234389,\n",
       "  0.99558489984610743,\n",
       "  0.99571890987693823,\n",
       "  0.99577322744327335,\n",
       "  0.99587732943035756,\n",
       "  0.99594144582455513,\n",
       "  0.99599119864166219,\n",
       "  0.99604955582126642],\n",
       " 'loss': [0.012566470506507216,\n",
       "  0.010626543152285626,\n",
       "  0.0098885208991852745,\n",
       "  0.0097225947816986635,\n",
       "  0.0093753033230671579,\n",
       "  0.0093229840597691561,\n",
       "  0.00901451963686478,\n",
       "  0.0088203120025913684,\n",
       "  0.0087231123681507407,\n",
       "  0.0085802589302896286],\n",
       " 'lr': [9.9999997e-05,\n",
       "  9.9999997e-05,\n",
       "  9.9999997e-05,\n",
       "  9.9999997e-05,\n",
       "  9.9999997e-05,\n",
       "  9.9999997e-05,\n",
       "  9.9999997e-05,\n",
       "  9.9999997e-05,\n",
       "  9.9999997e-05,\n",
       "  9.9999997e-05],\n",
       " 'val_dice_loss': [0.99542900527624345,\n",
       "  0.99569059987433528,\n",
       "  0.99584974052863884,\n",
       "  0.99568002455829407,\n",
       "  0.99598537950478272,\n",
       "  0.99606583324537301,\n",
       "  0.99600846359912443,\n",
       "  0.99615332700883008,\n",
       "  0.99587027895427171,\n",
       "  0.996229651400523],\n",
       " 'val_loss': [0.010190892889583391,\n",
       "  0.0095771339837249468,\n",
       "  0.0091141288832913211,\n",
       "  0.0094946613443799479,\n",
       "  0.0089247389870360933,\n",
       "  0.0087529743284221247,\n",
       "  0.0090019664688727481,\n",
       "  0.0085303235601465448,\n",
       "  0.0091026621488287073,\n",
       "  0.0084405600739192871]}"
      ]
     },
     "execution_count": 22,
     "metadata": {},
     "output_type": "execute_result"
    }
   ],
   "source": [
    "history.history"
   ]
  },
  {
   "cell_type": "code",
   "execution_count": null,
   "metadata": {
    "ExecuteTime": {
     "start_time": "2017-08-30T07:23:14.350Z"
    },
    "collapsed": true
   },
   "outputs": [
    {
     "name": "stdout",
     "output_type": "stream",
     "text": [
      "Epoch 1/5\n",
      "4755s - loss: 0.0085 - dice_loss: 0.9961 - val_loss: 0.0085 - val_dice_loss: 0.9961\n",
      "Epoch 2/5\n",
      "4770s - loss: 0.0083 - dice_loss: 0.9962 - val_loss: 0.0084 - val_dice_loss: 0.9963\n",
      "Epoch 3/5\n",
      "4751s - loss: 0.0083 - dice_loss: 0.9962 - val_loss: 0.0092 - val_dice_loss: 0.9959\n",
      "Epoch 4/5\n",
      "4784s - loss: 0.0082 - dice_loss: 0.9962 - val_loss: 0.0083 - val_dice_loss: 0.9963\n",
      "Epoch 5/5\n",
      "4780s - loss: 0.0081 - dice_loss: 0.9963 - val_loss: 0.0084 - val_dice_loss: 0.9963\n"
     ]
    }
   ],
   "source": [
    "max_epochs = 5\n",
    "\n",
    "callbacks = [EarlyStopping(monitor='val_dice_loss',\n",
    "                           patience=8,\n",
    "                           verbose=1,\n",
    "                           min_delta=1e-4,\n",
    "                           mode='max'),\n",
    "             ReduceLROnPlateau(monitor='val_dice_loss',\n",
    "                               factor=0.1,\n",
    "                               patience=4,\n",
    "                               verbose=1,\n",
    "                               epsilon=1e-4,\n",
    "                               mode='max'),\n",
    "             ModelCheckpoint(monitor='val_dice_loss',\n",
    "                             filepath='weights/best_weights_fullres2.hdf5',\n",
    "                             save_best_only=True,\n",
    "                             save_weights_only=True,\n",
    "                             mode='max')]\n",
    "\n",
    "history = model.fit_generator(generator=train_generator(train_batch_size),\n",
    "                    steps_per_epoch=np.ceil(float(len(ids_train_split)) / float(train_batch_size)),\n",
    "                    epochs=max_epochs,\n",
    "                    verbose=2,\n",
    "                    callbacks=callbacks,\n",
    "                    validation_data=valid_generator(val_batch_size),\n",
    "                    validation_steps=np.ceil(float(len(ids_valid_split)) / float(val_batch_size)))"
   ]
  },
  {
   "cell_type": "code",
   "execution_count": 33,
   "metadata": {
    "ExecuteTime": {
     "end_time": "2017-08-30T14:02:53.535208Z",
     "start_time": "2017-08-30T14:02:53.530194Z"
    },
    "collapsed": true
   },
   "outputs": [
    {
     "data": {
      "text/plain": [
       "{'dice_loss': [0.99609746410161326,\n",
       "  0.99615396379838705,\n",
       "  0.9961748024023136,\n",
       "  0.99622358783750042,\n",
       "  0.99625886428268307],\n",
       " 'loss': [0.0084647872822739053,\n",
       "  0.0083404836334123357,\n",
       "  0.0082724137658468401,\n",
       "  0.0081692011720278929,\n",
       "  0.0081006346269297883],\n",
       " 'lr': [9.9999997e-05,\n",
       "  9.9999997e-05,\n",
       "  9.9999997e-05,\n",
       "  9.9999997e-05,\n",
       "  9.9999997e-05],\n",
       " 'val_dice_loss': [0.99613702742196253,\n",
       "  0.99626036524070039,\n",
       "  0.99589551876944971,\n",
       "  0.99630729634541659,\n",
       "  0.99631929608365644],\n",
       " 'val_loss': [0.0085428459130681336,\n",
       "  0.0084342336563909444,\n",
       "  0.0092407378014945571,\n",
       "  0.008318381248616516,\n",
       "  0.0083795360276706088]}"
      ]
     },
     "execution_count": 33,
     "metadata": {},
     "output_type": "execute_result"
    }
   ],
   "source": [
    "history.history"
   ]
  },
  {
   "cell_type": "code",
   "execution_count": 35,
   "metadata": {
    "ExecuteTime": {
     "end_time": "2017-08-30T14:03:06.188082Z",
     "start_time": "2017-08-30T14:03:05.675786Z"
    },
    "collapsed": true
   },
   "outputs": [
    {
     "data": {
      "image/png": "[encoded data removed]",
      "text/plain": [
       "<matplotlib.figure.Figure at 0x7efb415fa978>"
      ]
     },
     "metadata": {},
     "output_type": "display_data"
    }
   ],
   "source": [
    "plt.figure(figsize=(10, 10))\n",
    "plt.subplot(3,1,1)\n",
    "plt.plot(range(5), history.history['loss'],\n",
    "         range(5), history.history['val_loss'])\n",
    "plt.subplot(3,1,2)\n",
    "plt.plot(range(5), history.history['dice_loss'],\n",
    "         range(5), history.history['val_dice_loss'])\n",
    "plt.subplot(3,1,3)\n",
    "plt.plot(range(5), history.history['lr']);"
   ]
  },
  {
   "cell_type": "code",
   "execution_count": 20,
   "metadata": {
    "ExecuteTime": {
     "end_time": "2017-09-01T10:29:20.046338Z",
     "start_time": "2017-09-01T10:29:06.661500Z"
    },
    "collapsed": true
   },
   "outputs": [],
   "source": [
    "# Retraining on HQ images\n",
    "model.compile(optimizer=RMSprop(lr=0.00001),\n",
    "                  loss=bce_dice_loss,\n",
    "                  metrics=[dice_loss])\n",
    "model.load_weights('./weights/best_weights_fullres2.hdf5')"
   ]
  },
  {
   "cell_type": "code",
   "execution_count": null,
   "metadata": {
    "ExecuteTime": {
     "start_time": "2017-09-01T10:29:28.909Z"
    },
    "collapsed": true
   },
   "outputs": [
    {
     "name": "stdout",
     "output_type": "stream",
     "text": [
      "Epoch 1/20\n",
      "4675s - loss: 0.0075 - dice_loss: 0.9965 - val_loss: 0.0077 - val_dice_loss: 0.9966\n",
      "Epoch 2/20\n",
      "4636s - loss: 0.0073 - dice_loss: 0.9966 - val_loss: 0.0077 - val_dice_loss: 0.9966\n",
      "Epoch 3/20\n",
      "4636s - loss: 0.0073 - dice_loss: 0.9966 - val_loss: 0.0077 - val_dice_loss: 0.9966\n",
      "Epoch 4/20\n",
      "4635s - loss: 0.0072 - dice_loss: 0.9966 - val_loss: 0.0077 - val_dice_loss: 0.9966\n",
      "Epoch 5/20\n"
     ]
    }
   ],
   "source": [
    "max_epochs = 20\n",
    "\n",
    "callbacks = [EarlyStopping(monitor='val_dice_loss',\n",
    "                           patience=8,\n",
    "                           verbose=1,\n",
    "                           min_delta=1e-4,\n",
    "                           mode='max'),\n",
    "             ReduceLROnPlateau(monitor='val_dice_loss',\n",
    "                               factor=0.1,\n",
    "                               patience=4,\n",
    "                               verbose=1,\n",
    "                               epsilon=1e-4,\n",
    "                               mode='max'),\n",
    "             ModelCheckpoint(monitor='val_dice_loss',\n",
    "                             filepath='weights/best_weights_fullres3.hdf5',\n",
    "                             save_best_only=True,\n",
    "                             save_weights_only=True,\n",
    "                             mode='max')]\n",
    "\n",
    "history = model.fit_generator(generator=train_generator(train_batch_size),\n",
    "                    steps_per_epoch=np.ceil(float(len(ids_train_split)) / float(train_batch_size)),\n",
    "                    epochs=max_epochs,\n",
    "                    verbose=2,\n",
    "                    callbacks=callbacks,\n",
    "                    validation_data=valid_generator(val_batch_size),\n",
    "                    validation_steps=np.ceil(float(len(ids_valid_split)) / float(val_batch_size)))"
   ]
  },
  {
   "cell_type": "code",
   "execution_count": 23,
   "metadata": {
    "ExecuteTime": {
     "end_time": "2017-09-02T01:56:36.291277Z",
     "start_time": "2017-09-02T01:56:36.285719Z"
    },
    "collapsed": true
   },
   "outputs": [
    {
     "data": {
      "text/plain": [
       "{'dice_loss': [0.99651169031492326,\n",
       "  0.99658201953409931,\n",
       "  0.9965991616688431,\n",
       "  0.99662587282405735,\n",
       "  0.99663556859592839,\n",
       "  0.9966550497956006,\n",
       "  0.9966852997093294,\n",
       "  0.99669038274071431,\n",
       "  0.99669609640974377,\n",
       "  0.99670444678615877],\n",
       " 'loss': [0.0074940874247013132,\n",
       "  0.0073361006851424748,\n",
       "  0.0072962293919651821,\n",
       "  0.0072337398831835544,\n",
       "  0.0072131234065558603,\n",
       "  0.0071781604936350992,\n",
       "  0.007092014347324354,\n",
       "  0.0070857907381110096,\n",
       "  0.0070752976705944874,\n",
       "  0.0070598894837758611],\n",
       " 'lr': [9.9999997e-06,\n",
       "  9.9999997e-06,\n",
       "  9.9999997e-06,\n",
       "  9.9999997e-06,\n",
       "  9.9999997e-06,\n",
       "  9.9999997e-06,\n",
       "  1e-06,\n",
       "  1e-06,\n",
       "  1e-06,\n",
       "  1e-06],\n",
       " 'val_dice_loss': [0.99656019475464741,\n",
       "  0.99657212341229906,\n",
       "  0.99657485784856648,\n",
       "  0.99657861059915809,\n",
       "  0.996588549000341,\n",
       "  0.99658430044215418,\n",
       "  0.99660413134074632,\n",
       "  0.99660567286440804,\n",
       "  0.99661025047770657,\n",
       "  0.99660872171810433],\n",
       " 'val_loss': [0.0077318982651168097,\n",
       "  0.0077190513947652927,\n",
       "  0.0077329505900971315,\n",
       "  0.0077282517914219317,\n",
       "  0.0077884420423177461,\n",
       "  0.0077457014848212827,\n",
       "  0.0077356660339710521,\n",
       "  0.0077260208621708956,\n",
       "  0.0077307921320141412,\n",
       "  0.0077288365851509548]}"
      ]
     },
     "execution_count": 23,
     "metadata": {},
     "output_type": "execute_result"
    }
   ],
   "source": [
    "history.history"
   ]
  },
  {
   "cell_type": "code",
   "execution_count": 26,
   "metadata": {
    "ExecuteTime": {
     "end_time": "2017-09-02T02:11:13.168753Z",
     "start_time": "2017-09-02T02:11:13.160482Z"
    },
    "collapsed": true
   },
   "outputs": [],
   "source": [
    "full_history = {'dice_loss': [ 0.99455717988037651, 0.99523690183273994, 0.99549948939234389, 0.99558489984610743, 0.99571890987693823, 0.99577322744327335, 0.99587732943035756, 0.99594144582455513, 0.99599119864166219, 0.99604955582126642, 0.99609746410161326, 0.99615396379838705, 0.9961748024023136, 0.99622358783750042, 0.99625886428268307, 0.99651169031492326, 0.99658201953409931, 0.9965991616688431, 0.99662587282405735, 0.99663556859592839, 0.9966550497956006, 0.9966852997093294, 0.99669038274071431, 0.99669609640974377, 0.99670444678615877 ],\n",
    " 'loss': [ 0.012566470506507216, 0.010626543152285626, 0.0098885208991852745, 0.0097225947816986635, 0.0093753033230671579, 0.0093229840597691561, 0.00901451963686478, 0.0088203120025913684, 0.0087231123681507407, 0.0085802589302896286, 0.0084647872822739053, 0.0083404836334123357, 0.0082724137658468401, 0.0081692011720278929, 0.0081006346269297883, 0.0074940874247013132, 0.0073361006851424748, 0.0072962293919651821, 0.0072337398831835544, 0.0072131234065558603, 0.0071781604936350992, 0.007092014347324354, 0.0070857907381110096, 0.0070752976705944874, 0.0070598894837758611 ],\n",
    " 'lr': [ 9.9999997e-05, 9.9999997e-05, 9.9999997e-05, 9.9999997e-05, 9.9999997e-05, 9.9999997e-05, 9.9999997e-05, 9.9999997e-05, 9.9999997e-05, 9.9999997e-05, 9.9999997e-05, 9.9999997e-05, 9.9999997e-05, 9.9999997e-05, 9.9999997e-05, 9.9999997e-06, 9.9999997e-06, 9.9999997e-06, 9.9999997e-06, 9.9999997e-06, 9.9999997e-06, 1e-06, 1e-06, 1e-06, 1e-06 ],\n",
    " 'val_dice_loss': [ 0.99542900527624345, 0.99569059987433528, 0.99584974052863884, 0.99568002455829407, 0.99598537950478272, 0.99606583324537301, 0.99600846359912443, 0.99615332700883008, 0.99587027895427171, 0.996229651400523, 0.99613702742196253, 0.99626036524070039, 0.99589551876944971, 0.99630729634541659, 0.99631929608365644, 0.99656019475464741, 0.99657212341229906, 0.99657485784856648, 0.99657861059915809, 0.996588549000341, 0.99658430044215418, 0.99660413134074632, 0.99660567286440804, 0.99661025047770657, 0.99660872171810433 ],\n",
    " 'val_loss': [ 0.010190892889583391, 0.0095771339837249468, 0.0091141288832913211, 0.0094946613443799479, 0.0089247389870360933, 0.0087529743284221247, 0.0090019664688727481, 0.0085303235601465448, 0.0091026621488287073, 0.0084405600739192871, 0.0085428459130681336, 0.0084342336563909444, 0.0092407378014945571, 0.008318381248616516, 0.0083795360276706088, 0.0077318982651168097, 0.0077190513947652927, 0.0077329505900971315, 0.0077282517914219317, 0.0077884420423177461, 0.0077457014848212827, 0.0077356660339710521, 0.0077260208621708956, 0.0077307921320141412, 0.0077288365851509548 ]}"
   ]
  },
  {
   "cell_type": "code",
   "execution_count": 27,
   "metadata": {
    "ExecuteTime": {
     "end_time": "2017-09-02T02:12:30.251799Z",
     "start_time": "2017-09-02T02:12:29.552204Z"
    }
   },
   "outputs": [
    {
     "data": {
      "image/png": "[encoded data removed]",
      "text/plain": [
       "<matplotlib.figure.Figure at 0x7f4456bfa828>"
      ]
     },
     "metadata": {},
     "output_type": "display_data"
    }
   ],
   "source": [
    "plt.figure(figsize=(10, 10))\n",
    "plt.subplot(3,1,1)\n",
    "plt.plot(range(25), full_history['loss'],\n",
    "         range(25), full_history['val_loss'])\n",
    "plt.subplot(3,1,2)\n",
    "plt.plot(range(25), full_history['dice_loss'],\n",
    "         range(25), full_history['val_dice_loss'])\n",
    "plt.subplot(3,1,3)\n",
    "plt.plot(range(25), full_history['lr']);"
   ]
  },
  {
   "cell_type": "markdown",
   "metadata": {},
   "source": [
    "# Predictions"
   ]
  },
  {
   "cell_type": "code",
   "execution_count": 18,
   "metadata": {
    "ExecuteTime": {
     "end_time": "2017-09-08T19:45:46.847528Z",
     "start_time": "2017-09-08T19:45:46.771027Z"
    },
    "collapsed": true
   },
   "outputs": [],
   "source": [
    "from tqdm import tqdm"
   ]
  },
  {
   "cell_type": "code",
   "execution_count": 19,
   "metadata": {
    "ExecuteTime": {
     "end_time": "2017-09-08T19:45:47.208978Z",
     "start_time": "2017-09-08T19:45:47.100847Z"
    },
    "collapsed": true
   },
   "outputs": [],
   "source": [
    "df_test = pd.read_csv('data/sample_submission.csv')\n",
    "ids_test = df_test['img'].map(lambda s: s.split('.')[0])"
   ]
  },
  {
   "cell_type": "code",
   "execution_count": 20,
   "metadata": {
    "ExecuteTime": {
     "end_time": "2017-09-08T19:45:47.470406Z",
     "start_time": "2017-09-08T19:45:47.421922Z"
    },
    "collapsed": true
   },
   "outputs": [],
   "source": [
    "names = []\n",
    "for id in ids_test:\n",
    "    names.append('{}.jpg'.format(id))"
   ]
  },
  {
   "cell_type": "code",
   "execution_count": 21,
   "metadata": {
    "ExecuteTime": {
     "end_time": "2017-09-08T19:45:47.805170Z",
     "start_time": "2017-09-08T19:45:47.798255Z"
    },
    "collapsed": true
   },
   "outputs": [],
   "source": [
    "# https://www.kaggle.com/stainsby/fast-tested-rle\n",
    "def run_length_encode(mask):\n",
    "    '''\n",
    "    img: numpy array, 1 - mask, 0 - background\n",
    "    Returns run length as string formated\n",
    "    '''\n",
    "    inds = mask.flatten()\n",
    "    runs = np.where(inds[1:] != inds[:-1])[0] + 2\n",
    "    runs[1::2] = runs[1::2] - runs[:-1:2]\n",
    "    rle = ' '.join([str(r) for r in runs])\n",
    "    return rle\n",
    "\n",
    "\n",
    "rles = []"
   ]
  },
  {
   "cell_type": "code",
   "execution_count": 22,
   "metadata": {
    "ExecuteTime": {
     "end_time": "2017-09-08T19:45:50.151132Z",
     "start_time": "2017-09-08T19:45:48.150687Z"
    },
    "collapsed": true
   },
   "outputs": [],
   "source": [
    "model.load_weights(filepath='weights/best_weights_fullres3.hdf5')"
   ]
  },
  {
   "cell_type": "code",
   "execution_count": 23,
   "metadata": {
    "ExecuteTime": {
     "end_time": "2017-09-08T19:45:50.155787Z",
     "start_time": "2017-09-08T19:45:50.152677Z"
    },
    "collapsed": true
   },
   "outputs": [],
   "source": [
    "val_batch_size = 8\n",
    "threshold = 0.5"
   ]
  },
  {
   "cell_type": "code",
   "execution_count": 24,
   "metadata": {
    "ExecuteTime": {
     "end_time": "2017-09-08T19:45:51.107609Z",
     "start_time": "2017-09-08T19:45:50.669010Z"
    },
    "collapsed": true
   },
   "outputs": [],
   "source": [
    "import gzip\n",
    "import pickle\n",
    "f = gzip.open('test_bboxes.pklz','rb')\n",
    "test_bboxes = pickle.load(f)\n",
    "f.close()"
   ]
  },
  {
   "cell_type": "code",
   "execution_count": null,
   "metadata": {
    "ExecuteTime": {
     "start_time": "2017-09-02T04:21:28.511Z"
    }
   },
   "outputs": [
    {
     "name": "stderr",
     "output_type": "stream",
     "text": [
      "\r",
      "  0%|          | 0/12508 [00:00<?, ?it/s]"
     ]
    },
    {
     "name": "stdout",
     "output_type": "stream",
     "text": [
      "Predicting on 100064 samples with batch_size = 8...\n"
     ]
    },
    {
     "name": "stderr",
     "output_type": "stream",
     "text": [
      " 60%|██████    | 7554/12508 [6:44:20<4:22:58,  3.19s/it] "
     ]
    }
   ],
   "source": [
    "print('Predicting on {} samples with batch_size = {}...'.format(len(ids_test), val_batch_size))\n",
    "for start in tqdm(range(0, len(ids_test), val_batch_size)):\n",
    "    \n",
    "    x_batch = []\n",
    "    end = min(start + val_batch_size, len(ids_test))\n",
    "    ids_test_batch = ids_test[start:end]\n",
    "    \n",
    "    for id in ids_test_batch.values:\n",
    "        img = cv2.imread('data/test/{}.jpg'.format(id))\n",
    "        \n",
    "        this_bbox = test_bboxes[id]\n",
    "        img_1_box = this_bbox[0]\n",
    "        img_2_box = this_bbox[1]\n",
    "        \n",
    "        img_1 = np.copy(img[img_1_box[2]:(img_1_box[3]+1), img_1_box[0]:(img_1_box[1]+1),:])\n",
    "        img_2 = np.copy(img[img_2_box[2]:(img_2_box[3]+1), img_2_box[0]:(img_2_box[1]+1),:])\n",
    "        img_2 = cv2.flip(img_2, 1)\n",
    "        \n",
    "        x_batch.append(img_1)\n",
    "        x_batch.append(img_2)\n",
    "    \n",
    "    x_batch = np.array(x_batch, np.float32) / 255\n",
    "    preds = model.predict_on_batch(x_batch)\n",
    "    preds = np.squeeze(preds, axis=3)\n",
    "    \n",
    "    final_preds = []\n",
    "    for i in range(len(ids_test_batch.values)):\n",
    "        id = ids_test_batch.values[i]\n",
    "        \n",
    "        this_bbox = test_bboxes[id]\n",
    "        img_1_box = this_bbox[0]\n",
    "        img_2_box = this_bbox[1]\n",
    "        \n",
    "        pred_1 = np.copy(preds[(i*2), :, :])\n",
    "        pred_2 = np.copy(preds[(i*2) + 1, :, :])\n",
    "        pred_2 = cv2.flip(pred_2, 1)\n",
    "        \n",
    "        left_part   = np.copy(pred_1[:, 0:894])\n",
    "        middle_1    = np.copy(pred_1[:, 894:1024])\n",
    "        middle_2    = np.copy(pred_2[:, 0:130])\n",
    "        middle_part = np.add(middle_1, middle_2)/2\n",
    "        right_part  = np.copy(pred_2[:, 130:1024])\n",
    "        all_parts   = np.concatenate((left_part, middle_part, right_part), axis=1)\n",
    "        \n",
    "        if img_1_box[2] != 0:\n",
    "            top_part = np.zeros(shape = (img_1_box[2],1918), dtype = np.float32)\n",
    "            all_parts = np.concatenate((top_part, all_parts), axis = 0)\n",
    "            \n",
    "        if img_1_box[3] != 1279:\n",
    "            bottom_part = np.zeros(shape = (1279-img_1_box[3],1918), dtype = np.float32)\n",
    "            all_parts = np.concatenate((all_parts, bottom_part), axis = 0)\n",
    "        \n",
    "        final_preds.append(all_parts)\n",
    "        \n",
    "    \n",
    "    for prob in final_preds:\n",
    "        mask = prob > threshold\n",
    "        rle = run_length_encode(mask)\n",
    "        rles.append(rle)"
   ]
  },
  {
   "cell_type": "code",
   "execution_count": 17,
   "metadata": {
    "ExecuteTime": {
     "end_time": "2017-09-02T16:43:09.212369Z",
     "start_time": "2017-09-02T16:39:44.534419Z"
    }
   },
   "outputs": [
    {
     "name": "stdout",
     "output_type": "stream",
     "text": [
      "Generating submission file...\n"
     ]
    }
   ],
   "source": [
    "print(\"Generating submission file...\")\n",
    "df = pd.DataFrame({'img': names, 'rle_mask': rles})\n",
    "df.to_csv('submit/submission6.csv.gz', index=False, compression='gzip')"
   ]
  },
  {
   "cell_type": "markdown",
   "metadata": {
    "collapsed": true
   },
   "source": [
    "# Saving predictions"
   ]
  },
  {
   "cell_type": "code",
   "execution_count": 25,
   "metadata": {
    "ExecuteTime": {
     "end_time": "2017-09-08T19:45:55.986353Z",
     "start_time": "2017-09-08T19:45:55.983150Z"
    },
    "collapsed": true
   },
   "outputs": [],
   "source": [
    "import pickle\n",
    "import gzip"
   ]
  },
  {
   "cell_type": "code",
   "execution_count": 26,
   "metadata": {
    "ExecuteTime": {
     "end_time": "2017-09-08T19:45:56.388674Z",
     "start_time": "2017-09-08T19:45:56.379240Z"
    },
    "collapsed": true
   },
   "outputs": [],
   "source": [
    "ang_09 = [x for x in ids_test if '_09' in x]"
   ]
  },
  {
   "cell_type": "code",
   "execution_count": 27,
   "metadata": {
    "ExecuteTime": {
     "end_time": "2017-09-08T19:45:57.109585Z",
     "start_time": "2017-09-08T19:45:57.106193Z"
    },
    "collapsed": true
   },
   "outputs": [],
   "source": [
    "ang_09.sort()"
   ]
  },
  {
   "cell_type": "code",
   "execution_count": null,
   "metadata": {
    "ExecuteTime": {
     "start_time": "2017-09-08T19:46:38.209Z"
    }
   },
   "outputs": [
    {
     "name": "stderr",
     "output_type": "stream",
     "text": [
      " 12%|█▏        | 94/782 [16:08<1:55:50, 10.10s/it]"
     ]
    }
   ],
   "source": [
    "for start in tqdm(range(0, len(ang_09), val_batch_size)):\n",
    "    \n",
    "    x_batch = []\n",
    "    end = min(start + val_batch_size, len(ang_09))\n",
    "    ids_test_batch = ang_09[start:end]\n",
    "    \n",
    "    for id in ids_test_batch:\n",
    "        img = cv2.imread('data/test/{}.jpg'.format(id))\n",
    "        \n",
    "        this_bbox = test_bboxes[id]\n",
    "        img_1_box = this_bbox[0]\n",
    "        img_2_box = this_bbox[1]\n",
    "        \n",
    "        img_1 = np.copy(img[img_1_box[2]:(img_1_box[3]+1), img_1_box[0]:(img_1_box[1]+1),:])\n",
    "        img_2 = np.copy(img[img_2_box[2]:(img_2_box[3]+1), img_2_box[0]:(img_2_box[1]+1),:])\n",
    "        img_2 = cv2.flip(img_2, 1)\n",
    "        \n",
    "        x_batch.append(img_1)\n",
    "        x_batch.append(img_2)\n",
    "    \n",
    "    x_batch = np.array(x_batch, np.float32) / 255\n",
    "    preds = model.predict_on_batch(x_batch)\n",
    "    preds = np.squeeze(preds, axis=3)\n",
    "    \n",
    "    final_preds = []\n",
    "    for i in range(len(ids_test_batch)):\n",
    "        id = ids_test_batch[i]\n",
    "        \n",
    "        this_bbox = test_bboxes[id]\n",
    "        img_1_box = this_bbox[0]\n",
    "        img_2_box = this_bbox[1]\n",
    "        \n",
    "        pred_1 = np.copy(preds[(i*2), :, :])\n",
    "        pred_2 = np.copy(preds[(i*2) + 1, :, :])\n",
    "        pred_2 = cv2.flip(pred_2, 1)\n",
    "        \n",
    "        left_part   = np.copy(pred_1[:, 0:894])\n",
    "        middle_1    = np.copy(pred_1[:, 894:1024])\n",
    "        middle_2    = np.copy(pred_2[:, 0:130])\n",
    "        middle_part = np.add(middle_1, middle_2)/2\n",
    "        right_part  = np.copy(pred_2[:, 130:1024])\n",
    "        all_parts   = np.concatenate((left_part, middle_part, right_part), axis=1)\n",
    "        \n",
    "        if img_1_box[2] != 0:\n",
    "            top_part = np.zeros(shape = (img_1_box[2],1918), dtype = np.float32)\n",
    "            all_parts = np.concatenate((top_part, all_parts), axis = 0)\n",
    "            \n",
    "        if img_1_box[3] != 1279:\n",
    "            bottom_part = np.zeros(shape = (1279-img_1_box[3],1918), dtype = np.float32)\n",
    "            all_parts = np.concatenate((all_parts, bottom_part), axis = 0)\n",
    "        \n",
    "        final_preds.append(all_parts)\n",
    "        \n",
    "    \n",
    "    for i in range(len(ids_test_batch)):\n",
    "        this_mask = final_preds[i]\n",
    "        this_id   = ids_test_batch[i]\n",
    "        f = gzip.open('./data/predsfullres/' + this_id + '.pklz','wb')\n",
    "        pickle.dump(this_mask,f)\n",
    "        f.close()"
   ]
  },
  {
   "cell_type": "code",
   "execution_count": null,
   "metadata": {
    "collapsed": true
   },
   "outputs": [],
   "source": []
  }
 ],
 "metadata": {
  "anaconda-cloud": {},
  "kernelspec": {
   "display_name": "Python 3",
   "language": "python",
   "name": "python3"
  },
  "language_info": {
   "codemirror_mode": {
    "name": "ipython",
    "version": 3
   },
   "file_extension": ".py",
   "mimetype": "text/x-python",
   "name": "python",
   "nbconvert_exporter": "python",
   "pygments_lexer": "ipython3",
   "version": "3.6.1"
  },
  "toc": {
   "nav_menu": {
    "height": "48px",
    "width": "252px"
   },
   "number_sections": true,
   "sideBar": true,
   "skip_h1_title": false,
   "toc_cell": true,
   "toc_position": {},
   "toc_section_display": "block",
   "toc_window_display": true
  }
 },
 "nbformat": 4,
 "nbformat_minor": 2
}
