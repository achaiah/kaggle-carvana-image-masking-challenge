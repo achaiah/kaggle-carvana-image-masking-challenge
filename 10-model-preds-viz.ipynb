{
 "cells": [
  {
   "cell_type": "code",
   "execution_count": 1,
   "metadata": {
    "ExecuteTime": {
     "end_time": "2017-09-06T10:08:00.216515Z",
     "start_time": "2017-09-06T10:07:47.846626Z"
    }
   },
   "outputs": [
    {
     "name": "stderr",
     "output_type": "stream",
     "text": [
      "Using TensorFlow backend.\n"
     ]
    }
   ],
   "source": [
    "import cv2\n",
    "import numpy as np\n",
    "import pandas as pd\n",
    "\n",
    "from keras.callbacks import EarlyStopping, ReduceLROnPlateau, ModelCheckpoint, TensorBoard\n",
    "from keras.models import Model\n",
    "from keras.layers import Input, concatenate, Conv2D, MaxPooling2D, Activation, UpSampling2D, BatchNormalization\n",
    "from keras.optimizers import RMSprop\n",
    "from keras.losses import binary_crossentropy\n",
    "import keras.backend as K\n",
    "\n",
    "from sklearn.model_selection import train_test_split"
   ]
  },
  {
   "cell_type": "code",
   "execution_count": 2,
   "metadata": {
    "ExecuteTime": {
     "end_time": "2017-09-06T10:08:00.332763Z",
     "start_time": "2017-09-06T10:08:00.225516Z"
    },
    "collapsed": true
   },
   "outputs": [],
   "source": [
    "import matplotlib.pyplot as plt\n",
    "%matplotlib inline"
   ]
  },
  {
   "cell_type": "code",
   "execution_count": 3,
   "metadata": {
    "ExecuteTime": {
     "end_time": "2017-09-06T10:08:00.351911Z",
     "start_time": "2017-09-06T10:08:00.341318Z"
    },
    "collapsed": true
   },
   "outputs": [],
   "source": [
    "from os import listdir\n",
    "ids_list = [x.split('.')[0] for x in listdir('data/train')]"
   ]
  },
  {
   "cell_type": "code",
   "execution_count": 4,
   "metadata": {
    "ExecuteTime": {
     "end_time": "2017-09-06T10:08:00.502910Z",
     "start_time": "2017-09-06T10:08:00.361567Z"
    },
    "collapsed": true
   },
   "outputs": [],
   "source": [
    "def dice_loss(y_true, y_pred):\n",
    "    smooth = 1.\n",
    "    y_true_f = K.flatten(y_true)\n",
    "    y_pred_f = K.flatten(y_pred)\n",
    "    intersection = K.sum(y_true_f * y_pred_f)\n",
    "    return (2. * intersection + smooth) / (K.sum(y_true_f) + K.sum(y_pred_f) + smooth)\n",
    "\n",
    "\n",
    "def bce_dice_loss(y_true, y_pred):\n",
    "    return binary_crossentropy(y_true, y_pred) + (1 - dice_loss(y_true, y_pred))\n",
    "\n",
    "def unet_down_one_block(inputs, num_filters):\n",
    "    x = Conv2D(num_filters, (3, 3), padding='same')(inputs)\n",
    "    x = BatchNormalization()(x)\n",
    "    x = Activation('relu')(x)\n",
    "    x = Conv2D(num_filters, (3, 3), padding='same')(x)\n",
    "    x = BatchNormalization()(x)\n",
    "    x = Activation('relu')(x)\n",
    "    return x\n",
    "\n",
    "def unet_max_pool(inputs):\n",
    "    x = MaxPooling2D((2, 2), strides=(2, 2))(inputs)\n",
    "    return x\n",
    "\n",
    "def unet_up_one_block(up_input, down_input, num_filters):\n",
    "    x = UpSampling2D((2,2))(up_input)\n",
    "    x = concatenate([down_input, x], axis=3)\n",
    "    x = Conv2D(num_filters, (3,3), padding='same')(x)\n",
    "    x = BatchNormalization()(x)\n",
    "    x = Activation('relu')(x)\n",
    "    x = Conv2D(num_filters, (3,3), padding='same')(x)\n",
    "    x = BatchNormalization()(x)\n",
    "    x = Activation('relu')(x)\n",
    "    x = Conv2D(num_filters, (3,3), padding='same')(x)\n",
    "    x = BatchNormalization()(x)\n",
    "    x = Activation('relu')(x)\n",
    "    return x\n",
    "\n",
    "def get_unet(input_shape = (256, 256, 3),\n",
    "             num_classes = 1,\n",
    "             initial_filters = 32,\n",
    "             central_filters = 1024):\n",
    "    \n",
    "    num_filters = initial_filters\n",
    "    \n",
    "    out_list    = [Input(shape=input_shape)]\n",
    "    down_interim_list = []\n",
    "    \n",
    "    while num_filters <= central_filters/2:\n",
    "        x = unet_down_one_block(out_list[-1], num_filters)\n",
    "        down_interim_list.append(x)\n",
    "        num_filters = num_filters * 2\n",
    "        y = unet_max_pool(x)\n",
    "        out_list.append(y)\n",
    "    \n",
    "    x = unet_down_one_block(out_list[-1], num_filters)\n",
    "    out_list.append(x)\n",
    "    num_filters = int(num_filters / 2)\n",
    "    \n",
    "    while num_filters >= initial_filters:\n",
    "        x = unet_up_one_block(out_list[-1], down_interim_list.pop(), num_filters)\n",
    "        out_list.append(x)\n",
    "        num_filters = int(num_filters / 2)\n",
    "    \n",
    "    classify = Conv2D(num_classes, (1,1), activation = 'sigmoid')(out_list[-1])\n",
    "    \n",
    "    model = Model(inputs=out_list[0], outputs=classify)\n",
    "    \n",
    "    model.compile(optimizer=RMSprop(lr=0.0001),\n",
    "                  loss=bce_dice_loss,\n",
    "                  metrics=[dice_loss])\n",
    "    \n",
    "    return model"
   ]
  },
  {
   "cell_type": "code",
   "execution_count": 5,
   "metadata": {
    "ExecuteTime": {
     "end_time": "2017-09-06T10:08:00.515803Z",
     "start_time": "2017-09-06T10:08:00.512864Z"
    },
    "collapsed": true
   },
   "outputs": [],
   "source": [
    "orig_width = 1918\n",
    "orig_height= 1280\n",
    "\n",
    "def dice_loss_numpy(y_true, y_pred):\n",
    "    return 2*np.sum(np.multiply(y_true, y_pred))/(np.sum(y_pred) + np.sum(y_true))"
   ]
  },
  {
   "cell_type": "markdown",
   "metadata": {},
   "source": [
    "# 512 model"
   ]
  },
  {
   "cell_type": "code",
   "execution_count": 6,
   "metadata": {
    "collapsed": true
   },
   "outputs": [],
   "source": [
    "model = get_unet(input_shape=(512,512,3), initial_filters=16)\n",
    "model.load_weights(filepath='weights/best_weights_512_2.hdf5')"
   ]
  },
  {
   "cell_type": "code",
   "execution_count": 7,
   "metadata": {
    "collapsed": true
   },
   "outputs": [],
   "source": [
    "input_size=512"
   ]
  },
  {
   "cell_type": "code",
   "execution_count": 8,
   "metadata": {
    "collapsed": true
   },
   "outputs": [],
   "source": [
    "all_imgs=[]\n",
    "for id in ids_list:\n",
    "    img = cv2.imread('data/train/{}.jpg'.format(id))\n",
    "    img = cv2.resize(img, (input_size, input_size))\n",
    "    all_imgs.append(img)"
   ]
  },
  {
   "cell_type": "code",
   "execution_count": 9,
   "metadata": {
    "collapsed": true
   },
   "outputs": [],
   "source": [
    "preds = model.predict(np.array(all_imgs, np.float32)/255, batch_size=16)\n",
    "preds = np.squeeze(preds, axis=3)"
   ]
  },
  {
   "cell_type": "code",
   "execution_count": 10,
   "metadata": {
    "collapsed": true
   },
   "outputs": [],
   "source": [
    "dice_loss_512=[]\n",
    "for i in range(len(ids_list)):\n",
    "    tmp = np.copy(preds[i,:,:])\n",
    "    tmp = cv2.resize(tmp, (orig_width, orig_height))\n",
    "    tmp = (tmp > 0.5).astype(int)\n",
    "    mask = cv2.imread('data/train_masks/{}_mask.png'.format(ids_list[i]), cv2.IMREAD_GRAYSCALE)/255\n",
    "    dice_loss_512.append(dice_loss_numpy(mask, tmp))"
   ]
  },
  {
   "cell_type": "code",
   "execution_count": 19,
   "metadata": {
    "collapsed": true
   },
   "outputs": [],
   "source": [
    "import pickle\n",
    "pickle.dump( dice_loss_512, open( \"dice_loss_512.pkl\", \"wb\" ) )"
   ]
  },
  {
   "cell_type": "markdown",
   "metadata": {},
   "source": [
    "# 1024 model"
   ]
  },
  {
   "cell_type": "code",
   "execution_count": 6,
   "metadata": {
    "collapsed": true
   },
   "outputs": [],
   "source": [
    "model = get_unet(input_shape=(1024,1024,3), initial_filters=8)\n",
    "model.load_weights(filepath='weights/best_weights_1024_2.hdf5')"
   ]
  },
  {
   "cell_type": "code",
   "execution_count": 7,
   "metadata": {
    "collapsed": true
   },
   "outputs": [],
   "source": [
    "input_size=1024"
   ]
  },
  {
   "cell_type": "code",
   "execution_count": 8,
   "metadata": {
    "collapsed": true
   },
   "outputs": [],
   "source": [
    "val_batch_size   = 16"
   ]
  },
  {
   "cell_type": "code",
   "execution_count": 14,
   "metadata": {
    "collapsed": true
   },
   "outputs": [],
   "source": [
    "from tqdm import tqdm"
   ]
  },
  {
   "cell_type": "code",
   "execution_count": 15,
   "metadata": {},
   "outputs": [
    {
     "name": "stderr",
     "output_type": "stream",
     "text": [
      "100%|██████████| 318/318 [18:15<00:00,  3.43s/it]\n"
     ]
    }
   ],
   "source": [
    "dice_loss_1024=[]\n",
    "for start in tqdm(range(0, len(ids_list), val_batch_size)):\n",
    "    x_batch = []\n",
    "    end = min(start + val_batch_size, len(ids_list))\n",
    "    ids_test_batch = ids_list[start:end]\n",
    "    for id in ids_test_batch:\n",
    "        img = cv2.imread('data/train/{}.jpg'.format(id))\n",
    "        img = cv2.resize(img, (input_size, input_size))\n",
    "        x_batch.append(img)\n",
    "    x_batch = np.array(x_batch, np.float32) / 255\n",
    "    preds = model.predict_on_batch(x_batch)\n",
    "    preds = np.squeeze(preds, axis=3)\n",
    "    \n",
    "    for i in range(len(ids_test_batch)):\n",
    "        tmp = np.copy(preds[i,:,:])\n",
    "        tmp = cv2.resize(tmp, (orig_width, orig_height))\n",
    "        tmp = (tmp > 0.5).astype(int)\n",
    "        mask = cv2.imread('data/train_masks/{}_mask.png'.format(ids_test_batch[i]), cv2.IMREAD_GRAYSCALE)/255\n",
    "        dice_loss_1024.append(dice_loss_numpy(mask, tmp))\n"
   ]
  },
  {
   "cell_type": "code",
   "execution_count": 18,
   "metadata": {
    "collapsed": true
   },
   "outputs": [],
   "source": [
    "import pickle\n",
    "pickle.dump( dice_loss_1024, open( \"dice_loss_1024.pkl\", \"wb\" ) )"
   ]
  },
  {
   "cell_type": "markdown",
   "metadata": {},
   "source": [
    "# Full res model"
   ]
  },
  {
   "cell_type": "code",
   "execution_count": 6,
   "metadata": {
    "collapsed": true
   },
   "outputs": [],
   "source": [
    "model = get_unet(input_shape=(1024,1024,3), initial_filters=8)\n",
    "model.load_weights(filepath='weights/best_weights_fullres3.hdf5')"
   ]
  },
  {
   "cell_type": "code",
   "execution_count": 7,
   "metadata": {
    "collapsed": true
   },
   "outputs": [],
   "source": [
    "val_batch_size = 8\n",
    "threshold = 0.5"
   ]
  },
  {
   "cell_type": "code",
   "execution_count": 8,
   "metadata": {
    "collapsed": true
   },
   "outputs": [],
   "source": [
    "import pickle\n",
    "test_bboxes = pickle.load( open( \"./train_bboxes.pkl\", \"rb\" ) )"
   ]
  },
  {
   "cell_type": "code",
   "execution_count": 9,
   "metadata": {
    "collapsed": true
   },
   "outputs": [],
   "source": [
    "from tqdm import tqdm"
   ]
  },
  {
   "cell_type": "code",
   "execution_count": 10,
   "metadata": {},
   "outputs": [
    {
     "name": "stderr",
     "output_type": "stream",
     "text": [
      "100%|██████████| 636/636 [32:03<00:00,  3.02s/it]\n"
     ]
    }
   ],
   "source": [
    "dice_loss_fullres=[]\n",
    "for start in tqdm(range(0, len(ids_list), val_batch_size)):\n",
    "    \n",
    "    x_batch = []\n",
    "    end = min(start + val_batch_size, len(ids_list))\n",
    "    ids_test_batch = ids_list[start:end]\n",
    "    \n",
    "    for id in ids_test_batch:\n",
    "        img = cv2.imread('data/train/{}.jpg'.format(id))\n",
    "        \n",
    "        this_bbox = test_bboxes[id]\n",
    "        img_1_box = this_bbox[0]\n",
    "        img_2_box = this_bbox[1]\n",
    "        \n",
    "        img_1 = np.copy(img[img_1_box[2]:(img_1_box[3]+1), img_1_box[0]:(img_1_box[1]+1),:])\n",
    "        img_2 = np.copy(img[img_2_box[2]:(img_2_box[3]+1), img_2_box[0]:(img_2_box[1]+1),:])\n",
    "        img_2 = cv2.flip(img_2, 1)\n",
    "        \n",
    "        x_batch.append(img_1)\n",
    "        x_batch.append(img_2)\n",
    "    \n",
    "    x_batch = np.array(x_batch, np.float32) / 255\n",
    "    preds = model.predict_on_batch(x_batch)\n",
    "    preds = np.squeeze(preds, axis=3)\n",
    "    \n",
    "    final_preds = []\n",
    "    for i in range(len(ids_test_batch)):\n",
    "        id = ids_test_batch[i]\n",
    "        \n",
    "        this_bbox = test_bboxes[id]\n",
    "        img_1_box = this_bbox[0]\n",
    "        img_2_box = this_bbox[1]\n",
    "        \n",
    "        pred_1 = np.copy(preds[(i*2), :, :])\n",
    "        pred_2 = np.copy(preds[(i*2) + 1, :, :])\n",
    "        pred_2 = cv2.flip(pred_2, 1)\n",
    "        \n",
    "        left_part   = np.copy(pred_1[:, 0:894])\n",
    "        middle_1    = np.copy(pred_1[:, 894:1024])\n",
    "        middle_2    = np.copy(pred_2[:, 0:130])\n",
    "        middle_part = np.add(middle_1, middle_2)/2\n",
    "        right_part  = np.copy(pred_2[:, 130:1024])\n",
    "        all_parts   = np.concatenate((left_part, middle_part, right_part), axis=1)\n",
    "        \n",
    "        if img_1_box[2] != 0:\n",
    "            top_part = np.zeros(shape = (img_1_box[2],1918), dtype = np.float32)\n",
    "            all_parts = np.concatenate((top_part, all_parts), axis = 0)\n",
    "            \n",
    "        if img_1_box[3] != 1279:\n",
    "            bottom_part = np.zeros(shape = (1279-img_1_box[3],1918), dtype = np.float32)\n",
    "            all_parts = np.concatenate((all_parts, bottom_part), axis = 0)\n",
    "        \n",
    "        final_preds.append(all_parts)\n",
    "        \n",
    "    \n",
    "    for i in range(len(ids_test_batch)):\n",
    "        tmp = final_preds[i]\n",
    "        tmp = (tmp > 0.5).astype(int)\n",
    "        mask = cv2.imread('data/train_masks/{}_mask.png'.format(ids_test_batch[i]), cv2.IMREAD_GRAYSCALE)/255\n",
    "        dice_loss_fullres.append(dice_loss_numpy(mask, tmp))"
   ]
  },
  {
   "cell_type": "code",
   "execution_count": 11,
   "metadata": {
    "collapsed": true
   },
   "outputs": [],
   "source": [
    "import pickle\n",
    "pickle.dump( dice_loss_fullres, open( \"dice_loss_fullres.pkl\", \"wb\" ) )"
   ]
  },
  {
   "cell_type": "markdown",
   "metadata": {},
   "source": [
    "# Comparison"
   ]
  },
  {
   "cell_type": "code",
   "execution_count": 6,
   "metadata": {
    "ExecuteTime": {
     "end_time": "2017-09-06T10:08:00.564901Z",
     "start_time": "2017-09-06T10:08:00.526176Z"
    },
    "collapsed": true
   },
   "outputs": [],
   "source": [
    "import pickle"
   ]
  },
  {
   "cell_type": "code",
   "execution_count": 7,
   "metadata": {
    "ExecuteTime": {
     "end_time": "2017-09-06T10:08:00.620462Z",
     "start_time": "2017-09-06T10:08:00.574818Z"
    },
    "collapsed": true
   },
   "outputs": [],
   "source": [
    "df = pd.DataFrame({'id'    : ids_list,\n",
    "                   'm512'  : pickle.load( open( \"./dice_loss_512.pkl\", \"rb\" ) ),\n",
    "                   'm1024' : pickle.load( open( \"./dice_loss_1024.pkl\", \"rb\" ) ),\n",
    "                   'mfull' : pickle.load( open( \"./dice_loss_fullres.pkl\", \"rb\" ) )\n",
    "                  })"
   ]
  },
  {
   "cell_type": "code",
   "execution_count": 8,
   "metadata": {
    "ExecuteTime": {
     "end_time": "2017-09-06T10:08:00.666094Z",
     "start_time": "2017-09-06T10:08:00.646996Z"
    }
   },
   "outputs": [
    {
     "data": {
      "text/html": [
       "<div>\n",
       "<style>\n",
       "    .dataframe thead tr:only-child th {\n",
       "        text-align: right;\n",
       "    }\n",
       "\n",
       "    .dataframe thead th {\n",
       "        text-align: left;\n",
       "    }\n",
       "\n",
       "    .dataframe tbody tr th {\n",
       "        vertical-align: top;\n",
       "    }\n",
       "</style>\n",
       "<table border=\"1\" class=\"dataframe\">\n",
       "  <thead>\n",
       "    <tr style=\"text-align: right;\">\n",
       "      <th></th>\n",
       "      <th>id</th>\n",
       "      <th>m1024</th>\n",
       "      <th>m512</th>\n",
       "      <th>mfull</th>\n",
       "    </tr>\n",
       "  </thead>\n",
       "  <tbody>\n",
       "    <tr>\n",
       "      <th>0</th>\n",
       "      <td>fecea3036c59_13</td>\n",
       "      <td>0.997721</td>\n",
       "      <td>0.997493</td>\n",
       "      <td>0.997894</td>\n",
       "    </tr>\n",
       "    <tr>\n",
       "      <th>1</th>\n",
       "      <td>a078586ccdee_10</td>\n",
       "      <td>0.997255</td>\n",
       "      <td>0.996585</td>\n",
       "      <td>0.997734</td>\n",
       "    </tr>\n",
       "    <tr>\n",
       "      <th>2</th>\n",
       "      <td>a2df64508b97_06</td>\n",
       "      <td>0.996331</td>\n",
       "      <td>0.996635</td>\n",
       "      <td>0.997433</td>\n",
       "    </tr>\n",
       "    <tr>\n",
       "      <th>3</th>\n",
       "      <td>4bea0766c14c_10</td>\n",
       "      <td>0.997822</td>\n",
       "      <td>0.997272</td>\n",
       "      <td>0.998054</td>\n",
       "    </tr>\n",
       "    <tr>\n",
       "      <th>4</th>\n",
       "      <td>c3614abc7405_09</td>\n",
       "      <td>0.995865</td>\n",
       "      <td>0.996198</td>\n",
       "      <td>0.997340</td>\n",
       "    </tr>\n",
       "  </tbody>\n",
       "</table>\n",
       "</div>"
      ],
      "text/plain": [
       "                id     m1024      m512     mfull\n",
       "0  fecea3036c59_13  0.997721  0.997493  0.997894\n",
       "1  a078586ccdee_10  0.997255  0.996585  0.997734\n",
       "2  a2df64508b97_06  0.996331  0.996635  0.997433\n",
       "3  4bea0766c14c_10  0.997822  0.997272  0.998054\n",
       "4  c3614abc7405_09  0.995865  0.996198  0.997340"
      ]
     },
     "execution_count": 8,
     "metadata": {},
     "output_type": "execute_result"
    }
   ],
   "source": [
    "df.head()"
   ]
  },
  {
   "cell_type": "code",
   "execution_count": 9,
   "metadata": {
    "ExecuteTime": {
     "end_time": "2017-09-06T10:08:00.742620Z",
     "start_time": "2017-09-06T10:08:00.690445Z"
    }
   },
   "outputs": [
    {
     "data": {
      "text/plain": [
       "0.89330155866443206"
      ]
     },
     "execution_count": 9,
     "metadata": {},
     "output_type": "execute_result"
    }
   ],
   "source": [
    "df.m512.corr(df.m1024)"
   ]
  },
  {
   "cell_type": "code",
   "execution_count": 10,
   "metadata": {
    "ExecuteTime": {
     "end_time": "2017-09-06T10:08:00.773876Z",
     "start_time": "2017-09-06T10:08:00.769801Z"
    }
   },
   "outputs": [
    {
     "data": {
      "text/plain": [
       "0.83603164126970209"
      ]
     },
     "execution_count": 10,
     "metadata": {},
     "output_type": "execute_result"
    }
   ],
   "source": [
    "df.m512.corr(df.mfull)"
   ]
  },
  {
   "cell_type": "code",
   "execution_count": 11,
   "metadata": {
    "ExecuteTime": {
     "end_time": "2017-09-06T10:08:00.816512Z",
     "start_time": "2017-09-06T10:08:00.799346Z"
    }
   },
   "outputs": [
    {
     "data": {
      "text/plain": [
       "0.88858245001854264"
      ]
     },
     "execution_count": 11,
     "metadata": {},
     "output_type": "execute_result"
    }
   ],
   "source": [
    "df.m1024.corr(df.mfull)"
   ]
  },
  {
   "cell_type": "code",
   "execution_count": 12,
   "metadata": {
    "ExecuteTime": {
     "end_time": "2017-09-06T10:08:00.868089Z",
     "start_time": "2017-09-06T10:08:00.841882Z"
    }
   },
   "outputs": [
    {
     "data": {
      "text/plain": [
       "0.92990512956699967"
      ]
     },
     "execution_count": 12,
     "metadata": {},
     "output_type": "execute_result"
    }
   ],
   "source": [
    "((df.m512+df.mfull)/2).corr(df.m1024)"
   ]
  },
  {
   "cell_type": "code",
   "execution_count": 13,
   "metadata": {
    "ExecuteTime": {
     "end_time": "2017-09-06T10:08:01.204570Z",
     "start_time": "2017-09-06T10:08:00.906045Z"
    }
   },
   "outputs": [
    {
     "data": {
      "image/png": "[encoded data removed]",
      "text/plain": [
       "<matplotlib.figure.Figure at 0x7f7d07924be0>"
      ]
     },
     "metadata": {},
     "output_type": "display_data"
    }
   ],
   "source": [
    "plt.figure(figsize=(10, 10))\n",
    "plt.scatter(df.m512, df.mfull);"
   ]
  },
  {
   "cell_type": "code",
   "execution_count": 14,
   "metadata": {
    "ExecuteTime": {
     "end_time": "2017-09-06T10:08:01.236018Z",
     "start_time": "2017-09-06T10:08:01.234084Z"
    },
    "collapsed": true
   },
   "outputs": [],
   "source": [
    "# Ensemble of 512 and full res models didn't increase the LB score"
   ]
  },
  {
   "cell_type": "markdown",
   "metadata": {},
   "source": [
    "# Accuracy by angle"
   ]
  },
  {
   "cell_type": "code",
   "execution_count": 15,
   "metadata": {
    "ExecuteTime": {
     "end_time": "2017-09-06T10:08:01.290167Z",
     "start_time": "2017-09-06T10:08:01.262029Z"
    }
   },
   "outputs": [
    {
     "data": {
      "text/html": [
       "<div>\n",
       "<style>\n",
       "    .dataframe thead tr:only-child th {\n",
       "        text-align: right;\n",
       "    }\n",
       "\n",
       "    .dataframe thead th {\n",
       "        text-align: left;\n",
       "    }\n",
       "\n",
       "    .dataframe tbody tr th {\n",
       "        vertical-align: top;\n",
       "    }\n",
       "</style>\n",
       "<table border=\"1\" class=\"dataframe\">\n",
       "  <thead>\n",
       "    <tr style=\"text-align: right;\">\n",
       "      <th></th>\n",
       "      <th>id</th>\n",
       "      <th>m1024</th>\n",
       "      <th>m512</th>\n",
       "      <th>mfull</th>\n",
       "    </tr>\n",
       "  </thead>\n",
       "  <tbody>\n",
       "    <tr>\n",
       "      <th>0</th>\n",
       "      <td>fecea3036c59_13</td>\n",
       "      <td>0.997721</td>\n",
       "      <td>0.997493</td>\n",
       "      <td>0.997894</td>\n",
       "    </tr>\n",
       "    <tr>\n",
       "      <th>1</th>\n",
       "      <td>a078586ccdee_10</td>\n",
       "      <td>0.997255</td>\n",
       "      <td>0.996585</td>\n",
       "      <td>0.997734</td>\n",
       "    </tr>\n",
       "    <tr>\n",
       "      <th>2</th>\n",
       "      <td>a2df64508b97_06</td>\n",
       "      <td>0.996331</td>\n",
       "      <td>0.996635</td>\n",
       "      <td>0.997433</td>\n",
       "    </tr>\n",
       "    <tr>\n",
       "      <th>3</th>\n",
       "      <td>4bea0766c14c_10</td>\n",
       "      <td>0.997822</td>\n",
       "      <td>0.997272</td>\n",
       "      <td>0.998054</td>\n",
       "    </tr>\n",
       "    <tr>\n",
       "      <th>4</th>\n",
       "      <td>c3614abc7405_09</td>\n",
       "      <td>0.995865</td>\n",
       "      <td>0.996198</td>\n",
       "      <td>0.997340</td>\n",
       "    </tr>\n",
       "  </tbody>\n",
       "</table>\n",
       "</div>"
      ],
      "text/plain": [
       "                id     m1024      m512     mfull\n",
       "0  fecea3036c59_13  0.997721  0.997493  0.997894\n",
       "1  a078586ccdee_10  0.997255  0.996585  0.997734\n",
       "2  a2df64508b97_06  0.996331  0.996635  0.997433\n",
       "3  4bea0766c14c_10  0.997822  0.997272  0.998054\n",
       "4  c3614abc7405_09  0.995865  0.996198  0.997340"
      ]
     },
     "execution_count": 15,
     "metadata": {},
     "output_type": "execute_result"
    }
   ],
   "source": [
    "df.head()"
   ]
  },
  {
   "cell_type": "code",
   "execution_count": 16,
   "metadata": {
    "ExecuteTime": {
     "end_time": "2017-09-06T10:08:01.346399Z",
     "start_time": "2017-09-06T10:08:01.316211Z"
    },
    "collapsed": true
   },
   "outputs": [],
   "source": [
    "import re"
   ]
  },
  {
   "cell_type": "code",
   "execution_count": 17,
   "metadata": {
    "ExecuteTime": {
     "end_time": "2017-09-06T10:08:01.402387Z",
     "start_time": "2017-09-06T10:08:01.372074Z"
    },
    "collapsed": true
   },
   "outputs": [],
   "source": [
    "angle_data = [re.search(r'[0-9]+$', x).group(0) for x in df.id.values]"
   ]
  },
  {
   "cell_type": "code",
   "execution_count": 18,
   "metadata": {
    "ExecuteTime": {
     "end_time": "2017-09-06T10:08:01.456391Z",
     "start_time": "2017-09-06T10:08:01.429230Z"
    },
    "collapsed": true
   },
   "outputs": [],
   "source": [
    "df = df.assign(angle = angle_data)"
   ]
  },
  {
   "cell_type": "code",
   "execution_count": 19,
   "metadata": {
    "ExecuteTime": {
     "end_time": "2017-09-06T10:08:01.510612Z",
     "start_time": "2017-09-06T10:08:01.486755Z"
    }
   },
   "outputs": [
    {
     "data": {
      "text/html": [
       "<div>\n",
       "<style>\n",
       "    .dataframe thead tr:only-child th {\n",
       "        text-align: right;\n",
       "    }\n",
       "\n",
       "    .dataframe thead th {\n",
       "        text-align: left;\n",
       "    }\n",
       "\n",
       "    .dataframe tbody tr th {\n",
       "        vertical-align: top;\n",
       "    }\n",
       "</style>\n",
       "<table border=\"1\" class=\"dataframe\">\n",
       "  <thead>\n",
       "    <tr style=\"text-align: right;\">\n",
       "      <th></th>\n",
       "      <th>id</th>\n",
       "      <th>m1024</th>\n",
       "      <th>m512</th>\n",
       "      <th>mfull</th>\n",
       "      <th>angle</th>\n",
       "    </tr>\n",
       "  </thead>\n",
       "  <tbody>\n",
       "    <tr>\n",
       "      <th>0</th>\n",
       "      <td>fecea3036c59_13</td>\n",
       "      <td>0.997721</td>\n",
       "      <td>0.997493</td>\n",
       "      <td>0.997894</td>\n",
       "      <td>13</td>\n",
       "    </tr>\n",
       "    <tr>\n",
       "      <th>1</th>\n",
       "      <td>a078586ccdee_10</td>\n",
       "      <td>0.997255</td>\n",
       "      <td>0.996585</td>\n",
       "      <td>0.997734</td>\n",
       "      <td>10</td>\n",
       "    </tr>\n",
       "    <tr>\n",
       "      <th>2</th>\n",
       "      <td>a2df64508b97_06</td>\n",
       "      <td>0.996331</td>\n",
       "      <td>0.996635</td>\n",
       "      <td>0.997433</td>\n",
       "      <td>06</td>\n",
       "    </tr>\n",
       "    <tr>\n",
       "      <th>3</th>\n",
       "      <td>4bea0766c14c_10</td>\n",
       "      <td>0.997822</td>\n",
       "      <td>0.997272</td>\n",
       "      <td>0.998054</td>\n",
       "      <td>10</td>\n",
       "    </tr>\n",
       "    <tr>\n",
       "      <th>4</th>\n",
       "      <td>c3614abc7405_09</td>\n",
       "      <td>0.995865</td>\n",
       "      <td>0.996198</td>\n",
       "      <td>0.997340</td>\n",
       "      <td>09</td>\n",
       "    </tr>\n",
       "  </tbody>\n",
       "</table>\n",
       "</div>"
      ],
      "text/plain": [
       "                id     m1024      m512     mfull angle\n",
       "0  fecea3036c59_13  0.997721  0.997493  0.997894    13\n",
       "1  a078586ccdee_10  0.997255  0.996585  0.997734    10\n",
       "2  a2df64508b97_06  0.996331  0.996635  0.997433    06\n",
       "3  4bea0766c14c_10  0.997822  0.997272  0.998054    10\n",
       "4  c3614abc7405_09  0.995865  0.996198  0.997340    09"
      ]
     },
     "execution_count": 19,
     "metadata": {},
     "output_type": "execute_result"
    }
   ],
   "source": [
    "df.head()"
   ]
  },
  {
   "cell_type": "code",
   "execution_count": 20,
   "metadata": {
    "ExecuteTime": {
     "end_time": "2017-09-06T09:59:28.045422Z",
     "start_time": "2017-09-06T09:59:27.960571Z"
    },
    "collapsed": true
   },
   "outputs": [],
   "source": [
    "import seaborn as sns"
   ]
  },
  {
   "cell_type": "code",
   "execution_count": 21,
   "metadata": {
    "ExecuteTime": {
     "end_time": "2017-09-06T09:59:29.259872Z",
     "start_time": "2017-09-06T09:59:28.061744Z"
    }
   },
   "outputs": [
    {
     "data": {
      "image/png": "[encoded data removed]",
      "text/plain": [
       "<matplotlib.figure.Figure at 0x7f2060e470f0>"
      ]
     },
     "metadata": {},
     "output_type": "display_data"
    }
   ],
   "source": [
    "plt.figure(figsize=(20, 5))\n",
    "plt.subplot(1,3,1)\n",
    "sns.boxplot(x='angle',y='m1024',data=df)\n",
    "plt.ylim(0.990, 0.999)\n",
    "plt.subplot(1,3,2)\n",
    "sns.boxplot(x='angle',y='m512',data=df);\n",
    "plt.ylim(0.990, 0.999)\n",
    "plt.subplot(1,3,3)\n",
    "sns.boxplot(x='angle',y='mfull',data=df);\n",
    "plt.ylim(0.990, 0.999);"
   ]
  },
  {
   "cell_type": "markdown",
   "metadata": {
    "collapsed": true
   },
   "source": [
    "# Worst predictions of full res model"
   ]
  },
  {
   "cell_type": "code",
   "execution_count": 20,
   "metadata": {
    "ExecuteTime": {
     "end_time": "2017-09-06T10:08:02.970801Z",
     "start_time": "2017-09-06T10:08:02.966427Z"
    },
    "collapsed": true
   },
   "outputs": [],
   "source": [
    "df = df.set_index(['id'])"
   ]
  },
  {
   "cell_type": "code",
   "execution_count": 21,
   "metadata": {
    "ExecuteTime": {
     "end_time": "2017-09-06T10:08:03.336744Z",
     "start_time": "2017-09-06T10:08:03.327804Z"
    }
   },
   "outputs": [
    {
     "data": {
      "text/html": [
       "<div>\n",
       "<style>\n",
       "    .dataframe thead tr:only-child th {\n",
       "        text-align: right;\n",
       "    }\n",
       "\n",
       "    .dataframe thead th {\n",
       "        text-align: left;\n",
       "    }\n",
       "\n",
       "    .dataframe tbody tr th {\n",
       "        vertical-align: top;\n",
       "    }\n",
       "</style>\n",
       "<table border=\"1\" class=\"dataframe\">\n",
       "  <thead>\n",
       "    <tr style=\"text-align: right;\">\n",
       "      <th></th>\n",
       "      <th>m1024</th>\n",
       "      <th>m512</th>\n",
       "      <th>mfull</th>\n",
       "      <th>angle</th>\n",
       "    </tr>\n",
       "    <tr>\n",
       "      <th>id</th>\n",
       "      <th></th>\n",
       "      <th></th>\n",
       "      <th></th>\n",
       "      <th></th>\n",
       "    </tr>\n",
       "  </thead>\n",
       "  <tbody>\n",
       "    <tr>\n",
       "      <th>fecea3036c59_13</th>\n",
       "      <td>0.997721</td>\n",
       "      <td>0.997493</td>\n",
       "      <td>0.997894</td>\n",
       "      <td>13</td>\n",
       "    </tr>\n",
       "    <tr>\n",
       "      <th>a078586ccdee_10</th>\n",
       "      <td>0.997255</td>\n",
       "      <td>0.996585</td>\n",
       "      <td>0.997734</td>\n",
       "      <td>10</td>\n",
       "    </tr>\n",
       "    <tr>\n",
       "      <th>a2df64508b97_06</th>\n",
       "      <td>0.996331</td>\n",
       "      <td>0.996635</td>\n",
       "      <td>0.997433</td>\n",
       "      <td>06</td>\n",
       "    </tr>\n",
       "    <tr>\n",
       "      <th>4bea0766c14c_10</th>\n",
       "      <td>0.997822</td>\n",
       "      <td>0.997272</td>\n",
       "      <td>0.998054</td>\n",
       "      <td>10</td>\n",
       "    </tr>\n",
       "    <tr>\n",
       "      <th>c3614abc7405_09</th>\n",
       "      <td>0.995865</td>\n",
       "      <td>0.996198</td>\n",
       "      <td>0.997340</td>\n",
       "      <td>09</td>\n",
       "    </tr>\n",
       "  </tbody>\n",
       "</table>\n",
       "</div>"
      ],
      "text/plain": [
       "                    m1024      m512     mfull angle\n",
       "id                                                 \n",
       "fecea3036c59_13  0.997721  0.997493  0.997894    13\n",
       "a078586ccdee_10  0.997255  0.996585  0.997734    10\n",
       "a2df64508b97_06  0.996331  0.996635  0.997433    06\n",
       "4bea0766c14c_10  0.997822  0.997272  0.998054    10\n",
       "c3614abc7405_09  0.995865  0.996198  0.997340    09"
      ]
     },
     "execution_count": 21,
     "metadata": {},
     "output_type": "execute_result"
    }
   ],
   "source": [
    "df.head()"
   ]
  },
  {
   "cell_type": "code",
   "execution_count": 22,
   "metadata": {
    "ExecuteTime": {
     "end_time": "2017-09-06T10:08:03.725100Z",
     "start_time": "2017-09-06T10:08:03.687873Z"
    }
   },
   "outputs": [],
   "source": [
    "worst_cases = df.groupby('angle')['mfull'].nsmallest(2).reset_index()"
   ]
  },
  {
   "cell_type": "code",
   "execution_count": 23,
   "metadata": {
    "ExecuteTime": {
     "end_time": "2017-09-06T10:08:04.053239Z",
     "start_time": "2017-09-06T10:08:04.044265Z"
    }
   },
   "outputs": [
    {
     "data": {
      "text/html": [
       "<div>\n",
       "<style>\n",
       "    .dataframe thead tr:only-child th {\n",
       "        text-align: right;\n",
       "    }\n",
       "\n",
       "    .dataframe thead th {\n",
       "        text-align: left;\n",
       "    }\n",
       "\n",
       "    .dataframe tbody tr th {\n",
       "        vertical-align: top;\n",
       "    }\n",
       "</style>\n",
       "<table border=\"1\" class=\"dataframe\">\n",
       "  <thead>\n",
       "    <tr style=\"text-align: right;\">\n",
       "      <th></th>\n",
       "      <th>angle</th>\n",
       "      <th>id</th>\n",
       "      <th>mfull</th>\n",
       "    </tr>\n",
       "  </thead>\n",
       "  <tbody>\n",
       "    <tr>\n",
       "      <th>0</th>\n",
       "      <td>01</td>\n",
       "      <td>8d1a6723c458_01</td>\n",
       "      <td>0.992618</td>\n",
       "    </tr>\n",
       "    <tr>\n",
       "      <th>1</th>\n",
       "      <td>01</td>\n",
       "      <td>293a0fa72e5b_01</td>\n",
       "      <td>0.992905</td>\n",
       "    </tr>\n",
       "    <tr>\n",
       "      <th>2</th>\n",
       "      <td>02</td>\n",
       "      <td>fa613ac8eac5_02</td>\n",
       "      <td>0.990863</td>\n",
       "    </tr>\n",
       "    <tr>\n",
       "      <th>3</th>\n",
       "      <td>02</td>\n",
       "      <td>189a2a32a615_02</td>\n",
       "      <td>0.990943</td>\n",
       "    </tr>\n",
       "    <tr>\n",
       "      <th>4</th>\n",
       "      <td>03</td>\n",
       "      <td>34b0c08544a5_03</td>\n",
       "      <td>0.994614</td>\n",
       "    </tr>\n",
       "  </tbody>\n",
       "</table>\n",
       "</div>"
      ],
      "text/plain": [
       "  angle               id     mfull\n",
       "0    01  8d1a6723c458_01  0.992618\n",
       "1    01  293a0fa72e5b_01  0.992905\n",
       "2    02  fa613ac8eac5_02  0.990863\n",
       "3    02  189a2a32a615_02  0.990943\n",
       "4    03  34b0c08544a5_03  0.994614"
      ]
     },
     "execution_count": 23,
     "metadata": {},
     "output_type": "execute_result"
    }
   ],
   "source": [
    "worst_cases.head()"
   ]
  },
  {
   "cell_type": "code",
   "execution_count": 24,
   "metadata": {
    "ExecuteTime": {
     "end_time": "2017-09-06T10:08:04.410771Z",
     "start_time": "2017-09-06T10:08:04.408323Z"
    }
   },
   "outputs": [],
   "source": [
    "ids_list = worst_cases.id.values"
   ]
  },
  {
   "cell_type": "code",
   "execution_count": 25,
   "metadata": {
    "ExecuteTime": {
     "end_time": "2017-09-06T10:08:05.642484Z",
     "start_time": "2017-09-06T10:08:05.638851Z"
    }
   },
   "outputs": [
    {
     "data": {
      "text/plain": [
       "32"
      ]
     },
     "execution_count": 25,
     "metadata": {},
     "output_type": "execute_result"
    }
   ],
   "source": [
    "len(ids_list)"
   ]
  },
  {
   "cell_type": "code",
   "execution_count": 26,
   "metadata": {
    "ExecuteTime": {
     "end_time": "2017-09-06T10:08:16.609378Z",
     "start_time": "2017-09-06T10:08:07.187040Z"
    },
    "collapsed": true
   },
   "outputs": [],
   "source": [
    "model = get_unet(input_shape=(1024,1024,3), initial_filters=8)\n",
    "model.load_weights(filepath='weights/best_weights_fullres3.hdf5')"
   ]
  },
  {
   "cell_type": "code",
   "execution_count": 27,
   "metadata": {
    "ExecuteTime": {
     "end_time": "2017-09-06T10:08:16.648491Z",
     "start_time": "2017-09-06T10:08:16.646114Z"
    },
    "collapsed": true
   },
   "outputs": [],
   "source": [
    "val_batch_size = 8\n",
    "threshold = 0.5"
   ]
  },
  {
   "cell_type": "code",
   "execution_count": 28,
   "metadata": {
    "ExecuteTime": {
     "end_time": "2017-09-06T10:08:16.728202Z",
     "start_time": "2017-09-06T10:08:16.685249Z"
    },
    "collapsed": true
   },
   "outputs": [],
   "source": [
    "import pickle\n",
    "test_bboxes = pickle.load( open( \"./train_bboxes.pkl\", \"rb\" ) )"
   ]
  },
  {
   "cell_type": "code",
   "execution_count": 29,
   "metadata": {
    "ExecuteTime": {
     "end_time": "2017-09-06T10:08:16.789620Z",
     "start_time": "2017-09-06T10:08:16.784847Z"
    },
    "collapsed": true
   },
   "outputs": [],
   "source": [
    "from tqdm import tqdm"
   ]
  },
  {
   "cell_type": "code",
   "execution_count": 30,
   "metadata": {
    "ExecuteTime": {
     "end_time": "2017-09-06T10:08:33.377831Z",
     "start_time": "2017-09-06T10:08:16.849403Z"
    }
   },
   "outputs": [
    {
     "name": "stderr",
     "output_type": "stream",
     "text": [
      "100%|██████████| 4/4 [00:16<00:00,  4.61s/it]\n"
     ]
    }
   ],
   "source": [
    "predicted_masks = []\n",
    "for start in tqdm(range(0, len(ids_list), val_batch_size)):\n",
    "    \n",
    "    x_batch = []\n",
    "    end = min(start + val_batch_size, len(ids_list))\n",
    "    ids_test_batch = ids_list[start:end]\n",
    "    \n",
    "    for id in ids_test_batch:\n",
    "        img = cv2.imread('data/train/{}.jpg'.format(id))\n",
    "        \n",
    "        this_bbox = test_bboxes[id]\n",
    "        img_1_box = this_bbox[0]\n",
    "        img_2_box = this_bbox[1]\n",
    "        \n",
    "        img_1 = np.copy(img[img_1_box[2]:(img_1_box[3]+1), img_1_box[0]:(img_1_box[1]+1),:])\n",
    "        img_2 = np.copy(img[img_2_box[2]:(img_2_box[3]+1), img_2_box[0]:(img_2_box[1]+1),:])\n",
    "        img_2 = cv2.flip(img_2, 1)\n",
    "        \n",
    "        x_batch.append(img_1)\n",
    "        x_batch.append(img_2)\n",
    "    \n",
    "    x_batch = np.array(x_batch, np.float32) / 255\n",
    "    preds = model.predict_on_batch(x_batch)\n",
    "    preds = np.squeeze(preds, axis=3)\n",
    "    \n",
    "    final_preds = []\n",
    "    for i in range(len(ids_test_batch)):\n",
    "        id = ids_test_batch[i]\n",
    "        \n",
    "        this_bbox = test_bboxes[id]\n",
    "        img_1_box = this_bbox[0]\n",
    "        img_2_box = this_bbox[1]\n",
    "        \n",
    "        pred_1 = np.copy(preds[(i*2), :, :])\n",
    "        pred_2 = np.copy(preds[(i*2) + 1, :, :])\n",
    "        pred_2 = cv2.flip(pred_2, 1)\n",
    "        \n",
    "        left_part   = np.copy(pred_1[:, 0:894])\n",
    "        middle_1    = np.copy(pred_1[:, 894:1024])\n",
    "        middle_2    = np.copy(pred_2[:, 0:130])\n",
    "        middle_part = np.add(middle_1, middle_2)/2\n",
    "        right_part  = np.copy(pred_2[:, 130:1024])\n",
    "        all_parts   = np.concatenate((left_part, middle_part, right_part), axis=1)\n",
    "        \n",
    "        if img_1_box[2] != 0:\n",
    "            top_part = np.zeros(shape = (img_1_box[2],1918), dtype = np.float32)\n",
    "            all_parts = np.concatenate((top_part, all_parts), axis = 0)\n",
    "            \n",
    "        if img_1_box[3] != 1279:\n",
    "            bottom_part = np.zeros(shape = (1279-img_1_box[3],1918), dtype = np.float32)\n",
    "            all_parts = np.concatenate((all_parts, bottom_part), axis = 0)\n",
    "        \n",
    "        final_preds.append(all_parts)\n",
    "        \n",
    "    \n",
    "    for i in range(len(ids_test_batch)):\n",
    "        tmp = final_preds[i]\n",
    "        tmp = (tmp > 0.5).astype(int)\n",
    "        predicted_masks.append(tmp)"
   ]
  },
  {
   "cell_type": "code",
   "execution_count": 31,
   "metadata": {
    "ExecuteTime": {
     "end_time": "2017-09-06T10:08:33.530996Z",
     "start_time": "2017-09-06T10:08:33.527533Z"
    }
   },
   "outputs": [
    {
     "data": {
      "text/plain": [
       "32"
      ]
     },
     "execution_count": 31,
     "metadata": {},
     "output_type": "execute_result"
    }
   ],
   "source": [
    "len(predicted_masks)"
   ]
  },
  {
   "cell_type": "code",
   "execution_count": 32,
   "metadata": {
    "ExecuteTime": {
     "end_time": "2017-09-06T10:08:34.408028Z",
     "start_time": "2017-09-06T10:08:33.680911Z"
    },
    "collapsed": true
   },
   "outputs": [],
   "source": [
    "actual_masks = []\n",
    "for id in ids_list:\n",
    "    mask = mask = cv2.imread('data/train_masks/{}_mask.png'.format(id), cv2.IMREAD_GRAYSCALE)/255\n",
    "    actual_masks.append(mask)"
   ]
  },
  {
   "cell_type": "code",
   "execution_count": 69,
   "metadata": {
    "ExecuteTime": {
     "end_time": "2017-09-06T10:19:55.604405Z",
     "start_time": "2017-09-06T10:19:55.597124Z"
    },
    "collapsed": true
   },
   "outputs": [],
   "source": [
    "def plot_diff(i):\n",
    "    pred = predicted_masks[i]\n",
    "    act  = actual_masks[i]\n",
    "    pred_minus_act = pred-act\n",
    "    \n",
    "    plt.figure(figsize=(20, 20))\n",
    "    plt.subplot(1,3,1)\n",
    "    plt.imshow(pred, cmap=\"PiYG\")\n",
    "    plt.subplot(1,3,2)\n",
    "    plt.imshow(act, cmap=\"PiYG\")\n",
    "    plt.subplot(1,3,3)\n",
    "    plt.imshow(pred_minus_act, cmap=\"PiYG\")\n",
    "    plt.show()"
   ]
  },
  {
   "cell_type": "code",
   "execution_count": 70,
   "metadata": {
    "ExecuteTime": {
     "end_time": "2017-09-06T10:19:57.111713Z",
     "start_time": "2017-09-06T10:19:55.989382Z"
    }
   },
   "outputs": [
    {
     "data": {
      "image/png": "[encoded data removed]",
      "text/plain": [
       "<matplotlib.figure.Figure at 0x7f7ce7c17710>"
      ]
     },
     "metadata": {},
     "output_type": "display_data"
    }
   ],
   "source": [
    "plot_diff(0);"
   ]
  },
  {
   "cell_type": "code",
   "execution_count": 71,
   "metadata": {
    "ExecuteTime": {
     "end_time": "2017-09-06T10:19:58.499832Z",
     "start_time": "2017-09-06T10:19:57.316923Z"
    }
   },
   "outputs": [
    {
     "data": {
      "image/png": "[encoded data removed]",
      "text/plain": [
       "<matplotlib.figure.Figure at 0x7f7d0003fb70>"
      ]
     },
     "metadata": {},
     "output_type": "display_data"
    }
   ],
   "source": [
    "plot_diff(1);"
   ]
  },
  {
   "cell_type": "code",
   "execution_count": 72,
   "metadata": {
    "ExecuteTime": {
     "end_time": "2017-09-06T10:19:59.894974Z",
     "start_time": "2017-09-06T10:19:58.698507Z"
    }
   },
   "outputs": [
    {
     "data": {
      "image/png": "[encoded data removed]",
      "text/plain": [
       "<matplotlib.figure.Figure at 0x7f7d00ff5048>"
      ]
     },
     "metadata": {},
     "output_type": "display_data"
    }
   ],
   "source": [
    "plot_diff(2);"
   ]
  },
  {
   "cell_type": "code",
   "execution_count": 73,
   "metadata": {
    "ExecuteTime": {
     "end_time": "2017-09-06T10:20:01.416360Z",
     "start_time": "2017-09-06T10:20:00.093526Z"
    }
   },
   "outputs": [
    {
     "data": {
      "image/png": "[encoded data removed]",
      "text/plain": [
       "<matplotlib.figure.Figure at 0x7f7d000686a0>"
      ]
     },
     "metadata": {},
     "output_type": "display_data"
    }
   ],
   "source": [
    "plot_diff(3);"
   ]
  },
  {
   "cell_type": "code",
   "execution_count": 74,
   "metadata": {
    "ExecuteTime": {
     "end_time": "2017-09-06T10:20:02.733006Z",
     "start_time": "2017-09-06T10:20:01.613769Z"
    }
   },
   "outputs": [
    {
     "data": {
      "image/png": "[encoded data removed]",
      "text/plain": [
       "<matplotlib.figure.Figure at 0x7f7ce7985eb8>"
      ]
     },
     "metadata": {},
     "output_type": "display_data"
    }
   ],
   "source": [
    "plot_diff(4);"
   ]
  },
  {
   "cell_type": "code",
   "execution_count": 75,
   "metadata": {
    "ExecuteTime": {
     "end_time": "2017-09-06T10:20:04.052906Z",
     "start_time": "2017-09-06T10:20:02.932318Z"
    }
   },
   "outputs": [
    {
     "data": {
      "image/png": "[encoded data removed]",
      "text/plain": [
       "<matplotlib.figure.Figure at 0x7f7ce78a36a0>"
      ]
     },
     "metadata": {},
     "output_type": "display_data"
    }
   ],
   "source": [
    "plot_diff(5);"
   ]
  },
  {
   "cell_type": "code",
   "execution_count": 76,
   "metadata": {
    "ExecuteTime": {
     "end_time": "2017-09-06T10:20:05.383699Z",
     "start_time": "2017-09-06T10:20:04.254933Z"
    }
   },
   "outputs": [
    {
     "data": {
      "image/png": "[encoded data removed]",
      "text/plain": [
       "<matplotlib.figure.Figure at 0x7f7d00e895c0>"
      ]
     },
     "metadata": {},
     "output_type": "display_data"
    }
   ],
   "source": [
    "plot_diff(6);"
   ]
  },
  {
   "cell_type": "code",
   "execution_count": 77,
   "metadata": {
    "ExecuteTime": {
     "end_time": "2017-09-06T10:20:06.717201Z",
     "start_time": "2017-09-06T10:20:05.588582Z"
    }
   },
   "outputs": [
    {
     "data": {
      "image/png": "[encoded data removed]",
      "text/plain": [
       "<matplotlib.figure.Figure at 0x7f7ce850d2e8>"
      ]
     },
     "metadata": {},
     "output_type": "display_data"
    }
   ],
   "source": [
    "plot_diff(7);"
   ]
  },
  {
   "cell_type": "code",
   "execution_count": 78,
   "metadata": {
    "ExecuteTime": {
     "end_time": "2017-09-06T10:20:08.123615Z",
     "start_time": "2017-09-06T10:20:06.917742Z"
    }
   },
   "outputs": [
    {
     "data": {
      "image/png": "[encoded data removed]",
      "text/plain": [
       "<matplotlib.figure.Figure at 0x7f7ce77a38d0>"
      ]
     },
     "metadata": {},
     "output_type": "display_data"
    }
   ],
   "source": [
    "plot_diff(8);"
   ]
  },
  {
   "cell_type": "code",
   "execution_count": 79,
   "metadata": {
    "ExecuteTime": {
     "end_time": "2017-09-06T10:20:09.517008Z",
     "start_time": "2017-09-06T10:20:08.322279Z"
    }
   },
   "outputs": [
    {
     "data": {
      "image/png": "[encoded data removed]",
      "text/plain": [
       "<matplotlib.figure.Figure at 0x7f7ce7bbd860>"
      ]
     },
     "metadata": {},
     "output_type": "display_data"
    }
   ],
   "source": [
    "plot_diff(9);"
   ]
  },
  {
   "cell_type": "code",
   "execution_count": 80,
   "metadata": {
    "ExecuteTime": {
     "end_time": "2017-09-06T10:20:11.133822Z",
     "start_time": "2017-09-06T10:20:09.722506Z"
    }
   },
   "outputs": [
    {
     "data": {
      "image/png": "[encoded data removed]",
      "text/plain": [
       "<matplotlib.figure.Figure at 0x7f7ce7eba358>"
      ]
     },
     "metadata": {},
     "output_type": "display_data"
    }
   ],
   "source": [
    "plot_diff(10);"
   ]
  },
  {
   "cell_type": "code",
   "execution_count": 81,
   "metadata": {
    "ExecuteTime": {
     "end_time": "2017-09-06T10:20:12.535217Z",
     "start_time": "2017-09-06T10:20:11.334409Z"
    }
   },
   "outputs": [
    {
     "data": {
      "image/png": "[encoded data removed]",
      "text/plain": [
       "<matplotlib.figure.Figure at 0x7f7ce7f966a0>"
      ]
     },
     "metadata": {},
     "output_type": "display_data"
    }
   ],
   "source": [
    "plot_diff(11);"
   ]
  },
  {
   "cell_type": "code",
   "execution_count": 82,
   "metadata": {
    "ExecuteTime": {
     "end_time": "2017-09-06T10:20:34.109788Z",
     "start_time": "2017-09-06T10:20:32.906699Z"
    }
   },
   "outputs": [
    {
     "data": {
      "image/png": "[encoded data removed]",
      "text/plain": [
       "<matplotlib.figure.Figure at 0x7f7ce7ff2438>"
      ]
     },
     "metadata": {},
     "output_type": "display_data"
    }
   ],
   "source": [
    "plot_diff(12);"
   ]
  },
  {
   "cell_type": "code",
   "execution_count": 83,
   "metadata": {
    "ExecuteTime": {
     "end_time": "2017-09-06T10:20:36.461620Z",
     "start_time": "2017-09-06T10:20:35.266789Z"
    }
   },
   "outputs": [
    {
     "data": {
      "image/png": "[encoded data removed]",
      "text/plain": [
       "<matplotlib.figure.Figure at 0x7f7ce7b877b8>"
      ]
     },
     "metadata": {},
     "output_type": "display_data"
    }
   ],
   "source": [
    "plot_diff(13);"
   ]
  },
  {
   "cell_type": "code",
   "execution_count": 84,
   "metadata": {
    "ExecuteTime": {
     "end_time": "2017-09-06T10:20:38.743710Z",
     "start_time": "2017-09-06T10:20:37.542372Z"
    }
   },
   "outputs": [
    {
     "data": {
      "image/png": "[encoded data removed]",
      "text/plain": [
       "<matplotlib.figure.Figure at 0x7f7d00e92a20>"
      ]
     },
     "metadata": {},
     "output_type": "display_data"
    }
   ],
   "source": [
    "plot_diff(14);"
   ]
  },
  {
   "cell_type": "code",
   "execution_count": 85,
   "metadata": {
    "ExecuteTime": {
     "end_time": "2017-09-06T10:20:41.194689Z",
     "start_time": "2017-09-06T10:20:39.973608Z"
    }
   },
   "outputs": [
    {
     "data": {
      "image/png": "[encoded data removed]",
      "text/plain": [
       "<matplotlib.figure.Figure at 0x7f7d00584390>"
      ]
     },
     "metadata": {},
     "output_type": "display_data"
    }
   ],
   "source": [
    "plot_diff(15);"
   ]
  },
  {
   "cell_type": "code",
   "execution_count": 86,
   "metadata": {
    "ExecuteTime": {
     "end_time": "2017-09-06T10:20:43.548361Z",
     "start_time": "2017-09-06T10:20:42.195977Z"
    }
   },
   "outputs": [
    {
     "data": {
      "image/png": "[encoded data removed]",
      "text/plain": [
       "<matplotlib.figure.Figure at 0x7f7ce79fbac8>"
      ]
     },
     "metadata": {},
     "output_type": "display_data"
    }
   ],
   "source": [
    "plot_diff(16);"
   ]
  },
  {
   "cell_type": "code",
   "execution_count": 87,
   "metadata": {
    "ExecuteTime": {
     "end_time": "2017-09-06T10:20:45.607859Z",
     "start_time": "2017-09-06T10:20:44.409437Z"
    }
   },
   "outputs": [
    {
     "data": {
      "image/png": "[encoded data removed]",
      "text/plain": [
       "<matplotlib.figure.Figure at 0x7f7ce7b529b0>"
      ]
     },
     "metadata": {},
     "output_type": "display_data"
    }
   ],
   "source": [
    "plot_diff(17);"
   ]
  },
  {
   "cell_type": "code",
   "execution_count": 88,
   "metadata": {
    "ExecuteTime": {
     "end_time": "2017-09-06T10:20:48.315773Z",
     "start_time": "2017-09-06T10:20:47.118762Z"
    }
   },
   "outputs": [
    {
     "data": {
      "image/png": "[encoded data removed]",
      "text/plain": [
       "<matplotlib.figure.Figure at 0x7f7d01002390>"
      ]
     },
     "metadata": {},
     "output_type": "display_data"
    }
   ],
   "source": [
    "plot_diff(18);"
   ]
  },
  {
   "cell_type": "code",
   "execution_count": 89,
   "metadata": {
    "ExecuteTime": {
     "end_time": "2017-09-06T10:20:50.818690Z",
     "start_time": "2017-09-06T10:20:49.612964Z"
    }
   },
   "outputs": [
    {
     "data": {
      "image/png": "[encoded data removed]",
      "text/plain": [
       "<matplotlib.figure.Figure at 0x7f7ce7cfe358>"
      ]
     },
     "metadata": {},
     "output_type": "display_data"
    }
   ],
   "source": [
    "plot_diff(19);"
   ]
  },
  {
   "cell_type": "code",
   "execution_count": 90,
   "metadata": {
    "ExecuteTime": {
     "end_time": "2017-09-06T10:20:54.333413Z",
     "start_time": "2017-09-06T10:20:53.137677Z"
    }
   },
   "outputs": [
    {
     "data": {
      "image/png": "[encoded data removed]",
      "text/plain": [
       "<matplotlib.figure.Figure at 0x7f7d00097c88>"
      ]
     },
     "metadata": {},
     "output_type": "display_data"
    }
   ],
   "source": [
    "plot_diff(20);"
   ]
  },
  {
   "cell_type": "code",
   "execution_count": 91,
   "metadata": {
    "ExecuteTime": {
     "end_time": "2017-09-06T10:20:57.040797Z",
     "start_time": "2017-09-06T10:20:55.831930Z"
    }
   },
   "outputs": [
    {
     "data": {
      "image/png": "[encoded data removed]",
      "text/plain": [
       "<matplotlib.figure.Figure at 0x7f7d000a0d30>"
      ]
     },
     "metadata": {},
     "output_type": "display_data"
    }
   ],
   "source": [
    "plot_diff(21);"
   ]
  },
  {
   "cell_type": "code",
   "execution_count": 92,
   "metadata": {
    "ExecuteTime": {
     "end_time": "2017-09-06T10:21:00.632992Z",
     "start_time": "2017-09-06T10:20:59.272512Z"
    }
   },
   "outputs": [
    {
     "data": {
      "image/png": "[encoded data removed]",
      "text/plain": [
       "<matplotlib.figure.Figure at 0x7f7ce8571320>"
      ]
     },
     "metadata": {},
     "output_type": "display_data"
    }
   ],
   "source": [
    "plot_diff(22);"
   ]
  },
  {
   "cell_type": "code",
   "execution_count": 93,
   "metadata": {
    "ExecuteTime": {
     "end_time": "2017-09-06T10:21:04.382678Z",
     "start_time": "2017-09-06T10:21:03.178973Z"
    }
   },
   "outputs": [
    {
     "data": {
      "image/png": "[encoded data removed]",
      "text/plain": [
       "<matplotlib.figure.Figure at 0x7f7d00086f28>"
      ]
     },
     "metadata": {},
     "output_type": "display_data"
    }
   ],
   "source": [
    "plot_diff(23);"
   ]
  },
  {
   "cell_type": "code",
   "execution_count": 94,
   "metadata": {
    "ExecuteTime": {
     "end_time": "2017-09-06T10:21:06.611162Z",
     "start_time": "2017-09-06T10:21:05.403255Z"
    }
   },
   "outputs": [
    {
     "data": {
      "image/png": "[encoded data removed]",
      "text/plain": [
       "<matplotlib.figure.Figure at 0x7f7d00ece550>"
      ]
     },
     "metadata": {},
     "output_type": "display_data"
    }
   ],
   "source": [
    "plot_diff(24);"
   ]
  },
  {
   "cell_type": "code",
   "execution_count": 95,
   "metadata": {
    "ExecuteTime": {
     "end_time": "2017-09-06T10:21:08.795949Z",
     "start_time": "2017-09-06T10:21:07.581563Z"
    }
   },
   "outputs": [
    {
     "data": {
      "image/png": "[encoded data removed]",
      "text/plain": [
       "<matplotlib.figure.Figure at 0x7f7d00e4d208>"
      ]
     },
     "metadata": {},
     "output_type": "display_data"
    }
   ],
   "source": [
    "plot_diff(25);"
   ]
  },
  {
   "cell_type": "code",
   "execution_count": 96,
   "metadata": {
    "ExecuteTime": {
     "end_time": "2017-09-06T10:21:11.136634Z",
     "start_time": "2017-09-06T10:21:09.914093Z"
    }
   },
   "outputs": [
    {
     "data": {
      "image/png": "[encoded data removed]",
      "text/plain": [
       "<matplotlib.figure.Figure at 0x7f7d000d3c18>"
      ]
     },
     "metadata": {},
     "output_type": "display_data"
    }
   ],
   "source": [
    "plot_diff(26);"
   ]
  },
  {
   "cell_type": "code",
   "execution_count": 97,
   "metadata": {
    "ExecuteTime": {
     "end_time": "2017-09-06T10:21:13.926873Z",
     "start_time": "2017-09-06T10:21:12.730365Z"
    }
   },
   "outputs": [
    {
     "data": {
      "image/png": "[encoded data removed]",
      "text/plain": [
       "<matplotlib.figure.Figure at 0x7f7d00596a58>"
      ]
     },
     "metadata": {},
     "output_type": "display_data"
    }
   ],
   "source": [
    "plot_diff(27);"
   ]
  },
  {
   "cell_type": "code",
   "execution_count": 98,
   "metadata": {
    "ExecuteTime": {
     "end_time": "2017-09-06T10:21:18.084351Z",
     "start_time": "2017-09-06T10:21:16.727458Z"
    }
   },
   "outputs": [
    {
     "data": {
      "image/png": "[encoded data removed]",
      "text/plain": [
       "<matplotlib.figure.Figure at 0x7f7ce7a27400>"
      ]
     },
     "metadata": {},
     "output_type": "display_data"
    }
   ],
   "source": [
    "plot_diff(28);"
   ]
  },
  {
   "cell_type": "code",
   "execution_count": 99,
   "metadata": {
    "ExecuteTime": {
     "end_time": "2017-09-06T10:21:20.848513Z",
     "start_time": "2017-09-06T10:21:19.621472Z"
    }
   },
   "outputs": [
    {
     "data": {
      "image/png": "[encoded data removed]",
      "text/plain": [
       "<matplotlib.figure.Figure at 0x7f7ce7d98278>"
      ]
     },
     "metadata": {},
     "output_type": "display_data"
    }
   ],
   "source": [
    "plot_diff(29);"
   ]
  },
  {
   "cell_type": "code",
   "execution_count": 100,
   "metadata": {
    "ExecuteTime": {
     "end_time": "2017-09-06T10:21:24.194624Z",
     "start_time": "2017-09-06T10:21:22.889913Z"
    }
   },
   "outputs": [
    {
     "data": {
      "image/png": "[encoded data removed]",
      "text/plain": [
       "<matplotlib.figure.Figure at 0x7f7d00f5acf8>"
      ]
     },
     "metadata": {},
     "output_type": "display_data"
    }
   ],
   "source": [
    "plot_diff(30);"
   ]
  },
  {
   "cell_type": "code",
   "execution_count": 101,
   "metadata": {
    "ExecuteTime": {
     "end_time": "2017-09-06T10:21:27.090554Z",
     "start_time": "2017-09-06T10:21:25.880962Z"
    }
   },
   "outputs": [
    {
     "data": {
      "image/png": "[encoded data removed]",
      "text/plain": [
       "<matplotlib.figure.Figure at 0x7f7d00f4eb70>"
      ]
     },
     "metadata": {},
     "output_type": "display_data"
    }
   ],
   "source": [
    "plot_diff(31);"
   ]
  },
  {
   "cell_type": "code",
   "execution_count": null,
   "metadata": {
    "collapsed": true
   },
   "outputs": [],
   "source": []
  }
 ],
 "metadata": {
  "anaconda-cloud": {},
  "kernelspec": {
   "display_name": "Python 3",
   "language": "python",
   "name": "python3"
  },
  "language_info": {
   "codemirror_mode": {
    "name": "ipython",
    "version": 3
   },
   "file_extension": ".py",
   "mimetype": "text/x-python",
   "name": "python",
   "nbconvert_exporter": "python",
   "pygments_lexer": "ipython3",
   "version": "3.6.1"
  },
  "toc": {
   "nav_menu": {},
   "number_sections": true,
   "sideBar": true,
   "skip_h1_title": false,
   "toc_cell": false,
   "toc_position": {
    "height": "857px",
    "left": "0px",
    "right": "1706px",
    "top": "106px",
    "width": "212px"
   },
   "toc_section_display": "block",
   "toc_window_display": true
  },
  "varInspector": {
   "cols": {
    "lenName": 16,
    "lenType": 16,
    "lenVar": 40
   },
   "kernels_config": {
    "python": {
     "delete_cmd_postfix": "",
     "delete_cmd_prefix": "del ",
     "library": "var_list.py",
     "varRefreshCmd": "print(var_dic_list())"
    },
    "r": {
     "delete_cmd_postfix": ") ",
     "delete_cmd_prefix": "rm(",
     "library": "var_list.r",
     "varRefreshCmd": "cat(var_dic_list()) "
    }
   },
   "types_to_exclude": [
    "module",
    "function",
    "builtin_function_or_method",
    "instance",
    "_Feature"
   ],
   "window_display": false
  }
 },
 "nbformat": 4,
 "nbformat_minor": 2
}
