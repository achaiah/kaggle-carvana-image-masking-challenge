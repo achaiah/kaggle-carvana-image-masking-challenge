{
 "cells": [
  {
   "cell_type": "markdown",
   "metadata": {
    "toc": "true"
   },
   "source": [
    " # Table of Contents\n",
    "<div class=\"toc\" style=\"margin-top: 1em;\"><ul class=\"toc-item\" id=\"toc-level0\"><li><span><a href=\"http://localhost:8889/notebooks/19-full-res-model-all-angles-vertical-cut-no-bbox.ipynb#Load-libraries\" data-toc-modified-id=\"Load-libraries-1\"><span class=\"toc-item-num\">1&nbsp;&nbsp;</span>Load libraries</a></span></li><li><span><a href=\"http://localhost:8889/notebooks/19-full-res-model-all-angles-vertical-cut-no-bbox.ipynb#Define-loss-functions\" data-toc-modified-id=\"Define-loss-functions-2\"><span class=\"toc-item-num\">2&nbsp;&nbsp;</span>Define loss functions</a></span></li><li><span><a href=\"http://localhost:8889/notebooks/19-full-res-model-all-angles-vertical-cut-no-bbox.ipynb#Define-models\" data-toc-modified-id=\"Define-models-3\"><span class=\"toc-item-num\">3&nbsp;&nbsp;</span>Define models</a></span></li><li><span><a href=\"http://localhost:8889/notebooks/19-full-res-model-all-angles-vertical-cut-no-bbox.ipynb#Training\" data-toc-modified-id=\"Training-4\"><span class=\"toc-item-num\">4&nbsp;&nbsp;</span>Training</a></span><ul class=\"toc-item\"><li><span><a href=\"http://localhost:8889/notebooks/19-full-res-model-all-angles-vertical-cut-no-bbox.ipynb#Functions,-generators-and-data\" data-toc-modified-id=\"Functions,-generators-and-data-4.1\"><span class=\"toc-item-num\">4.1&nbsp;&nbsp;</span>Functions, generators and data</a></span></li><li><span><a href=\"http://localhost:8889/notebooks/19-full-res-model-all-angles-vertical-cut-no-bbox.ipynb#Training\" data-toc-modified-id=\"Training-4.2\"><span class=\"toc-item-num\">4.2&nbsp;&nbsp;</span>Training</a></span></li></ul></li><li><span><a href=\"http://localhost:8889/notebooks/19-full-res-model-all-angles-vertical-cut-no-bbox.ipynb#Predictions\" data-toc-modified-id=\"Predictions-5\"><span class=\"toc-item-num\">5&nbsp;&nbsp;</span>Predictions</a></span></li><li><span><a href=\"http://localhost:8889/notebooks/19-full-res-model-all-angles-vertical-cut-no-bbox.ipynb#Submission\" data-toc-modified-id=\"Submission-6\"><span class=\"toc-item-num\">6&nbsp;&nbsp;</span>Submission</a></span></li><li><span><a href=\"http://localhost:8889/notebooks/19-full-res-model-all-angles-vertical-cut-no-bbox.ipynb#Pseudo-labeling\" data-toc-modified-id=\"Pseudo-labeling-7\"><span class=\"toc-item-num\">7&nbsp;&nbsp;</span>Pseudo labeling</a></span></li></ul></div>"
   ]
  },
  {
   "cell_type": "markdown",
   "metadata": {},
   "source": [
    "# Load libraries"
   ]
  },
  {
   "cell_type": "code",
   "execution_count": 1,
   "metadata": {
    "ExecuteTime": {
     "end_time": "2017-09-22T12:00:32.025020Z",
     "start_time": "2017-09-22T11:59:57.143083Z"
    }
   },
   "outputs": [
    {
     "name": "stderr",
     "output_type": "stream",
     "text": [
      "Using TensorFlow backend.\n"
     ]
    }
   ],
   "source": [
    "import cv2\n",
    "import numpy as np\n",
    "import pandas as pd\n",
    "\n",
    "from keras.callbacks import EarlyStopping, ReduceLROnPlateau, ModelCheckpoint, TensorBoard\n",
    "from keras.models import Model\n",
    "from keras.layers import Input, concatenate, Conv2D, MaxPooling2D, Activation, UpSampling2D, BatchNormalization\n",
    "from keras.optimizers import RMSprop\n",
    "from keras.losses import binary_crossentropy\n",
    "import keras.backend as K\n",
    "\n",
    "from sklearn.model_selection import train_test_split"
   ]
  },
  {
   "cell_type": "code",
   "execution_count": 2,
   "metadata": {
    "ExecuteTime": {
     "end_time": "2017-09-22T12:00:32.845466Z",
     "start_time": "2017-09-22T12:00:32.026954Z"
    },
    "collapsed": true
   },
   "outputs": [],
   "source": [
    "import math\n",
    "import random\n",
    "import gzip\n",
    "import pickle\n",
    "import matplotlib.pyplot as plt\n",
    "%matplotlib inline"
   ]
  },
  {
   "cell_type": "markdown",
   "metadata": {},
   "source": [
    "# Define loss functions"
   ]
  },
  {
   "cell_type": "code",
   "execution_count": 3,
   "metadata": {
    "ExecuteTime": {
     "end_time": "2017-09-22T12:00:32.855857Z",
     "start_time": "2017-09-22T12:00:32.847064Z"
    },
    "collapsed": true
   },
   "outputs": [],
   "source": [
    "def dice_coeff(y_true, y_pred):\n",
    "    smooth = 1.\n",
    "    y_true_f = K.flatten(y_true)\n",
    "    y_pred_f = K.flatten(y_pred)\n",
    "    intersection = K.sum(y_true_f * y_pred_f)\n",
    "    score = (2. * intersection + smooth) / (K.sum(y_true_f) + K.sum(y_pred_f) + smooth)\n",
    "    return score\n",
    "\n",
    "\n",
    "def dice_loss(y_true, y_pred):\n",
    "    loss = 1 - dice_coeff(y_true, y_pred)\n",
    "    return loss\n",
    "\n",
    "\n",
    "def bce_dice_loss(y_true, y_pred):\n",
    "    loss = binary_crossentropy(y_true, y_pred) + dice_loss(y_true, y_pred)\n",
    "    return loss"
   ]
  },
  {
   "cell_type": "markdown",
   "metadata": {},
   "source": [
    "# Define models"
   ]
  },
  {
   "cell_type": "code",
   "execution_count": 4,
   "metadata": {
    "ExecuteTime": {
     "end_time": "2017-09-22T12:00:32.872945Z",
     "start_time": "2017-09-22T12:00:32.857289Z"
    },
    "collapsed": true
   },
   "outputs": [],
   "source": [
    "def unet_down_one_block(inputs, num_filters):\n",
    "    x = Conv2D(num_filters, (3, 3), padding='same')(inputs)\n",
    "    x = BatchNormalization()(x)\n",
    "    x = Activation('relu')(x)\n",
    "    x = Conv2D(num_filters, (3, 3), padding='same')(x)\n",
    "    x = BatchNormalization()(x)\n",
    "    x = Activation('relu')(x)\n",
    "    return x"
   ]
  },
  {
   "cell_type": "code",
   "execution_count": 5,
   "metadata": {
    "ExecuteTime": {
     "end_time": "2017-09-22T12:00:32.905419Z",
     "start_time": "2017-09-22T12:00:32.874571Z"
    },
    "collapsed": true
   },
   "outputs": [],
   "source": [
    "def unet_max_pool(inputs):\n",
    "    x = MaxPooling2D((2, 2), strides=(2, 2))(inputs)\n",
    "    return x"
   ]
  },
  {
   "cell_type": "code",
   "execution_count": 6,
   "metadata": {
    "ExecuteTime": {
     "end_time": "2017-09-22T12:00:32.973914Z",
     "start_time": "2017-09-22T12:00:32.907134Z"
    },
    "collapsed": true
   },
   "outputs": [],
   "source": [
    "def unet_up_one_block(up_input, down_input, num_filters):\n",
    "    x = UpSampling2D((2,2))(up_input)\n",
    "    x = concatenate([down_input, x], axis=3)\n",
    "    x = Conv2D(num_filters, (3,3), padding='same')(x)\n",
    "    x = BatchNormalization()(x)\n",
    "    x = Activation('relu')(x)\n",
    "    x = Conv2D(num_filters, (3,3), padding='same')(x)\n",
    "    x = BatchNormalization()(x)\n",
    "    x = Activation('relu')(x)\n",
    "    x = Conv2D(num_filters, (3,3), padding='same')(x)\n",
    "    x = BatchNormalization()(x)\n",
    "    x = Activation('relu')(x)\n",
    "    return x"
   ]
  },
  {
   "cell_type": "code",
   "execution_count": 7,
   "metadata": {
    "ExecuteTime": {
     "end_time": "2017-09-22T12:00:32.992725Z",
     "start_time": "2017-09-22T12:00:32.975534Z"
    },
    "collapsed": true
   },
   "outputs": [],
   "source": [
    "def get_unet(input_shape = (256, 256, 3),\n",
    "             num_classes = 1,\n",
    "             initial_filters = 32,\n",
    "             central_filters = 1024):\n",
    "    \n",
    "    num_filters = initial_filters\n",
    "    \n",
    "    out_list    = [Input(shape=input_shape)]\n",
    "    down_interim_list = []\n",
    "    \n",
    "    while num_filters <= central_filters/2:\n",
    "        x = unet_down_one_block(out_list[-1], num_filters)\n",
    "        down_interim_list.append(x)\n",
    "        num_filters = num_filters * 2\n",
    "        y = unet_max_pool(x)\n",
    "        out_list.append(y)\n",
    "    \n",
    "    x = unet_down_one_block(out_list[-1], num_filters)\n",
    "    out_list.append(x)\n",
    "    num_filters = int(num_filters / 2)\n",
    "    \n",
    "    while num_filters >= initial_filters:\n",
    "        x = unet_up_one_block(out_list[-1], down_interim_list.pop(), num_filters)\n",
    "        out_list.append(x)\n",
    "        num_filters = int(num_filters / 2)\n",
    "    \n",
    "    classify = Conv2D(num_classes, (1,1), activation = 'sigmoid')(out_list[-1])\n",
    "    \n",
    "    model = Model(inputs=out_list[0], outputs=classify)\n",
    "    \n",
    "    return model"
   ]
  },
  {
   "cell_type": "code",
   "execution_count": 8,
   "metadata": {
    "ExecuteTime": {
     "end_time": "2017-09-22T12:00:34.930435Z",
     "start_time": "2017-09-22T12:00:32.994103Z"
    },
    "collapsed": true,
    "scrolled": true
   },
   "outputs": [],
   "source": [
    "model = get_unet(input_shape=(1280,1024,3), initial_filters=8)"
   ]
  },
  {
   "cell_type": "code",
   "execution_count": 9,
   "metadata": {
    "ExecuteTime": {
     "end_time": "2017-09-22T09:45:39.645553Z",
     "start_time": "2017-09-22T09:45:37.668723Z"
    },
    "collapsed": true
   },
   "outputs": [],
   "source": [
    "model.load_weights('./weights/best_weights_fullres3.hdf5')"
   ]
  },
  {
   "cell_type": "markdown",
   "metadata": {},
   "source": [
    "# Training"
   ]
  },
  {
   "cell_type": "markdown",
   "metadata": {},
   "source": [
    "## Functions, generators and data"
   ]
  },
  {
   "cell_type": "code",
   "execution_count": 9,
   "metadata": {
    "ExecuteTime": {
     "end_time": "2017-09-22T12:00:35.591711Z",
     "start_time": "2017-09-22T12:00:34.932139Z"
    },
    "collapsed": true
   },
   "outputs": [],
   "source": [
    "df_train = pd.read_csv('data/train_masks.csv')"
   ]
  },
  {
   "cell_type": "code",
   "execution_count": 10,
   "metadata": {
    "ExecuteTime": {
     "end_time": "2017-09-22T12:00:35.620909Z",
     "start_time": "2017-09-22T12:00:35.593257Z"
    },
    "collapsed": true
   },
   "outputs": [],
   "source": [
    "ids_train = df_train['img'].map(lambda s: s.split('.')[0])"
   ]
  },
  {
   "cell_type": "code",
   "execution_count": 11,
   "metadata": {
    "ExecuteTime": {
     "end_time": "2017-09-22T12:00:35.643703Z",
     "start_time": "2017-09-22T12:00:35.622395Z"
    },
    "collapsed": true
   },
   "outputs": [],
   "source": [
    "ids_train_split, ids_valid_split = train_test_split(ids_train, test_size=0.2, random_state=42)"
   ]
  },
  {
   "cell_type": "code",
   "execution_count": 12,
   "metadata": {
    "ExecuteTime": {
     "end_time": "2017-09-22T12:00:35.648340Z",
     "start_time": "2017-09-22T12:00:35.645242Z"
    },
    "collapsed": true
   },
   "outputs": [],
   "source": [
    "ids_train_split = list(ids_train_split)\n",
    "ids_valid_split = list(ids_valid_split)"
   ]
  },
  {
   "cell_type": "code",
   "execution_count": 13,
   "metadata": {
    "ExecuteTime": {
     "end_time": "2017-09-22T12:00:35.662166Z",
     "start_time": "2017-09-22T12:00:35.649784Z"
    },
    "collapsed": true
   },
   "outputs": [],
   "source": [
    "def randomHueSaturationValue(image, hue_shift_limit=(-180, 180),\n",
    "                             sat_shift_limit=(-255, 255),\n",
    "                             val_shift_limit=(-255, 255), u=0.5):\n",
    "    if np.random.random() < u:\n",
    "        image = cv2.cvtColor(image, cv2.COLOR_BGR2HSV)\n",
    "        h, s, v = cv2.split(image)\n",
    "        hue_shift = np.random.uniform(hue_shift_limit[0], hue_shift_limit[1])\n",
    "        h = cv2.add(h, hue_shift)\n",
    "        sat_shift = np.random.uniform(sat_shift_limit[0], sat_shift_limit[1])\n",
    "        s = cv2.add(s, sat_shift)\n",
    "        val_shift = np.random.uniform(val_shift_limit[0], val_shift_limit[1])\n",
    "        v = cv2.add(v, val_shift)\n",
    "        image = cv2.merge((h, s, v))\n",
    "        image = cv2.cvtColor(image, cv2.COLOR_HSV2BGR)\n",
    "\n",
    "    return image"
   ]
  },
  {
   "cell_type": "code",
   "execution_count": 14,
   "metadata": {
    "ExecuteTime": {
     "end_time": "2017-09-22T12:00:35.694262Z",
     "start_time": "2017-09-22T12:00:35.663762Z"
    },
    "collapsed": true
   },
   "outputs": [],
   "source": [
    "def randomShiftScaleRotate(image, mask,\n",
    "                           shift_limit=(-0.0625, 0.0625),\n",
    "                           scale_limit=(-0.1, 0.1),\n",
    "                           rotate_limit=(-45, 45), aspect_limit=(0, 0),\n",
    "                           borderMode=cv2.BORDER_CONSTANT, u=0.5):\n",
    "    if np.random.random() < u:\n",
    "        height, width, channel = image.shape\n",
    "\n",
    "        angle = np.random.uniform(rotate_limit[0], rotate_limit[1])  # degree\n",
    "        scale = np.random.uniform(1 + scale_limit[0], 1 + scale_limit[1])\n",
    "        aspect = np.random.uniform(1 + aspect_limit[0], 1 + aspect_limit[1])\n",
    "        sx = scale * aspect / (aspect ** 0.5)\n",
    "        sy = scale / (aspect ** 0.5)\n",
    "        dx = round(np.random.uniform(shift_limit[0], shift_limit[1]) * width)\n",
    "        dy = round(np.random.uniform(shift_limit[0], shift_limit[1]) * height)\n",
    "\n",
    "        cc = np.math.cos(angle / 180 * np.math.pi) * sx\n",
    "        ss = np.math.sin(angle / 180 * np.math.pi) * sy\n",
    "        rotate_matrix = np.array([[cc, -ss], [ss, cc]])\n",
    "\n",
    "        box0 = np.array([[0, 0], [width, 0], [width, height], [0, height], ])\n",
    "        box1 = box0 - np.array([width / 2, height / 2])\n",
    "        box1 = np.dot(box1, rotate_matrix.T) + np.array([width / 2 + dx, height / 2 + dy])\n",
    "\n",
    "        box0 = box0.astype(np.float32)\n",
    "        box1 = box1.astype(np.float32)\n",
    "        mat = cv2.getPerspectiveTransform(box0, box1)\n",
    "        image = cv2.warpPerspective(image, mat, (width, height), flags=cv2.INTER_LINEAR, borderMode=borderMode,\n",
    "                                    borderValue=(\n",
    "                                        0, 0,\n",
    "                                        0,))\n",
    "        mask = cv2.warpPerspective(mask, mat, (width, height), flags=cv2.INTER_LINEAR, borderMode=borderMode,\n",
    "                                   borderValue=(\n",
    "                                       0, 0,\n",
    "                                       0,))\n",
    "\n",
    "    return image, mask\n"
   ]
  },
  {
   "cell_type": "code",
   "execution_count": 15,
   "metadata": {
    "ExecuteTime": {
     "end_time": "2017-09-22T12:00:35.699847Z",
     "start_time": "2017-09-22T12:00:35.695686Z"
    },
    "collapsed": true
   },
   "outputs": [],
   "source": [
    "def randomHorizontalFlip(image, mask, u=0.5):\n",
    "    if np.random.random() < u:\n",
    "        image = cv2.flip(image, 1)\n",
    "        mask = cv2.flip(mask, 1)\n",
    "\n",
    "    return image, mask\n"
   ]
  },
  {
   "cell_type": "code",
   "execution_count": 16,
   "metadata": {
    "ExecuteTime": {
     "end_time": "2017-09-22T12:00:35.724924Z",
     "start_time": "2017-09-22T12:00:35.701452Z"
    },
    "collapsed": true
   },
   "outputs": [],
   "source": [
    "def train_generator(train_batch_size):\n",
    "    while True:\n",
    "        this_ids_train_split = random.sample(ids_train_split, len(ids_train_split))\n",
    "        for start in range(0, len(ids_train_split), train_batch_size):\n",
    "            x_batch = []\n",
    "            y_batch = []\n",
    "            end = min(start + train_batch_size, len(ids_train_split))\n",
    "            ids_train_batch = this_ids_train_split[start:end]\n",
    "            for id in ids_train_batch:\n",
    "                img  = cv2.imread('data/train/{}.jpg'.format(id))\n",
    "                mask = cv2.imread('data/train_masks/{}_mask.png'.format(id), cv2.IMREAD_GRAYSCALE)\n",
    "                \n",
    "                img1  = np.copy(img[:, 0:1024, :])\n",
    "                mask1 = np.copy(mask[:, 0:1024])\n",
    "                mask1 = np.expand_dims(mask1, axis=2)\n",
    "                \n",
    "                img2  = np.copy(img[:, 894:, :])\n",
    "                mask2 = np.copy(mask[:, 894:])\n",
    "                mask2 = np.expand_dims(mask2, axis=2)\n",
    "                \n",
    "                                \n",
    "                x_batch.append(img1)\n",
    "                y_batch.append(mask1)\n",
    "                x_batch.append(img2)\n",
    "                y_batch.append(mask2)\n",
    "                \n",
    "            x_batch = np.array(x_batch, np.float32) / 255\n",
    "            y_batch = np.array(y_batch, np.float32) / 255\n",
    "            yield x_batch, y_batch"
   ]
  },
  {
   "cell_type": "code",
   "execution_count": 17,
   "metadata": {
    "ExecuteTime": {
     "end_time": "2017-09-22T12:00:35.749693Z",
     "start_time": "2017-09-22T12:00:35.726445Z"
    },
    "collapsed": true
   },
   "outputs": [],
   "source": [
    "def valid_generator(val_batch_size):\n",
    "    while True:\n",
    "        for start in range(0, len(ids_valid_split), val_batch_size):\n",
    "            \n",
    "            x_batch = []\n",
    "            y_batch = []\n",
    "            \n",
    "            end = min(start + val_batch_size, len(ids_valid_split))\n",
    "            ids_valid_batch = ids_valid_split[start:end]\n",
    "            for id in ids_valid_batch:\n",
    "                img  = cv2.imread('data/train/{}.jpg'.format(id))\n",
    "                mask = cv2.imread('data/train_masks/{}_mask.png'.format(id), cv2.IMREAD_GRAYSCALE)\n",
    "                \n",
    "                img1  = np.copy(img[:, 0:1024, :])\n",
    "                mask1 = np.copy(mask[:, 0:1024])\n",
    "                mask1 = np.expand_dims(mask1, axis=2)\n",
    "                \n",
    "                img2  = np.copy(img[:, 894:, :])\n",
    "                img2  = cv2.flip(img2, 1)\n",
    "                mask2 = np.copy(mask[:, 894:])\n",
    "                mask2  = cv2.flip(mask2, 1)\n",
    "                mask2 = np.expand_dims(mask2, axis=2)\n",
    "                \n",
    "                \n",
    "                                \n",
    "                x_batch.append(img1)\n",
    "                y_batch.append(mask1)\n",
    "                x_batch.append(img2)\n",
    "                y_batch.append(mask2)\n",
    "            \n",
    "            x_batch = np.array(x_batch, np.float32) / 255\n",
    "            y_batch = np.array(y_batch, np.float32) / 255\n",
    "            yield x_batch, y_batch"
   ]
  },
  {
   "cell_type": "markdown",
   "metadata": {},
   "source": [
    "## Training"
   ]
  },
  {
   "cell_type": "code",
   "execution_count": 18,
   "metadata": {
    "ExecuteTime": {
     "end_time": "2017-09-22T12:00:41.333921Z",
     "start_time": "2017-09-22T12:00:41.279267Z"
    },
    "collapsed": true
   },
   "outputs": [],
   "source": [
    "model.compile(optimizer=RMSprop(lr=0.00001), loss=bce_dice_loss, metrics=[dice_coeff])"
   ]
  },
  {
   "cell_type": "code",
   "execution_count": 21,
   "metadata": {
    "ExecuteTime": {
     "end_time": "2017-09-22T12:02:35.886930Z",
     "start_time": "2017-09-22T12:02:35.884172Z"
    },
    "collapsed": true
   },
   "outputs": [],
   "source": [
    "train_batch_size = 3\n",
    "val_batch_size   = 14"
   ]
  },
  {
   "cell_type": "code",
   "execution_count": 24,
   "metadata": {
    "ExecuteTime": {
     "end_time": "2017-09-22T09:48:05.366429Z",
     "start_time": "2017-09-22T09:48:05.363668Z"
    },
    "collapsed": true
   },
   "outputs": [],
   "source": [
    "max_epochs = 50"
   ]
  },
  {
   "cell_type": "code",
   "execution_count": null,
   "metadata": {
    "ExecuteTime": {
     "start_time": "2017-09-20T06:41:14.500Z"
    },
    "collapsed": true
   },
   "outputs": [
    {
     "name": "stdout",
     "output_type": "stream",
     "text": [
      "Epoch 1/50\n",
      "6114s - loss: 0.0082 - dice_coeff: 0.9960 - val_loss: 0.0070 - val_dice_coeff: 0.9966\n",
      "Epoch 2/50\n",
      "6102s - loss: 0.0070 - dice_coeff: 0.9965 - val_loss: 0.0069 - val_dice_coeff: 0.9966\n",
      "Epoch 3/50\n",
      "6100s - loss: 0.0068 - dice_coeff: 0.9966 - val_loss: 0.0069 - val_dice_coeff: 0.9966\n",
      "Epoch 4/50\n",
      "6103s - loss: 0.0066 - dice_coeff: 0.9967 - val_loss: 0.0070 - val_dice_coeff: 0.9967\n",
      "Epoch 5/50\n",
      "\n",
      "Epoch 00004: reducing learning rate to 9.999999747378752e-07.\n",
      "6103s - loss: 0.0065 - dice_coeff: 0.9967 - val_loss: 0.0070 - val_dice_coeff: 0.9967\n",
      "Epoch 6/50\n",
      "6103s - loss: 0.0064 - dice_coeff: 0.9968 - val_loss: 0.0070 - val_dice_coeff: 0.9967\n",
      "Epoch 7/50\n"
     ]
    }
   ],
   "source": [
    "callbacks = [EarlyStopping(monitor='val_loss',\n",
    "                           patience=5,\n",
    "                           verbose=1,\n",
    "                           min_delta=1e-4),\n",
    "             ReduceLROnPlateau(monitor='val_loss',\n",
    "                               factor=0.1,\n",
    "                               patience=3,\n",
    "                               verbose=1,\n",
    "                               epsilon=1e-4),\n",
    "             ModelCheckpoint(monitor='val_loss',\n",
    "                             filepath='weights/vert_cut.hdf5',\n",
    "                             save_best_only=True,\n",
    "                             save_weights_only=True)]\n",
    "\n",
    "history = model.fit_generator(generator=train_generator(train_batch_size),\n",
    "                    steps_per_epoch=np.ceil(float(len(ids_train_split)) / float(train_batch_size)),\n",
    "                    epochs=max_epochs,\n",
    "                    verbose=2,\n",
    "                    callbacks=callbacks,\n",
    "                    validation_data=valid_generator(val_batch_size),\n",
    "                    validation_steps=np.ceil(float(len(ids_valid_split)) / float(val_batch_size)))"
   ]
  },
  {
   "cell_type": "code",
   "execution_count": 24,
   "metadata": {
    "ExecuteTime": {
     "end_time": "2017-09-20T18:56:55.853174Z",
     "start_time": "2017-09-20T18:56:55.847828Z"
    },
    "collapsed": true
   },
   "outputs": [
    {
     "data": {
      "text/plain": [
       "{'dice_coeff': [0.99603525543681526,\n",
       "  0.99647758402461206,\n",
       "  0.99658491189708287,\n",
       "  0.99665644606735548,\n",
       "  0.99671114847173858,\n",
       "  0.99676973608846453,\n",
       "  0.99678086127344456],\n",
       " 'loss': [0.0081820934557834193,\n",
       "  0.0070288436005637965,\n",
       "  0.0067969139107029323,\n",
       "  0.006637973234135227,\n",
       "  0.0065236063519634614,\n",
       "  0.00638288456479806,\n",
       "  0.0063702560160354841],\n",
       " 'lr': [9.9999997e-06,\n",
       "  9.9999997e-06,\n",
       "  9.9999997e-06,\n",
       "  9.9999997e-06,\n",
       "  9.9999997e-06,\n",
       "  1e-06,\n",
       "  1e-06],\n",
       " 'val_dice_coeff': [0.99660705103152858,\n",
       "  0.99661869337610276,\n",
       "  0.99663953614843848,\n",
       "  0.99665215804675245,\n",
       "  0.99665063888947014,\n",
       "  0.99667020654397298,\n",
       "  0.99667184081199356],\n",
       " 'val_loss': [0.0069629980556754675,\n",
       "  0.0069488836013234436,\n",
       "  0.0069492766633629799,\n",
       "  0.0069629664190684415,\n",
       "  0.0069845532815471616,\n",
       "  0.0069705218164532031,\n",
       "  0.0069775205793514237]}"
      ]
     },
     "execution_count": 24,
     "metadata": {},
     "output_type": "execute_result"
    }
   ],
   "source": [
    "history.history"
   ]
  },
  {
   "cell_type": "markdown",
   "metadata": {},
   "source": [
    "# Predictions"
   ]
  },
  {
   "cell_type": "code",
   "execution_count": 20,
   "metadata": {
    "ExecuteTime": {
     "end_time": "2017-09-20T20:11:48.826904Z",
     "start_time": "2017-09-20T20:11:47.450788Z"
    },
    "collapsed": true
   },
   "outputs": [],
   "source": [
    "model.load_weights('weights/vert_cut.hdf5')"
   ]
  },
  {
   "cell_type": "code",
   "execution_count": 21,
   "metadata": {
    "ExecuteTime": {
     "end_time": "2017-09-20T20:17:53.020554Z",
     "start_time": "2017-09-20T20:11:48.828497Z"
    }
   },
   "outputs": [
    {
     "data": {
      "text/plain": [
       "[0.0069489043145596046, 0.99661867264914372]"
      ]
     },
     "execution_count": 21,
     "metadata": {},
     "output_type": "execute_result"
    }
   ],
   "source": [
    "model.evaluate_generator(valid_generator(val_batch_size), np.ceil(float(len(ids_valid_split)) / float(val_batch_size)))"
   ]
  },
  {
   "cell_type": "code",
   "execution_count": 25,
   "metadata": {
    "ExecuteTime": {
     "end_time": "2017-09-21T09:09:59.249236Z",
     "start_time": "2017-09-21T09:09:59.133798Z"
    },
    "collapsed": true
   },
   "outputs": [],
   "source": [
    "from tqdm import tqdm"
   ]
  },
  {
   "cell_type": "code",
   "execution_count": 41,
   "metadata": {
    "ExecuteTime": {
     "end_time": "2017-09-22T09:53:45.248680Z",
     "start_time": "2017-09-22T09:53:44.762943Z"
    },
    "collapsed": true
   },
   "outputs": [],
   "source": [
    "df_test = pd.read_csv('data/sample_submission.csv')\n",
    "ids_test = df_test['img'].map(lambda s: s.split('.')[0])"
   ]
  },
  {
   "cell_type": "code",
   "execution_count": 24,
   "metadata": {
    "ExecuteTime": {
     "end_time": "2017-09-20T20:18:16.675516Z",
     "start_time": "2017-09-20T20:18:16.621223Z"
    },
    "collapsed": true
   },
   "outputs": [],
   "source": [
    "names = []\n",
    "for id in ids_test:\n",
    "    names.append('{}.jpg'.format(id))"
   ]
  },
  {
   "cell_type": "code",
   "execution_count": 25,
   "metadata": {
    "ExecuteTime": {
     "end_time": "2017-09-20T20:18:17.103393Z",
     "start_time": "2017-09-20T20:18:17.095253Z"
    },
    "collapsed": true
   },
   "outputs": [],
   "source": [
    "# https://www.kaggle.com/stainsby/fast-tested-rle\n",
    "def run_length_encode(mask):\n",
    "    '''\n",
    "    img: numpy array, 1 - mask, 0 - background\n",
    "    Returns run length as string formated\n",
    "    '''\n",
    "    inds = mask.flatten()\n",
    "    runs = np.where(inds[1:] != inds[:-1])[0] + 2\n",
    "    runs[1::2] = runs[1::2] - runs[:-1:2]\n",
    "    rle = ' '.join([str(r) for r in runs])\n",
    "    return rle"
   ]
  },
  {
   "cell_type": "code",
   "execution_count": 43,
   "metadata": {
    "ExecuteTime": {
     "end_time": "2017-09-22T09:55:08.711278Z",
     "start_time": "2017-09-22T09:55:06.902337Z"
    },
    "collapsed": true
   },
   "outputs": [],
   "source": [
    "import bcolz\n",
    "def save_array(fname, arr):\n",
    "    c=bcolz.carray(arr, rootdir=fname, mode='w')\n",
    "    c.flush()\n",
    "\n",
    "def load_array(fname):\n",
    "    return bcolz.open(fname)[:]"
   ]
  },
  {
   "cell_type": "code",
   "execution_count": 27,
   "metadata": {
    "ExecuteTime": {
     "end_time": "2017-09-20T20:18:18.977301Z",
     "start_time": "2017-09-20T20:18:18.944271Z"
    },
    "collapsed": true
   },
   "outputs": [],
   "source": [
    "def save_test_predictions(ids_test, fname):\n",
    "    val_batch_size=12\n",
    "    all_preds=[]\n",
    "    for start in range(0, len(ids_test), val_batch_size):\n",
    "        x_batch = []\n",
    "        end = min(start + val_batch_size, len(ids_test))\n",
    "        ids_test_batch = ids_test[start:end]\n",
    "        for id in ids_test_batch.values:\n",
    "            img = cv2.imread('data/test/{}.jpg'.format(id))\n",
    "            img1  = np.copy(img[:, 0:1024, :])\n",
    "            img2  = np.copy(img[:, 894:, :])\n",
    "            img2  = cv2.flip(img2, 1)\n",
    "            x_batch.append(img1)\n",
    "            x_batch.append(img2)\n",
    "        x_batch = np.array(x_batch, np.float32) / 255\n",
    "        preds = model.predict_on_batch(x_batch)\n",
    "        preds = np.squeeze(preds, axis=3)\n",
    "        \n",
    "        final_preds = []\n",
    "        for i in range(len(ids_test_batch.values)):\n",
    "            pred_1 = np.copy(preds[(i*2), :, :])\n",
    "            pred_2 = np.copy(preds[(i*2) + 1, :, :])\n",
    "            pred_2 = cv2.flip(pred_2, 1)\n",
    "            \n",
    "            left_part   = np.copy(pred_1[:, 0:894])\n",
    "            middle_1    = np.copy(pred_1[:, 894:1024])\n",
    "            middle_2    = np.copy(pred_2[:, 0:130])\n",
    "            middle_part = np.add(middle_1, middle_2)/2\n",
    "            right_part  = np.copy(pred_2[:, 130:1024])\n",
    "            all_parts   = np.concatenate((left_part, middle_part, right_part), axis=1)\n",
    "            \n",
    "            final_preds.append(all_parts*100)\n",
    "        final_preds = np.array(final_preds, np.uint8)\n",
    "        all_preds.append(final_preds)\n",
    "    all_preds = np.concatenate(all_preds, axis=0)\n",
    "    save_array(fname, all_preds)"
   ]
  },
  {
   "cell_type": "code",
   "execution_count": null,
   "metadata": {
    "ExecuteTime": {
     "start_time": "2017-09-20T20:18:22.019Z"
    }
   },
   "outputs": [
    {
     "name": "stderr",
     "output_type": "stream",
     "text": [
      "100%|██████████| 417/417 [11:48:50<00:00, 99.60s/it]   \n"
     ]
    }
   ],
   "source": [
    "for start in tqdm(range(0, len(ids_test), 240)):\n",
    "    end = min(start + 240, len(ids_test))\n",
    "    ids_test_batch = ids_test[start:end]\n",
    "    save_test_predictions(ids_test_batch, './vert-cut-preds/batch-' + str(start))"
   ]
  },
  {
   "cell_type": "markdown",
   "metadata": {},
   "source": [
    "# Submission"
   ]
  },
  {
   "cell_type": "code",
   "execution_count": 39,
   "metadata": {
    "ExecuteTime": {
     "end_time": "2017-09-21T08:30:54.837182Z",
     "start_time": "2017-09-21T08:12:29.369954Z"
    }
   },
   "outputs": [
    {
     "name": "stderr",
     "output_type": "stream",
     "text": [
      "100%|██████████| 417/417 [18:25<00:00,  2.39s/it]\n"
     ]
    }
   ],
   "source": [
    "rles = []\n",
    "for start in tqdm(range(0, len(ids_test), 240)):\n",
    "    all_preds = load_array('./vert-cut-preds/batch-' + str(start))\n",
    "    all_preds = all_preds > 50\n",
    "    for i in range(all_preds.shape[0]):\n",
    "        mask = np.copy(all_preds[i,:,:])\n",
    "        rle = run_length_encode(mask)\n",
    "        rles.append(rle)"
   ]
  },
  {
   "cell_type": "code",
   "execution_count": 40,
   "metadata": {
    "ExecuteTime": {
     "end_time": "2017-09-21T08:34:52.111231Z",
     "start_time": "2017-09-21T08:31:26.959774Z"
    }
   },
   "outputs": [
    {
     "name": "stdout",
     "output_type": "stream",
     "text": [
      "Generating submission file...\n"
     ]
    }
   ],
   "source": [
    "print(\"Generating submission file...\")\n",
    "df = pd.DataFrame({'img': names, 'rle_mask': rles})\n",
    "df.to_csv('submit/submission12.csv.gz', index=False, compression='gzip')"
   ]
  },
  {
   "cell_type": "markdown",
   "metadata": {
    "ExecuteTime": {
     "end_time": "2017-09-13T20:48:40.361549Z",
     "start_time": "2017-09-13T20:48:40.359143Z"
    }
   },
   "source": [
    "# Pseudo labeling"
   ]
  },
  {
   "cell_type": "code",
   "execution_count": 25,
   "metadata": {
    "ExecuteTime": {
     "end_time": "2017-09-22T09:48:20.036429Z",
     "start_time": "2017-09-22T09:48:20.012668Z"
    },
    "collapsed": true
   },
   "outputs": [],
   "source": [
    "def train_generator(train_batch_size):\n",
    "    while True:\n",
    "        this_ids_train_split = random.sample(ids_train_split, len(ids_train_split))\n",
    "        for start in range(0, len(ids_train_split), train_batch_size):\n",
    "            x_batch = []\n",
    "            y_batch = []\n",
    "            end = min(start + train_batch_size, len(ids_train_split))\n",
    "            ids_train_batch = this_ids_train_split[start:end]\n",
    "            for id in ids_train_batch:\n",
    "                img  = cv2.imread('data/train/{}.jpg'.format(id))\n",
    "                mask = cv2.imread('data/train_masks/{}_mask.png'.format(id), cv2.IMREAD_GRAYSCALE)\n",
    "                \n",
    "                img1  = np.copy(img[:, 0:1024, :])\n",
    "                mask1 = np.copy(mask[:, 0:1024])\n",
    "                mask1 = np.expand_dims(mask1, axis=2)\n",
    "                \n",
    "                img2  = np.copy(img[:, 894:, :])\n",
    "                img2  = cv2.flip(img2, 1)\n",
    "                mask2 = np.copy(mask[:, 894:])\n",
    "                mask2  = cv2.flip(mask2, 1)\n",
    "                mask2 = np.expand_dims(mask2, axis=2)\n",
    "                \n",
    "                                \n",
    "                x_batch.append(img1)\n",
    "                y_batch.append(mask1)\n",
    "                x_batch.append(img2)\n",
    "                y_batch.append(mask2)\n",
    "                \n",
    "            x_batch = np.array(x_batch, np.float32) / 255\n",
    "            y_batch = np.array(y_batch, np.float32) / 255\n",
    "            yield x_batch, y_batch"
   ]
  },
  {
   "cell_type": "code",
   "execution_count": 26,
   "metadata": {
    "ExecuteTime": {
     "end_time": "2017-09-22T09:48:21.124727Z",
     "start_time": "2017-09-22T09:48:21.097838Z"
    },
    "collapsed": true
   },
   "outputs": [],
   "source": [
    "def test_generator(test_batch_size):\n",
    "    while True:\n",
    "        this_test_slnos = random.sample(range(len(ids_test)), len(ids_test))\n",
    "        for start in range(0, len(ids_test), test_batch_size):\n",
    "            x_batch = []\n",
    "            y_batch = []\n",
    "            end = min(start + test_batch_size, len(ids_test))\n",
    "            slnos_batch = this_test_slnos[start:end]\n",
    "            for slno in slnos_batch:\n",
    "                batch_num = math.floor(slno/240)*240\n",
    "                batch_preds = load_array('./vert-cut-preds/batch-' + str(batch_num))\n",
    "                within_batch_slno = slno % 240\n",
    "                mask = (batch_preds[within_batch_slno,:,:] > 50).astype(np.float32)\n",
    "                img  = cv2.imread('data/test/{}.jpg'.format(ids_test[slno]))\n",
    "                \n",
    "                img1  = np.copy(img[:, 0:1024, :])\n",
    "                mask1 = np.copy(mask[:, 0:1024])\n",
    "                mask1 = np.expand_dims(mask1, axis=2)\n",
    "                \n",
    "                img2  = np.copy(img[:, 894:, :])\n",
    "                img2  = cv2.flip(img2, 1)\n",
    "                mask2 = np.copy(mask[:, 894:])\n",
    "                mask2  = cv2.flip(mask2, 1)\n",
    "                mask2 = np.expand_dims(mask2, axis=2)\n",
    "                                \n",
    "                x_batch.append(img1)\n",
    "                y_batch.append(mask1)\n",
    "                x_batch.append(img2)\n",
    "                y_batch.append(mask2)\n",
    "            x_batch = np.array(x_batch, np.float32) / 255\n",
    "            y_batch = np.array(y_batch, np.float32)\n",
    "            yield x_batch, y_batch"
   ]
  },
  {
   "cell_type": "code",
   "execution_count": 28,
   "metadata": {
    "ExecuteTime": {
     "end_time": "2017-09-22T09:48:25.389516Z",
     "start_time": "2017-09-22T09:48:24.686644Z"
    },
    "collapsed": true
   },
   "outputs": [],
   "source": [
    "model.load_weights('weights/vert_cut.hdf5')"
   ]
  },
  {
   "cell_type": "code",
   "execution_count": 35,
   "metadata": {
    "ExecuteTime": {
     "end_time": "2017-09-22T09:49:48.396676Z",
     "start_time": "2017-09-22T09:49:48.394058Z"
    },
    "collapsed": true
   },
   "outputs": [],
   "source": [
    "val_batch_size = 16"
   ]
  },
  {
   "cell_type": "code",
   "execution_count": 37,
   "metadata": {
    "ExecuteTime": {
     "end_time": "2017-09-22T09:50:58.146358Z",
     "start_time": "2017-09-22T09:50:57.297922Z"
    },
    "collapsed": true
   },
   "outputs": [],
   "source": [
    "model.compile(optimizer=RMSprop(lr=0.0001), loss=bce_dice_loss, metrics=[dice_coeff])"
   ]
  },
  {
   "cell_type": "code",
   "execution_count": 38,
   "metadata": {
    "ExecuteTime": {
     "end_time": "2017-09-22T09:52:50.847370Z",
     "start_time": "2017-09-22T09:50:58.147971Z"
    }
   },
   "outputs": [
    {
     "data": {
      "text/plain": [
       "[0.0069446219085607759, 0.99662295610356655]"
      ]
     },
     "execution_count": 38,
     "metadata": {},
     "output_type": "execute_result"
    }
   ],
   "source": [
    "model.evaluate_generator(valid_generator(val_batch_size), np.ceil(float(len(ids_valid_split)) / float(val_batch_size)))"
   ]
  },
  {
   "cell_type": "code",
   "execution_count": 57,
   "metadata": {
    "ExecuteTime": {
     "end_time": "2017-09-22T10:01:30.665127Z",
     "start_time": "2017-09-22T10:01:30.658269Z"
    },
    "collapsed": true
   },
   "outputs": [],
   "source": [
    "def pseudo_lab_gen():\n",
    "    train_gen = train_generator(2)\n",
    "    test_gen  = test_generator(2)\n",
    "    while True:\n",
    "        train_stuff = next(train_gen)\n",
    "        if train_stuff[0].shape[0] != 4:\n",
    "            train_stuff = next(train_gen)\n",
    "        \n",
    "        test_stuff  = next(test_gen)\n",
    "        if test_stuff[0].shape[0] != 4:\n",
    "            test_stuff  = next(test_gen)\n",
    "        yield np.concatenate((train_stuff[0], test_stuff[0]), axis=0), np.concatenate((train_stuff[1], test_stuff[1]), axis=0)"
   ]
  },
  {
   "cell_type": "code",
   "execution_count": null,
   "metadata": {
    "ExecuteTime": {
     "start_time": "2017-09-22T10:01:33.555Z"
    }
   },
   "outputs": [
    {
     "name": "stdout",
     "output_type": "stream",
     "text": [
      "Epoch 1/10\n"
     ]
    }
   ],
   "source": [
    "callbacks = [ModelCheckpoint(monitor='val_loss',\n",
    "                             filepath='weights/vert_cut2.hdf5',\n",
    "                             save_best_only=True,\n",
    "                             save_weights_only=True)]\n",
    "\n",
    "history = model.fit_generator(generator=pseudo_lab_gen(),\n",
    "                    steps_per_epoch=np.ceil(float(len(ids_train_split)) / float(2)),\n",
    "                    epochs=10,\n",
    "                    verbose=2,\n",
    "                    callbacks=callbacks,\n",
    "                    validation_data=valid_generator(val_batch_size),\n",
    "                    validation_steps=np.ceil(float(len(ids_valid_split)) / float(val_batch_size)))"
   ]
  },
  {
   "cell_type": "code",
   "execution_count": null,
   "metadata": {
    "collapsed": true
   },
   "outputs": [],
   "source": []
  }
 ],
 "metadata": {
  "anaconda-cloud": {},
  "kernelspec": {
   "display_name": "Python 3",
   "language": "python",
   "name": "python3"
  },
  "language_info": {
   "codemirror_mode": {
    "name": "ipython",
    "version": 3
   },
   "file_extension": ".py",
   "mimetype": "text/x-python",
   "name": "python",
   "nbconvert_exporter": "python",
   "pygments_lexer": "ipython3",
   "version": "3.6.1"
  },
  "toc": {
   "nav_menu": {
    "height": "48px",
    "width": "252px"
   },
   "number_sections": true,
   "sideBar": false,
   "skip_h1_title": false,
   "toc_cell": true,
   "toc_position": {
    "height": "817px",
    "left": "1px",
    "right": "1702px",
    "top": "106px",
    "width": "331px"
   },
   "toc_section_display": "block",
   "toc_window_display": true
  }
 },
 "nbformat": 4,
 "nbformat_minor": 2
}
