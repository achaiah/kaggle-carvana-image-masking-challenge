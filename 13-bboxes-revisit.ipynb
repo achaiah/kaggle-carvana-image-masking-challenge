{
 "cells": [
  {
   "cell_type": "markdown",
   "metadata": {
    "toc": "true"
   },
   "source": [
    "# Table of Contents\n",
    " <p><div class=\"lev1 toc-item\"><a href=\"#Load-libraries\" data-toc-modified-id=\"Load-libraries-1\"><span class=\"toc-item-num\">1&nbsp;&nbsp;</span>Load libraries</a></div><div class=\"lev1 toc-item\"><a href=\"#Load-previously-trained-model\" data-toc-modified-id=\"Load-previously-trained-model-2\"><span class=\"toc-item-num\">2&nbsp;&nbsp;</span>Load previously trained model</a></div><div class=\"lev1 toc-item\"><a href=\"#Generate-predictions\" data-toc-modified-id=\"Generate-predictions-3\"><span class=\"toc-item-num\">3&nbsp;&nbsp;</span>Generate predictions</a></div><div class=\"lev1 toc-item\"><a href=\"#Find-bounding-boxes\" data-toc-modified-id=\"Find-bounding-boxes-4\"><span class=\"toc-item-num\">4&nbsp;&nbsp;</span>Find bounding boxes</a></div><div class=\"lev1 toc-item\"><a href=\"#Cut-the-images-based-on-bounding-box\" data-toc-modified-id=\"Cut-the-images-based-on-bounding-box-5\"><span class=\"toc-item-num\">5&nbsp;&nbsp;</span>Cut the images based on bounding box</a></div><div class=\"lev1 toc-item\"><a href=\"#Test-set-predictions\" data-toc-modified-id=\"Test-set-predictions-6\"><span class=\"toc-item-num\">6&nbsp;&nbsp;</span>Test set predictions</a></div>"
   ]
  },
  {
   "cell_type": "markdown",
   "metadata": {},
   "source": [
    "# Load libraries"
   ]
  },
  {
   "cell_type": "code",
   "execution_count": 1,
   "metadata": {
    "ExecuteTime": {
     "end_time": "2017-09-02T02:14:44.285280Z",
     "start_time": "2017-09-02T02:14:29.434197Z"
    }
   },
   "outputs": [
    {
     "name": "stderr",
     "output_type": "stream",
     "text": [
      "Using TensorFlow backend.\n"
     ]
    }
   ],
   "source": [
    "import cv2\n",
    "import numpy as np\n",
    "import pandas as pd\n",
    "\n",
    "from keras.callbacks import EarlyStopping, ReduceLROnPlateau, ModelCheckpoint, TensorBoard\n",
    "from keras.models import Model\n",
    "from keras.layers import Input, concatenate, Conv2D, MaxPooling2D, Activation, UpSampling2D, BatchNormalization\n",
    "from keras.optimizers import RMSprop\n",
    "from keras.losses import binary_crossentropy\n",
    "import keras.backend as K\n",
    "\n",
    "from sklearn.model_selection import train_test_split"
   ]
  },
  {
   "cell_type": "code",
   "execution_count": 2,
   "metadata": {
    "ExecuteTime": {
     "end_time": "2017-09-02T02:14:44.406887Z",
     "start_time": "2017-09-02T02:14:44.286671Z"
    },
    "collapsed": true
   },
   "outputs": [],
   "source": [
    "import matplotlib.pyplot as plt\n",
    "%matplotlib inline"
   ]
  },
  {
   "cell_type": "code",
   "execution_count": 3,
   "metadata": {
    "ExecuteTime": {
     "end_time": "2017-09-02T02:14:44.446760Z",
     "start_time": "2017-09-02T02:14:44.408636Z"
    },
    "collapsed": true
   },
   "outputs": [],
   "source": [
    "from os import listdir\n",
    "ids_list = [x.split('.')[0] for x in listdir('data/train')]"
   ]
  },
  {
   "cell_type": "markdown",
   "metadata": {},
   "source": [
    "# Load previously trained model"
   ]
  },
  {
   "cell_type": "code",
   "execution_count": 4,
   "metadata": {
    "ExecuteTime": {
     "end_time": "2017-09-02T02:14:48.124830Z",
     "start_time": "2017-09-02T02:14:44.448343Z"
    },
    "collapsed": true
   },
   "outputs": [],
   "source": [
    "def dice_loss(y_true, y_pred):\n",
    "    smooth = 1.\n",
    "    y_true_f = K.flatten(y_true)\n",
    "    y_pred_f = K.flatten(y_pred)\n",
    "    intersection = K.sum(y_true_f * y_pred_f)\n",
    "    return (2. * intersection + smooth) / (K.sum(y_true_f) + K.sum(y_pred_f) + smooth)\n",
    "\n",
    "\n",
    "def bce_dice_loss(y_true, y_pred):\n",
    "    return binary_crossentropy(y_true, y_pred) + (1 - dice_loss(y_true, y_pred))\n",
    "\n",
    "def unet_down_one_block(inputs, num_filters):\n",
    "    x = Conv2D(num_filters, (3, 3), padding='same')(inputs)\n",
    "    x = BatchNormalization()(x)\n",
    "    x = Activation('relu')(x)\n",
    "    x = Conv2D(num_filters, (3, 3), padding='same')(x)\n",
    "    x = BatchNormalization()(x)\n",
    "    x = Activation('relu')(x)\n",
    "    return x\n",
    "\n",
    "def unet_max_pool(inputs):\n",
    "    x = MaxPooling2D((2, 2), strides=(2, 2))(inputs)\n",
    "    return x\n",
    "\n",
    "def unet_up_one_block(up_input, down_input, num_filters):\n",
    "    x = UpSampling2D((2,2))(up_input)\n",
    "    x = concatenate([down_input, x], axis=3)\n",
    "    x = Conv2D(num_filters, (3,3), padding='same')(x)\n",
    "    x = BatchNormalization()(x)\n",
    "    x = Activation('relu')(x)\n",
    "    x = Conv2D(num_filters, (3,3), padding='same')(x)\n",
    "    x = BatchNormalization()(x)\n",
    "    x = Activation('relu')(x)\n",
    "    x = Conv2D(num_filters, (3,3), padding='same')(x)\n",
    "    x = BatchNormalization()(x)\n",
    "    x = Activation('relu')(x)\n",
    "    return x\n",
    "\n",
    "def get_unet(input_shape = (256, 256, 3),\n",
    "             num_classes = 1,\n",
    "             initial_filters = 32,\n",
    "             central_filters = 1024):\n",
    "    \n",
    "    num_filters = initial_filters\n",
    "    \n",
    "    out_list    = [Input(shape=input_shape)]\n",
    "    down_interim_list = []\n",
    "    \n",
    "    while num_filters <= central_filters/2:\n",
    "        x = unet_down_one_block(out_list[-1], num_filters)\n",
    "        down_interim_list.append(x)\n",
    "        num_filters = num_filters * 2\n",
    "        y = unet_max_pool(x)\n",
    "        out_list.append(y)\n",
    "    \n",
    "    x = unet_down_one_block(out_list[-1], num_filters)\n",
    "    out_list.append(x)\n",
    "    num_filters = int(num_filters / 2)\n",
    "    \n",
    "    while num_filters >= initial_filters:\n",
    "        x = unet_up_one_block(out_list[-1], down_interim_list.pop(), num_filters)\n",
    "        out_list.append(x)\n",
    "        num_filters = int(num_filters / 2)\n",
    "    \n",
    "    classify = Conv2D(num_classes, (1,1), activation = 'sigmoid')(out_list[-1])\n",
    "    \n",
    "    model = Model(inputs=out_list[0], outputs=classify)\n",
    "    \n",
    "    model.compile(optimizer=RMSprop(lr=0.0001),\n",
    "                  loss=bce_dice_loss,\n",
    "                  metrics=[dice_loss])\n",
    "    \n",
    "    return model\n",
    "\n",
    "model = get_unet(input_shape=(512,512,3), initial_filters=16)\n",
    "model.load_weights(filepath='weights/best_weights_512_2.hdf5')"
   ]
  },
  {
   "cell_type": "markdown",
   "metadata": {},
   "source": [
    "# Generate predictions"
   ]
  },
  {
   "cell_type": "code",
   "execution_count": 5,
   "metadata": {
    "ExecuteTime": {
     "end_time": "2017-09-02T02:14:15.511405Z",
     "start_time": "2017-09-02T02:14:10.817Z"
    }
   },
   "outputs": [],
   "source": [
    "input_size=512\n",
    "all_imgs=[]\n",
    "for id in ids_list:\n",
    "    img = cv2.imread('data/train/{}.jpg'.format(id))\n",
    "    img = cv2.resize(img, (input_size, input_size))\n",
    "    all_imgs.append(img)"
   ]
  },
  {
   "cell_type": "code",
   "execution_count": 7,
   "metadata": {
    "ExecuteTime": {
     "end_time": "2017-09-02T02:14:15.512168Z",
     "start_time": "2017-09-02T02:14:11.081Z"
    }
   },
   "outputs": [],
   "source": [
    "preds = model.predict(np.array(all_imgs, np.float32)/255, batch_size=32)\n",
    "preds = np.squeeze(preds, axis=3)"
   ]
  },
  {
   "cell_type": "code",
   "execution_count": 8,
   "metadata": {
    "ExecuteTime": {
     "end_time": "2017-09-02T02:14:15.512999Z",
     "start_time": "2017-09-02T02:14:11.465Z"
    },
    "collapsed": true
   },
   "outputs": [],
   "source": [
    "preds = (preds > 0.5).astype(int)"
   ]
  },
  {
   "cell_type": "markdown",
   "metadata": {},
   "source": [
    "# bounding boxes"
   ]
  },
  {
   "cell_type": "code",
   "execution_count": 58,
   "metadata": {
    "collapsed": true
   },
   "outputs": [],
   "source": [
    "def find_bounding_boxes(tmp):\n",
    "    \n",
    "    axis_0_sum = np.sum(tmp, axis=0)\n",
    "    axis_1_sum = np.sum(tmp, axis=1)\n",
    "    \n",
    "    y_min = np.nonzero(axis_1_sum)[0][0]\n",
    "    y_max = np.nonzero(axis_1_sum)[0][-1]\n",
    "    \n",
    "    x_min = np.nonzero(axis_0_sum)[0][0]\n",
    "    x_max = np.nonzero(axis_0_sum)[0][-1]\n",
    "    \n",
    "    return (x_min, x_max, y_min, y_max)"
   ]
  },
  {
   "cell_type": "code",
   "execution_count": 59,
   "metadata": {
    "ExecuteTime": {
     "end_time": "2017-09-02T02:14:50.967025Z",
     "start_time": "2017-09-02T02:14:50.959253Z"
    },
    "collapsed": true
   },
   "outputs": [],
   "source": [
    "def fbbi(i):\n",
    "    tmp = np.copy(preds[i,:,:])\n",
    "    return find_bounding_boxes(tmp)"
   ]
  },
  {
   "cell_type": "code",
   "execution_count": 60,
   "metadata": {
    "ExecuteTime": {
     "end_time": "2017-09-02T02:14:51.211275Z",
     "start_time": "2017-09-02T02:14:51.205106Z"
    },
    "collapsed": true
   },
   "outputs": [],
   "source": [
    "def plot_bounding_box(i):\n",
    "    (x_min, x_max, y_min, y_max) = fbbi(i)\n",
    "    tmp = np.copy(preds[i,:,:])\n",
    "    tmp[y_min,:] = -1\n",
    "    tmp[y_max,:] = -1\n",
    "    tmp[:,x_min] = -1\n",
    "    tmp[:,x_max] = -1\n",
    "    plt.figure(figsize=(10, 10))\n",
    "    plt.imshow(tmp);"
   ]
  },
  {
   "cell_type": "code",
   "execution_count": 61,
   "metadata": {
    "ExecuteTime": {
     "end_time": "2017-09-01T06:53:28.995998Z",
     "start_time": "2017-09-01T06:53:28.703334Z"
    }
   },
   "outputs": [
    {
     "name": "stdout",
     "output_type": "stream",
     "text": [
      "(111, 453, 142, 372)\n"
     ]
    },
    {
     "data": {
      "image/png": "[encoded data removed]",
      "text/plain": [
       "<matplotlib.figure.Figure at 0x7f354e66e8d0>"
      ]
     },
     "metadata": {},
     "output_type": "display_data"
    }
   ],
   "source": [
    "print(fbbi(10))\n",
    "plot_bounding_box(10)"
   ]
  },
  {
   "cell_type": "code",
   "execution_count": 62,
   "metadata": {
    "ExecuteTime": {
     "end_time": "2017-09-01T06:53:29.929160Z",
     "start_time": "2017-09-01T06:53:28.997647Z"
    },
    "collapsed": true
   },
   "outputs": [],
   "source": [
    "train_bboxes = {}\n",
    "for i in range(len(ids_list)):\n",
    "    train_bboxes[ids_list[i]] = fbbi(i)"
   ]
  },
  {
   "cell_type": "code",
   "execution_count": 63,
   "metadata": {
    "collapsed": true
   },
   "outputs": [],
   "source": [
    "import pickle\n",
    "pickle.dump( train_bboxes, open( \"train_bboxes.pkl\", \"wb\" ) )"
   ]
  },
  {
   "cell_type": "code",
   "execution_count": 64,
   "metadata": {
    "ExecuteTime": {
     "end_time": "2017-09-01T06:53:30.189639Z",
     "start_time": "2017-09-01T06:53:29.997509Z"
    }
   },
   "outputs": [
    {
     "data": {
      "image/png": "[encoded data removed]",
      "text/plain": [
       "<matplotlib.figure.Figure at 0x7f35456a65f8>"
      ]
     },
     "metadata": {},
     "output_type": "display_data"
    }
   ],
   "source": [
    "plt.hist([(train_bboxes[keyval][1]-train_bboxes[keyval][0]+1)*1918/512 for keyval in ids_list]);"
   ]
  },
  {
   "cell_type": "code",
   "execution_count": 65,
   "metadata": {
    "ExecuteTime": {
     "end_time": "2017-09-01T06:53:30.394095Z",
     "start_time": "2017-09-01T06:53:30.191548Z"
    }
   },
   "outputs": [
    {
     "data": {
      "image/png": "[encoded data removed]",
      "text/plain": [
       "<matplotlib.figure.Figure at 0x7f353865c8d0>"
      ]
     },
     "metadata": {},
     "output_type": "display_data"
    }
   ],
   "source": [
    "plt.hist([(train_bboxes[keyval][3]-train_bboxes[keyval][2]+1)*1280/512 for keyval in ids_list]);"
   ]
  },
  {
   "cell_type": "markdown",
   "metadata": {},
   "source": [
    "# Compare with actual masks"
   ]
  },
  {
   "cell_type": "code",
   "execution_count": 31,
   "metadata": {
    "collapsed": true
   },
   "outputs": [],
   "source": [
    "mask_bboxes={}\n",
    "for id in train_bboxes:\n",
    "    mask = cv2.imread('data/train_masks/{}_mask.png'.format(id), cv2.IMREAD_GRAYSCALE)/255\n",
    "    mask_bboxes[id] = find_bounding_boxes(mask)"
   ]
  },
  {
   "cell_type": "code",
   "execution_count": 66,
   "metadata": {
    "collapsed": true
   },
   "outputs": [],
   "source": [
    "train_bboxes_resized = {}\n",
    "for id in train_bboxes:\n",
    "    this_bbox = train_bboxes[id]\n",
    "    train_bboxes_resized[id] = (\n",
    "        this_bbox[0]*1918/512,\n",
    "        this_bbox[1]*1918/512,\n",
    "        this_bbox[2]*1280/512,\n",
    "        this_bbox[3]*1280/512\n",
    "    )"
   ]
  },
  {
   "cell_type": "code",
   "execution_count": 67,
   "metadata": {
    "collapsed": true
   },
   "outputs": [],
   "source": [
    "x_min=[]\n",
    "x_max=[]\n",
    "y_min=[]\n",
    "y_max=[]\n",
    "for id in train_bboxes:\n",
    "    x_min.append(train_bboxes_resized[id][0] - mask_bboxes[id][0])\n",
    "    x_max.append(train_bboxes_resized[id][1] - mask_bboxes[id][1])\n",
    "    y_min.append(train_bboxes_resized[id][2] - mask_bboxes[id][2])\n",
    "    y_max.append(train_bboxes_resized[id][3] - mask_bboxes[id][3])"
   ]
  },
  {
   "cell_type": "code",
   "execution_count": 68,
   "metadata": {},
   "outputs": [
    {
     "data": {
      "image/png": "[encoded data removed]",
      "text/plain": [
       "<matplotlib.figure.Figure at 0x7f354023feb8>"
      ]
     },
     "metadata": {},
     "output_type": "display_data"
    }
   ],
   "source": [
    "plt.figure(figsize=(10, 10))\n",
    "plt.subplot(2,2,1)\n",
    "plt.hist(x_min)\n",
    "plt.subplot(2,2,2)\n",
    "plt.hist(x_max)\n",
    "plt.subplot(2,2,3)\n",
    "plt.hist(y_min)\n",
    "plt.subplot(2,2,4)\n",
    "plt.hist(y_max)\n",
    "plt.show();"
   ]
  },
  {
   "cell_type": "markdown",
   "metadata": {},
   "source": [
    "- Decrease x_min by 10\n",
    "- Increase x_max by 15\n",
    "- Decrease y_min by 200\n",
    "- Increase y_max by 10"
   ]
  },
  {
   "cell_type": "code",
   "execution_count": 69,
   "metadata": {},
   "outputs": [],
   "source": [
    "train_bboxes_resized = {}\n",
    "for id in train_bboxes:\n",
    "    this_bbox = train_bboxes[id]\n",
    "    train_bboxes_resized[id] = (\n",
    "        max((this_bbox[0]*1918/512)-10,0),\n",
    "        min((this_bbox[1]*1918/512)+15,1918),\n",
    "        max((this_bbox[2]*1280/512)-200,0),\n",
    "        min((this_bbox[3]*1280/512)+10,1280)\n",
    "    )"
   ]
  },
  {
   "cell_type": "code",
   "execution_count": 70,
   "metadata": {
    "collapsed": true
   },
   "outputs": [],
   "source": [
    "x_min=[]\n",
    "x_max=[]\n",
    "y_min=[]\n",
    "y_max=[]\n",
    "for id in train_bboxes:\n",
    "    x_min.append(train_bboxes_resized[id][0] - mask_bboxes[id][0])\n",
    "    x_max.append(train_bboxes_resized[id][1] - mask_bboxes[id][1])\n",
    "    y_min.append(train_bboxes_resized[id][2] - mask_bboxes[id][2])\n",
    "    y_max.append(train_bboxes_resized[id][3] - mask_bboxes[id][3])"
   ]
  },
  {
   "cell_type": "code",
   "execution_count": 71,
   "metadata": {},
   "outputs": [
    {
     "data": {
      "image/png": "[encoded data removed]",
      "text/plain": [
       "<matplotlib.figure.Figure at 0x7f3545b52630>"
      ]
     },
     "metadata": {},
     "output_type": "display_data"
    }
   ],
   "source": [
    "plt.figure(figsize=(10, 10))\n",
    "plt.subplot(2,2,1)\n",
    "plt.hist(x_min)\n",
    "plt.subplot(2,2,2)\n",
    "plt.hist(x_max)\n",
    "plt.subplot(2,2,3)\n",
    "plt.hist(y_min)\n",
    "plt.subplot(2,2,4)\n",
    "plt.hist(y_max)\n",
    "plt.show();"
   ]
  },
  {
   "cell_type": "code",
   "execution_count": 72,
   "metadata": {},
   "outputs": [
    {
     "data": {
      "image/png": "[encoded data removed]",
      "text/plain": [
       "<matplotlib.figure.Figure at 0x7f35455eb278>"
      ]
     },
     "metadata": {},
     "output_type": "display_data"
    }
   ],
   "source": [
    "plt.hist([(train_bboxes_resized[keyval][1]-train_bboxes_resized[keyval][0]+1) for keyval in ids_list]);"
   ]
  },
  {
   "cell_type": "code",
   "execution_count": 73,
   "metadata": {},
   "outputs": [
    {
     "data": {
      "image/png": "[encoded data removed]",
      "text/plain": [
       "<matplotlib.figure.Figure at 0x7f353872bcc0>"
      ]
     },
     "metadata": {},
     "output_type": "display_data"
    }
   ],
   "source": [
    "plt.hist([(train_bboxes_resized[keyval][3]-train_bboxes_resized[keyval][2]+1) for keyval in ids_list]);"
   ]
  },
  {
   "cell_type": "code",
   "execution_count": 57,
   "metadata": {
    "collapsed": true
   },
   "outputs": [],
   "source": [
    "# 1280x1280 will fit the vertical resolution"
   ]
  },
  {
   "cell_type": "code",
   "execution_count": null,
   "metadata": {
    "collapsed": true
   },
   "outputs": [],
   "source": []
  }
 ],
 "metadata": {
  "kernelspec": {
   "display_name": "Python 3",
   "language": "python",
   "name": "python3"
  },
  "language_info": {
   "codemirror_mode": {
    "name": "ipython",
    "version": 3
   },
   "file_extension": ".py",
   "mimetype": "text/x-python",
   "name": "python",
   "nbconvert_exporter": "python",
   "pygments_lexer": "ipython3",
   "version": "3.6.1"
  },
  "toc": {
   "colors": {
    "hover_highlight": "#DAA520",
    "navigate_num": "#000000",
    "navigate_text": "#333333",
    "running_highlight": "#FF0000",
    "selected_highlight": "#FFD700",
    "sidebar_border": "#EEEEEE",
    "wrapper_background": "#FFFFFF"
   },
   "moveMenuLeft": true,
   "nav_menu": {
    "height": "84px",
    "width": "252px"
   },
   "navigate_menu": true,
   "number_sections": true,
   "sideBar": true,
   "threshold": 4,
   "toc_cell": true,
   "toc_section_display": "block",
   "toc_window_display": false,
   "widenNotebook": false
  }
 },
 "nbformat": 4,
 "nbformat_minor": 2
}
