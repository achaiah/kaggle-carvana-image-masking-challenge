{
 "cells": [
  {
   "cell_type": "markdown",
   "metadata": {
    "toc": "true"
   },
   "source": [
    " # Table of Contents\n",
    "<div class=\"toc\" style=\"margin-top: 1em;\"><ul class=\"toc-item\" id=\"toc-level0\"><li><span><a href=\"http://localhost:8889/notebooks/13-bboxes-revisit.ipynb#Load-libraries\" data-toc-modified-id=\"Load-libraries-1\"><span class=\"toc-item-num\">1&nbsp;&nbsp;</span>Load libraries</a></span></li><li><span><a href=\"http://localhost:8889/notebooks/13-bboxes-revisit.ipynb#Functions\" data-toc-modified-id=\"Functions-2\"><span class=\"toc-item-num\">2&nbsp;&nbsp;</span>Functions</a></span></li><li><span><a href=\"http://localhost:8889/notebooks/13-bboxes-revisit.ipynb#Dimensions-of-actual-masks\" data-toc-modified-id=\"Dimensions-of-actual-masks-3\"><span class=\"toc-item-num\">3&nbsp;&nbsp;</span>Dimensions of actual masks</a></span></li><li><span><a href=\"http://localhost:8889/notebooks/13-bboxes-revisit.ipynb#Load-previously-trained-model\" data-toc-modified-id=\"Load-previously-trained-model-4\"><span class=\"toc-item-num\">4&nbsp;&nbsp;</span>Load previously trained model</a></span></li><li><span><a href=\"http://localhost:8889/notebooks/13-bboxes-revisit.ipynb#Generate-predictions\" data-toc-modified-id=\"Generate-predictions-5\"><span class=\"toc-item-num\">5&nbsp;&nbsp;</span>Generate predictions</a></span></li><li><span><a href=\"http://localhost:8889/notebooks/13-bboxes-revisit.ipynb#bounding-boxes\" data-toc-modified-id=\"bounding-boxes-6\"><span class=\"toc-item-num\">6&nbsp;&nbsp;</span>bounding boxes</a></span></li></ul></div>"
   ]
  },
  {
   "cell_type": "markdown",
   "metadata": {},
   "source": [
    "# Load libraries"
   ]
  },
  {
   "cell_type": "code",
   "execution_count": 1,
   "metadata": {
    "ExecuteTime": {
     "end_time": "2017-09-08T14:19:42.264976Z",
     "start_time": "2017-09-08T14:19:29.735256Z"
    }
   },
   "outputs": [
    {
     "name": "stderr",
     "output_type": "stream",
     "text": [
      "Using TensorFlow backend.\n"
     ]
    }
   ],
   "source": [
    "import cv2\n",
    "import numpy as np\n",
    "import pandas as pd\n",
    "\n",
    "from keras.callbacks import EarlyStopping, ReduceLROnPlateau, ModelCheckpoint, TensorBoard\n",
    "from keras.models import Model\n",
    "from keras.layers import Input, concatenate, Conv2D, MaxPooling2D, Activation, UpSampling2D, BatchNormalization\n",
    "from keras.optimizers import RMSprop\n",
    "from keras.losses import binary_crossentropy\n",
    "import keras.backend as K\n",
    "\n",
    "from sklearn.model_selection import train_test_split"
   ]
  },
  {
   "cell_type": "code",
   "execution_count": 2,
   "metadata": {
    "ExecuteTime": {
     "end_time": "2017-09-08T14:19:42.371769Z",
     "start_time": "2017-09-08T14:19:42.266416Z"
    },
    "collapsed": true
   },
   "outputs": [],
   "source": [
    "import matplotlib.pyplot as plt\n",
    "%matplotlib inline"
   ]
  },
  {
   "cell_type": "code",
   "execution_count": 3,
   "metadata": {
    "ExecuteTime": {
     "end_time": "2017-09-08T14:19:42.379621Z",
     "start_time": "2017-09-08T14:19:42.373086Z"
    },
    "collapsed": true
   },
   "outputs": [],
   "source": [
    "from os import listdir\n",
    "ids_list = [x.split('.')[0] for x in listdir('data/train')]"
   ]
  },
  {
   "cell_type": "markdown",
   "metadata": {},
   "source": [
    "# Functions"
   ]
  },
  {
   "cell_type": "code",
   "execution_count": 4,
   "metadata": {
    "ExecuteTime": {
     "end_time": "2017-09-08T14:19:42.435149Z",
     "start_time": "2017-09-08T14:19:42.380837Z"
    },
    "collapsed": true
   },
   "outputs": [],
   "source": [
    "def find_bounding_boxes(tmp):\n",
    "    \n",
    "    axis_0_sum = np.sum(tmp, axis=0)\n",
    "    axis_1_sum = np.sum(tmp, axis=1)np.sum(tmp, axis=1)\n",
    "    \n",
    "    y_min = np.nonzero(axis_1_sum)[0][0]\n",
    "    y_max = np.nonzero(axis_1_sum)[0][-1]\n",
    "    \n",
    "    x_min = np.nonzero(axis_0_sum)[0][0]\n",
    "    x_max = np.nonzero(axis_0_sum)[0][-1]\n",
    "    \n",
    "    return (x_min, x_max, y_min, y_max)"
   ]
  },
  {
   "cell_type": "code",
   "execution_count": 5,
   "metadata": {
    "ExecuteTime": {
     "end_time": "2017-09-08T14:19:42.479601Z",
     "start_time": "2017-09-08T14:19:42.436367Z"
    },
    "collapsed": true
   },
   "outputs": [],
   "source": [
    "def fbbi(i):\n",
    "    tmp = np.copy(preds[i,:,:])\n",
    "    return find_bounding_boxes(tmp)"
   ]
  },
  {
   "cell_type": "code",
   "execution_count": 6,
   "metadata": {
    "ExecuteTime": {
     "end_time": "2017-09-08T14:19:42.526318Z",
     "start_time": "2017-09-08T14:19:42.480802Z"
    },
    "collapsed": true
   },
   "outputs": [],
   "source": [
    "def plot_bounding_box(i):\n",
    "    (x_min, x_max, y_min, y_max) = fbbi(i)\n",
    "    tmp = np.copy(preds[i,:,:])\n",
    "    tmp[y_min,:] = -1\n",
    "    tmp[y_max,:] = -1\n",
    "    tmp[:,x_min] = -1\n",
    "    tmp[:,x_max] = -1\n",
    "    plt.figure(figsize=(10, 10))\n",
    "    plt.imshow(tmp);"
   ]
  },
  {
   "cell_type": "code",
   "execution_count": 7,
   "metadata": {
    "ExecuteTime": {
     "end_time": "2017-09-08T14:19:42.676604Z",
     "start_time": "2017-09-08T14:19:42.527507Z"
    },
    "collapsed": true
   },
   "outputs": [],
   "source": [
    "import bcolz"
   ]
  },
  {
   "cell_type": "code",
   "execution_count": 8,
   "metadata": {
    "ExecuteTime": {
     "end_time": "2017-09-08T14:19:42.683130Z",
     "start_time": "2017-09-08T14:19:42.678182Z"
    },
    "collapsed": true
   },
   "outputs": [],
   "source": [
    "def save_array(fname, arr):\n",
    "    c=bcolz.carray(arr, rootdir=fname, mode='w')\n",
    "    c.flush()\n",
    "\n",
    "\n",
    "def load_array(fname):\n",
    "    return bcolz.open(fname)[:]"
   ]
  },
  {
   "cell_type": "markdown",
   "metadata": {},
   "source": [
    "# Dimensions of actual masks"
   ]
  },
  {
   "cell_type": "code",
   "execution_count": 9,
   "metadata": {
    "ExecuteTime": {
     "end_time": "2017-09-08T14:21:26.869870Z",
     "start_time": "2017-09-08T14:19:42.684358Z"
    },
    "collapsed": true
   },
   "outputs": [],
   "source": [
    "mask_bboxes={}\n",
    "for id in ids_list:\n",
    "    mask = cv2.imread('data/train_masks/{}_mask.png'.format(id), cv2.IMREAD_GRAYSCALE)/255\n",
    "    mask_bboxes[id] = find_bounding_boxes(mask)"
   ]
  },
  {
   "cell_type": "code",
   "execution_count": 10,
   "metadata": {
    "ExecuteTime": {
     "end_time": "2017-09-08T14:21:26.881707Z",
     "start_time": "2017-09-08T14:21:26.871290Z"
    },
    "collapsed": true
   },
   "outputs": [],
   "source": [
    "df = pd.DataFrame.from_dict(mask_bboxes, 'index')"
   ]
  },
  {
   "cell_type": "code",
   "execution_count": 11,
   "metadata": {
    "ExecuteTime": {
     "end_time": "2017-09-08T14:21:26.933037Z",
     "start_time": "2017-09-08T14:21:26.882935Z"
    },
    "collapsed": true
   },
   "outputs": [],
   "source": [
    "df.columns=['xmin', 'xmax', 'ymin', 'ymax']"
   ]
  },
  {
   "cell_type": "code",
   "execution_count": 12,
   "metadata": {
    "ExecuteTime": {
     "end_time": "2017-09-08T14:21:26.980360Z",
     "start_time": "2017-09-08T14:21:26.934267Z"
    },
    "collapsed": true
   },
   "outputs": [],
   "source": [
    "df['id'] = df.index"
   ]
  },
  {
   "cell_type": "code",
   "execution_count": 13,
   "metadata": {
    "ExecuteTime": {
     "end_time": "2017-09-08T14:21:27.036717Z",
     "start_time": "2017-09-08T14:21:26.981567Z"
    },
    "collapsed": true
   },
   "outputs": [],
   "source": [
    "import re\n",
    "angle_data = [re.search(r'[0-9]+$', x).group(0) for x in df.id.values]\n",
    "df = df.assign(angle = angle_data)"
   ]
  },
  {
   "cell_type": "code",
   "execution_count": 14,
   "metadata": {
    "ExecuteTime": {
     "end_time": "2017-09-08T14:21:27.090601Z",
     "start_time": "2017-09-08T14:21:27.037927Z"
    },
    "collapsed": true
   },
   "outputs": [],
   "source": [
    "df['xsize'] = df.xmax-df.xmin\n",
    "df['ysize'] = df.ymax-df.ymin"
   ]
  },
  {
   "cell_type": "code",
   "execution_count": 15,
   "metadata": {
    "ExecuteTime": {
     "end_time": "2017-09-08T14:21:27.146517Z",
     "start_time": "2017-09-08T14:21:27.091794Z"
    }
   },
   "outputs": [
    {
     "data": {
      "text/html": [
       "<div>\n",
       "<style>\n",
       "    .dataframe thead tr:only-child th {\n",
       "        text-align: right;\n",
       "    }\n",
       "\n",
       "    .dataframe thead th {\n",
       "        text-align: left;\n",
       "    }\n",
       "\n",
       "    .dataframe tbody tr th {\n",
       "        vertical-align: top;\n",
       "    }\n",
       "</style>\n",
       "<table border=\"1\" class=\"dataframe\">\n",
       "  <thead>\n",
       "    <tr style=\"text-align: right;\">\n",
       "      <th></th>\n",
       "      <th>xmin</th>\n",
       "      <th>xmax</th>\n",
       "      <th>ymin</th>\n",
       "      <th>ymax</th>\n",
       "      <th>id</th>\n",
       "      <th>angle</th>\n",
       "      <th>xsize</th>\n",
       "      <th>ysize</th>\n",
       "    </tr>\n",
       "  </thead>\n",
       "  <tbody>\n",
       "    <tr>\n",
       "      <th>fecea3036c59_13</th>\n",
       "      <td>28</td>\n",
       "      <td>1649</td>\n",
       "      <td>346</td>\n",
       "      <td>998</td>\n",
       "      <td>fecea3036c59_13</td>\n",
       "      <td>13</td>\n",
       "      <td>1621</td>\n",
       "      <td>652</td>\n",
       "    </tr>\n",
       "    <tr>\n",
       "      <th>a078586ccdee_10</th>\n",
       "      <td>338</td>\n",
       "      <td>1279</td>\n",
       "      <td>497</td>\n",
       "      <td>1096</td>\n",
       "      <td>a078586ccdee_10</td>\n",
       "      <td>10</td>\n",
       "      <td>941</td>\n",
       "      <td>599</td>\n",
       "    </tr>\n",
       "    <tr>\n",
       "      <th>a2df64508b97_06</th>\n",
       "      <td>245</td>\n",
       "      <td>1594</td>\n",
       "      <td>290</td>\n",
       "      <td>851</td>\n",
       "      <td>a2df64508b97_06</td>\n",
       "      <td>06</td>\n",
       "      <td>1349</td>\n",
       "      <td>561</td>\n",
       "    </tr>\n",
       "    <tr>\n",
       "      <th>4bea0766c14c_10</th>\n",
       "      <td>326</td>\n",
       "      <td>1292</td>\n",
       "      <td>390</td>\n",
       "      <td>1023</td>\n",
       "      <td>4bea0766c14c_10</td>\n",
       "      <td>10</td>\n",
       "      <td>966</td>\n",
       "      <td>633</td>\n",
       "    </tr>\n",
       "    <tr>\n",
       "      <th>c3614abc7405_09</th>\n",
       "      <td>595</td>\n",
       "      <td>1345</td>\n",
       "      <td>360</td>\n",
       "      <td>1016</td>\n",
       "      <td>c3614abc7405_09</td>\n",
       "      <td>09</td>\n",
       "      <td>750</td>\n",
       "      <td>656</td>\n",
       "    </tr>\n",
       "  </tbody>\n",
       "</table>\n",
       "</div>"
      ],
      "text/plain": [
       "                 xmin  xmax  ymin  ymax               id angle  xsize  ysize\n",
       "fecea3036c59_13    28  1649   346   998  fecea3036c59_13    13   1621    652\n",
       "a078586ccdee_10   338  1279   497  1096  a078586ccdee_10    10    941    599\n",
       "a2df64508b97_06   245  1594   290   851  a2df64508b97_06    06   1349    561\n",
       "4bea0766c14c_10   326  1292   390  1023  4bea0766c14c_10    10    966    633\n",
       "c3614abc7405_09   595  1345   360  1016  c3614abc7405_09    09    750    656"
      ]
     },
     "execution_count": 15,
     "metadata": {},
     "output_type": "execute_result"
    }
   ],
   "source": [
    "df.head()"
   ]
  },
  {
   "cell_type": "code",
   "execution_count": 16,
   "metadata": {
    "ExecuteTime": {
     "end_time": "2017-09-08T14:21:27.223305Z",
     "start_time": "2017-09-08T14:21:27.147721Z"
    }
   },
   "outputs": [
    {
     "data": {
      "text/html": [
       "<div>\n",
       "<style>\n",
       "    .dataframe thead tr:only-child th {\n",
       "        text-align: right;\n",
       "    }\n",
       "\n",
       "    .dataframe thead th {\n",
       "        text-align: left;\n",
       "    }\n",
       "\n",
       "    .dataframe tbody tr th {\n",
       "        vertical-align: top;\n",
       "    }\n",
       "</style>\n",
       "<table border=\"1\" class=\"dataframe\">\n",
       "  <thead>\n",
       "    <tr style=\"text-align: right;\">\n",
       "      <th></th>\n",
       "      <th>angle</th>\n",
       "      <th>xsize</th>\n",
       "      <th>ysize</th>\n",
       "    </tr>\n",
       "  </thead>\n",
       "  <tbody>\n",
       "    <tr>\n",
       "      <th>0</th>\n",
       "      <td>01</td>\n",
       "      <td>1065</td>\n",
       "      <td>1005</td>\n",
       "    </tr>\n",
       "    <tr>\n",
       "      <th>1</th>\n",
       "      <td>02</td>\n",
       "      <td>1351</td>\n",
       "      <td>1002</td>\n",
       "    </tr>\n",
       "    <tr>\n",
       "      <th>2</th>\n",
       "      <td>03</td>\n",
       "      <td>1612</td>\n",
       "      <td>960</td>\n",
       "    </tr>\n",
       "    <tr>\n",
       "      <th>3</th>\n",
       "      <td>04</td>\n",
       "      <td>1862</td>\n",
       "      <td>860</td>\n",
       "    </tr>\n",
       "    <tr>\n",
       "      <th>4</th>\n",
       "      <td>05</td>\n",
       "      <td>1917</td>\n",
       "      <td>753</td>\n",
       "    </tr>\n",
       "    <tr>\n",
       "      <th>5</th>\n",
       "      <td>06</td>\n",
       "      <td>1864</td>\n",
       "      <td>791</td>\n",
       "    </tr>\n",
       "    <tr>\n",
       "      <th>6</th>\n",
       "      <td>07</td>\n",
       "      <td>1683</td>\n",
       "      <td>851</td>\n",
       "    </tr>\n",
       "    <tr>\n",
       "      <th>7</th>\n",
       "      <td>08</td>\n",
       "      <td>1452</td>\n",
       "      <td>863</td>\n",
       "    </tr>\n",
       "    <tr>\n",
       "      <th>8</th>\n",
       "      <td>09</td>\n",
       "      <td>1125</td>\n",
       "      <td>841</td>\n",
       "    </tr>\n",
       "    <tr>\n",
       "      <th>9</th>\n",
       "      <td>10</td>\n",
       "      <td>1370</td>\n",
       "      <td>875</td>\n",
       "    </tr>\n",
       "    <tr>\n",
       "      <th>10</th>\n",
       "      <td>11</td>\n",
       "      <td>1571</td>\n",
       "      <td>877</td>\n",
       "    </tr>\n",
       "    <tr>\n",
       "      <th>11</th>\n",
       "      <td>12</td>\n",
       "      <td>1780</td>\n",
       "      <td>832</td>\n",
       "    </tr>\n",
       "    <tr>\n",
       "      <th>12</th>\n",
       "      <td>13</td>\n",
       "      <td>1917</td>\n",
       "      <td>781</td>\n",
       "    </tr>\n",
       "    <tr>\n",
       "      <th>13</th>\n",
       "      <td>14</td>\n",
       "      <td>1917</td>\n",
       "      <td>891</td>\n",
       "    </tr>\n",
       "    <tr>\n",
       "      <th>14</th>\n",
       "      <td>15</td>\n",
       "      <td>1706</td>\n",
       "      <td>985</td>\n",
       "    </tr>\n",
       "    <tr>\n",
       "      <th>15</th>\n",
       "      <td>16</td>\n",
       "      <td>1390</td>\n",
       "      <td>1017</td>\n",
       "    </tr>\n",
       "  </tbody>\n",
       "</table>\n",
       "</div>"
      ],
      "text/plain": [
       "   angle  xsize  ysize\n",
       "0     01   1065   1005\n",
       "1     02   1351   1002\n",
       "2     03   1612    960\n",
       "3     04   1862    860\n",
       "4     05   1917    753\n",
       "5     06   1864    791\n",
       "6     07   1683    851\n",
       "7     08   1452    863\n",
       "8     09   1125    841\n",
       "9     10   1370    875\n",
       "10    11   1571    877\n",
       "11    12   1780    832\n",
       "12    13   1917    781\n",
       "13    14   1917    891\n",
       "14    15   1706    985\n",
       "15    16   1390   1017"
      ]
     },
     "execution_count": 16,
     "metadata": {},
     "output_type": "execute_result"
    }
   ],
   "source": [
    "# Max widths and heights by angle\n",
    "max_sizes = df.groupby('angle')['xsize', 'ysize'].max().reset_index()\n",
    "max_sizes"
   ]
  },
  {
   "cell_type": "markdown",
   "metadata": {
    "heading_collapsed": true
   },
   "source": [
    "# Load previously trained model"
   ]
  },
  {
   "cell_type": "code",
   "execution_count": 30,
   "metadata": {
    "ExecuteTime": {
     "end_time": "2017-09-08T13:43:44.557127Z",
     "start_time": "2017-09-08T13:43:35.662619Z"
    },
    "collapsed": true,
    "hidden": true
   },
   "outputs": [],
   "source": [
    "def dice_loss(y_true, y_pred):\n",
    "    smooth = 1.\n",
    "    y_true_f = K.flatten(y_true)\n",
    "    y_pred_f = K.flatten(y_pred)\n",
    "    intersection = K.sum(y_true_f * y_pred_f)\n",
    "    return (2. * intersection + smooth) / (K.sum(y_true_f) + K.sum(y_pred_f) + smooth)\n",
    "\n",
    "\n",
    "def bce_dice_loss(y_true, y_pred):\n",
    "    return binary_crossentropy(y_true, y_pred) + (1 - dice_loss(y_true, y_pred))\n",
    "\n",
    "def unet_down_one_block(inputs, num_filters):\n",
    "    x = Conv2D(num_filters, (3, 3), padding='same')(inputs)\n",
    "    x = BatchNormalization()(x)\n",
    "    x = Activation('relu')(x)\n",
    "    x = Conv2D(num_filters, (3, 3), padding='same')(x)\n",
    "    x = BatchNormalization()(x)\n",
    "    x = Activation('relu')(x)\n",
    "    return x\n",
    "\n",
    "def unet_max_pool(inputs):\n",
    "    x = MaxPooling2D((2, 2), strides=(2, 2))(inputs)\n",
    "    return x\n",
    "\n",
    "def unet_up_one_block(up_input, down_input, num_filters):\n",
    "    x = UpSampling2D((2,2))(up_input)\n",
    "    x = concatenate([down_input, x], axis=3)\n",
    "    x = Conv2D(num_filters, (3,3), padding='same')(x)\n",
    "    x = BatchNormalization()(x)\n",
    "    x = Activation('relu')(x)\n",
    "    x = Conv2D(num_filters, (3,3), padding='same')(x)\n",
    "    x = BatchNormalization()(x)\n",
    "    x = Activation('relu')(x)\n",
    "    x = Conv2D(num_filters, (3,3), padding='same')(x)\n",
    "    x = BatchNormalization()(x)\n",
    "    x = Activation('relu')(x)\n",
    "    return x\n",
    "\n",
    "def get_unet(input_shape = (256, 256, 3),\n",
    "             num_classes = 1,\n",
    "             initial_filters = 32,\n",
    "             central_filters = 1024):\n",
    "    \n",
    "    num_filters = initial_filters\n",
    "    \n",
    "    out_list    = [Input(shape=input_shape)]\n",
    "    down_interim_list = []\n",
    "    \n",
    "    while num_filters <= central_filters/2:\n",
    "        x = unet_down_one_block(out_list[-1], num_filters)\n",
    "        down_interim_list.append(x)\n",
    "        num_filters = num_filters * 2\n",
    "        y = unet_max_pool(x)\n",
    "        out_list.append(y)\n",
    "    \n",
    "    x = unet_down_one_block(out_list[-1], num_filters)\n",
    "    out_list.append(x)\n",
    "    num_filters = int(num_filters / 2)\n",
    "    \n",
    "    while num_filters >= initial_filters:\n",
    "        x = unet_up_one_block(out_list[-1], down_interim_list.pop(), num_filters)\n",
    "        out_list.append(x)\n",
    "        num_filters = int(num_filters / 2)\n",
    "    \n",
    "    classify = Conv2D(num_classes, (1,1), activation = 'sigmoid')(out_list[-1])\n",
    "    \n",
    "    model = Model(inputs=out_list[0], outputs=classify)\n",
    "    \n",
    "    model.compile(optimizer=RMSprop(lr=0.0001),\n",
    "                  loss=bce_dice_loss,\n",
    "                  metrics=[dice_loss])\n",
    "    \n",
    "    return model\n",
    "\n",
    "model = get_unet(input_shape=(512,512,3), initial_filters=16)\n",
    "model.load_weights(filepath='weights/best_weights_512_2.hdf5')"
   ]
  },
  {
   "cell_type": "markdown",
   "metadata": {
    "heading_collapsed": true
   },
   "source": [
    "# Generate predictions"
   ]
  },
  {
   "cell_type": "code",
   "execution_count": 31,
   "metadata": {
    "ExecuteTime": {
     "end_time": "2017-09-08T13:46:08.136383Z",
     "start_time": "2017-09-08T13:43:44.755170Z"
    },
    "collapsed": true,
    "hidden": true
   },
   "outputs": [],
   "source": [
    "input_size=512\n",
    "all_imgs=[]\n",
    "for id in ids_list:\n",
    "    img = cv2.imread('data/train/{}.jpg'.format(id))\n",
    "    img = cv2.resize(img, (input_size, input_size))\n",
    "    all_imgs.append(img)"
   ]
  },
  {
   "cell_type": "code",
   "execution_count": 32,
   "metadata": {
    "ExecuteTime": {
     "end_time": "2017-09-08T13:52:46.351355Z",
     "start_time": "2017-09-08T13:46:35.703346Z"
    },
    "collapsed": true,
    "hidden": true
   },
   "outputs": [],
   "source": [
    "preds = model.predict(np.array(all_imgs, np.float32)/255, batch_size=32)\n",
    "preds = np.squeeze(preds, axis=3)"
   ]
  },
  {
   "cell_type": "code",
   "execution_count": 37,
   "metadata": {
    "ExecuteTime": {
     "end_time": "2017-09-08T13:58:35.544311Z",
     "start_time": "2017-09-08T13:58:31.943702Z"
    },
    "collapsed": true,
    "hidden": true
   },
   "outputs": [],
   "source": [
    "save_array('preds512.dat', preds)"
   ]
  },
  {
   "cell_type": "code",
   "execution_count": 38,
   "metadata": {
    "ExecuteTime": {
     "end_time": "2017-09-08T13:59:32.196403Z",
     "start_time": "2017-09-08T13:59:30.238369Z"
    },
    "collapsed": true,
    "hidden": true
   },
   "outputs": [],
   "source": [
    "orig_preds = np.copy(preds)"
   ]
  },
  {
   "cell_type": "markdown",
   "metadata": {},
   "source": [
    "# bounding boxes"
   ]
  },
  {
   "cell_type": "code",
   "execution_count": 17,
   "metadata": {
    "ExecuteTime": {
     "end_time": "2017-09-08T14:21:42.116474Z",
     "start_time": "2017-09-08T14:21:39.686227Z"
    },
    "collapsed": true
   },
   "outputs": [],
   "source": [
    "orig_preds = load_array('./preds512.dat')"
   ]
  },
  {
   "cell_type": "code",
   "execution_count": 18,
   "metadata": {
    "ExecuteTime": {
     "end_time": "2017-09-08T14:21:47.831028Z",
     "start_time": "2017-09-08T14:21:42.117819Z"
    },
    "collapsed": true
   },
   "outputs": [],
   "source": [
    "preds = (np.copy(orig_preds) > 0.1).astype(int)"
   ]
  },
  {
   "cell_type": "code",
   "execution_count": 19,
   "metadata": {
    "ExecuteTime": {
     "end_time": "2017-09-08T14:21:48.113672Z",
     "start_time": "2017-09-08T14:21:47.832403Z"
    }
   },
   "outputs": [
    {
     "name": "stdout",
     "output_type": "stream",
     "text": [
      "(111, 454, 142, 373)\n"
     ]
    },
    {
     "data": {
      "image/png": "[encoded data removed]",
      "text/plain": [
       "<matplotlib.figure.Figure at 0x7f8b2824c400>"
      ]
     },
     "metadata": {},
     "output_type": "display_data"
    }
   ],
   "source": [
    "print(fbbi(10))\n",
    "plot_bounding_box(10)"
   ]
  },
  {
   "cell_type": "code",
   "execution_count": 20,
   "metadata": {
    "ExecuteTime": {
     "end_time": "2017-09-08T14:21:50.997806Z",
     "start_time": "2017-09-08T14:21:48.115007Z"
    },
    "collapsed": true
   },
   "outputs": [],
   "source": [
    "train_bboxes = {}\n",
    "for i in range(len(ids_list)):\n",
    "    train_bboxes[ids_list[i]] = fbbi(i)"
   ]
  },
  {
   "cell_type": "code",
   "execution_count": 47,
   "metadata": {
    "ExecuteTime": {
     "end_time": "2017-09-08T14:27:46.253233Z",
     "start_time": "2017-09-08T14:27:46.147895Z"
    },
    "collapsed": true
   },
   "outputs": [],
   "source": [
    "train_bboxes_resized = {}\n",
    "for id in train_bboxes:\n",
    "    this_bbox = train_bboxes[id]\n",
    "    train_bboxes_resized[id] = (\n",
    "        this_bbox[0]*1918/512,\n",
    "        this_bbox[1]*1918/512,\n",
    "        this_bbox[2]*1280/512,\n",
    "        this_bbox[3]*1280/512\n",
    "    )"
   ]
  },
  {
   "cell_type": "code",
   "execution_count": 30,
   "metadata": {
    "ExecuteTime": {
     "end_time": "2017-09-08T14:23:31.264844Z",
     "start_time": "2017-09-08T14:23:31.262465Z"
    },
    "collapsed": true
   },
   "outputs": [],
   "source": [
    "# Interested in only angle 9 values"
   ]
  },
  {
   "cell_type": "code",
   "execution_count": 136,
   "metadata": {
    "ExecuteTime": {
     "end_time": "2017-09-08T14:48:28.387857Z",
     "start_time": "2017-09-08T14:48:28.382587Z"
    },
    "collapsed": true
   },
   "outputs": [],
   "source": [
    "train_bboxes_resized = { id: train_bboxes_resized[id] for id in df[df.angle=='09'].id.values }"
   ]
  },
  {
   "cell_type": "code",
   "execution_count": 137,
   "metadata": {
    "ExecuteTime": {
     "end_time": "2017-09-08T14:48:28.708824Z",
     "start_time": "2017-09-08T14:48:28.702164Z"
    },
    "collapsed": true
   },
   "outputs": [],
   "source": [
    "x_min=[]\n",
    "x_max=[]\n",
    "y_min=[]\n",
    "y_max=[]\n",
    "for id in train_bboxes_resized:\n",
    "    x_min.append(mask_bboxes[id][0] - train_bboxes_resized[id][0])\n",
    "    x_max.append(train_bboxes_resized[id][1] - mask_bboxes[id][1])\n",
    "    y_min.append(mask_bboxes[id][2] - train_bboxes_resized[id][2])\n",
    "    y_max.append(train_bboxes_resized[id][3] - mask_bboxes[id][3])"
   ]
  },
  {
   "cell_type": "code",
   "execution_count": 138,
   "metadata": {
    "ExecuteTime": {
     "end_time": "2017-09-08T14:48:29.766533Z",
     "start_time": "2017-09-08T14:48:29.102592Z"
    }
   },
   "outputs": [
    {
     "data": {
      "image/png": "[encoded data removed]",
      "text/plain": [
       "<matplotlib.figure.Figure at 0x7f89e38852b0>"
      ]
     },
     "metadata": {},
     "output_type": "display_data"
    }
   ],
   "source": [
    "# There shoudn't be any points lesser than zero\n",
    "plt.figure(figsize=(10, 10))\n",
    "plt.subplot(2,2,1)\n",
    "plt.hist(x_min)\n",
    "plt.subplot(2,2,2)\n",
    "plt.hist(x_max)\n",
    "plt.subplot(2,2,3)\n",
    "plt.hist(y_min)\n",
    "plt.subplot(2,2,4)\n",
    "plt.hist(y_max)\n",
    "plt.show();"
   ]
  },
  {
   "cell_type": "code",
   "execution_count": 140,
   "metadata": {
    "ExecuteTime": {
     "end_time": "2017-09-08T14:49:20.071560Z",
     "start_time": "2017-09-08T14:49:20.069119Z"
    },
    "collapsed": true
   },
   "outputs": [],
   "source": [
    "# bad points in ymin is mainly due to antennas"
   ]
  },
  {
   "cell_type": "code",
   "execution_count": 142,
   "metadata": {
    "ExecuteTime": {
     "end_time": "2017-09-08T14:51:52.567159Z",
     "start_time": "2017-09-08T14:51:52.558546Z"
    }
   },
   "outputs": [],
   "source": [
    "import pickle\n",
    "pickle.dump( train_bboxes_resized, open( \"train_bboxes_resized_m512_ang_09.pkl\", \"wb\" ) )"
   ]
  },
  {
   "cell_type": "code",
   "execution_count": null,
   "metadata": {
    "collapsed": true
   },
   "outputs": [],
   "source": []
  }
 ],
 "metadata": {
  "kernelspec": {
   "display_name": "Python 3",
   "language": "python",
   "name": "python3"
  },
  "language_info": {
   "codemirror_mode": {
    "name": "ipython",
    "version": 3
   },
   "file_extension": ".py",
   "mimetype": "text/x-python",
   "name": "python",
   "nbconvert_exporter": "python",
   "pygments_lexer": "ipython3",
   "version": "3.6.1"
  },
  "toc": {
   "nav_menu": {
    "height": "84px",
    "width": "252px"
   },
   "number_sections": true,
   "sideBar": true,
   "skip_h1_title": false,
   "toc_cell": true,
   "toc_position": {},
   "toc_section_display": "block",
   "toc_window_display": true
  },
  "varInspector": {
   "cols": {
    "lenName": 16,
    "lenType": 16,
    "lenVar": 40
   },
   "kernels_config": {
    "python": {
     "delete_cmd_postfix": "",
     "delete_cmd_prefix": "del ",
     "library": "var_list.py",
     "varRefreshCmd": "print(var_dic_list())"
    },
    "r": {
     "delete_cmd_postfix": ") ",
     "delete_cmd_prefix": "rm(",
     "library": "var_list.r",
     "varRefreshCmd": "cat(var_dic_list()) "
    }
   },
   "types_to_exclude": [
    "module",
    "function",
    "builtin_function_or_method",
    "instance",
    "_Feature"
   ],
   "window_display": false
  }
 },
 "nbformat": 4,
 "nbformat_minor": 2
}
