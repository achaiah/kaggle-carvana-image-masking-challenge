{
 "cells": [
  {
   "cell_type": "code",
   "execution_count": 1,
   "metadata": {},
   "outputs": [
    {
     "name": "stderr",
     "output_type": "stream",
     "text": [
      "Using TensorFlow backend.\n"
     ]
    }
   ],
   "source": [
    "import cv2\n",
    "import numpy as np\n",
    "import pandas as pd\n",
    "\n",
    "from keras.callbacks import EarlyStopping, ReduceLROnPlateau, ModelCheckpoint, TensorBoard\n",
    "from keras.models import Model\n",
    "from keras.layers import Input, concatenate, Conv2D, MaxPooling2D, Activation, UpSampling2D, BatchNormalization\n",
    "from keras.optimizers import RMSprop\n",
    "from keras.losses import binary_crossentropy\n",
    "import keras.backend as K\n",
    "\n",
    "from sklearn.model_selection import train_test_split"
   ]
  },
  {
   "cell_type": "code",
   "execution_count": 2,
   "metadata": {
    "collapsed": true
   },
   "outputs": [],
   "source": [
    "import matplotlib.pyplot as plt\n",
    "%matplotlib inline"
   ]
  },
  {
   "cell_type": "code",
   "execution_count": 3,
   "metadata": {
    "collapsed": true
   },
   "outputs": [],
   "source": [
    "def dice_loss(y_true, y_pred):\n",
    "    smooth = 1.\n",
    "    y_true_f = K.flatten(y_true)\n",
    "    y_pred_f = K.flatten(y_pred)\n",
    "    intersection = K.sum(y_true_f * y_pred_f)\n",
    "    return (2. * intersection + smooth) / (K.sum(y_true_f) + K.sum(y_pred_f) + smooth)\n",
    "\n",
    "\n",
    "def bce_dice_loss(y_true, y_pred):\n",
    "    return binary_crossentropy(y_true, y_pred) + (1 - dice_loss(y_true, y_pred))\n",
    "\n",
    "def unet_down_one_block(inputs, num_filters):\n",
    "    x = Conv2D(num_filters, (3, 3), padding='same')(inputs)\n",
    "    x = BatchNormalization()(x)\n",
    "    x = Activation('relu')(x)\n",
    "    x = Conv2D(num_filters, (3, 3), padding='same')(x)\n",
    "    x = BatchNormalization()(x)\n",
    "    x = Activation('relu')(x)\n",
    "    return x\n",
    "\n",
    "def unet_max_pool(inputs):\n",
    "    x = MaxPooling2D((2, 2), strides=(2, 2))(inputs)\n",
    "    return x\n",
    "\n",
    "def unet_up_one_block(up_input, down_input, num_filters):\n",
    "    x = UpSampling2D((2,2))(up_input)\n",
    "    x = concatenate([down_input, x], axis=3)\n",
    "    x = Conv2D(num_filters, (3,3), padding='same')(x)\n",
    "    x = BatchNormalization()(x)\n",
    "    x = Activation('relu')(x)\n",
    "    x = Conv2D(num_filters, (3,3), padding='same')(x)\n",
    "    x = BatchNormalization()(x)\n",
    "    x = Activation('relu')(x)\n",
    "    x = Conv2D(num_filters, (3,3), padding='same')(x)\n",
    "    x = BatchNormalization()(x)\n",
    "    x = Activation('relu')(x)\n",
    "    return x\n",
    "\n",
    "def get_unet(input_shape = (256, 256, 3),\n",
    "             num_classes = 1,\n",
    "             initial_filters = 32,\n",
    "             central_filters = 1024):\n",
    "    \n",
    "    num_filters = initial_filters\n",
    "    \n",
    "    out_list    = [Input(shape=input_shape)]\n",
    "    down_interim_list = []\n",
    "    \n",
    "    while num_filters <= central_filters/2:\n",
    "        x = unet_down_one_block(out_list[-1], num_filters)\n",
    "        down_interim_list.append(x)\n",
    "        num_filters = num_filters * 2\n",
    "        y = unet_max_pool(x)\n",
    "        out_list.append(y)\n",
    "    \n",
    "    x = unet_down_one_block(out_list[-1], num_filters)\n",
    "    out_list.append(x)\n",
    "    num_filters = int(num_filters / 2)\n",
    "    \n",
    "    while num_filters >= initial_filters:\n",
    "        x = unet_up_one_block(out_list[-1], down_interim_list.pop(), num_filters)\n",
    "        out_list.append(x)\n",
    "        num_filters = int(num_filters / 2)\n",
    "    \n",
    "    classify = Conv2D(num_classes, (1,1), activation = 'sigmoid')(out_list[-1])\n",
    "    \n",
    "    model = Model(inputs=out_list[0], outputs=classify)\n",
    "    \n",
    "    model.compile(optimizer=RMSprop(lr=0.0001),\n",
    "                  loss=bce_dice_loss,\n",
    "                  metrics=[dice_loss])\n",
    "    \n",
    "    return model"
   ]
  },
  {
   "cell_type": "code",
   "execution_count": 4,
   "metadata": {
    "collapsed": true
   },
   "outputs": [],
   "source": [
    "model_512 = get_unet(input_shape=(512,512,3), initial_filters=16)\n",
    "model_512.load_weights(filepath='weights/best_weights_512_2.hdf5')"
   ]
  },
  {
   "cell_type": "code",
   "execution_count": 5,
   "metadata": {
    "collapsed": true
   },
   "outputs": [],
   "source": [
    "model_fullres = get_unet(input_shape=(1024,1024,3), initial_filters=8)\n",
    "model_fullres.load_weights(filepath='weights/best_weights_fullres3.hdf5')"
   ]
  },
  {
   "cell_type": "code",
   "execution_count": 6,
   "metadata": {
    "collapsed": true
   },
   "outputs": [],
   "source": [
    "from tqdm import tqdm"
   ]
  },
  {
   "cell_type": "code",
   "execution_count": 7,
   "metadata": {
    "collapsed": true
   },
   "outputs": [],
   "source": [
    "df_test = pd.read_csv('data/sample_submission.csv')\n",
    "ids_test = df_test['img'].map(lambda s: s.split('.')[0])"
   ]
  },
  {
   "cell_type": "code",
   "execution_count": 8,
   "metadata": {
    "collapsed": true
   },
   "outputs": [],
   "source": [
    "names = []\n",
    "for id in ids_test:\n",
    "    names.append('{}.jpg'.format(id))"
   ]
  },
  {
   "cell_type": "code",
   "execution_count": 9,
   "metadata": {
    "collapsed": true
   },
   "outputs": [],
   "source": [
    "# https://www.kaggle.com/stainsby/fast-tested-rle\n",
    "def run_length_encode(mask):\n",
    "    '''\n",
    "    img: numpy array, 1 - mask, 0 - background\n",
    "    Returns run length as string formated\n",
    "    '''\n",
    "    inds = mask.flatten()\n",
    "    runs = np.where(inds[1:] != inds[:-1])[0] + 2\n",
    "    runs[1::2] = runs[1::2] - runs[:-1:2]\n",
    "    rle = ' '.join([str(r) for r in runs])\n",
    "    return rle\n",
    "\n",
    "\n",
    "rles = []"
   ]
  },
  {
   "cell_type": "code",
   "execution_count": 10,
   "metadata": {
    "collapsed": true
   },
   "outputs": [],
   "source": [
    "val_batch_size = 8\n",
    "threshold = 0.5"
   ]
  },
  {
   "cell_type": "code",
   "execution_count": 11,
   "metadata": {
    "collapsed": true
   },
   "outputs": [],
   "source": [
    "import gzip\n",
    "import pickle\n",
    "f = gzip.open('test_bboxes.pklz','rb')\n",
    "test_bboxes = pickle.load(f)\n",
    "f.close()"
   ]
  },
  {
   "cell_type": "code",
   "execution_count": null,
   "metadata": {},
   "outputs": [
    {
     "name": "stderr",
     "output_type": "stream",
     "text": [
      "100%|██████████| 12508/12508 [12:25:18<00:00,  3.54s/it]  \n"
     ]
    }
   ],
   "source": [
    "for start in tqdm(range(0, len(ids_test), val_batch_size)):\n",
    "    \n",
    "    end = min(start + val_batch_size, len(ids_test))\n",
    "    ids_test_batch = ids_test[start:end]\n",
    "    \n",
    "    this_batch_imgs=[]\n",
    "    for id in ids_test_batch.values:\n",
    "        img = cv2.imread('data/test/{}.jpg'.format(id))\n",
    "        this_batch_imgs.append(img)\n",
    "    \n",
    "    m512_batch=[]\n",
    "    for i in range(len(this_batch_imgs)):\n",
    "        img = this_batch_imgs[i]\n",
    "        img = cv2.resize(img, (512, 512))\n",
    "        m512_batch.append(img)\n",
    "    \n",
    "    preds_512 = model_512.predict_on_batch(np.array(m512_batch, np.float32) / 255)\n",
    "    preds_512 = np.squeeze(preds_512, axis=3)\n",
    "    \n",
    "    mfull_batch = []\n",
    "    for i in range(len(this_batch_imgs)):\n",
    "        id = ids_test_batch.values[i]\n",
    "        img = this_batch_imgs[i]\n",
    "        \n",
    "        this_bbox = test_bboxes[id]\n",
    "        img_1_box = this_bbox[0]\n",
    "        img_2_box = this_bbox[1]\n",
    "        \n",
    "        img_1 = np.copy(img[img_1_box[2]:(img_1_box[3]+1), img_1_box[0]:(img_1_box[1]+1),:])\n",
    "        img_2 = np.copy(img[img_2_box[2]:(img_2_box[3]+1), img_2_box[0]:(img_2_box[1]+1),:])\n",
    "        img_2 = cv2.flip(img_2, 1)\n",
    "        \n",
    "        mfull_batch.append(img_1)\n",
    "        mfull_batch.append(img_2)\n",
    "        \n",
    "    preds_full = model_fullres.predict_on_batch(np.array(mfull_batch, np.float32) / 255)\n",
    "    preds_full = np.squeeze(preds_full, axis=3)\n",
    "    \n",
    "    final_preds_full = []\n",
    "    for i in range(len(ids_test_batch.values)):\n",
    "        id = ids_test_batch.values[i]\n",
    "        \n",
    "        this_bbox = test_bboxes[id]\n",
    "        img_1_box = this_bbox[0]\n",
    "        img_2_box = this_bbox[1]\n",
    "        \n",
    "        pred_1 = np.copy(preds_full[(i*2), :, :])\n",
    "        pred_2 = np.copy(preds_full[(i*2) + 1, :, :])\n",
    "        pred_2 = cv2.flip(pred_2, 1)\n",
    "        \n",
    "        left_part   = np.copy(pred_1[:, 0:894])\n",
    "        middle_1    = np.copy(pred_1[:, 894:1024])\n",
    "        middle_2    = np.copy(pred_2[:, 0:130])\n",
    "        middle_part = np.add(middle_1, middle_2)/2\n",
    "        right_part  = np.copy(pred_2[:, 130:1024])\n",
    "        all_parts   = np.concatenate((left_part, middle_part, right_part), axis=1)\n",
    "        \n",
    "        if img_1_box[2] != 0:\n",
    "            top_part = np.zeros(shape = (img_1_box[2],1918), dtype = np.float32)\n",
    "            all_parts = np.concatenate((top_part, all_parts), axis = 0)\n",
    "        \n",
    "        if img_1_box[3] != 1279:\n",
    "            bottom_part = np.zeros(shape = (1279-img_1_box[3],1918), dtype = np.float32)\n",
    "            all_parts = np.concatenate((all_parts, bottom_part), axis = 0)\n",
    "        \n",
    "        final_preds_full.append(all_parts)\n",
    "    \n",
    "    final_preds_512 = []\n",
    "    for i in range(len(ids_test_batch.values)):\n",
    "        this_pred = np.copy(preds_512[i, :, :])\n",
    "        this_pred_resized = cv2.resize(this_pred, (1918, 1280))\n",
    "        final_preds_512.append(this_pred_resized)\n",
    "    \n",
    "    ensemble_preds = []\n",
    "    for i in range(len(ids_test_batch.values)):\n",
    "        this_ensemble = np.add(final_preds_512[i], final_preds_full[i])/2\n",
    "        ensemble_preds.append(this_ensemble)\n",
    "    \n",
    "    for prob in ensemble_preds:\n",
    "        mask = prob > threshold\n",
    "        rle = run_length_encode(mask)\n",
    "        rles.append(rle)"
   ]
  },
  {
   "cell_type": "code",
   "execution_count": 13,
   "metadata": {},
   "outputs": [
    {
     "name": "stdout",
     "output_type": "stream",
     "text": [
      "Generating submission file...\n",
      "Completed!\n"
     ]
    }
   ],
   "source": [
    "print(\"Generating submission file...\")\n",
    "df = pd.DataFrame({'img': names, 'rle_mask': rles})\n",
    "df.to_csv('submit/submission9.csv.gz', index=False, compression='gzip')\n",
    "print(\"Completed!\")"
   ]
  },
  {
   "cell_type": "code",
   "execution_count": null,
   "metadata": {
    "collapsed": true
   },
   "outputs": [],
   "source": []
  }
 ],
 "metadata": {
  "kernelspec": {
   "display_name": "Python 3",
   "language": "python",
   "name": "python3"
  },
  "language_info": {
   "codemirror_mode": {
    "name": "ipython",
    "version": 3
   },
   "file_extension": ".py",
   "mimetype": "text/x-python",
   "name": "python",
   "nbconvert_exporter": "python",
   "pygments_lexer": "ipython3",
   "version": "3.6.1"
  }
 },
 "nbformat": 4,
 "nbformat_minor": 2
}
