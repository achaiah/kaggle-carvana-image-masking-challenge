{
 "cells": [
  {
   "cell_type": "markdown",
   "metadata": {
    "toc": "true"
   },
   "source": [
    "# Table of Contents\n",
    " <p><div class=\"lev1 toc-item\"><a href=\"#Load-libraries\" data-toc-modified-id=\"Load-libraries-1\"><span class=\"toc-item-num\">1&nbsp;&nbsp;</span>Load libraries</a></div><div class=\"lev1 toc-item\"><a href=\"#Define-loss-functions\" data-toc-modified-id=\"Define-loss-functions-2\"><span class=\"toc-item-num\">2&nbsp;&nbsp;</span>Define loss functions</a></div><div class=\"lev1 toc-item\"><a href=\"#Define-models\" data-toc-modified-id=\"Define-models-3\"><span class=\"toc-item-num\">3&nbsp;&nbsp;</span>Define models</a></div><div class=\"lev1 toc-item\"><a href=\"#Modeling\" data-toc-modified-id=\"Modeling-4\"><span class=\"toc-item-num\">4&nbsp;&nbsp;</span>Modeling</a></div><div class=\"lev1 toc-item\"><a href=\"#Predictions\" data-toc-modified-id=\"Predictions-5\"><span class=\"toc-item-num\">5&nbsp;&nbsp;</span>Predictions</a></div>"
   ]
  },
  {
   "cell_type": "markdown",
   "metadata": {},
   "source": [
    "Modified from https://github.com/petrosgk/Kaggle-Carvana-Image-Masking-Challenge"
   ]
  },
  {
   "cell_type": "markdown",
   "metadata": {},
   "source": [
    "# Load libraries"
   ]
  },
  {
   "cell_type": "code",
   "execution_count": 1,
   "metadata": {
    "ExecuteTime": {
     "end_time": "2017-08-31T22:13:46.914949Z",
     "start_time": "2017-08-31T22:13:27.177145Z"
    }
   },
   "outputs": [
    {
     "name": "stderr",
     "output_type": "stream",
     "text": [
      "Using TensorFlow backend.\n"
     ]
    }
   ],
   "source": [
    "import cv2\n",
    "import numpy as np\n",
    "import pandas as pd\n",
    "\n",
    "from keras.callbacks import EarlyStopping, ReduceLROnPlateau, ModelCheckpoint, TensorBoard\n",
    "from keras.models import Model\n",
    "from keras.layers import Input, concatenate, Conv2D, MaxPooling2D, Activation, UpSampling2D, BatchNormalization\n",
    "from keras.optimizers import RMSprop\n",
    "from keras.losses import binary_crossentropy\n",
    "import keras.backend as K\n",
    "\n",
    "from sklearn.model_selection import train_test_split"
   ]
  },
  {
   "cell_type": "markdown",
   "metadata": {},
   "source": [
    "# Define loss functions"
   ]
  },
  {
   "cell_type": "code",
   "execution_count": 2,
   "metadata": {
    "ExecuteTime": {
     "end_time": "2017-08-31T22:13:46.922970Z",
     "start_time": "2017-08-31T22:13:46.916601Z"
    },
    "collapsed": true
   },
   "outputs": [],
   "source": [
    "def dice_loss(y_true, y_pred):\n",
    "    smooth = 1.\n",
    "    y_true_f = K.flatten(y_true)\n",
    "    y_pred_f = K.flatten(y_pred)\n",
    "    intersection = K.sum(y_true_f * y_pred_f)\n",
    "    return (2. * intersection + smooth) / (K.sum(y_true_f) + K.sum(y_pred_f) + smooth)\n",
    "\n",
    "\n",
    "def bce_dice_loss(y_true, y_pred):\n",
    "    return binary_crossentropy(y_true, y_pred) + (1 - dice_loss(y_true, y_pred))"
   ]
  },
  {
   "cell_type": "markdown",
   "metadata": {},
   "source": [
    "# Define models"
   ]
  },
  {
   "cell_type": "code",
   "execution_count": 3,
   "metadata": {
    "ExecuteTime": {
     "end_time": "2017-08-31T22:13:46.937795Z",
     "start_time": "2017-08-31T22:13:46.924868Z"
    },
    "collapsed": true
   },
   "outputs": [],
   "source": [
    "def unet_down_one_block(inputs, num_filters):\n",
    "    x = Conv2D(num_filters, (3, 3), padding='same')(inputs)\n",
    "    x = BatchNormalization()(x)\n",
    "    x = Activation('relu')(x)\n",
    "    x = Conv2D(num_filters, (3, 3), padding='same')(x)\n",
    "    x = BatchNormalization()(x)\n",
    "    x = Activation('relu')(x)\n",
    "    return x"
   ]
  },
  {
   "cell_type": "code",
   "execution_count": 4,
   "metadata": {
    "ExecuteTime": {
     "end_time": "2017-08-31T22:13:46.944178Z",
     "start_time": "2017-08-31T22:13:46.939620Z"
    },
    "collapsed": true
   },
   "outputs": [],
   "source": [
    "def unet_max_pool(inputs):\n",
    "    x = MaxPooling2D((2, 2), strides=(2, 2))(inputs)\n",
    "    return x"
   ]
  },
  {
   "cell_type": "code",
   "execution_count": 5,
   "metadata": {
    "ExecuteTime": {
     "end_time": "2017-08-31T22:13:46.956137Z",
     "start_time": "2017-08-31T22:13:46.945886Z"
    },
    "collapsed": true
   },
   "outputs": [],
   "source": [
    "def unet_up_one_block(up_input, down_input, num_filters):\n",
    "    x = UpSampling2D((2,2))(up_input)\n",
    "    x = concatenate([down_input, x], axis=3)\n",
    "    x = Conv2D(num_filters, (3,3), padding='same')(x)\n",
    "    x = BatchNormalization()(x)\n",
    "    x = Activation('relu')(x)\n",
    "    x = Conv2D(num_filters, (3,3), padding='same')(x)\n",
    "    x = BatchNormalization()(x)\n",
    "    x = Activation('relu')(x)\n",
    "    x = Conv2D(num_filters, (3,3), padding='same')(x)\n",
    "    x = BatchNormalization()(x)\n",
    "    x = Activation('relu')(x)\n",
    "    return x"
   ]
  },
  {
   "cell_type": "code",
   "execution_count": 6,
   "metadata": {
    "ExecuteTime": {
     "end_time": "2017-08-31T22:13:46.979132Z",
     "start_time": "2017-08-31T22:13:46.958025Z"
    },
    "collapsed": true
   },
   "outputs": [],
   "source": [
    "def get_unet(input_shape = (256, 256, 3),\n",
    "             num_classes = 1,\n",
    "             initial_filters = 32,\n",
    "             central_filters = 1024):\n",
    "    \n",
    "    num_filters = initial_filters\n",
    "    \n",
    "    out_list    = [Input(shape=input_shape)]\n",
    "    down_interim_list = []\n",
    "    \n",
    "    while num_filters <= central_filters/2:\n",
    "        x = unet_down_one_block(out_list[-1], num_filters)\n",
    "        down_interim_list.append(x)\n",
    "        num_filters = num_filters * 2\n",
    "        y = unet_max_pool(x)\n",
    "        out_list.append(y)\n",
    "    \n",
    "    x = unet_down_one_block(out_list[-1], num_filters)\n",
    "    out_list.append(x)\n",
    "    num_filters = int(num_filters / 2)\n",
    "    \n",
    "    while num_filters >= initial_filters:\n",
    "        x = unet_up_one_block(out_list[-1], down_interim_list.pop(), num_filters)\n",
    "        out_list.append(x)\n",
    "        num_filters = int(num_filters / 2)\n",
    "    \n",
    "    classify = Conv2D(num_classes, (1,1), activation = 'sigmoid')(out_list[-1])\n",
    "    \n",
    "    model = Model(inputs=out_list[0], outputs=classify)\n",
    "    \n",
    "    model.compile(optimizer=RMSprop(lr=0.0001),\n",
    "                  loss=bce_dice_loss,\n",
    "                  metrics=[dice_loss])\n",
    "    \n",
    "    return model"
   ]
  },
  {
   "cell_type": "code",
   "execution_count": 7,
   "metadata": {
    "ExecuteTime": {
     "end_time": "2017-08-31T22:13:48.566911Z",
     "start_time": "2017-08-31T22:13:46.980821Z"
    }
   },
   "outputs": [
    {
     "name": "stdout",
     "output_type": "stream",
     "text": [
      "____________________________________________________________________________________________________\n",
      "Layer (type)                     Output Shape          Param #     Connected to                     \n",
      "====================================================================================================\n",
      "input_1 (InputLayer)             (None, 256, 256, 3)   0                                            \n",
      "____________________________________________________________________________________________________\n",
      "conv2d_1 (Conv2D)                (None, 256, 256, 32)  896         input_1[0][0]                    \n",
      "____________________________________________________________________________________________________\n",
      "batch_normalization_1 (BatchNorm (None, 256, 256, 32)  128         conv2d_1[0][0]                   \n",
      "____________________________________________________________________________________________________\n",
      "activation_1 (Activation)        (None, 256, 256, 32)  0           batch_normalization_1[0][0]      \n",
      "____________________________________________________________________________________________________\n",
      "conv2d_2 (Conv2D)                (None, 256, 256, 32)  9248        activation_1[0][0]               \n",
      "____________________________________________________________________________________________________\n",
      "batch_normalization_2 (BatchNorm (None, 256, 256, 32)  128         conv2d_2[0][0]                   \n",
      "____________________________________________________________________________________________________\n",
      "activation_2 (Activation)        (None, 256, 256, 32)  0           batch_normalization_2[0][0]      \n",
      "____________________________________________________________________________________________________\n",
      "max_pooling2d_1 (MaxPooling2D)   (None, 128, 128, 32)  0           activation_2[0][0]               \n",
      "____________________________________________________________________________________________________\n",
      "conv2d_3 (Conv2D)                (None, 128, 128, 64)  18496       max_pooling2d_1[0][0]            \n",
      "____________________________________________________________________________________________________\n",
      "batch_normalization_3 (BatchNorm (None, 128, 128, 64)  256         conv2d_3[0][0]                   \n",
      "____________________________________________________________________________________________________\n",
      "activation_3 (Activation)        (None, 128, 128, 64)  0           batch_normalization_3[0][0]      \n",
      "____________________________________________________________________________________________________\n",
      "conv2d_4 (Conv2D)                (None, 128, 128, 64)  36928       activation_3[0][0]               \n",
      "____________________________________________________________________________________________________\n",
      "batch_normalization_4 (BatchNorm (None, 128, 128, 64)  256         conv2d_4[0][0]                   \n",
      "____________________________________________________________________________________________________\n",
      "activation_4 (Activation)        (None, 128, 128, 64)  0           batch_normalization_4[0][0]      \n",
      "____________________________________________________________________________________________________\n",
      "max_pooling2d_2 (MaxPooling2D)   (None, 64, 64, 64)    0           activation_4[0][0]               \n",
      "____________________________________________________________________________________________________\n",
      "conv2d_5 (Conv2D)                (None, 64, 64, 128)   73856       max_pooling2d_2[0][0]            \n",
      "____________________________________________________________________________________________________\n",
      "batch_normalization_5 (BatchNorm (None, 64, 64, 128)   512         conv2d_5[0][0]                   \n",
      "____________________________________________________________________________________________________\n",
      "activation_5 (Activation)        (None, 64, 64, 128)   0           batch_normalization_5[0][0]      \n",
      "____________________________________________________________________________________________________\n",
      "conv2d_6 (Conv2D)                (None, 64, 64, 128)   147584      activation_5[0][0]               \n",
      "____________________________________________________________________________________________________\n",
      "batch_normalization_6 (BatchNorm (None, 64, 64, 128)   512         conv2d_6[0][0]                   \n",
      "____________________________________________________________________________________________________\n",
      "activation_6 (Activation)        (None, 64, 64, 128)   0           batch_normalization_6[0][0]      \n",
      "____________________________________________________________________________________________________\n",
      "max_pooling2d_3 (MaxPooling2D)   (None, 32, 32, 128)   0           activation_6[0][0]               \n",
      "____________________________________________________________________________________________________\n",
      "conv2d_7 (Conv2D)                (None, 32, 32, 256)   295168      max_pooling2d_3[0][0]            \n",
      "____________________________________________________________________________________________________\n",
      "batch_normalization_7 (BatchNorm (None, 32, 32, 256)   1024        conv2d_7[0][0]                   \n",
      "____________________________________________________________________________________________________\n",
      "activation_7 (Activation)        (None, 32, 32, 256)   0           batch_normalization_7[0][0]      \n",
      "____________________________________________________________________________________________________\n",
      "conv2d_8 (Conv2D)                (None, 32, 32, 256)   590080      activation_7[0][0]               \n",
      "____________________________________________________________________________________________________\n",
      "batch_normalization_8 (BatchNorm (None, 32, 32, 256)   1024        conv2d_8[0][0]                   \n",
      "____________________________________________________________________________________________________\n",
      "activation_8 (Activation)        (None, 32, 32, 256)   0           batch_normalization_8[0][0]      \n",
      "____________________________________________________________________________________________________\n",
      "max_pooling2d_4 (MaxPooling2D)   (None, 16, 16, 256)   0           activation_8[0][0]               \n",
      "____________________________________________________________________________________________________\n",
      "conv2d_9 (Conv2D)                (None, 16, 16, 512)   1180160     max_pooling2d_4[0][0]            \n",
      "____________________________________________________________________________________________________\n",
      "batch_normalization_9 (BatchNorm (None, 16, 16, 512)   2048        conv2d_9[0][0]                   \n",
      "____________________________________________________________________________________________________\n",
      "activation_9 (Activation)        (None, 16, 16, 512)   0           batch_normalization_9[0][0]      \n",
      "____________________________________________________________________________________________________\n",
      "conv2d_10 (Conv2D)               (None, 16, 16, 512)   2359808     activation_9[0][0]               \n",
      "____________________________________________________________________________________________________\n",
      "batch_normalization_10 (BatchNor (None, 16, 16, 512)   2048        conv2d_10[0][0]                  \n",
      "____________________________________________________________________________________________________\n",
      "activation_10 (Activation)       (None, 16, 16, 512)   0           batch_normalization_10[0][0]     \n",
      "____________________________________________________________________________________________________\n",
      "max_pooling2d_5 (MaxPooling2D)   (None, 8, 8, 512)     0           activation_10[0][0]              \n",
      "____________________________________________________________________________________________________\n",
      "conv2d_11 (Conv2D)               (None, 8, 8, 1024)    4719616     max_pooling2d_5[0][0]            \n",
      "____________________________________________________________________________________________________\n",
      "batch_normalization_11 (BatchNor (None, 8, 8, 1024)    4096        conv2d_11[0][0]                  \n",
      "____________________________________________________________________________________________________\n",
      "activation_11 (Activation)       (None, 8, 8, 1024)    0           batch_normalization_11[0][0]     \n",
      "____________________________________________________________________________________________________\n",
      "conv2d_12 (Conv2D)               (None, 8, 8, 1024)    9438208     activation_11[0][0]              \n",
      "____________________________________________________________________________________________________\n",
      "batch_normalization_12 (BatchNor (None, 8, 8, 1024)    4096        conv2d_12[0][0]                  \n",
      "____________________________________________________________________________________________________\n",
      "activation_12 (Activation)       (None, 8, 8, 1024)    0           batch_normalization_12[0][0]     \n",
      "____________________________________________________________________________________________________\n",
      "up_sampling2d_1 (UpSampling2D)   (None, 16, 16, 1024)  0           activation_12[0][0]              \n",
      "____________________________________________________________________________________________________\n",
      "concatenate_1 (Concatenate)      (None, 16, 16, 1536)  0           activation_10[0][0]              \n",
      "                                                                   up_sampling2d_1[0][0]            \n",
      "____________________________________________________________________________________________________\n",
      "conv2d_13 (Conv2D)               (None, 16, 16, 512)   7078400     concatenate_1[0][0]              \n",
      "____________________________________________________________________________________________________\n",
      "batch_normalization_13 (BatchNor (None, 16, 16, 512)   2048        conv2d_13[0][0]                  \n",
      "____________________________________________________________________________________________________\n",
      "activation_13 (Activation)       (None, 16, 16, 512)   0           batch_normalization_13[0][0]     \n",
      "____________________________________________________________________________________________________\n",
      "conv2d_14 (Conv2D)               (None, 16, 16, 512)   2359808     activation_13[0][0]              \n",
      "____________________________________________________________________________________________________\n",
      "batch_normalization_14 (BatchNor (None, 16, 16, 512)   2048        conv2d_14[0][0]                  \n",
      "____________________________________________________________________________________________________\n",
      "activation_14 (Activation)       (None, 16, 16, 512)   0           batch_normalization_14[0][0]     \n",
      "____________________________________________________________________________________________________\n",
      "conv2d_15 (Conv2D)               (None, 16, 16, 512)   2359808     activation_14[0][0]              \n",
      "____________________________________________________________________________________________________\n",
      "batch_normalization_15 (BatchNor (None, 16, 16, 512)   2048        conv2d_15[0][0]                  \n",
      "____________________________________________________________________________________________________\n",
      "activation_15 (Activation)       (None, 16, 16, 512)   0           batch_normalization_15[0][0]     \n",
      "____________________________________________________________________________________________________\n",
      "up_sampling2d_2 (UpSampling2D)   (None, 32, 32, 512)   0           activation_15[0][0]              \n",
      "____________________________________________________________________________________________________\n",
      "concatenate_2 (Concatenate)      (None, 32, 32, 768)   0           activation_8[0][0]               \n",
      "                                                                   up_sampling2d_2[0][0]            \n",
      "____________________________________________________________________________________________________\n",
      "conv2d_16 (Conv2D)               (None, 32, 32, 256)   1769728     concatenate_2[0][0]              \n",
      "____________________________________________________________________________________________________\n",
      "batch_normalization_16 (BatchNor (None, 32, 32, 256)   1024        conv2d_16[0][0]                  \n",
      "____________________________________________________________________________________________________\n",
      "activation_16 (Activation)       (None, 32, 32, 256)   0           batch_normalization_16[0][0]     \n",
      "____________________________________________________________________________________________________\n",
      "conv2d_17 (Conv2D)               (None, 32, 32, 256)   590080      activation_16[0][0]              \n",
      "____________________________________________________________________________________________________\n",
      "batch_normalization_17 (BatchNor (None, 32, 32, 256)   1024        conv2d_17[0][0]                  \n",
      "____________________________________________________________________________________________________\n",
      "activation_17 (Activation)       (None, 32, 32, 256)   0           batch_normalization_17[0][0]     \n",
      "____________________________________________________________________________________________________\n",
      "conv2d_18 (Conv2D)               (None, 32, 32, 256)   590080      activation_17[0][0]              \n",
      "____________________________________________________________________________________________________\n",
      "batch_normalization_18 (BatchNor (None, 32, 32, 256)   1024        conv2d_18[0][0]                  \n",
      "____________________________________________________________________________________________________\n",
      "activation_18 (Activation)       (None, 32, 32, 256)   0           batch_normalization_18[0][0]     \n",
      "____________________________________________________________________________________________________\n",
      "up_sampling2d_3 (UpSampling2D)   (None, 64, 64, 256)   0           activation_18[0][0]              \n",
      "____________________________________________________________________________________________________\n",
      "concatenate_3 (Concatenate)      (None, 64, 64, 384)   0           activation_6[0][0]               \n",
      "                                                                   up_sampling2d_3[0][0]            \n",
      "____________________________________________________________________________________________________\n",
      "conv2d_19 (Conv2D)               (None, 64, 64, 128)   442496      concatenate_3[0][0]              \n",
      "____________________________________________________________________________________________________\n",
      "batch_normalization_19 (BatchNor (None, 64, 64, 128)   512         conv2d_19[0][0]                  \n",
      "____________________________________________________________________________________________________\n",
      "activation_19 (Activation)       (None, 64, 64, 128)   0           batch_normalization_19[0][0]     \n",
      "____________________________________________________________________________________________________\n",
      "conv2d_20 (Conv2D)               (None, 64, 64, 128)   147584      activation_19[0][0]              \n",
      "____________________________________________________________________________________________________\n",
      "batch_normalization_20 (BatchNor (None, 64, 64, 128)   512         conv2d_20[0][0]                  \n",
      "____________________________________________________________________________________________________\n",
      "activation_20 (Activation)       (None, 64, 64, 128)   0           batch_normalization_20[0][0]     \n",
      "____________________________________________________________________________________________________\n",
      "conv2d_21 (Conv2D)               (None, 64, 64, 128)   147584      activation_20[0][0]              \n",
      "____________________________________________________________________________________________________\n",
      "batch_normalization_21 (BatchNor (None, 64, 64, 128)   512         conv2d_21[0][0]                  \n",
      "____________________________________________________________________________________________________\n",
      "activation_21 (Activation)       (None, 64, 64, 128)   0           batch_normalization_21[0][0]     \n",
      "____________________________________________________________________________________________________\n",
      "up_sampling2d_4 (UpSampling2D)   (None, 128, 128, 128) 0           activation_21[0][0]              \n",
      "____________________________________________________________________________________________________\n",
      "concatenate_4 (Concatenate)      (None, 128, 128, 192) 0           activation_4[0][0]               \n",
      "                                                                   up_sampling2d_4[0][0]            \n",
      "____________________________________________________________________________________________________\n",
      "conv2d_22 (Conv2D)               (None, 128, 128, 64)  110656      concatenate_4[0][0]              \n",
      "____________________________________________________________________________________________________\n",
      "batch_normalization_22 (BatchNor (None, 128, 128, 64)  256         conv2d_22[0][0]                  \n",
      "____________________________________________________________________________________________________\n",
      "activation_22 (Activation)       (None, 128, 128, 64)  0           batch_normalization_22[0][0]     \n",
      "____________________________________________________________________________________________________\n",
      "conv2d_23 (Conv2D)               (None, 128, 128, 64)  36928       activation_22[0][0]              \n",
      "____________________________________________________________________________________________________\n",
      "batch_normalization_23 (BatchNor (None, 128, 128, 64)  256         conv2d_23[0][0]                  \n",
      "____________________________________________________________________________________________________\n",
      "activation_23 (Activation)       (None, 128, 128, 64)  0           batch_normalization_23[0][0]     \n",
      "____________________________________________________________________________________________________\n",
      "conv2d_24 (Conv2D)               (None, 128, 128, 64)  36928       activation_23[0][0]              \n",
      "____________________________________________________________________________________________________\n",
      "batch_normalization_24 (BatchNor (None, 128, 128, 64)  256         conv2d_24[0][0]                  \n",
      "____________________________________________________________________________________________________\n",
      "activation_24 (Activation)       (None, 128, 128, 64)  0           batch_normalization_24[0][0]     \n",
      "____________________________________________________________________________________________________\n",
      "up_sampling2d_5 (UpSampling2D)   (None, 256, 256, 64)  0           activation_24[0][0]              \n",
      "____________________________________________________________________________________________________\n",
      "concatenate_5 (Concatenate)      (None, 256, 256, 96)  0           activation_2[0][0]               \n",
      "                                                                   up_sampling2d_5[0][0]            \n",
      "____________________________________________________________________________________________________\n",
      "conv2d_25 (Conv2D)               (None, 256, 256, 32)  27680       concatenate_5[0][0]              \n",
      "____________________________________________________________________________________________________\n",
      "batch_normalization_25 (BatchNor (None, 256, 256, 32)  128         conv2d_25[0][0]                  \n",
      "____________________________________________________________________________________________________\n",
      "activation_25 (Activation)       (None, 256, 256, 32)  0           batch_normalization_25[0][0]     \n",
      "____________________________________________________________________________________________________\n",
      "conv2d_26 (Conv2D)               (None, 256, 256, 32)  9248        activation_25[0][0]              \n",
      "____________________________________________________________________________________________________\n",
      "batch_normalization_26 (BatchNor (None, 256, 256, 32)  128         conv2d_26[0][0]                  \n",
      "____________________________________________________________________________________________________\n",
      "activation_26 (Activation)       (None, 256, 256, 32)  0           batch_normalization_26[0][0]     \n",
      "____________________________________________________________________________________________________\n",
      "conv2d_27 (Conv2D)               (None, 256, 256, 32)  9248        activation_26[0][0]              \n",
      "____________________________________________________________________________________________________\n",
      "batch_normalization_27 (BatchNor (None, 256, 256, 32)  128         conv2d_27[0][0]                  \n",
      "____________________________________________________________________________________________________\n",
      "activation_27 (Activation)       (None, 256, 256, 32)  0           batch_normalization_27[0][0]     \n",
      "____________________________________________________________________________________________________\n",
      "conv2d_28 (Conv2D)               (None, 256, 256, 1)   33          activation_27[0][0]              \n",
      "====================================================================================================\n",
      "Total params: 34,614,369\n",
      "Trainable params: 34,600,353\n",
      "Non-trainable params: 14,016\n",
      "____________________________________________________________________________________________________\n"
     ]
    }
   ],
   "source": [
    "model = get_unet()\n",
    "model.summary()"
   ]
  },
  {
   "cell_type": "code",
   "execution_count": 8,
   "metadata": {
    "ExecuteTime": {
     "end_time": "2017-08-31T22:13:50.477303Z",
     "start_time": "2017-08-31T22:13:48.568628Z"
    }
   },
   "outputs": [
    {
     "data": {
      "text/html": [
       "<a href='model-256.png' target='_blank'>model-256.png</a><br>"
      ],
      "text/plain": [
       "/home/ubuntu/extvol/kaggle-carvana-image-masking-challenge/model-256.png"
      ]
     },
     "execution_count": 8,
     "metadata": {},
     "output_type": "execute_result"
    }
   ],
   "source": [
    "from keras.utils import plot_model  \n",
    "plot_model(model, to_file='model-256.png', show_shapes=True, show_layer_names=True)  \n",
    "from IPython.display import FileLink\n",
    "FileLink('model-256.png')"
   ]
  },
  {
   "cell_type": "markdown",
   "metadata": {},
   "source": [
    "# Modeling"
   ]
  },
  {
   "cell_type": "code",
   "execution_count": 9,
   "metadata": {
    "ExecuteTime": {
     "end_time": "2017-08-31T22:13:50.483405Z",
     "start_time": "2017-08-31T22:13:50.479199Z"
    },
    "collapsed": true
   },
   "outputs": [],
   "source": [
    "input_size = 256\n",
    "max_epochs = 50\n",
    "batch_size = 16\n",
    "orig_width = 1918\n",
    "orig_height= 1280\n",
    "threshold  = 0.5"
   ]
  },
  {
   "cell_type": "code",
   "execution_count": 10,
   "metadata": {
    "ExecuteTime": {
     "end_time": "2017-08-31T22:13:50.920644Z",
     "start_time": "2017-08-31T22:13:50.485342Z"
    },
    "collapsed": true
   },
   "outputs": [],
   "source": [
    "df_train = pd.read_csv('data/train_masks.csv')"
   ]
  },
  {
   "cell_type": "code",
   "execution_count": 11,
   "metadata": {
    "ExecuteTime": {
     "end_time": "2017-08-31T22:13:50.931660Z",
     "start_time": "2017-08-31T22:13:50.922210Z"
    }
   },
   "outputs": [
    {
     "data": {
      "text/html": [
       "<div>\n",
       "<style>\n",
       "    .dataframe thead tr:only-child th {\n",
       "        text-align: right;\n",
       "    }\n",
       "\n",
       "    .dataframe thead th {\n",
       "        text-align: left;\n",
       "    }\n",
       "\n",
       "    .dataframe tbody tr th {\n",
       "        vertical-align: top;\n",
       "    }\n",
       "</style>\n",
       "<table border=\"1\" class=\"dataframe\">\n",
       "  <thead>\n",
       "    <tr style=\"text-align: right;\">\n",
       "      <th></th>\n",
       "      <th>img</th>\n",
       "      <th>rle_mask</th>\n",
       "    </tr>\n",
       "  </thead>\n",
       "  <tbody>\n",
       "    <tr>\n",
       "      <th>0</th>\n",
       "      <td>00087a6bd4dc_01.jpg</td>\n",
       "      <td>879386 40 881253 141 883140 205 885009 17 8850...</td>\n",
       "    </tr>\n",
       "    <tr>\n",
       "      <th>1</th>\n",
       "      <td>00087a6bd4dc_02.jpg</td>\n",
       "      <td>873779 4 875695 7 877612 9 879528 12 881267 15...</td>\n",
       "    </tr>\n",
       "    <tr>\n",
       "      <th>2</th>\n",
       "      <td>00087a6bd4dc_03.jpg</td>\n",
       "      <td>864300 9 866217 13 868134 15 870051 16 871969 ...</td>\n",
       "    </tr>\n",
       "    <tr>\n",
       "      <th>3</th>\n",
       "      <td>00087a6bd4dc_04.jpg</td>\n",
       "      <td>879735 20 881650 26 883315 92 883564 30 885208...</td>\n",
       "    </tr>\n",
       "    <tr>\n",
       "      <th>4</th>\n",
       "      <td>00087a6bd4dc_05.jpg</td>\n",
       "      <td>883365 74 883638 28 885262 119 885550 34 88716...</td>\n",
       "    </tr>\n",
       "  </tbody>\n",
       "</table>\n",
       "</div>"
      ],
      "text/plain": [
       "                   img                                           rle_mask\n",
       "0  00087a6bd4dc_01.jpg  879386 40 881253 141 883140 205 885009 17 8850...\n",
       "1  00087a6bd4dc_02.jpg  873779 4 875695 7 877612 9 879528 12 881267 15...\n",
       "2  00087a6bd4dc_03.jpg  864300 9 866217 13 868134 15 870051 16 871969 ...\n",
       "3  00087a6bd4dc_04.jpg  879735 20 881650 26 883315 92 883564 30 885208...\n",
       "4  00087a6bd4dc_05.jpg  883365 74 883638 28 885262 119 885550 34 88716..."
      ]
     },
     "execution_count": 11,
     "metadata": {},
     "output_type": "execute_result"
    }
   ],
   "source": [
    "df_train.head()"
   ]
  },
  {
   "cell_type": "code",
   "execution_count": 12,
   "metadata": {
    "ExecuteTime": {
     "end_time": "2017-08-31T22:13:50.940228Z",
     "start_time": "2017-08-31T22:13:50.933653Z"
    },
    "collapsed": true
   },
   "outputs": [],
   "source": [
    "ids_train = df_train['img'].map(lambda s: s.split('.')[0])"
   ]
  },
  {
   "cell_type": "code",
   "execution_count": 13,
   "metadata": {
    "ExecuteTime": {
     "end_time": "2017-08-31T22:13:50.946807Z",
     "start_time": "2017-08-31T22:13:50.942036Z"
    },
    "collapsed": true
   },
   "outputs": [],
   "source": [
    "ids_train_split, ids_valid_split = train_test_split(ids_train, test_size=0.2, random_state=42)"
   ]
  },
  {
   "cell_type": "code",
   "execution_count": 14,
   "metadata": {
    "ExecuteTime": {
     "end_time": "2017-08-31T22:13:50.960210Z",
     "start_time": "2017-08-31T22:13:50.948780Z"
    },
    "collapsed": true
   },
   "outputs": [],
   "source": [
    "def randomHueSaturationValue(image, hue_shift_limit=(-180, 180),\n",
    "                             sat_shift_limit=(-255, 255),\n",
    "                             val_shift_limit=(-255, 255), u=0.5):\n",
    "    if np.random.random() < u:\n",
    "        image = cv2.cvtColor(image, cv2.COLOR_BGR2HSV)\n",
    "        h, s, v = cv2.split(image)\n",
    "        hue_shift = np.random.uniform(hue_shift_limit[0], hue_shift_limit[1])\n",
    "        h = cv2.add(h, hue_shift)\n",
    "        sat_shift = np.random.uniform(sat_shift_limit[0], sat_shift_limit[1])\n",
    "        s = cv2.add(s, sat_shift)\n",
    "        val_shift = np.random.uniform(val_shift_limit[0], val_shift_limit[1])\n",
    "        v = cv2.add(v, val_shift)\n",
    "        image = cv2.merge((h, s, v))\n",
    "        image = cv2.cvtColor(image, cv2.COLOR_HSV2BGR)\n",
    "\n",
    "    return image"
   ]
  },
  {
   "cell_type": "code",
   "execution_count": 15,
   "metadata": {
    "ExecuteTime": {
     "end_time": "2017-08-31T22:13:50.995232Z",
     "start_time": "2017-08-31T22:13:50.962142Z"
    },
    "collapsed": true
   },
   "outputs": [],
   "source": [
    "def randomShiftScaleRotate(image, mask,\n",
    "                           shift_limit=(-0.0625, 0.0625),\n",
    "                           scale_limit=(-0.1, 0.1),\n",
    "                           rotate_limit=(-45, 45), aspect_limit=(0, 0),\n",
    "                           borderMode=cv2.BORDER_CONSTANT, u=0.5):\n",
    "    if np.random.random() < u:\n",
    "        height, width, channel = image.shape\n",
    "\n",
    "        angle = np.random.uniform(rotate_limit[0], rotate_limit[1])  # degree\n",
    "        scale = np.random.uniform(1 + scale_limit[0], 1 + scale_limit[1])\n",
    "        aspect = np.random.uniform(1 + aspect_limit[0], 1 + aspect_limit[1])\n",
    "        sx = scale * aspect / (aspect ** 0.5)\n",
    "        sy = scale / (aspect ** 0.5)\n",
    "        dx = round(np.random.uniform(shift_limit[0], shift_limit[1]) * width)\n",
    "        dy = round(np.random.uniform(shift_limit[0], shift_limit[1]) * height)\n",
    "\n",
    "        cc = np.math.cos(angle / 180 * np.math.pi) * sx\n",
    "        ss = np.math.sin(angle / 180 * np.math.pi) * sy\n",
    "        rotate_matrix = np.array([[cc, -ss], [ss, cc]])\n",
    "\n",
    "        box0 = np.array([[0, 0], [width, 0], [width, height], [0, height], ])\n",
    "        box1 = box0 - np.array([width / 2, height / 2])\n",
    "        box1 = np.dot(box1, rotate_matrix.T) + np.array([width / 2 + dx, height / 2 + dy])\n",
    "\n",
    "        box0 = box0.astype(np.float32)\n",
    "        box1 = box1.astype(np.float32)\n",
    "        mat = cv2.getPerspectiveTransform(box0, box1)\n",
    "        image = cv2.warpPerspective(image, mat, (width, height), flags=cv2.INTER_LINEAR, borderMode=borderMode,\n",
    "                                    borderValue=(\n",
    "                                        0, 0,\n",
    "                                        0,))\n",
    "        mask = cv2.warpPerspective(mask, mat, (width, height), flags=cv2.INTER_LINEAR, borderMode=borderMode,\n",
    "                                   borderValue=(\n",
    "                                       0, 0,\n",
    "                                       0,))\n",
    "\n",
    "    return image, mask\n"
   ]
  },
  {
   "cell_type": "code",
   "execution_count": 16,
   "metadata": {
    "ExecuteTime": {
     "end_time": "2017-08-31T22:13:51.002414Z",
     "start_time": "2017-08-31T22:13:50.997099Z"
    },
    "collapsed": true
   },
   "outputs": [],
   "source": [
    "def randomHorizontalFlip(image, mask, u=0.5):\n",
    "    if np.random.random() < u:\n",
    "        image = cv2.flip(image, 1)\n",
    "        mask = cv2.flip(mask, 1)\n",
    "\n",
    "    return image, mask\n"
   ]
  },
  {
   "cell_type": "code",
   "execution_count": 25,
   "metadata": {
    "ExecuteTime": {
     "end_time": "2017-08-31T22:26:35.264998Z",
     "start_time": "2017-08-31T22:26:35.262311Z"
    },
    "collapsed": true
   },
   "outputs": [],
   "source": [
    "import random"
   ]
  },
  {
   "cell_type": "code",
   "execution_count": 26,
   "metadata": {
    "ExecuteTime": {
     "end_time": "2017-08-31T22:28:00.971075Z",
     "start_time": "2017-08-31T22:28:00.950933Z"
    },
    "collapsed": true
   },
   "outputs": [],
   "source": [
    "def train_generator():\n",
    "    while True:\n",
    "        this_ids_train_split = random.sample(list(ids_train_split), len(ids_train_split))\n",
    "        for start in range(0, len(ids_train_split), batch_size):\n",
    "            x_batch = []\n",
    "            y_batch = []\n",
    "            end = min(start + batch_size, len(ids_train_split))\n",
    "            ids_train_batch = this_ids_train_split[start:end]\n",
    "            for id in ids_train_batch:\n",
    "                img = cv2.imread('data/train/{}.jpg'.format(id))\n",
    "                img = cv2.resize(img, (input_size, input_size))\n",
    "                mask = cv2.imread('data/train_masks/{}_mask.png'.format(id), cv2.IMREAD_GRAYSCALE)\n",
    "                mask = cv2.resize(mask, (input_size, input_size))\n",
    "                img = randomHueSaturationValue(img,\n",
    "                                               hue_shift_limit=(-50, 50),\n",
    "                                               sat_shift_limit=(-5, 5),\n",
    "                                               val_shift_limit=(-15, 15))\n",
    "                img, mask = randomShiftScaleRotate(img, mask,\n",
    "                                                   shift_limit=(-0.0625, 0.0625),\n",
    "                                                   scale_limit=(-0.1, 0.1),\n",
    "                                                   rotate_limit=(-0, 0))\n",
    "                img, mask = randomHorizontalFlip(img, mask)\n",
    "                mask = np.expand_dims(mask, axis=2)\n",
    "                x_batch.append(img)\n",
    "                y_batch.append(mask)\n",
    "            x_batch = np.array(x_batch, np.float32) / 255\n",
    "            y_batch = np.array(y_batch, np.float32) / 255\n",
    "            yield x_batch, y_batch\n"
   ]
  },
  {
   "cell_type": "code",
   "execution_count": 27,
   "metadata": {
    "ExecuteTime": {
     "end_time": "2017-08-31T22:28:14.016962Z",
     "start_time": "2017-08-31T22:28:14.002841Z"
    },
    "collapsed": true
   },
   "outputs": [],
   "source": [
    "def valid_generator():\n",
    "    while True:\n",
    "        for start in range(0, len(ids_valid_split), batch_size):\n",
    "            x_batch = []\n",
    "            y_batch = []\n",
    "            end = min(start + batch_size, len(ids_valid_split))\n",
    "            ids_valid_batch = ids_valid_split[start:end]\n",
    "            for id in ids_valid_batch.values:\n",
    "                img = cv2.imread('data/train/{}.jpg'.format(id))\n",
    "                img = cv2.resize(img, (input_size, input_size))\n",
    "                mask = cv2.imread('data/train_masks/{}_mask.png'.format(id), cv2.IMREAD_GRAYSCALE)\n",
    "                mask = cv2.resize(mask, (input_size, input_size))\n",
    "                mask = np.expand_dims(mask, axis=2)\n",
    "                x_batch.append(img)\n",
    "                y_batch.append(mask)\n",
    "            x_batch = np.array(x_batch, np.float32) / 255\n",
    "            y_batch = np.array(y_batch, np.float32) / 255\n",
    "            yield x_batch, y_batch\n",
    "\n"
   ]
  },
  {
   "cell_type": "code",
   "execution_count": 19,
   "metadata": {
    "ExecuteTime": {
     "end_time": "2017-08-21T20:12:37.494607Z",
     "start_time": "2017-08-21T11:48:50.815706Z"
    },
    "collapsed": true
   },
   "outputs": [
    {
     "name": "stdout",
     "output_type": "stream",
     "text": [
      "Epoch 1/50\n",
      "618s - loss: 0.4124 - dice_loss: 0.7561 - val_loss: 1.3344 - val_dice_loss: 0.1860\n",
      "Epoch 2/50\n",
      "603s - loss: 0.2523 - dice_loss: 0.8389 - val_loss: 0.2086 - val_dice_loss: 0.8655\n",
      "Epoch 3/50\n",
      "603s - loss: 0.1873 - dice_loss: 0.8785 - val_loss: 0.1713 - val_dice_loss: 0.8939\n",
      "Epoch 4/50\n",
      "603s - loss: 0.1378 - dice_loss: 0.9100 - val_loss: 0.1186 - val_dice_loss: 0.9241\n",
      "Epoch 5/50\n",
      "603s - loss: 0.1000 - dice_loss: 0.9350 - val_loss: 0.0905 - val_dice_loss: 0.9441\n",
      "Epoch 6/50\n",
      "603s - loss: 0.0732 - dice_loss: 0.9530 - val_loss: 0.0603 - val_dice_loss: 0.9620\n",
      "Epoch 7/50\n",
      "604s - loss: 0.0545 - dice_loss: 0.9657 - val_loss: 0.0440 - val_dice_loss: 0.9727\n",
      "Epoch 8/50\n",
      "604s - loss: 0.0415 - dice_loss: 0.9746 - val_loss: 0.0340 - val_dice_loss: 0.9797\n",
      "Epoch 9/50\n",
      "603s - loss: 0.0331 - dice_loss: 0.9805 - val_loss: 0.0271 - val_dice_loss: 0.9844\n",
      "Epoch 10/50\n",
      "603s - loss: 0.0273 - dice_loss: 0.9845 - val_loss: 0.0225 - val_dice_loss: 0.9874\n",
      "Epoch 11/50\n",
      "603s - loss: 0.0240 - dice_loss: 0.9869 - val_loss: 0.0195 - val_dice_loss: 0.9892\n",
      "Epoch 12/50\n",
      "603s - loss: 0.0215 - dice_loss: 0.9884 - val_loss: 0.0188 - val_dice_loss: 0.9900\n",
      "Epoch 13/50\n",
      "603s - loss: 0.0198 - dice_loss: 0.9895 - val_loss: 0.0356 - val_dice_loss: 0.9839\n",
      "Epoch 14/50\n",
      "604s - loss: 0.0189 - dice_loss: 0.9901 - val_loss: 0.0178 - val_dice_loss: 0.9909\n",
      "Epoch 15/50\n",
      "604s - loss: 0.0181 - dice_loss: 0.9906 - val_loss: 0.0159 - val_dice_loss: 0.9918\n",
      "Epoch 16/50\n",
      "604s - loss: 0.0175 - dice_loss: 0.9909 - val_loss: 0.0142 - val_dice_loss: 0.9927\n",
      "Epoch 17/50\n",
      "603s - loss: 0.0170 - dice_loss: 0.9912 - val_loss: 0.0148 - val_dice_loss: 0.9924\n",
      "Epoch 18/50\n",
      "604s - loss: 0.0166 - dice_loss: 0.9914 - val_loss: 0.0135 - val_dice_loss: 0.9930\n",
      "Epoch 19/50\n",
      "603s - loss: 0.0164 - dice_loss: 0.9915 - val_loss: 0.0136 - val_dice_loss: 0.9928\n",
      "Epoch 20/50\n",
      "604s - loss: 0.0163 - dice_loss: 0.9916 - val_loss: 0.0132 - val_dice_loss: 0.9932\n",
      "Epoch 21/50\n",
      "605s - loss: 0.0160 - dice_loss: 0.9917 - val_loss: 0.0135 - val_dice_loss: 0.9932\n",
      "Epoch 22/50\n",
      "604s - loss: 0.0168 - dice_loss: 0.9915 - val_loss: 0.0131 - val_dice_loss: 0.9931\n",
      "Epoch 23/50\n",
      "605s - loss: 0.0156 - dice_loss: 0.9919 - val_loss: 0.0133 - val_dice_loss: 0.9933\n",
      "Epoch 24/50\n",
      "605s - loss: 0.0155 - dice_loss: 0.9920 - val_loss: 0.0126 - val_dice_loss: 0.9937\n",
      "Epoch 25/50\n",
      "603s - loss: 0.0154 - dice_loss: 0.9920 - val_loss: 0.0131 - val_dice_loss: 0.9934\n",
      "Epoch 26/50\n",
      "604s - loss: 0.0151 - dice_loss: 0.9922 - val_loss: 0.0121 - val_dice_loss: 0.9937\n",
      "Epoch 27/50\n",
      "604s - loss: 0.0150 - dice_loss: 0.9922 - val_loss: 0.0126 - val_dice_loss: 0.9936\n",
      "Epoch 28/50\n",
      "605s - loss: 0.0151 - dice_loss: 0.9922 - val_loss: 0.0121 - val_dice_loss: 0.9939\n",
      "Epoch 29/50\n",
      "604s - loss: 0.0148 - dice_loss: 0.9923 - val_loss: 0.0126 - val_dice_loss: 0.9936\n",
      "Epoch 30/50\n",
      "604s - loss: 0.0146 - dice_loss: 0.9924 - val_loss: 0.0133 - val_dice_loss: 0.9935\n",
      "Epoch 31/50\n",
      "605s - loss: 0.0143 - dice_loss: 0.9926 - val_loss: 0.0120 - val_dice_loss: 0.9939\n",
      "Epoch 32/50\n",
      "605s - loss: 0.0143 - dice_loss: 0.9926 - val_loss: 0.0116 - val_dice_loss: 0.9941\n",
      "Epoch 33/50\n",
      "604s - loss: 0.0144 - dice_loss: 0.9925 - val_loss: 0.0147 - val_dice_loss: 0.9931\n",
      "Epoch 34/50\n",
      "604s - loss: 0.0142 - dice_loss: 0.9926 - val_loss: 0.0118 - val_dice_loss: 0.9938\n",
      "Epoch 35/50\n",
      "604s - loss: 0.0142 - dice_loss: 0.9926 - val_loss: 0.0114 - val_dice_loss: 0.9941\n",
      "Epoch 36/50\n",
      "604s - loss: 0.0140 - dice_loss: 0.9927 - val_loss: 0.0115 - val_dice_loss: 0.9942\n",
      "Epoch 37/50\n",
      "604s - loss: 0.0139 - dice_loss: 0.9927 - val_loss: 0.0118 - val_dice_loss: 0.9942\n",
      "Epoch 38/50\n",
      "604s - loss: 0.0138 - dice_loss: 0.9928 - val_loss: 0.0116 - val_dice_loss: 0.9941\n",
      "Epoch 39/50\n",
      "603s - loss: 0.0140 - dice_loss: 0.9927 - val_loss: 0.0116 - val_dice_loss: 0.9942\n",
      "Epoch 40/50\n",
      "604s - loss: 0.0137 - dice_loss: 0.9929 - val_loss: 0.0111 - val_dice_loss: 0.9942\n",
      "Epoch 41/50\n",
      "603s - loss: 0.0135 - dice_loss: 0.9929 - val_loss: 0.0111 - val_dice_loss: 0.9945\n",
      "Epoch 42/50\n",
      "602s - loss: 0.0135 - dice_loss: 0.9929 - val_loss: 0.0113 - val_dice_loss: 0.9944\n",
      "Epoch 43/50\n",
      "603s - loss: 0.0134 - dice_loss: 0.9930 - val_loss: 0.0110 - val_dice_loss: 0.9945\n",
      "Epoch 44/50\n",
      "602s - loss: 0.0135 - dice_loss: 0.9930 - val_loss: 0.0118 - val_dice_loss: 0.9943\n",
      "Epoch 45/50\n",
      "602s - loss: 0.0134 - dice_loss: 0.9930 - val_loss: 0.0109 - val_dice_loss: 0.9945\n",
      "Epoch 46/50\n",
      "\n",
      "Epoch 00045: reducing learning rate to 9.999999747378752e-06.\n",
      "602s - loss: 0.0133 - dice_loss: 0.9930 - val_loss: 0.0111 - val_dice_loss: 0.9943\n",
      "Epoch 47/50\n",
      "602s - loss: 0.0128 - dice_loss: 0.9933 - val_loss: 0.0101 - val_dice_loss: 0.9950\n",
      "Epoch 48/50\n",
      "602s - loss: 0.0126 - dice_loss: 0.9934 - val_loss: 0.0101 - val_dice_loss: 0.9950\n",
      "Epoch 49/50\n",
      "603s - loss: 0.0125 - dice_loss: 0.9935 - val_loss: 0.0101 - val_dice_loss: 0.9950\n",
      "Epoch 50/50\n",
      "603s - loss: 0.0125 - dice_loss: 0.9934 - val_loss: 0.0101 - val_dice_loss: 0.9950\n"
     ]
    }
   ],
   "source": [
    "callbacks = [EarlyStopping(monitor='val_dice_loss',\n",
    "                           patience=8,\n",
    "                           verbose=1,\n",
    "                           min_delta=1e-4,\n",
    "                           mode='max'),\n",
    "             ReduceLROnPlateau(monitor='val_dice_loss',\n",
    "                               factor=0.1,\n",
    "                               patience=4,\n",
    "                               verbose=1,\n",
    "                               epsilon=1e-4,\n",
    "                               mode='max'),\n",
    "             ModelCheckpoint(monitor='val_dice_loss',\n",
    "                             filepath='weights/best_weights_256.hdf5',\n",
    "                             save_best_only=True,\n",
    "                             save_weights_only=True,\n",
    "                             mode='max'),\n",
    "             TensorBoard(log_dir='logs')]\n",
    "\n",
    "history = model.fit_generator(generator=train_generator(),\n",
    "                    steps_per_epoch=np.ceil(float(len(ids_train_split)) / float(batch_size)),\n",
    "                    epochs=max_epochs,\n",
    "                    verbose=2,\n",
    "                    callbacks=callbacks,\n",
    "                    validation_data=valid_generator(),\n",
    "                    validation_steps=np.ceil(float(len(ids_valid_split)) / float(batch_size)))"
   ]
  },
  {
   "cell_type": "code",
   "execution_count": 20,
   "metadata": {
    "ExecuteTime": {
     "end_time": "2017-08-21T20:12:37.506557Z",
     "start_time": "2017-08-21T20:12:37.496500Z"
    },
    "collapsed": true
   },
   "outputs": [
    {
     "data": {
      "text/plain": [
       "{'dice_loss': [0.75594394663920861,\n",
       "  0.8387984466494155,\n",
       "  0.87847793310221645,\n",
       "  0.90999219464435621,\n",
       "  0.93494624083985278,\n",
       "  0.95296886564765571,\n",
       "  0.96571102247777085,\n",
       "  0.97462732648380856,\n",
       "  0.98050666353333493,\n",
       "  0.98446642277574659,\n",
       "  0.98685171642233172,\n",
       "  0.98843232252673963,\n",
       "  0.98949682753560586,\n",
       "  0.99010561473246583,\n",
       "  0.99059495668153508,\n",
       "  0.99094349740471244,\n",
       "  0.99118088562892759,\n",
       "  0.99140826241097224,\n",
       "  0.99151267648036123,\n",
       "  0.99157389879812474,\n",
       "  0.99173083592398459,\n",
       "  0.99151521440805912,\n",
       "  0.99189391109808656,\n",
       "  0.99198338689616627,\n",
       "  0.99204955648731541,\n",
       "  0.99216880110030681,\n",
       "  0.99222421294641139,\n",
       "  0.99218946258910456,\n",
       "  0.99233051412521478,\n",
       "  0.99238912215689767,\n",
       "  0.99255463139723799,\n",
       "  0.99258896469776992,\n",
       "  0.99252466265048089,\n",
       "  0.99260341760860327,\n",
       "  0.99262467297640711,\n",
       "  0.99273240903085802,\n",
       "  0.99274809257990015,\n",
       "  0.99283124149870816,\n",
       "  0.99271254390112007,\n",
       "  0.99286384573732611,\n",
       "  0.992945481723298,\n",
       "  0.99294988493954517,\n",
       "  0.99301052758383224,\n",
       "  0.99298431126432862,\n",
       "  0.99300351315692836,\n",
       "  0.99304670821829566,\n",
       "  0.99328381883424388,\n",
       "  0.99342861295625096,\n",
       "  0.99346072407260866,\n",
       "  0.99344684843349218],\n",
       " 'loss': [0.41271256287502128,\n",
       "  0.25239637376928215,\n",
       "  0.18732212516101632,\n",
       "  0.13789007448813254,\n",
       "  0.10006026324314919,\n",
       "  0.073204739805521488,\n",
       "  0.054556152608968699,\n",
       "  0.041539615938206563,\n",
       "  0.033108311608726619,\n",
       "  0.027281919251715522,\n",
       "  0.023960603369029207,\n",
       "  0.021467806535248966,\n",
       "  0.019826261604007984,\n",
       "  0.018875619141197321,\n",
       "  0.018063972214882144,\n",
       "  0.017486923771020235,\n",
       "  0.017037254039207313,\n",
       "  0.016627140125346711,\n",
       "  0.016401563186189318,\n",
       "  0.016285620009210831,\n",
       "  0.016011990420062652,\n",
       "  0.016821892918327811,\n",
       "  0.015647276147687465,\n",
       "  0.015495777212046728,\n",
       "  0.015387804847421166,\n",
       "  0.015106099301660823,\n",
       "  0.01499790381457135,\n",
       "  0.015084189723911684,\n",
       "  0.0147583272463713,\n",
       "  0.014648063185210603,\n",
       "  0.014345054931169792,\n",
       "  0.014270452729424036,\n",
       "  0.014408074775642054,\n",
       "  0.01420292919936432,\n",
       "  0.01420145988766406,\n",
       "  0.013966025194240143,\n",
       "  0.01393035102992591,\n",
       "  0.013766033941975975,\n",
       "  0.013984960925374042,\n",
       "  0.013677765014844532,\n",
       "  0.013539444673486072,\n",
       "  0.01350673638394043,\n",
       "  0.013400671054455806,\n",
       "  0.013452179069088483,\n",
       "  0.013412202038877719,\n",
       "  0.013335604872325714,\n",
       "  0.012829354131727019,\n",
       "  0.01254316815506914,\n",
       "  0.012453729035996395,\n",
       "  0.012486177060469363],\n",
       " 'lr': [9.9999997e-05,\n",
       "  9.9999997e-05,\n",
       "  9.9999997e-05,\n",
       "  9.9999997e-05,\n",
       "  9.9999997e-05,\n",
       "  9.9999997e-05,\n",
       "  9.9999997e-05,\n",
       "  9.9999997e-05,\n",
       "  9.9999997e-05,\n",
       "  9.9999997e-05,\n",
       "  9.9999997e-05,\n",
       "  9.9999997e-05,\n",
       "  9.9999997e-05,\n",
       "  9.9999997e-05,\n",
       "  9.9999997e-05,\n",
       "  9.9999997e-05,\n",
       "  9.9999997e-05,\n",
       "  9.9999997e-05,\n",
       "  9.9999997e-05,\n",
       "  9.9999997e-05,\n",
       "  9.9999997e-05,\n",
       "  9.9999997e-05,\n",
       "  9.9999997e-05,\n",
       "  9.9999997e-05,\n",
       "  9.9999997e-05,\n",
       "  9.9999997e-05,\n",
       "  9.9999997e-05,\n",
       "  9.9999997e-05,\n",
       "  9.9999997e-05,\n",
       "  9.9999997e-05,\n",
       "  9.9999997e-05,\n",
       "  9.9999997e-05,\n",
       "  9.9999997e-05,\n",
       "  9.9999997e-05,\n",
       "  9.9999997e-05,\n",
       "  9.9999997e-05,\n",
       "  9.9999997e-05,\n",
       "  9.9999997e-05,\n",
       "  9.9999997e-05,\n",
       "  9.9999997e-05,\n",
       "  9.9999997e-05,\n",
       "  9.9999997e-05,\n",
       "  9.9999997e-05,\n",
       "  9.9999997e-05,\n",
       "  9.9999997e-05,\n",
       "  9.9999997e-05,\n",
       "  9.9999997e-06,\n",
       "  9.9999997e-06,\n",
       "  9.9999997e-06,\n",
       "  9.9999997e-06],\n",
       " 'val_dice_loss': [0.1860497715957975,\n",
       "  0.86552618318081842,\n",
       "  0.89385877962430937,\n",
       "  0.92407764257288638,\n",
       "  0.94405873796092032,\n",
       "  0.96195050740288846,\n",
       "  0.972660453357022,\n",
       "  0.97971196106702729,\n",
       "  0.9843648165054546,\n",
       "  0.98737233760080545,\n",
       "  0.98921001121431062,\n",
       "  0.99004374845557219,\n",
       "  0.98391215201679527,\n",
       "  0.99091496846999072,\n",
       "  0.99178180596214849,\n",
       "  0.99269208329599823,\n",
       "  0.99237245286143361,\n",
       "  0.99296120353672501,\n",
       "  0.99283202469700216,\n",
       "  0.99317879269305753,\n",
       "  0.99320663286332767,\n",
       "  0.99310684930130633,\n",
       "  0.9932786438226231,\n",
       "  0.99365364826030023,\n",
       "  0.99340128254562554,\n",
       "  0.99365075163850614,\n",
       "  0.99357555341158499,\n",
       "  0.99385175934474923,\n",
       "  0.99364873889855643,\n",
       "  0.99351049546876924,\n",
       "  0.99393647487599157,\n",
       "  0.99405132295574794,\n",
       "  0.9930635769147067,\n",
       "  0.99375431078590437,\n",
       "  0.99413388475687892,\n",
       "  0.99416174612251385,\n",
       "  0.9942166124907833,\n",
       "  0.99412916615341873,\n",
       "  0.99418491253918417,\n",
       "  0.99424952573064274,\n",
       "  0.99448699461687762,\n",
       "  0.99436117237349619,\n",
       "  0.99450308025937184,\n",
       "  0.99430584052691062,\n",
       "  0.99446458092841272,\n",
       "  0.99428970230585934,\n",
       "  0.99497660496848506,\n",
       "  0.99497336723012864,\n",
       "  0.99499632169315055,\n",
       "  0.99503653023706673],\n",
       " 'val_loss': [1.3343898840175397,\n",
       "  0.20857310456119493,\n",
       "  0.1713370215916212,\n",
       "  0.11862192922116263,\n",
       "  0.090544048338133135,\n",
       "  0.060265240257638845,\n",
       "  0.044023935534865076,\n",
       "  0.033951478185084573,\n",
       "  0.027146036485996835,\n",
       "  0.022518452677751336,\n",
       "  0.019493078893464067,\n",
       "  0.018768946620066649,\n",
       "  0.035578957767992449,\n",
       "  0.017755175232594515,\n",
       "  0.015884533994748807,\n",
       "  0.014174428162821853,\n",
       "  0.014766033113090602,\n",
       "  0.013544360448355643,\n",
       "  0.013581977646673475,\n",
       "  0.013153979316910029,\n",
       "  0.013529944630643474,\n",
       "  0.013122322085388518,\n",
       "  0.013322487253922611,\n",
       "  0.012581060111727603,\n",
       "  0.013093096460261491,\n",
       "  0.012147599611658245,\n",
       "  0.012570587087473842,\n",
       "  0.012149042812174219,\n",
       "  0.012583900206449693,\n",
       "  0.01334158805782645,\n",
       "  0.01202090650299209,\n",
       "  0.011640860124588129,\n",
       "  0.014671599841905367,\n",
       "  0.011834581702771964,\n",
       "  0.011428499394892358,\n",
       "  0.011533485937768444,\n",
       "  0.011841723935089435,\n",
       "  0.011617750771094868,\n",
       "  0.011604218749230644,\n",
       "  0.01112445730767222,\n",
       "  0.011107188347573365,\n",
       "  0.011325518986711568,\n",
       "  0.011021092742652228,\n",
       "  0.011753719117060626,\n",
       "  0.010930950133118976,\n",
       "  0.011110157634484745,\n",
       "  0.010127589509096034,\n",
       "  0.010068194529001394,\n",
       "  0.010057988424725054,\n",
       "  0.010112350815742447]}"
      ]
     },
     "execution_count": 20,
     "metadata": {},
     "output_type": "execute_result"
    }
   ],
   "source": [
    "history.history"
   ]
  },
  {
   "cell_type": "code",
   "execution_count": 28,
   "metadata": {
    "ExecuteTime": {
     "end_time": "2017-08-31T22:28:21.866981Z",
     "start_time": "2017-08-31T22:28:21.667953Z"
    },
    "collapsed": true
   },
   "outputs": [],
   "source": [
    "model.load_weights('./weights/best_weights_256.hdf5')"
   ]
  },
  {
   "cell_type": "code",
   "execution_count": 29,
   "metadata": {
    "ExecuteTime": {
     "end_time": "2017-08-31T22:28:22.064568Z",
     "start_time": "2017-08-31T22:28:22.009940Z"
    },
    "collapsed": true
   },
   "outputs": [],
   "source": [
    " model.compile(optimizer=RMSprop(lr=0.00001),\n",
    "                  loss=bce_dice_loss,\n",
    "                  metrics=[dice_loss])"
   ]
  },
  {
   "cell_type": "code",
   "execution_count": 30,
   "metadata": {
    "ExecuteTime": {
     "end_time": "2017-09-01T00:08:40.418087Z",
     "start_time": "2017-08-31T22:28:22.349905Z"
    }
   },
   "outputs": [
    {
     "name": "stdout",
     "output_type": "stream",
     "text": [
      "Epoch 1/50\n",
      "604s - loss: 0.0126 - dice_loss: 0.9934 - val_loss: 0.0100 - val_dice_loss: 0.9951\n",
      "Epoch 2/50\n",
      "601s - loss: 0.0125 - dice_loss: 0.9934 - val_loss: 0.0100 - val_dice_loss: 0.9950\n",
      "Epoch 3/50\n",
      "600s - loss: 0.0125 - dice_loss: 0.9934 - val_loss: 0.0100 - val_dice_loss: 0.9951\n",
      "Epoch 4/50\n",
      "600s - loss: 0.0124 - dice_loss: 0.9935 - val_loss: 0.0100 - val_dice_loss: 0.9951\n",
      "Epoch 5/50\n",
      "600s - loss: 0.0124 - dice_loss: 0.9935 - val_loss: 0.0100 - val_dice_loss: 0.9951\n",
      "Epoch 6/50\n",
      "\n",
      "Epoch 00005: reducing learning rate to 9.999999747378752e-07.\n",
      "600s - loss: 0.0123 - dice_loss: 0.9935 - val_loss: 0.0099 - val_dice_loss: 0.9951\n",
      "Epoch 7/50\n",
      "600s - loss: 0.0123 - dice_loss: 0.9935 - val_loss: 0.0099 - val_dice_loss: 0.9951\n",
      "Epoch 8/50\n",
      "600s - loss: 0.0123 - dice_loss: 0.9935 - val_loss: 0.0099 - val_dice_loss: 0.9951\n",
      "Epoch 9/50\n",
      "601s - loss: 0.0123 - dice_loss: 0.9935 - val_loss: 0.0099 - val_dice_loss: 0.9951\n",
      "Epoch 10/50\n",
      "\n",
      "Epoch 00009: reducing learning rate to 9.999999974752428e-08.\n",
      "600s - loss: 0.0123 - dice_loss: 0.9935 - val_loss: 0.0100 - val_dice_loss: 0.9951\n",
      "Epoch 00009: early stopping\n"
     ]
    }
   ],
   "source": [
    "callbacks = [EarlyStopping(monitor='val_dice_loss',\n",
    "                           patience=8,\n",
    "                           verbose=1,\n",
    "                           min_delta=1e-4,\n",
    "                           mode='max'),\n",
    "             ReduceLROnPlateau(monitor='val_dice_loss',\n",
    "                               factor=0.1,\n",
    "                               patience=4,\n",
    "                               verbose=1,\n",
    "                               epsilon=1e-4,\n",
    "                               mode='max'),\n",
    "             ModelCheckpoint(monitor='val_dice_loss',\n",
    "                             filepath='weights/best_weights_256_2.hdf5',\n",
    "                             save_best_only=True,\n",
    "                             save_weights_only=True,\n",
    "                             mode='max')]\n",
    "\n",
    "history = model.fit_generator(generator=train_generator(),\n",
    "                    steps_per_epoch=np.ceil(float(len(ids_train_split)) / float(batch_size)),\n",
    "                    epochs=max_epochs,\n",
    "                    verbose=2,\n",
    "                    callbacks=callbacks,\n",
    "                    validation_data=valid_generator(),\n",
    "                    validation_steps=np.ceil(float(len(ids_valid_split)) / float(batch_size)))"
   ]
  },
  {
   "cell_type": "code",
   "execution_count": 37,
   "metadata": {
    "ExecuteTime": {
     "end_time": "2017-09-01T02:42:17.376554Z",
     "start_time": "2017-09-01T02:42:17.370985Z"
    }
   },
   "outputs": [
    {
     "data": {
      "text/plain": [
       "{'dice_loss': [0.99341692420715777,\n",
       "  0.99344156552884155,\n",
       "  0.99342320135243112,\n",
       "  0.99348140126071338,\n",
       "  0.99349381970539141,\n",
       "  0.99353383618432123,\n",
       "  0.99351208564397453,\n",
       "  0.99353613821235864,\n",
       "  0.99352612290394104,\n",
       "  0.99353357020408573],\n",
       " 'loss': [0.012560466513568559,\n",
       "  0.012518675215725377,\n",
       "  0.012527026506987485,\n",
       "  0.012412692989961813,\n",
       "  0.012397957141957353,\n",
       "  0.012327164378136177,\n",
       "  0.012327782839939402,\n",
       "  0.01231665449532742,\n",
       "  0.012340936311852435,\n",
       "  0.012324391348465948],\n",
       " 'lr': [9.9999997e-06,\n",
       "  9.9999997e-06,\n",
       "  9.9999997e-06,\n",
       "  9.9999997e-06,\n",
       "  9.9999997e-06,\n",
       "  9.9999997e-06,\n",
       "  1e-06,\n",
       "  1e-06,\n",
       "  1e-06,\n",
       "  1e-06],\n",
       " 'val_dice_loss': [0.9950711799745241,\n",
       "  0.99503760405748443,\n",
       "  0.99509587234036156,\n",
       "  0.99509685447033358,\n",
       "  0.99507361919800286,\n",
       "  0.99507319493940161,\n",
       "  0.99511509571656265,\n",
       "  0.9951261992773045,\n",
       "  0.99512470412582221,\n",
       "  0.99512989991774492],\n",
       " 'val_loss': [0.010003052902552491,\n",
       "  0.0099682344932453103,\n",
       "  0.010039757304113132,\n",
       "  0.0099742888987122916,\n",
       "  0.0099563633690063057,\n",
       "  0.0099493334260137931,\n",
       "  0.0099492737719668392,\n",
       "  0.0099487336634242925,\n",
       "  0.0099488921858706964,\n",
       "  0.0099627579158000027]}"
      ]
     },
     "execution_count": 37,
     "metadata": {},
     "output_type": "execute_result"
    }
   ],
   "source": [
    "history.history"
   ]
  },
  {
   "cell_type": "markdown",
   "metadata": {},
   "source": [
    "# Predictions"
   ]
  },
  {
   "cell_type": "code",
   "execution_count": 31,
   "metadata": {
    "ExecuteTime": {
     "end_time": "2017-09-01T00:08:40.706929Z",
     "start_time": "2017-09-01T00:08:40.419784Z"
    },
    "collapsed": true
   },
   "outputs": [],
   "source": [
    "from tqdm import tqdm"
   ]
  },
  {
   "cell_type": "code",
   "execution_count": 32,
   "metadata": {
    "ExecuteTime": {
     "end_time": "2017-09-01T00:08:40.839957Z",
     "start_time": "2017-09-01T00:08:40.708700Z"
    },
    "collapsed": true
   },
   "outputs": [],
   "source": [
    "df_test = pd.read_csv('data/sample_submission.csv')\n",
    "ids_test = df_test['img'].map(lambda s: s.split('.')[0])"
   ]
  },
  {
   "cell_type": "code",
   "execution_count": 33,
   "metadata": {
    "ExecuteTime": {
     "end_time": "2017-09-01T00:08:40.899472Z",
     "start_time": "2017-09-01T00:08:40.841547Z"
    },
    "collapsed": true
   },
   "outputs": [],
   "source": [
    "names = []\n",
    "for id in ids_test:\n",
    "    names.append('{}.jpg'.format(id))"
   ]
  },
  {
   "cell_type": "code",
   "execution_count": 34,
   "metadata": {
    "ExecuteTime": {
     "end_time": "2017-09-01T00:08:41.110057Z",
     "start_time": "2017-09-01T00:08:40.901181Z"
    },
    "collapsed": true
   },
   "outputs": [],
   "source": [
    "# https://www.kaggle.com/stainsby/fast-tested-rle\n",
    "def run_length_encode(mask):\n",
    "    '''\n",
    "    img: numpy array, 1 - mask, 0 - background\n",
    "    Returns run length as string formated\n",
    "    '''\n",
    "    inds = mask.flatten()\n",
    "    runs = np.where(inds[1:] != inds[:-1])[0] + 2\n",
    "    runs[1::2] = runs[1::2] - runs[:-1:2]\n",
    "    rle = ' '.join([str(r) for r in runs])\n",
    "    return rle\n",
    "\n",
    "\n",
    "rles = []\n",
    "\n",
    "model.load_weights(filepath='weights/best_weights_256_2.hdf5')\n"
   ]
  },
  {
   "cell_type": "code",
   "execution_count": 35,
   "metadata": {
    "ExecuteTime": {
     "end_time": "2017-09-01T02:39:02.096218Z",
     "start_time": "2017-09-01T00:08:41.111585Z"
    }
   },
   "outputs": [
    {
     "name": "stderr",
     "output_type": "stream",
     "text": [
      "\r",
      "  0%|          | 0/6254 [00:00<?, ?it/s]"
     ]
    },
    {
     "name": "stdout",
     "output_type": "stream",
     "text": [
      "Predicting on 100064 samples with batch_size = 16...\n"
     ]
    },
    {
     "name": "stderr",
     "output_type": "stream",
     "text": [
      "100%|██████████| 6254/6254 [2:30:20<00:00,  1.45s/it]  \n"
     ]
    }
   ],
   "source": [
    "print('Predicting on {} samples with batch_size = {}...'.format(len(ids_test), batch_size))\n",
    "for start in tqdm(range(0, len(ids_test), batch_size)):\n",
    "    x_batch = []\n",
    "    end = min(start + batch_size, len(ids_test))\n",
    "    ids_test_batch = ids_test[start:end]\n",
    "    for id in ids_test_batch.values:\n",
    "        img = cv2.imread('data/test/{}.jpg'.format(id))\n",
    "        img = cv2.resize(img, (input_size, input_size))\n",
    "        x_batch.append(img)\n",
    "    x_batch = np.array(x_batch, np.float32) / 255\n",
    "    preds = model.predict_on_batch(x_batch)\n",
    "    preds = np.squeeze(preds, axis=3)\n",
    "    for pred in preds:\n",
    "        prob = cv2.resize(pred, (orig_width, orig_height))\n",
    "        mask = prob > threshold\n",
    "        rle = run_length_encode(mask)\n",
    "        rles.append(rle)"
   ]
  },
  {
   "cell_type": "code",
   "execution_count": 36,
   "metadata": {
    "ExecuteTime": {
     "end_time": "2017-09-01T02:42:17.369278Z",
     "start_time": "2017-09-01T02:39:02.098551Z"
    }
   },
   "outputs": [
    {
     "name": "stdout",
     "output_type": "stream",
     "text": [
      "Generating submission file...\n"
     ]
    }
   ],
   "source": [
    "print(\"Generating submission file...\")\n",
    "df = pd.DataFrame({'img': names, 'rle_mask': rles})\n",
    "df.to_csv('submit/submission7.csv.gz', index=False, compression='gzip')"
   ]
  },
  {
   "cell_type": "code",
   "execution_count": null,
   "metadata": {
    "collapsed": true
   },
   "outputs": [],
   "source": []
  }
 ],
 "metadata": {
  "anaconda-cloud": {},
  "kernelspec": {
   "display_name": "Python 3",
   "language": "python",
   "name": "python3"
  },
  "language_info": {
   "codemirror_mode": {
    "name": "ipython",
    "version": 3
   },
   "file_extension": ".py",
   "mimetype": "text/x-python",
   "name": "python",
   "nbconvert_exporter": "python",
   "pygments_lexer": "ipython3",
   "version": "3.6.1"
  },
  "toc": {
   "colors": {
    "hover_highlight": "#DAA520",
    "navigate_num": "#000000",
    "navigate_text": "#333333",
    "running_highlight": "#FF0000",
    "selected_highlight": "#FFD700",
    "sidebar_border": "#EEEEEE",
    "wrapper_background": "#FFFFFF"
   },
   "moveMenuLeft": true,
   "nav_menu": {
    "height": "48px",
    "width": "252px"
   },
   "navigate_menu": true,
   "number_sections": true,
   "sideBar": true,
   "threshold": 4,
   "toc_cell": true,
   "toc_section_display": "block",
   "toc_window_display": false,
   "widenNotebook": false
  }
 },
 "nbformat": 4,
 "nbformat_minor": 2
}
