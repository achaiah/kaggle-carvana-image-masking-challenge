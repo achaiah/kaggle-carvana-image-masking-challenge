{
 "cells": [
  {
   "cell_type": "markdown",
   "metadata": {
    "toc": "true"
   },
   "source": [
    "# Table of Contents\n",
    " <p><div class=\"lev1 toc-item\"><a href=\"#Load-libraries\" data-toc-modified-id=\"Load-libraries-1\"><span class=\"toc-item-num\">1&nbsp;&nbsp;</span>Load libraries</a></div><div class=\"lev1 toc-item\"><a href=\"#Load-previously-trained-model\" data-toc-modified-id=\"Load-previously-trained-model-2\"><span class=\"toc-item-num\">2&nbsp;&nbsp;</span>Load previously trained model</a></div><div class=\"lev1 toc-item\"><a href=\"#Generate-predictions\" data-toc-modified-id=\"Generate-predictions-3\"><span class=\"toc-item-num\">3&nbsp;&nbsp;</span>Generate predictions</a></div><div class=\"lev1 toc-item\"><a href=\"#Find-bounding-boxes\" data-toc-modified-id=\"Find-bounding-boxes-4\"><span class=\"toc-item-num\">4&nbsp;&nbsp;</span>Find bounding boxes</a></div><div class=\"lev1 toc-item\"><a href=\"#Cut-the-images-based-on-bounding-box\" data-toc-modified-id=\"Cut-the-images-based-on-bounding-box-5\"><span class=\"toc-item-num\">5&nbsp;&nbsp;</span>Cut the images based on bounding box</a></div><div class=\"lev1 toc-item\"><a href=\"#Test-set-predictions\" data-toc-modified-id=\"Test-set-predictions-6\"><span class=\"toc-item-num\">6&nbsp;&nbsp;</span>Test set predictions</a></div>"
   ]
  },
  {
   "cell_type": "markdown",
   "metadata": {},
   "source": [
    "# Load libraries"
   ]
  },
  {
   "cell_type": "code",
   "execution_count": 1,
   "metadata": {
    "ExecuteTime": {
     "end_time": "2017-08-28T11:41:39.784126Z",
     "start_time": "2017-08-28T11:41:22.793276Z"
    }
   },
   "outputs": [
    {
     "name": "stderr",
     "output_type": "stream",
     "text": [
      "Using TensorFlow backend.\n"
     ]
    }
   ],
   "source": [
    "import cv2\n",
    "import numpy as np\n",
    "import pandas as pd\n",
    "\n",
    "from keras.callbacks import EarlyStopping, ReduceLROnPlateau, ModelCheckpoint, TensorBoard\n",
    "from keras.models import Model\n",
    "from keras.layers import Input, concatenate, Conv2D, MaxPooling2D, Activation, UpSampling2D, BatchNormalization\n",
    "from keras.optimizers import RMSprop\n",
    "from keras.losses import binary_crossentropy\n",
    "import keras.backend as K\n",
    "\n",
    "from sklearn.model_selection import train_test_split"
   ]
  },
  {
   "cell_type": "code",
   "execution_count": 2,
   "metadata": {
    "ExecuteTime": {
     "end_time": "2017-08-28T11:41:39.931444Z",
     "start_time": "2017-08-28T11:41:39.786144Z"
    },
    "collapsed": true
   },
   "outputs": [],
   "source": [
    "import matplotlib.pyplot as plt\n",
    "%matplotlib inline"
   ]
  },
  {
   "cell_type": "code",
   "execution_count": 3,
   "metadata": {
    "ExecuteTime": {
     "end_time": "2017-08-28T11:41:40.062432Z",
     "start_time": "2017-08-28T11:41:39.933320Z"
    }
   },
   "outputs": [
    {
     "ename": "FileNotFoundError",
     "evalue": "[Errno 2] No such file or directory: 'data/train'",
     "output_type": "error",
     "traceback": [
      "\u001b[0;31m---------------------------------------------------------------------------\u001b[0m",
      "\u001b[0;31mFileNotFoundError\u001b[0m                         Traceback (most recent call last)",
      "\u001b[0;32m<ipython-input-3-a585b062246e>\u001b[0m in \u001b[0;36m<module>\u001b[0;34m()\u001b[0m\n\u001b[1;32m      1\u001b[0m \u001b[0;32mfrom\u001b[0m \u001b[0mos\u001b[0m \u001b[0;32mimport\u001b[0m \u001b[0mlistdir\u001b[0m\u001b[0;34m\u001b[0m\u001b[0m\n\u001b[0;32m----> 2\u001b[0;31m \u001b[0mids_list\u001b[0m \u001b[0;34m=\u001b[0m \u001b[0;34m[\u001b[0m\u001b[0mx\u001b[0m\u001b[0;34m.\u001b[0m\u001b[0msplit\u001b[0m\u001b[0;34m(\u001b[0m\u001b[0;34m'.'\u001b[0m\u001b[0;34m)\u001b[0m\u001b[0;34m[\u001b[0m\u001b[0;36m0\u001b[0m\u001b[0;34m]\u001b[0m \u001b[0;32mfor\u001b[0m \u001b[0mx\u001b[0m \u001b[0;32min\u001b[0m \u001b[0mlistdir\u001b[0m\u001b[0;34m(\u001b[0m\u001b[0;34m'data/train'\u001b[0m\u001b[0;34m)\u001b[0m\u001b[0;34m]\u001b[0m\u001b[0;34m\u001b[0m\u001b[0m\n\u001b[0m",
      "\u001b[0;31mFileNotFoundError\u001b[0m: [Errno 2] No such file or directory: 'data/train'"
     ]
    }
   ],
   "source": [
    "from os import listdir\n",
    "ids_list = [x.split('.')[0] for x in listdir('data/train')]"
   ]
  },
  {
   "cell_type": "markdown",
   "metadata": {},
   "source": [
    "# Load previously trained model"
   ]
  },
  {
   "cell_type": "code",
   "execution_count": 15,
   "metadata": {
    "ExecuteTime": {
     "end_time": "2017-08-28T11:44:23.451992Z",
     "start_time": "2017-08-28T11:44:17.924768Z"
    },
    "collapsed": true
   },
   "outputs": [],
   "source": [
    "def dice_loss(y_true, y_pred):\n",
    "    smooth = 1.\n",
    "    y_true_f = K.flatten(y_true)\n",
    "    y_pred_f = K.flatten(y_pred)\n",
    "    intersection = K.sum(y_true_f * y_pred_f)\n",
    "    return (2. * intersection + smooth) / (K.sum(y_true_f) + K.sum(y_pred_f) + smooth)\n",
    "\n",
    "\n",
    "def bce_dice_loss(y_true, y_pred):\n",
    "    return binary_crossentropy(y_true, y_pred) + (1 - dice_loss(y_true, y_pred))\n",
    "\n",
    "def unet_down_one_block(inputs, num_filters):\n",
    "    x = Conv2D(num_filters, (3, 3), padding='same')(inputs)\n",
    "    x = BatchNormalization()(x)\n",
    "    x = Activation('relu')(x)\n",
    "    x = Conv2D(num_filters, (3, 3), padding='same')(x)\n",
    "    x = BatchNormalization()(x)\n",
    "    x = Activation('relu')(x)\n",
    "    return x\n",
    "\n",
    "def unet_max_pool(inputs):\n",
    "    x = MaxPooling2D((2, 2), strides=(2, 2))(inputs)\n",
    "    return x\n",
    "\n",
    "def unet_up_one_block(up_input, down_input, num_filters):\n",
    "    x = UpSampling2D((2,2))(up_input)\n",
    "    x = concatenate([down_input, x], axis=3)\n",
    "    x = Conv2D(num_filters, (3,3), padding='same')(x)\n",
    "    x = BatchNormalization()(x)\n",
    "    x = Activation('relu')(x)\n",
    "    x = Conv2D(num_filters, (3,3), padding='same')(x)\n",
    "    x = BatchNormalization()(x)\n",
    "    x = Activation('relu')(x)\n",
    "    x = Conv2D(num_filters, (3,3), padding='same')(x)\n",
    "    x = BatchNormalization()(x)\n",
    "    x = Activation('relu')(x)\n",
    "    return x\n",
    "\n",
    "def get_unet(input_shape = (256, 256, 3),\n",
    "             num_classes = 1,\n",
    "             initial_filters = 32,\n",
    "             central_filters = 1024):\n",
    "    \n",
    "    num_filters = initial_filters\n",
    "    \n",
    "    out_list    = [Input(shape=input_shape)]\n",
    "    down_interim_list = []\n",
    "    \n",
    "    while num_filters <= central_filters/2:\n",
    "        x = unet_down_one_block(out_list[-1], num_filters)\n",
    "        down_interim_list.append(x)\n",
    "        num_filters = num_filters * 2\n",
    "        y = unet_max_pool(x)\n",
    "        out_list.append(y)\n",
    "    \n",
    "    x = unet_down_one_block(out_list[-1], num_filters)\n",
    "    out_list.append(x)\n",
    "    num_filters = int(num_filters / 2)\n",
    "    \n",
    "    while num_filters >= initial_filters:\n",
    "        x = unet_up_one_block(out_list[-1], down_interim_list.pop(), num_filters)\n",
    "        out_list.append(x)\n",
    "        num_filters = int(num_filters / 2)\n",
    "    \n",
    "    classify = Conv2D(num_classes, (1,1), activation = 'sigmoid')(out_list[-1])\n",
    "    \n",
    "    model = Model(inputs=out_list[0], outputs=classify)\n",
    "    \n",
    "    model.compile(optimizer=RMSprop(lr=0.0001),\n",
    "                  loss=bce_dice_loss,\n",
    "                  metrics=[dice_loss])\n",
    "    \n",
    "    return model\n",
    "\n",
    "model = get_unet(input_shape=(256,256,3), initial_filters=32)\n",
    "model.load_weights(filepath='weights/best_weights_256.hdf5')"
   ]
  },
  {
   "cell_type": "markdown",
   "metadata": {},
   "source": [
    "# Generate predictions"
   ]
  },
  {
   "cell_type": "code",
   "execution_count": 16,
   "metadata": {
    "ExecuteTime": {
     "end_time": "2017-08-28T11:44:23.456492Z",
     "start_time": "2017-08-28T11:44:23.453685Z"
    },
    "collapsed": true
   },
   "outputs": [],
   "source": [
    "import pickle"
   ]
  },
  {
   "cell_type": "code",
   "execution_count": 6,
   "metadata": {
    "ExecuteTime": {
     "end_time": "2017-08-26T18:12:16.812903Z",
     "start_time": "2017-08-26T18:12:16.092327Z"
    },
    "collapsed": true
   },
   "outputs": [],
   "source": [
    "with open(\"data/all_imgs_resized_256.pkl\", \"rb\") as f:\n",
    "    all_imgs = pickle.load(f)"
   ]
  },
  {
   "cell_type": "code",
   "execution_count": 7,
   "metadata": {
    "ExecuteTime": {
     "end_time": "2017-08-26T18:16:19.120714Z",
     "start_time": "2017-08-26T18:12:16.814555Z"
    },
    "collapsed": true
   },
   "outputs": [],
   "source": [
    "preds = model.predict(np.array(all_imgs, np.float32)/255, batch_size=64)\n",
    "preds = np.squeeze(preds, axis=3)"
   ]
  },
  {
   "cell_type": "code",
   "execution_count": 8,
   "metadata": {
    "ExecuteTime": {
     "end_time": "2017-08-26T18:16:20.179311Z",
     "start_time": "2017-08-26T18:16:19.122409Z"
    },
    "collapsed": true
   },
   "outputs": [],
   "source": [
    "preds = (preds > 0.5).astype(int)"
   ]
  },
  {
   "cell_type": "markdown",
   "metadata": {},
   "source": [
    "# Find bounding boxes"
   ]
  },
  {
   "cell_type": "code",
   "execution_count": 17,
   "metadata": {
    "ExecuteTime": {
     "end_time": "2017-08-28T11:44:25.108625Z",
     "start_time": "2017-08-28T11:44:25.100146Z"
    },
    "collapsed": true
   },
   "outputs": [],
   "source": [
    "def find_bounding_boxes(i):\n",
    "    tmp = np.copy(preds[i,:,:])\n",
    "    \n",
    "    axis_0_sum = np.sum(tmp, axis=0)\n",
    "    axis_1_sum = np.sum(tmp, axis=1)\n",
    "    \n",
    "    y_min = np.nonzero(axis_1_sum)[0][0]\n",
    "    y_max = np.nonzero(axis_1_sum)[0][-1]\n",
    "    \n",
    "    x_min = np.nonzero(axis_0_sum)[0][0]\n",
    "    x_max = np.nonzero(axis_0_sum)[0][-1]\n",
    "    \n",
    "    return (x_min, x_max, y_min, y_max)"
   ]
  },
  {
   "cell_type": "code",
   "execution_count": 18,
   "metadata": {
    "ExecuteTime": {
     "end_time": "2017-08-28T11:44:25.871205Z",
     "start_time": "2017-08-28T11:44:25.864639Z"
    },
    "collapsed": true
   },
   "outputs": [],
   "source": [
    "def plot_bounding_box(i):\n",
    "    (x_min, x_max, y_min, y_max) = find_bounding_boxes(i)\n",
    "    tmp = np.copy(preds[i,:,:])\n",
    "    tmp[y_min,:] = -1\n",
    "    tmp[y_max,:] = -1\n",
    "    tmp[:,x_min] = -1\n",
    "    tmp[:,x_max] = -1\n",
    "    plt.figure(figsize=(10, 10))\n",
    "    plt.imshow(tmp);"
   ]
  },
  {
   "cell_type": "code",
   "execution_count": 11,
   "metadata": {
    "ExecuteTime": {
     "end_time": "2017-08-26T18:16:20.520427Z",
     "start_time": "2017-08-26T18:16:20.202468Z"
    }
   },
   "outputs": [
    {
     "name": "stdout",
     "output_type": "stream",
     "text": [
      "(82, 184, 91, 209)\n"
     ]
    },
    {
     "data": {
      "image/png": "[encoded data removed]",
      "text/plain": [
       "<matplotlib.figure.Figure at 0x7f8e3f336358>"
      ]
     },
     "metadata": {},
     "output_type": "display_data"
    }
   ],
   "source": [
    "print(find_bounding_boxes(10))\n",
    "plot_bounding_box(10)"
   ]
  },
  {
   "cell_type": "code",
   "execution_count": 12,
   "metadata": {
    "ExecuteTime": {
     "end_time": "2017-08-26T18:16:21.513842Z",
     "start_time": "2017-08-26T18:16:20.522457Z"
    },
    "collapsed": true
   },
   "outputs": [],
   "source": [
    "all_bboxes = {}\n",
    "for i in range(len(ids_list)):\n",
    "    all_bboxes[ids_list[i]] = find_bounding_boxes(i)"
   ]
  },
  {
   "cell_type": "code",
   "execution_count": 13,
   "metadata": {
    "ExecuteTime": {
     "end_time": "2017-08-26T18:16:21.584804Z",
     "start_time": "2017-08-26T18:16:21.515618Z"
    },
    "collapsed": true
   },
   "outputs": [],
   "source": [
    "import pickle\n",
    "pickle.dump( all_bboxes, open( \"bboxes.pkl\", \"wb\" ) )"
   ]
  },
  {
   "cell_type": "markdown",
   "metadata": {},
   "source": [
    "# Cut the images based on bounding box"
   ]
  },
  {
   "cell_type": "code",
   "execution_count": 14,
   "metadata": {
    "ExecuteTime": {
     "end_time": "2017-08-26T18:16:21.779703Z",
     "start_time": "2017-08-26T18:16:21.586677Z"
    }
   },
   "outputs": [
    {
     "data": {
      "image/png": "[encoded data removed]",
      "text/plain": [
       "<matplotlib.figure.Figure at 0x7f8e37faeb38>"
      ]
     },
     "metadata": {},
     "output_type": "display_data"
    }
   ],
   "source": [
    "plt.hist([(all_bboxes[keyval][1]-all_bboxes[keyval][0]+1)*1918/256 for keyval in ids_list]);"
   ]
  },
  {
   "cell_type": "code",
   "execution_count": 15,
   "metadata": {
    "ExecuteTime": {
     "end_time": "2017-08-26T18:16:21.982685Z",
     "start_time": "2017-08-26T18:16:21.782180Z"
    }
   },
   "outputs": [
    {
     "data": {
      "image/png": "[encoded data removed]",
      "text/plain": [
       "<matplotlib.figure.Figure at 0x7f8e3d6583c8>"
      ]
     },
     "metadata": {},
     "output_type": "display_data"
    }
   ],
   "source": [
    "plt.hist([(all_bboxes[keyval][3]-all_bboxes[keyval][2]+1)*1280/256 for keyval in ids_list]);"
   ]
  },
  {
   "cell_type": "code",
   "execution_count": 19,
   "metadata": {
    "ExecuteTime": {
     "end_time": "2017-08-28T11:44:32.306110Z",
     "start_time": "2017-08-28T11:44:32.303135Z"
    },
    "collapsed": true
   },
   "outputs": [],
   "source": [
    "import math"
   ]
  },
  {
   "cell_type": "code",
   "execution_count": 20,
   "metadata": {
    "ExecuteTime": {
     "end_time": "2017-08-28T11:44:32.799034Z",
     "start_time": "2017-08-28T11:44:32.788331Z"
    },
    "collapsed": true
   },
   "outputs": [],
   "source": [
    "def extend_bounds(orig_x, new_len, lim_x):\n",
    "    rem = new_len - (orig_x[1] - orig_x[0] + 1)\n",
    "    rem_half = math.floor(rem/2)\n",
    "    \n",
    "    if orig_x[1] + rem_half <= lim_x[1]:\n",
    "        orig_x[1] = orig_x[1] + rem_half\n",
    "    else:\n",
    "        orig_x[1] = lim_x[1]\n",
    "    \n",
    "    rem = new_len - (orig_x[1] - orig_x[0] + 1)\n",
    "    \n",
    "    if orig_x[0] - rem >= lim_x[0]:\n",
    "        orig_x[0] = orig_x[0] - rem\n",
    "    else:\n",
    "        orig_x[0] = lim_x[0]\n",
    "        orig_x[1] = new_len + orig_x[0] - 1\n",
    "    \n",
    "    return orig_x"
   ]
  },
  {
   "cell_type": "code",
   "execution_count": 21,
   "metadata": {
    "ExecuteTime": {
     "end_time": "2017-08-28T11:44:33.162959Z",
     "start_time": "2017-08-28T11:44:33.156277Z"
    },
    "collapsed": true
   },
   "outputs": [],
   "source": [
    "def get_cut_bounds(this_id):\n",
    "    this_bbox = all_bboxes[this_id]\n",
    "    \n",
    "    ys_resized = [math.floor(this_bbox[2]*1280/256),math.ceil(this_bbox[3]*1280/256)]\n",
    "    ys_resized = extend_bounds(ys_resized, 1024, [0,1279])\n",
    "    \n",
    "    img_1_box = [0, 1023, ys_resized[0], ys_resized[1]]\n",
    "    img_2_box = [894, 1917, ys_resized[0], ys_resized[1]]\n",
    "    \n",
    "    return (img_1_box, img_2_box)"
   ]
  },
  {
   "cell_type": "code",
   "execution_count": 22,
   "metadata": {
    "ExecuteTime": {
     "end_time": "2017-08-28T11:44:34.303279Z",
     "start_time": "2017-08-28T11:44:34.300007Z"
    },
    "collapsed": true
   },
   "outputs": [],
   "source": [
    "import gzip"
   ]
  },
  {
   "cell_type": "code",
   "execution_count": 23,
   "metadata": {
    "ExecuteTime": {
     "end_time": "2017-08-28T11:44:35.181262Z",
     "start_time": "2017-08-28T11:44:35.155844Z"
    },
    "collapsed": true
   },
   "outputs": [],
   "source": [
    "def save_new_imgs(this_id):\n",
    "    img_1_box, img_2_box = get_cut_bounds(this_id)\n",
    "    \n",
    "    img  = cv2.imread('data/train/{}.jpg'.format(this_id))\n",
    "    \n",
    "    img_1 = np.copy(img[img_1_box[2]:(img_1_box[3]+1), img_1_box[0]:(img_1_box[1]+1),:])\n",
    "    img_2 = np.copy(img[img_2_box[2]:(img_2_box[3]+1), img_2_box[0]:(img_2_box[1]+1),:])\n",
    "    img_2 = cv2.flip(img_2, 1)\n",
    "    \n",
    "    f = gzip.open(\"./data/train_cut/\" + this_id + '_01.pklz','wb')\n",
    "    pickle.dump( img_1, f )\n",
    "    f.close()\n",
    "    \n",
    "    f = gzip.open(\"./data/train_cut/\" + this_id + '_02.pklz','wb')\n",
    "    pickle.dump( img_2, f )\n",
    "    f.close()\n",
    "    \n",
    "    mask = cv2.imread('data/train_masks/{}_mask.png'.format(this_id), cv2.IMREAD_GRAYSCALE)\n",
    "    \n",
    "    mask_1 = np.copy(mask[img_1_box[2]:(img_1_box[3]+1), img_1_box[0]:(img_1_box[1]+1)])\n",
    "    mask_2 = np.copy(mask[img_1_box[2]:(img_1_box[3]+1), img_1_box[0]:(img_1_box[1]+1)])\n",
    "    mask_2 = cv2.flip(mask_2, 1)\n",
    "    \n",
    "    f = gzip.open(\"./data/train_masks_cut/\" + this_id + '_01.pklz','wb')\n",
    "    pickle.dump( mask_1, f )\n",
    "    f.close()\n",
    "    \n",
    "    f = gzip.open(\"./data/train_masks_cut/\" + this_id + '_02.pklz','wb')\n",
    "    pickle.dump( mask_2, f )\n",
    "    f.close()"
   ]
  },
  {
   "cell_type": "code",
   "execution_count": 30,
   "metadata": {
    "ExecuteTime": {
     "end_time": "2017-08-26T19:09:31.095781Z",
     "start_time": "2017-08-26T18:41:28.270450Z"
    },
    "collapsed": true
   },
   "outputs": [],
   "source": [
    "for this_id in ids_list:\n",
    "    save_new_imgs(this_id)"
   ]
  },
  {
   "cell_type": "markdown",
   "metadata": {
    "collapsed": true
   },
   "source": [
    "# Test set predictions"
   ]
  },
  {
   "cell_type": "code",
   "execution_count": 24,
   "metadata": {
    "ExecuteTime": {
     "end_time": "2017-08-28T11:44:39.090413Z",
     "start_time": "2017-08-28T11:44:38.986352Z"
    },
    "collapsed": true
   },
   "outputs": [],
   "source": [
    "all_test_ids = [x.split('.')[0] for x in listdir('data/test')]"
   ]
  },
  {
   "cell_type": "code",
   "execution_count": 25,
   "metadata": {
    "ExecuteTime": {
     "end_time": "2017-08-28T11:44:40.188503Z",
     "start_time": "2017-08-28T11:44:40.185415Z"
    },
    "collapsed": true
   },
   "outputs": [],
   "source": [
    "input_size=256\n",
    "test_batch_size=64"
   ]
  },
  {
   "cell_type": "code",
   "execution_count": 26,
   "metadata": {
    "ExecuteTime": {
     "end_time": "2017-08-28T11:44:40.984257Z",
     "start_time": "2017-08-28T11:44:40.975815Z"
    },
    "collapsed": true
   },
   "outputs": [],
   "source": [
    "def test_generator(test_batch_size):\n",
    "    while True:\n",
    "        for start in range(0, len(all_test_ids), test_batch_size):\n",
    "            x_batch = []\n",
    "            y_batch = []\n",
    "            end = min(start + test_batch_size, len(all_test_ids))\n",
    "            ids_test_batch = all_test_ids[start:end]\n",
    "            for id in ids_test_batch:\n",
    "                img  = cv2.imread('data/test/{}.jpg'.format(id))\n",
    "                img  = cv2.resize(img, (input_size, input_size))\n",
    "                x_batch.append(img)\n",
    "            x_batch = np.array(x_batch, np.float32) / 255\n",
    "            yield x_batch"
   ]
  },
  {
   "cell_type": "code",
   "execution_count": 27,
   "metadata": {
    "ExecuteTime": {
     "end_time": "2017-08-28T11:44:41.892933Z",
     "start_time": "2017-08-28T11:44:41.889847Z"
    },
    "collapsed": true
   },
   "outputs": [],
   "source": [
    "test_gen = test_generator(test_batch_size)"
   ]
  },
  {
   "cell_type": "code",
   "execution_count": 28,
   "metadata": {
    "ExecuteTime": {
     "end_time": "2017-08-28T11:44:42.326591Z",
     "start_time": "2017-08-28T11:44:42.323591Z"
    },
    "collapsed": true
   },
   "outputs": [],
   "source": [
    "from tqdm import tqdm"
   ]
  },
  {
   "cell_type": "code",
   "execution_count": null,
   "metadata": {
    "ExecuteTime": {
     "start_time": "2017-08-28T06:14:42.918Z"
    }
   },
   "outputs": [
    {
     "name": "stderr",
     "output_type": "stream",
     "text": [
      "100%|██████████| 1564/1564 [2:05:50<00:00,  5.46s/it] \n"
     ]
    }
   ],
   "source": [
    "test_bboxes = {}\n",
    "for batch_slno in tqdm(range(int(np.ceil(float(len(all_test_ids)) / float(test_batch_size))))):\n",
    "    \n",
    "    preds = model.predict_on_batch(next(test_gen))\n",
    "    preds = np.squeeze(preds, axis=3)\n",
    "    preds = (preds > 0.5).astype(int)\n",
    "    \n",
    "    for i in range(preds.shape[0]):\n",
    "        slno = (batch_slno*test_batch_size) + i\n",
    "        id = all_test_ids[slno]\n",
    "        \n",
    "        this_bbox = find_bounding_boxes(i)\n",
    "        ys_resized = [math.floor(this_bbox[2]*1280/256),math.ceil(this_bbox[3]*1280/256)]\n",
    "        ys_resized = extend_bounds(ys_resized, 1024, [0,1279])\n",
    "        img_1_box = [0, 1023, ys_resized[0], ys_resized[1]]\n",
    "        img_2_box = [894, 1917, ys_resized[0], ys_resized[1]]\n",
    "        \n",
    "        test_bboxes[id] = [img_1_box, img_2_box]"
   ]
  },
  {
   "cell_type": "code",
   "execution_count": 37,
   "metadata": {
    "ExecuteTime": {
     "end_time": "2017-08-28T13:56:48.597748Z",
     "start_time": "2017-08-28T13:56:45.461310Z"
    },
    "collapsed": true
   },
   "outputs": [],
   "source": [
    "f = gzip.open('test_bboxes.pklz','wb')\n",
    "pickle.dump(test_bboxes, f)\n",
    "f.close()"
   ]
  },
  {
   "cell_type": "code",
   "execution_count": null,
   "metadata": {
    "collapsed": true
   },
   "outputs": [],
   "source": []
  }
 ],
 "metadata": {
  "kernelspec": {
   "display_name": "Python 3",
   "language": "python",
   "name": "python3"
  },
  "language_info": {
   "codemirror_mode": {
    "name": "ipython",
    "version": 3
   },
   "file_extension": ".py",
   "mimetype": "text/x-python",
   "name": "python",
   "nbconvert_exporter": "python",
   "pygments_lexer": "ipython3",
   "version": "3.6.1"
  },
  "toc": {
   "colors": {
    "hover_highlight": "#DAA520",
    "navigate_num": "#000000",
    "navigate_text": "#333333",
    "running_highlight": "#FF0000",
    "selected_highlight": "#FFD700",
    "sidebar_border": "#EEEEEE",
    "wrapper_background": "#FFFFFF"
   },
   "moveMenuLeft": true,
   "nav_menu": {
    "height": "84px",
    "width": "252px"
   },
   "navigate_menu": true,
   "number_sections": true,
   "sideBar": true,
   "threshold": 4,
   "toc_cell": true,
   "toc_section_display": "block",
   "toc_window_display": false,
   "widenNotebook": false
  }
 },
 "nbformat": 4,
 "nbformat_minor": 2
}
