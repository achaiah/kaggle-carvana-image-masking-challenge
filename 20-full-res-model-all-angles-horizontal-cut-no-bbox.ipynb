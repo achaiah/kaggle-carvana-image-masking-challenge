{
 "cells": [
  {
   "cell_type": "markdown",
   "metadata": {
    "toc": "true"
   },
   "source": [
    " # Table of Contents\n",
    "<div class=\"toc\" style=\"margin-top: 1em;\"><ul class=\"toc-item\" id=\"toc-level0\"><li><span><a href=\"http://localhost:8890/notebooks/20-full-res-model-all-angles-horizontal-cut-no-bbox.ipynb#Load-libraries\" data-toc-modified-id=\"Load-libraries-1\"><span class=\"toc-item-num\">1&nbsp;&nbsp;</span>Load libraries</a></span></li><li><span><a href=\"http://localhost:8890/notebooks/20-full-res-model-all-angles-horizontal-cut-no-bbox.ipynb#Define-loss-functions\" data-toc-modified-id=\"Define-loss-functions-2\"><span class=\"toc-item-num\">2&nbsp;&nbsp;</span>Define loss functions</a></span></li><li><span><a href=\"http://localhost:8890/notebooks/20-full-res-model-all-angles-horizontal-cut-no-bbox.ipynb#Define-models\" data-toc-modified-id=\"Define-models-3\"><span class=\"toc-item-num\">3&nbsp;&nbsp;</span>Define models</a></span></li><li><span><a href=\"http://localhost:8890/notebooks/20-full-res-model-all-angles-horizontal-cut-no-bbox.ipynb#Training\" data-toc-modified-id=\"Training-4\"><span class=\"toc-item-num\">4&nbsp;&nbsp;</span>Training</a></span><ul class=\"toc-item\"><li><span><a href=\"http://localhost:8890/notebooks/20-full-res-model-all-angles-horizontal-cut-no-bbox.ipynb#Functions,-generators-and-data\" data-toc-modified-id=\"Functions,-generators-and-data-4.1\"><span class=\"toc-item-num\">4.1&nbsp;&nbsp;</span>Functions, generators and data</a></span></li><li><span><a href=\"http://localhost:8890/notebooks/20-full-res-model-all-angles-horizontal-cut-no-bbox.ipynb#Training\" data-toc-modified-id=\"Training-4.2\"><span class=\"toc-item-num\">4.2&nbsp;&nbsp;</span>Training</a></span></li></ul></li><li><span><a href=\"http://localhost:8890/notebooks/20-full-res-model-all-angles-horizontal-cut-no-bbox.ipynb#Only-the-top-part\" data-toc-modified-id=\"Only-the-top-part-5\"><span class=\"toc-item-num\">5&nbsp;&nbsp;</span>Only the top part</a></span></li><li><span><a href=\"http://localhost:8890/notebooks/20-full-res-model-all-angles-horizontal-cut-no-bbox.ipynb#Only-the-bottom-part\" data-toc-modified-id=\"Only-the-bottom-part-6\"><span class=\"toc-item-num\">6&nbsp;&nbsp;</span>Only the bottom part</a></span><ul class=\"toc-item\"><ul class=\"toc-item\"><li><span><a href=\"http://localhost:8890/notebooks/20-full-res-model-all-angles-horizontal-cut-no-bbox.ipynb#Pseudo-labeling\" data-toc-modified-id=\"Pseudo-labeling-6.0.1\"><span class=\"toc-item-num\">6.0.1&nbsp;&nbsp;</span>Pseudo labeling</a></span></li></ul></ul></li><li><span><a href=\"http://localhost:8890/notebooks/20-full-res-model-all-angles-horizontal-cut-no-bbox.ipynb#Is-the-specialised-model-much-better-than-the-common-model\" data-toc-modified-id=\"Is-the-specialised-model-much-better-than-the-common-model-7\"><span class=\"toc-item-num\">7&nbsp;&nbsp;</span>Is the specialised model much better than the common model</a></span><ul class=\"toc-item\"><li><span><a href=\"http://localhost:8890/notebooks/20-full-res-model-all-angles-horizontal-cut-no-bbox.ipynb#top-part\" data-toc-modified-id=\"top-part-7.1\"><span class=\"toc-item-num\">7.1&nbsp;&nbsp;</span>top part</a></span></li><li><span><a href=\"http://localhost:8890/notebooks/20-full-res-model-all-angles-horizontal-cut-no-bbox.ipynb#bottom-part\" data-toc-modified-id=\"bottom-part-7.2\"><span class=\"toc-item-num\">7.2&nbsp;&nbsp;</span>bottom part</a></span></li></ul></li><li><span><a href=\"http://localhost:8890/notebooks/20-full-res-model-all-angles-horizontal-cut-no-bbox.ipynb#Test-set-predictions\" data-toc-modified-id=\"Test-set-predictions-8\"><span class=\"toc-item-num\">8&nbsp;&nbsp;</span>Test set predictions</a></span><ul class=\"toc-item\"><li><span><a href=\"http://localhost:8890/notebooks/20-full-res-model-all-angles-horizontal-cut-no-bbox.ipynb#top-part\" data-toc-modified-id=\"top-part-8.1\"><span class=\"toc-item-num\">8.1&nbsp;&nbsp;</span>top part</a></span></li><li><span><a href=\"http://localhost:8890/notebooks/20-full-res-model-all-angles-horizontal-cut-no-bbox.ipynb#Bottom-part\" data-toc-modified-id=\"Bottom-part-8.2\"><span class=\"toc-item-num\">8.2&nbsp;&nbsp;</span>Bottom part</a></span></li><li><span><a href=\"http://localhost:8890/notebooks/20-full-res-model-all-angles-horizontal-cut-no-bbox.ipynb#combining\" data-toc-modified-id=\"combining-8.3\"><span class=\"toc-item-num\">8.3&nbsp;&nbsp;</span>combining</a></span></li></ul></li></ul></div>"
   ]
  },
  {
   "cell_type": "markdown",
   "metadata": {},
   "source": [
    "# Load libraries"
   ]
  },
  {
   "cell_type": "code",
   "execution_count": 1,
   "metadata": {
    "ExecuteTime": {
     "end_time": "2017-09-24T02:05:38.498991Z",
     "start_time": "2017-09-24T02:05:00.026112Z"
    }
   },
   "outputs": [
    {
     "name": "stderr",
     "output_type": "stream",
     "text": [
      "Using TensorFlow backend.\n"
     ]
    }
   ],
   "source": [
    "import cv2\n",
    "import numpy as np\n",
    "import pandas as pd\n",
    "\n",
    "from keras.callbacks import EarlyStopping, ReduceLROnPlateau, ModelCheckpoint, TensorBoard\n",
    "from keras.models import Model\n",
    "from keras.layers import Input, concatenate, Conv2D, MaxPooling2D, Activation, UpSampling2D, BatchNormalization\n",
    "from keras.optimizers import RMSprop\n",
    "from keras.losses import binary_crossentropy\n",
    "import keras.backend as K\n",
    "\n",
    "from sklearn.model_selection import train_test_split"
   ]
  },
  {
   "cell_type": "code",
   "execution_count": 2,
   "metadata": {
    "ExecuteTime": {
     "end_time": "2017-09-24T02:05:39.579277Z",
     "start_time": "2017-09-24T02:05:38.500822Z"
    },
    "collapsed": true
   },
   "outputs": [],
   "source": [
    "import math\n",
    "import random\n",
    "import gzip\n",
    "import pickle\n",
    "import matplotlib.pyplot as plt\n",
    "%matplotlib inline"
   ]
  },
  {
   "cell_type": "markdown",
   "metadata": {},
   "source": [
    "# Define loss functions"
   ]
  },
  {
   "cell_type": "code",
   "execution_count": 3,
   "metadata": {
    "ExecuteTime": {
     "end_time": "2017-09-24T02:05:39.589517Z",
     "start_time": "2017-09-24T02:05:39.580844Z"
    },
    "collapsed": true
   },
   "outputs": [],
   "source": [
    "def dice_coeff(y_true, y_pred):\n",
    "    smooth = 1.\n",
    "    y_true_f = K.flatten(y_true)\n",
    "    y_pred_f = K.flatten(y_pred)\n",
    "    intersection = K.sum(y_true_f * y_pred_f)\n",
    "    score = (2. * intersection + smooth) / (K.sum(y_true_f) + K.sum(y_pred_f) + smooth)\n",
    "    return score\n",
    "\n",
    "\n",
    "def dice_loss(y_true, y_pred):\n",
    "    loss = 1 - dice_coeff(y_true, y_pred)\n",
    "    return loss\n",
    "\n",
    "\n",
    "def bce_dice_loss(y_true, y_pred):\n",
    "    loss = binary_crossentropy(y_true, y_pred) + dice_loss(y_true, y_pred)\n",
    "    return loss"
   ]
  },
  {
   "cell_type": "markdown",
   "metadata": {},
   "source": [
    "# Define models"
   ]
  },
  {
   "cell_type": "code",
   "execution_count": 4,
   "metadata": {
    "ExecuteTime": {
     "end_time": "2017-09-24T02:05:39.596513Z",
     "start_time": "2017-09-24T02:05:39.590951Z"
    },
    "collapsed": true
   },
   "outputs": [],
   "source": [
    "def unet_down_one_block(inputs, num_filters):\n",
    "    x = Conv2D(num_filters, (3, 3), padding='same')(inputs)\n",
    "    x = BatchNormalization()(x)\n",
    "    x = Activation('relu')(x)\n",
    "    x = Conv2D(num_filters, (3, 3), padding='same')(x)\n",
    "    x = BatchNormalization()(x)\n",
    "    x = Activation('relu')(x)\n",
    "    return x"
   ]
  },
  {
   "cell_type": "code",
   "execution_count": 5,
   "metadata": {
    "ExecuteTime": {
     "end_time": "2017-09-24T02:05:39.600943Z",
     "start_time": "2017-09-24T02:05:39.597949Z"
    },
    "collapsed": true
   },
   "outputs": [],
   "source": [
    "def unet_max_pool(inputs):\n",
    "    x = MaxPooling2D((2, 2), strides=(2, 2))(inputs)\n",
    "    return x"
   ]
  },
  {
   "cell_type": "code",
   "execution_count": 6,
   "metadata": {
    "ExecuteTime": {
     "end_time": "2017-09-24T02:05:39.670218Z",
     "start_time": "2017-09-24T02:05:39.602434Z"
    },
    "collapsed": true
   },
   "outputs": [],
   "source": [
    "def unet_up_one_block(up_input, down_input, num_filters):\n",
    "    x = UpSampling2D((2,2))(up_input)\n",
    "    x = concatenate([down_input, x], axis=3)\n",
    "    x = Conv2D(num_filters, (3,3), padding='same')(x)\n",
    "    x = BatchNormalization()(x)\n",
    "    x = Activation('relu')(x)\n",
    "    x = Conv2D(num_filters, (3,3), padding='same')(x)\n",
    "    x = BatchNormalization()(x)\n",
    "    x = Activation('relu')(x)\n",
    "    x = Conv2D(num_filters, (3,3), padding='same')(x)\n",
    "    x = BatchNormalization()(x)\n",
    "    x = Activation('relu')(x)\n",
    "    return x"
   ]
  },
  {
   "cell_type": "code",
   "execution_count": 7,
   "metadata": {
    "ExecuteTime": {
     "end_time": "2017-09-24T02:05:39.688868Z",
     "start_time": "2017-09-24T02:05:39.671970Z"
    },
    "collapsed": true
   },
   "outputs": [],
   "source": [
    "def get_unet(input_shape = (256, 256, 3),\n",
    "             num_classes = 1,\n",
    "             initial_filters = 32,\n",
    "             central_filters = 1024):\n",
    "    \n",
    "    num_filters = initial_filters\n",
    "    \n",
    "    out_list    = [Input(shape=input_shape)]\n",
    "    down_interim_list = []\n",
    "    \n",
    "    while num_filters <= central_filters/2:\n",
    "        x = unet_down_one_block(out_list[-1], num_filters)\n",
    "        down_interim_list.append(x)\n",
    "        num_filters = num_filters * 2\n",
    "        y = unet_max_pool(x)\n",
    "        out_list.append(y)\n",
    "    \n",
    "    x = unet_down_one_block(out_list[-1], num_filters)\n",
    "    out_list.append(x)\n",
    "    num_filters = int(num_filters / 2)\n",
    "    \n",
    "    while num_filters >= initial_filters:\n",
    "        x = unet_up_one_block(out_list[-1], down_interim_list.pop(), num_filters)\n",
    "        out_list.append(x)\n",
    "        num_filters = int(num_filters / 2)\n",
    "    \n",
    "    classify = Conv2D(num_classes, (1,1), activation = 'sigmoid')(out_list[-1])\n",
    "    \n",
    "    model = Model(inputs=out_list[0], outputs=classify)\n",
    "    \n",
    "    return model"
   ]
  },
  {
   "cell_type": "code",
   "execution_count": 8,
   "metadata": {
    "ExecuteTime": {
     "end_time": "2017-09-24T02:05:41.514322Z",
     "start_time": "2017-09-24T02:05:39.690350Z"
    },
    "collapsed": true,
    "scrolled": true
   },
   "outputs": [],
   "source": [
    "model = get_unet(input_shape=(768,1920,3), initial_filters=8)"
   ]
  },
  {
   "cell_type": "code",
   "execution_count": 9,
   "metadata": {
    "ExecuteTime": {
     "end_time": "2017-09-20T07:04:27.310230Z",
     "start_time": "2017-09-20T07:04:15.365518Z"
    },
    "collapsed": true
   },
   "outputs": [],
   "source": [
    "model.load_weights('./weights/best_weights_fullres3.hdf5')"
   ]
  },
  {
   "cell_type": "markdown",
   "metadata": {},
   "source": [
    "# Training"
   ]
  },
  {
   "cell_type": "markdown",
   "metadata": {},
   "source": [
    "## Functions, generators and data"
   ]
  },
  {
   "cell_type": "code",
   "execution_count": 9,
   "metadata": {
    "ExecuteTime": {
     "end_time": "2017-09-23T13:34:00.746587Z",
     "start_time": "2017-09-23T13:34:00.341611Z"
    },
    "collapsed": true
   },
   "outputs": [],
   "source": [
    "df_train = pd.read_csv('data/train_masks.csv')"
   ]
  },
  {
   "cell_type": "code",
   "execution_count": 10,
   "metadata": {
    "ExecuteTime": {
     "end_time": "2017-09-23T13:34:00.754317Z",
     "start_time": "2017-09-23T13:34:00.748467Z"
    },
    "collapsed": true
   },
   "outputs": [],
   "source": [
    "ids_train = df_train['img'].map(lambda s: s.split('.')[0])"
   ]
  },
  {
   "cell_type": "code",
   "execution_count": 11,
   "metadata": {
    "ExecuteTime": {
     "end_time": "2017-09-23T13:34:00.761573Z",
     "start_time": "2017-09-23T13:34:00.756236Z"
    },
    "collapsed": true
   },
   "outputs": [],
   "source": [
    "ids_train_split, ids_valid_split = train_test_split(ids_train, test_size=0.2, random_state=42)"
   ]
  },
  {
   "cell_type": "code",
   "execution_count": 12,
   "metadata": {
    "ExecuteTime": {
     "end_time": "2017-09-23T13:34:00.766005Z",
     "start_time": "2017-09-23T13:34:00.763086Z"
    },
    "collapsed": true
   },
   "outputs": [],
   "source": [
    "ids_train_split = list(ids_train_split)\n",
    "ids_valid_split = list(ids_valid_split)"
   ]
  },
  {
   "cell_type": "code",
   "execution_count": 13,
   "metadata": {
    "ExecuteTime": {
     "end_time": "2017-09-23T13:34:00.778992Z",
     "start_time": "2017-09-23T13:34:00.767451Z"
    },
    "collapsed": true
   },
   "outputs": [],
   "source": [
    "def randomHueSaturationValue(image, hue_shift_limit=(-180, 180),\n",
    "                             sat_shift_limit=(-255, 255),\n",
    "                             val_shift_limit=(-255, 255), u=0.5):\n",
    "    if np.random.random() < u:\n",
    "        image = cv2.cvtColor(image, cv2.COLOR_BGR2HSV)\n",
    "        h, s, v = cv2.split(image)\n",
    "        hue_shift = np.random.uniform(hue_shift_limit[0], hue_shift_limit[1])\n",
    "        h = cv2.add(h, hue_shift)\n",
    "        sat_shift = np.random.uniform(sat_shift_limit[0], sat_shift_limit[1])\n",
    "        s = cv2.add(s, sat_shift)\n",
    "        val_shift = np.random.uniform(val_shift_limit[0], val_shift_limit[1])\n",
    "        v = cv2.add(v, val_shift)\n",
    "        image = cv2.merge((h, s, v))\n",
    "        image = cv2.cvtColor(image, cv2.COLOR_HSV2BGR)\n",
    "\n",
    "    return image"
   ]
  },
  {
   "cell_type": "code",
   "execution_count": 14,
   "metadata": {
    "ExecuteTime": {
     "end_time": "2017-09-23T13:34:00.810802Z",
     "start_time": "2017-09-23T13:34:00.780863Z"
    },
    "collapsed": true
   },
   "outputs": [],
   "source": [
    "def randomShiftScaleRotate(image, mask,\n",
    "                           shift_limit=(-0.0625, 0.0625),\n",
    "                           scale_limit=(-0.1, 0.1),\n",
    "                           rotate_limit=(-45, 45), aspect_limit=(0, 0),\n",
    "                           borderMode=cv2.BORDER_CONSTANT, u=0.5):\n",
    "    if np.random.random() < u:\n",
    "        height, width, channel = image.shape\n",
    "\n",
    "        angle = np.random.uniform(rotate_limit[0], rotate_limit[1])  # degree\n",
    "        scale = np.random.uniform(1 + scale_limit[0], 1 + scale_limit[1])\n",
    "        aspect = np.random.uniform(1 + aspect_limit[0], 1 + aspect_limit[1])\n",
    "        sx = scale * aspect / (aspect ** 0.5)\n",
    "        sy = scale / (aspect ** 0.5)\n",
    "        dx = round(np.random.uniform(shift_limit[0], shift_limit[1]) * width)\n",
    "        dy = round(np.random.uniform(shift_limit[0], shift_limit[1]) * height)\n",
    "\n",
    "        cc = np.math.cos(angle / 180 * np.math.pi) * sx\n",
    "        ss = np.math.sin(angle / 180 * np.math.pi) * sy\n",
    "        rotate_matrix = np.array([[cc, -ss], [ss, cc]])\n",
    "\n",
    "        box0 = np.array([[0, 0], [width, 0], [width, height], [0, height], ])\n",
    "        box1 = box0 - np.array([width / 2, height / 2])\n",
    "        box1 = np.dot(box1, rotate_matrix.T) + np.array([width / 2 + dx, height / 2 + dy])\n",
    "\n",
    "        box0 = box0.astype(np.float32)\n",
    "        box1 = box1.astype(np.float32)\n",
    "        mat = cv2.getPerspectiveTransform(box0, box1)\n",
    "        image = cv2.warpPerspective(image, mat, (width, height), flags=cv2.INTER_LINEAR, borderMode=borderMode,\n",
    "                                    borderValue=(\n",
    "                                        0, 0,\n",
    "                                        0,))\n",
    "        mask = cv2.warpPerspective(mask, mat, (width, height), flags=cv2.INTER_LINEAR, borderMode=borderMode,\n",
    "                                   borderValue=(\n",
    "                                       0, 0,\n",
    "                                       0,))\n",
    "\n",
    "    return image, mask\n"
   ]
  },
  {
   "cell_type": "code",
   "execution_count": 15,
   "metadata": {
    "ExecuteTime": {
     "end_time": "2017-09-23T13:34:00.822012Z",
     "start_time": "2017-09-23T13:34:00.812548Z"
    },
    "collapsed": true
   },
   "outputs": [],
   "source": [
    "def randomHorizontalFlip(image, mask, u=0.5):\n",
    "    if np.random.random() < u:\n",
    "        image = cv2.flip(image, 1)\n",
    "        mask = cv2.flip(mask, 1)\n",
    "\n",
    "    return image, mask\n"
   ]
  },
  {
   "cell_type": "code",
   "execution_count": 16,
   "metadata": {
    "ExecuteTime": {
     "end_time": "2017-09-23T13:34:00.853544Z",
     "start_time": "2017-09-23T13:34:00.823775Z"
    },
    "collapsed": true
   },
   "outputs": [],
   "source": [
    "def train_generator(train_batch_size):\n",
    "    while True:\n",
    "        this_ids_train_split = random.sample(ids_train_split, len(ids_train_split))\n",
    "        for start in range(0, len(ids_train_split), train_batch_size):\n",
    "            x_batch = []\n",
    "            y_batch = []\n",
    "            end = min(start + train_batch_size, len(ids_train_split))\n",
    "            ids_train_batch = this_ids_train_split[start:end]\n",
    "            for id in ids_train_batch:\n",
    "                img  = cv2.imread('data/train/{}.jpg'.format(id))\n",
    "                mask = cv2.imread('data/train_masks/{}_mask.png'.format(id), cv2.IMREAD_GRAYSCALE)\n",
    "                \n",
    "                img1  = np.copy(img[0:768, :, :])\n",
    "                img1  = np.concatenate([np.zeros((768,2,3), np.uint8), img1], axis=1)\n",
    "                mask1 = np.copy(mask[0:768, :])\n",
    "                mask1 = np.expand_dims(mask1, axis=2)\n",
    "                mask1 = np.concatenate([np.zeros((768,2,1), np.uint8), mask1], axis=1)\n",
    "                \n",
    "                img2  = np.copy(img[512:1280, :, :])\n",
    "                img2  = np.concatenate([img2, np.zeros((768,2,3), np.uint8)], axis=1)\n",
    "                mask2 = np.copy(mask[512:1280, :])\n",
    "                mask2 = np.expand_dims(mask2, axis=2)\n",
    "                mask2 = np.concatenate([mask2, np.zeros((768,2,1), np.uint8)], axis=1)\n",
    "                \n",
    "                                \n",
    "                x_batch.append(img1)\n",
    "                y_batch.append(mask1)\n",
    "                x_batch.append(img2)\n",
    "                y_batch.append(mask2)\n",
    "                \n",
    "            x_batch = np.array(x_batch, np.float32) / 255\n",
    "            y_batch = np.array(y_batch, np.float32) / 255\n",
    "            yield x_batch, y_batch"
   ]
  },
  {
   "cell_type": "code",
   "execution_count": 17,
   "metadata": {
    "ExecuteTime": {
     "end_time": "2017-09-23T13:34:00.882755Z",
     "start_time": "2017-09-23T13:34:00.855626Z"
    },
    "collapsed": true
   },
   "outputs": [],
   "source": [
    "def valid_generator(val_batch_size):\n",
    "    while True:\n",
    "        for start in range(0, len(ids_valid_split), val_batch_size):\n",
    "            \n",
    "            x_batch = []\n",
    "            y_batch = []\n",
    "            \n",
    "            end = min(start + val_batch_size, len(ids_valid_split))\n",
    "            ids_valid_batch = ids_valid_split[start:end]\n",
    "            for id in ids_valid_batch:\n",
    "                img  = cv2.imread('data/train/{}.jpg'.format(id))\n",
    "                mask = cv2.imread('data/train_masks/{}_mask.png'.format(id), cv2.IMREAD_GRAYSCALE)\n",
    "                \n",
    "                img1  = np.copy(img[0:768, :, :])\n",
    "                img1  = np.concatenate([np.zeros((768,2,3), np.uint8), img1], axis=1)\n",
    "                mask1 = np.copy(mask[0:768, :])\n",
    "                mask1 = np.expand_dims(mask1, axis=2)\n",
    "                mask1 = np.concatenate([np.zeros((768,2,1), np.uint8), mask1], axis=1)\n",
    "                \n",
    "                img2  = np.copy(img[512:1280, :, :])\n",
    "                img2  = np.concatenate([img2, np.zeros((768,2,3), np.uint8)], axis=1)\n",
    "                mask2 = np.copy(mask[512:1280, :])\n",
    "                mask2 = np.expand_dims(mask2, axis=2)\n",
    "                mask2 = np.concatenate([mask2, np.zeros((768,2,1), np.uint8)], axis=1)\n",
    "                \n",
    "                                \n",
    "                x_batch.append(img1)\n",
    "                y_batch.append(mask1)\n",
    "                x_batch.append(img2)\n",
    "                y_batch.append(mask2)\n",
    "            \n",
    "            x_batch = np.array(x_batch, np.float32) / 255\n",
    "            y_batch = np.array(y_batch, np.float32) / 255\n",
    "            yield x_batch, y_batch"
   ]
  },
  {
   "cell_type": "markdown",
   "metadata": {},
   "source": [
    "## Training"
   ]
  },
  {
   "cell_type": "code",
   "execution_count": 18,
   "metadata": {
    "ExecuteTime": {
     "end_time": "2017-09-23T13:34:00.889956Z",
     "start_time": "2017-09-23T13:34:00.884309Z"
    },
    "collapsed": true
   },
   "outputs": [],
   "source": [
    "train_batch_size = 2\n",
    "val_batch_size   = 8"
   ]
  },
  {
   "cell_type": "code",
   "execution_count": 19,
   "metadata": {
    "ExecuteTime": {
     "end_time": "2017-09-23T13:34:00.943892Z",
     "start_time": "2017-09-23T13:34:00.891435Z"
    },
    "collapsed": true
   },
   "outputs": [],
   "source": [
    "model.compile(optimizer=RMSprop(lr=0.0001), loss=bce_dice_loss, metrics=[dice_coeff])"
   ]
  },
  {
   "cell_type": "code",
   "execution_count": 21,
   "metadata": {
    "ExecuteTime": {
     "end_time": "2017-09-20T07:11:57.392168Z",
     "start_time": "2017-09-20T07:04:45.959239Z"
    }
   },
   "outputs": [
    {
     "data": {
      "text/plain": [
       "[0.44068337353367232, 0.92385880089930328]"
      ]
     },
     "execution_count": 21,
     "metadata": {},
     "output_type": "execute_result"
    }
   ],
   "source": [
    "model.evaluate_generator(valid_generator(val_batch_size), np.ceil(float(len(ids_valid_split)) / float(val_batch_size)))"
   ]
  },
  {
   "cell_type": "code",
   "execution_count": 20,
   "metadata": {
    "ExecuteTime": {
     "end_time": "2017-09-22T10:22:57.222451Z",
     "start_time": "2017-09-22T10:22:57.220245Z"
    },
    "collapsed": true
   },
   "outputs": [],
   "source": [
    "max_epochs = 50"
   ]
  },
  {
   "cell_type": "code",
   "execution_count": null,
   "metadata": {
    "ExecuteTime": {
     "start_time": "2017-09-20T07:13:00.804Z"
    },
    "collapsed": true
   },
   "outputs": [
    {
     "name": "stdout",
     "output_type": "stream",
     "text": [
      "Epoch 1/50\n",
      "7200s - loss: 0.0110 - dice_coeff: 0.9955 - val_loss: 0.0090 - val_dice_coeff: 0.9962\n",
      "Epoch 2/50\n",
      "7193s - loss: 0.0075 - dice_coeff: 0.9966 - val_loss: 0.0322 - val_dice_coeff: 0.9899\n",
      "Epoch 3/50\n",
      "7194s - loss: 0.0071 - dice_coeff: 0.9967 - val_loss: 0.0106 - val_dice_coeff: 0.9956\n",
      "Epoch 4/50\n",
      "7197s - loss: 0.0070 - dice_coeff: 0.9968 - val_loss: 0.0085 - val_dice_coeff: 0.9965\n",
      "Epoch 5/50\n",
      "7195s - loss: 0.0067 - dice_coeff: 0.9969 - val_loss: 0.0092 - val_dice_coeff: 0.9960\n",
      "Epoch 6/50\n",
      "7190s - loss: 0.0065 - dice_coeff: 0.9970 - val_loss: 0.0077 - val_dice_coeff: 0.9966\n",
      "Epoch 7/50\n",
      "7191s - loss: 0.0064 - dice_coeff: 0.9970 - val_loss: 0.0108 - val_dice_coeff: 0.9959\n",
      "Epoch 8/50\n",
      "7192s - loss: 0.0063 - dice_coeff: 0.9971 - val_loss: 0.0163 - val_dice_coeff: 0.9941\n",
      "Epoch 9/50\n",
      "7194s - loss: 0.0061 - dice_coeff: 0.9971 - val_loss: 0.0073 - val_dice_coeff: 0.9968\n",
      "Epoch 10/50\n",
      "7194s - loss: 0.0060 - dice_coeff: 0.9972 - val_loss: 0.0203 - val_dice_coeff: 0.9937\n",
      "Epoch 11/50\n",
      "7196s - loss: 0.0059 - dice_coeff: 0.9972 - val_loss: 0.0073 - val_dice_coeff: 0.9969\n",
      "Epoch 12/50\n",
      "7197s - loss: 0.0058 - dice_coeff: 0.9973 - val_loss: 0.0071 - val_dice_coeff: 0.9969\n",
      "Epoch 13/50\n",
      "7196s - loss: 0.0057 - dice_coeff: 0.9973 - val_loss: 0.0079 - val_dice_coeff: 0.9967\n",
      "Epoch 14/50\n",
      "7195s - loss: 0.0056 - dice_coeff: 0.9973 - val_loss: 0.0073 - val_dice_coeff: 0.9969\n",
      "Epoch 15/50\n",
      "7196s - loss: 0.0056 - dice_coeff: 0.9974 - val_loss: 0.0070 - val_dice_coeff: 0.9970\n",
      "Epoch 16/50\n",
      "7196s - loss: 0.0055 - dice_coeff: 0.9974 - val_loss: 0.0072 - val_dice_coeff: 0.9970\n",
      "Epoch 17/50\n",
      "7198s - loss: 0.0054 - dice_coeff: 0.9975 - val_loss: 0.0074 - val_dice_coeff: 0.9969\n",
      "Epoch 18/50\n",
      "7196s - loss: 0.0053 - dice_coeff: 0.9975 - val_loss: 0.0123 - val_dice_coeff: 0.9956\n",
      "Epoch 19/50\n",
      "\n",
      "Epoch 00018: reducing learning rate to 9.999999747378752e-06.\n",
      "7195s - loss: 0.0052 - dice_coeff: 0.9975 - val_loss: 0.0074 - val_dice_coeff: 0.9970\n",
      "Epoch 20/50\n",
      "7194s - loss: 0.0047 - dice_coeff: 0.9978 - val_loss: 0.0071 - val_dice_coeff: 0.9972\n",
      "Epoch 21/50\n",
      "7193s - loss: 0.0045 - dice_coeff: 0.9978 - val_loss: 0.0071 - val_dice_coeff: 0.9972\n",
      "Epoch 00020: early stopping\n"
     ]
    }
   ],
   "source": [
    "callbacks = [EarlyStopping(monitor='val_loss',\n",
    "                           patience=5,\n",
    "                           verbose=1,\n",
    "                           min_delta=1e-4),\n",
    "             ReduceLROnPlateau(monitor='val_loss',\n",
    "                               factor=0.1,\n",
    "                               patience=3,\n",
    "                               verbose=1,\n",
    "                               epsilon=1e-4),\n",
    "             ModelCheckpoint(monitor='val_loss',\n",
    "                             filepath='weights/horiz_cut.hdf5',\n",
    "                             save_best_only=True,\n",
    "                             save_weights_only=True)]\n",
    "\n",
    "history = model.fit_generator(generator=train_generator(train_batch_size),\n",
    "                    steps_per_epoch=np.ceil(float(len(ids_train_split)) / float(train_batch_size)),\n",
    "                    epochs=max_epochs,\n",
    "                    verbose=2,\n",
    "                    callbacks=callbacks,\n",
    "                    validation_data=valid_generator(val_batch_size),\n",
    "                    validation_steps=np.ceil(float(len(ids_valid_split)) / float(val_batch_size)))"
   ]
  },
  {
   "cell_type": "code",
   "execution_count": 24,
   "metadata": {
    "ExecuteTime": {
     "end_time": "2017-09-22T03:11:02.000662Z",
     "start_time": "2017-09-22T03:11:01.993620Z"
    },
    "collapsed": true
   },
   "outputs": [
    {
     "data": {
      "text/plain": [
       "{'dice_coeff': [0.99547641204088855,\n",
       "  0.99656272997727269,\n",
       "  0.99672184245299356,\n",
       "  0.99678479471136372,\n",
       "  0.99690351407123723,\n",
       "  0.99695701736782927,\n",
       "  0.99703081875526933,\n",
       "  0.99707062179977834,\n",
       "  0.99713487077403717,\n",
       "  0.99717587302885125,\n",
       "  0.9972247313222955,\n",
       "  0.99726603491007548,\n",
       "  0.99730846571395082,\n",
       "  0.99734954277479093,\n",
       "  0.99738358953368167,\n",
       "  0.9974205322289057,\n",
       "  0.99745514269835822,\n",
       "  0.99750085735203886,\n",
       "  0.99753383190098788,\n",
       "  0.99776134332802136,\n",
       "  0.99783541459123393],\n",
       " 'loss': [0.010955939916733661,\n",
       "  0.0075420257114835031,\n",
       "  0.0071124950638933324,\n",
       "  0.0070064343237466837,\n",
       "  0.0066899393252680579,\n",
       "  0.0065433648472116388,\n",
       "  0.006368383872883362,\n",
       "  0.0062758182126259844,\n",
       "  0.0061206678139087024,\n",
       "  0.006028082627226445,\n",
       "  0.0059079252552991634,\n",
       "  0.0058195561146551257,\n",
       "  0.0057122325485787313,\n",
       "  0.0056209550306649484,\n",
       "  0.0055586429230447777,\n",
       "  0.0054548307271623936,\n",
       "  0.0054122150530100457,\n",
       "  0.0052764827546867236,\n",
       "  0.0052027109982926371,\n",
       "  0.0046979848153577974,\n",
       "  0.0045483615784848641],\n",
       " 'lr': [9.9999997e-05,\n",
       "  9.9999997e-05,\n",
       "  9.9999997e-05,\n",
       "  9.9999997e-05,\n",
       "  9.9999997e-05,\n",
       "  9.9999997e-05,\n",
       "  9.9999997e-05,\n",
       "  9.9999997e-05,\n",
       "  9.9999997e-05,\n",
       "  9.9999997e-05,\n",
       "  9.9999997e-05,\n",
       "  9.9999997e-05,\n",
       "  9.9999997e-05,\n",
       "  9.9999997e-05,\n",
       "  9.9999997e-05,\n",
       "  9.9999997e-05,\n",
       "  9.9999997e-05,\n",
       "  9.9999997e-05,\n",
       "  9.9999997e-05,\n",
       "  9.9999997e-06,\n",
       "  9.9999997e-06],\n",
       " 'val_dice_coeff': [0.9961949778914686,\n",
       "  0.98985449012464066,\n",
       "  0.99555689002769632,\n",
       "  0.99647593568490855,\n",
       "  0.99599099686197312,\n",
       "  0.99663173426345197,\n",
       "  0.99589730386415498,\n",
       "  0.99407089599691811,\n",
       "  0.99684472601633878,\n",
       "  0.99372540077666638,\n",
       "  0.99689426087208954,\n",
       "  0.99691498783107824,\n",
       "  0.99671216130490858,\n",
       "  0.9968503509851242,\n",
       "  0.99697788115334651,\n",
       "  0.99698069393049293,\n",
       "  0.9969251053974999,\n",
       "  0.99558515843801743,\n",
       "  0.99696284766749921,\n",
       "  0.99716254641358648,\n",
       "  0.99715821752379596],\n",
       " 'val_loss': [0.0089533194928834384,\n",
       "  0.032217549720014241,\n",
       "  0.010606258664799815,\n",
       "  0.0084575947633924332,\n",
       "  0.0091645458003246239,\n",
       "  0.0077088404966478025,\n",
       "  0.010772680142832176,\n",
       "  0.016320640455441064,\n",
       "  0.0072915990789345882,\n",
       "  0.020334542924739522,\n",
       "  0.007271741624841053,\n",
       "  0.0071195024038227693,\n",
       "  0.0078719417694480334,\n",
       "  0.0073142981427503943,\n",
       "  0.0070080063772371337,\n",
       "  0.0072414725762746188,\n",
       "  0.0074026312144776923,\n",
       "  0.012293247467598536,\n",
       "  0.0073924339714886399,\n",
       "  0.0070732956850985415,\n",
       "  0.0071035250399283673]}"
      ]
     },
     "execution_count": 24,
     "metadata": {},
     "output_type": "execute_result"
    }
   ],
   "source": [
    "history.history"
   ]
  },
  {
   "cell_type": "markdown",
   "metadata": {},
   "source": [
    "# Only the top part"
   ]
  },
  {
   "cell_type": "code",
   "execution_count": 38,
   "metadata": {
    "ExecuteTime": {
     "end_time": "2017-09-23T02:12:50.553269Z",
     "start_time": "2017-09-23T02:12:50.528358Z"
    },
    "collapsed": true
   },
   "outputs": [],
   "source": [
    "def train_generator(train_batch_size):\n",
    "    while True:\n",
    "        this_ids_train_split = random.sample(ids_train_split, len(ids_train_split))\n",
    "        for start in range(0, len(ids_train_split), train_batch_size):\n",
    "            x_batch = []\n",
    "            y_batch = []\n",
    "            end = min(start + train_batch_size, len(ids_train_split))\n",
    "            ids_train_batch = this_ids_train_split[start:end]\n",
    "            for id in ids_train_batch:\n",
    "                img  = cv2.imread('data/train/{}.jpg'.format(id))\n",
    "                mask = cv2.imread('data/train_masks/{}_mask.png'.format(id), cv2.IMREAD_GRAYSCALE)\n",
    "                \n",
    "                img = randomHueSaturationValue(img,\n",
    "                                               hue_shift_limit=(-50, 50),\n",
    "                                               sat_shift_limit=(-5, 5),\n",
    "                                               val_shift_limit=(-15, 15))\n",
    "                img, mask = randomShiftScaleRotate(img, mask,\n",
    "                                                   shift_limit=(-0.0625, 0.0625),\n",
    "                                                   scale_limit=(-0.1, 0.1),\n",
    "                                                   rotate_limit=(-0, 0))\n",
    "                img, mask = randomHorizontalFlip(img, mask)\n",
    "                \n",
    "                img1  = np.copy(img[0:768, :, :])\n",
    "                img1  = np.concatenate([np.zeros((768,2,3), np.uint8), img1], axis=1)\n",
    "                mask1 = np.copy(mask[0:768, :])\n",
    "                mask1 = np.expand_dims(mask1, axis=2)\n",
    "                mask1 = np.concatenate([np.zeros((768,2,1), np.uint8), mask1], axis=1)\n",
    "                                \n",
    "                x_batch.append(img1)\n",
    "                y_batch.append(mask1)\n",
    "                \n",
    "            x_batch = np.array(x_batch, np.float32) / 255\n",
    "            y_batch = np.array(y_batch, np.float32) / 255\n",
    "            yield x_batch, y_batch"
   ]
  },
  {
   "cell_type": "code",
   "execution_count": 39,
   "metadata": {
    "ExecuteTime": {
     "end_time": "2017-09-23T02:12:51.477126Z",
     "start_time": "2017-09-23T02:12:51.459551Z"
    },
    "collapsed": true
   },
   "outputs": [],
   "source": [
    "def valid_generator(val_batch_size):\n",
    "    while True:\n",
    "        for start in range(0, len(ids_valid_split), val_batch_size):\n",
    "            \n",
    "            x_batch = []\n",
    "            y_batch = []\n",
    "            \n",
    "            end = min(start + val_batch_size, len(ids_valid_split))\n",
    "            ids_valid_batch = ids_valid_split[start:end]\n",
    "            for id in ids_valid_batch:\n",
    "                img  = cv2.imread('data/train/{}.jpg'.format(id))\n",
    "                mask = cv2.imread('data/train_masks/{}_mask.png'.format(id), cv2.IMREAD_GRAYSCALE)\n",
    "                \n",
    "                img1  = np.copy(img[0:768, :, :])\n",
    "                img1  = np.concatenate([np.zeros((768,2,3), np.uint8), img1], axis=1)\n",
    "                mask1 = np.copy(mask[0:768, :])\n",
    "                mask1 = np.expand_dims(mask1, axis=2)\n",
    "                mask1 = np.concatenate([np.zeros((768,2,1), np.uint8), mask1], axis=1)\n",
    "                \n",
    "                x_batch.append(img1)\n",
    "                y_batch.append(mask1)\n",
    "            \n",
    "            x_batch = np.array(x_batch, np.float32) / 255\n",
    "            y_batch = np.array(y_batch, np.float32) / 255\n",
    "            yield x_batch, y_batch"
   ]
  },
  {
   "cell_type": "code",
   "execution_count": 40,
   "metadata": {
    "ExecuteTime": {
     "end_time": "2017-09-23T02:13:08.864427Z",
     "start_time": "2017-09-23T02:13:08.861141Z"
    },
    "collapsed": true
   },
   "outputs": [],
   "source": [
    "train_batch_size = 6\n",
    "val_batch_size   = 24"
   ]
  },
  {
   "cell_type": "code",
   "execution_count": 41,
   "metadata": {
    "ExecuteTime": {
     "end_time": "2017-09-23T02:13:14.826736Z",
     "start_time": "2017-09-23T02:13:14.625337Z"
    },
    "collapsed": true
   },
   "outputs": [],
   "source": [
    "model.load_weights('weights/horiz_cut.hdf5')"
   ]
  },
  {
   "cell_type": "code",
   "execution_count": 42,
   "metadata": {
    "ExecuteTime": {
     "end_time": "2017-09-23T02:14:19.074183Z",
     "start_time": "2017-09-23T02:13:15.134459Z"
    }
   },
   "outputs": [
    {
     "data": {
      "text/plain": [
       "[0.0059809478709734023, 0.99730878869302142]"
      ]
     },
     "execution_count": 42,
     "metadata": {},
     "output_type": "execute_result"
    }
   ],
   "source": [
    "model.evaluate_generator(valid_generator(val_batch_size), np.ceil(float(len(ids_valid_split)) / float(val_batch_size)))"
   ]
  },
  {
   "cell_type": "code",
   "execution_count": 43,
   "metadata": {
    "ExecuteTime": {
     "end_time": "2017-09-23T02:14:46.603643Z",
     "start_time": "2017-09-23T02:14:46.551368Z"
    },
    "collapsed": true
   },
   "outputs": [],
   "source": [
    "model.compile(optimizer=RMSprop(lr=0.00001), loss=bce_dice_loss, metrics=[dice_coeff])"
   ]
  },
  {
   "cell_type": "code",
   "execution_count": 45,
   "metadata": {
    "ExecuteTime": {
     "end_time": "2017-09-23T05:46:13.699175Z",
     "start_time": "2017-09-23T02:14:56.932699Z"
    }
   },
   "outputs": [
    {
     "name": "stdout",
     "output_type": "stream",
     "text": [
      "Epoch 1/15\n",
      "1585s - loss: 0.0078 - dice_coeff: 0.9967 - val_loss: 0.0058 - val_dice_coeff: 0.9973\n",
      "Epoch 2/15\n",
      "1583s - loss: 0.0061 - dice_coeff: 0.9971 - val_loss: 0.0057 - val_dice_coeff: 0.9973\n",
      "Epoch 3/15\n",
      "1582s - loss: 0.0060 - dice_coeff: 0.9972 - val_loss: 0.0056 - val_dice_coeff: 0.9973\n",
      "Epoch 4/15\n",
      "1584s - loss: 0.0059 - dice_coeff: 0.9972 - val_loss: 0.0056 - val_dice_coeff: 0.9974\n",
      "Epoch 5/15\n",
      "1583s - loss: 0.0059 - dice_coeff: 0.9972 - val_loss: 0.0056 - val_dice_coeff: 0.9974\n",
      "Epoch 6/15\n",
      "\n",
      "Epoch 00005: reducing learning rate to 9.999999747378752e-07.\n",
      "1583s - loss: 0.0059 - dice_coeff: 0.9972 - val_loss: 0.0056 - val_dice_coeff: 0.9974\n",
      "Epoch 7/15\n",
      "1583s - loss: 0.0058 - dice_coeff: 0.9972 - val_loss: 0.0056 - val_dice_coeff: 0.9974\n",
      "Epoch 8/15\n",
      "1583s - loss: 0.0058 - dice_coeff: 0.9972 - val_loss: 0.0056 - val_dice_coeff: 0.9974\n",
      "Epoch 00007: early stopping\n"
     ]
    }
   ],
   "source": [
    "callbacks = [EarlyStopping(monitor='val_loss',\n",
    "                           patience=5,\n",
    "                           verbose=1,\n",
    "                           min_delta=1e-4),\n",
    "             ReduceLROnPlateau(monitor='val_loss',\n",
    "                               factor=0.1,\n",
    "                               patience=3,\n",
    "                               verbose=1,\n",
    "                               epsilon=1e-4),\n",
    "             ModelCheckpoint(monitor='val_loss',\n",
    "                             filepath='weights/horiz_cut_top.hdf5',\n",
    "                             save_best_only=True,\n",
    "                             save_weights_only=True)]\n",
    "\n",
    "history = model.fit_generator(generator=train_generator(train_batch_size),\n",
    "                    steps_per_epoch=int(np.ceil(float(len(ids_train_split)) / float(train_batch_size))),\n",
    "                    epochs=15,\n",
    "                    verbose=2,\n",
    "                    callbacks=callbacks,\n",
    "                    validation_data=valid_generator(val_batch_size),\n",
    "                    validation_steps=int(np.ceil(float(len(ids_valid_split)) / float(val_batch_size))))"
   ]
  },
  {
   "cell_type": "markdown",
   "metadata": {
    "collapsed": true
   },
   "source": [
    "# Only the bottom part"
   ]
  },
  {
   "cell_type": "code",
   "execution_count": 86,
   "metadata": {
    "ExecuteTime": {
     "end_time": "2017-09-23T13:11:09.609854Z",
     "start_time": "2017-09-23T13:11:09.581414Z"
    },
    "collapsed": true
   },
   "outputs": [],
   "source": [
    "def train_generator(train_batch_size):\n",
    "    while True:\n",
    "        this_ids_train_split = random.sample(ids_train_split, len(ids_train_split))\n",
    "        for start in range(0, len(ids_train_split), train_batch_size):\n",
    "            x_batch = []\n",
    "            y_batch = []\n",
    "            end = min(start + train_batch_size, len(ids_train_split))\n",
    "            ids_train_batch = this_ids_train_split[start:end]\n",
    "            for id in ids_train_batch:\n",
    "                img  = cv2.imread('data/train/{}.jpg'.format(id))\n",
    "                mask = cv2.imread('data/train_masks/{}_mask.png'.format(id), cv2.IMREAD_GRAYSCALE)\n",
    "                \n",
    "                img = randomHueSaturationValue(img,\n",
    "                                               hue_shift_limit=(-50, 50),\n",
    "                                               sat_shift_limit=(-5, 5),\n",
    "                                               val_shift_limit=(-15, 15))\n",
    "                img, mask = randomShiftScaleRotate(img, mask,\n",
    "                                                   shift_limit=(-0.0625, 0.0625),\n",
    "                                                   scale_limit=(-0.1, 0.1),\n",
    "                                                   rotate_limit=(-0, 0))\n",
    "                img, mask = randomHorizontalFlip(img, mask)\n",
    "                \n",
    "                \n",
    "                img2  = np.copy(img[512:1280, :, :])\n",
    "                img2  = np.concatenate([img2, np.zeros((768,2,3), np.uint8)], axis=1)\n",
    "                \n",
    "                mask2 = np.copy(mask[512:1280, :])\n",
    "                mask2 = np.expand_dims(mask2, axis=2)\n",
    "                mask2 = np.concatenate([mask2, np.zeros((768,2,1), np.uint8)], axis=1)\n",
    "                \n",
    "                x_batch.append(img2)\n",
    "                y_batch.append(mask2)\n",
    "                \n",
    "            x_batch = np.array(x_batch, np.float32) / 255\n",
    "            y_batch = np.array(y_batch, np.float32) / 255\n",
    "            yield x_batch, y_batch"
   ]
  },
  {
   "cell_type": "code",
   "execution_count": 87,
   "metadata": {
    "ExecuteTime": {
     "end_time": "2017-09-23T13:11:10.158222Z",
     "start_time": "2017-09-23T13:11:10.140582Z"
    },
    "collapsed": true
   },
   "outputs": [],
   "source": [
    "def valid_generator(val_batch_size):\n",
    "    while True:\n",
    "        for start in range(0, len(ids_valid_split), val_batch_size):\n",
    "            \n",
    "            x_batch = []\n",
    "            y_batch = []\n",
    "            \n",
    "            end = min(start + val_batch_size, len(ids_valid_split))\n",
    "            ids_valid_batch = ids_valid_split[start:end]\n",
    "            for id in ids_valid_batch:\n",
    "                img  = cv2.imread('data/train/{}.jpg'.format(id))\n",
    "                mask = cv2.imread('data/train_masks/{}_mask.png'.format(id), cv2.IMREAD_GRAYSCALE)\n",
    "                \n",
    "                img2  = np.copy(img[512:1280, :, :])\n",
    "                img2  = np.concatenate([img2, np.zeros((768,2,3), np.uint8)], axis=1)\n",
    "                mask2 = np.copy(mask[512:1280, :])\n",
    "                mask2 = np.expand_dims(mask2, axis=2)\n",
    "                mask2 = np.concatenate([mask2, np.zeros((768,2,1), np.uint8)], axis=1)\n",
    "                \n",
    "                                \n",
    "                x_batch.append(img2)\n",
    "                y_batch.append(mask2)\n",
    "            \n",
    "            x_batch = np.array(x_batch, np.float32) / 255\n",
    "            y_batch = np.array(y_batch, np.float32) / 255\n",
    "            yield x_batch, y_batch"
   ]
  },
  {
   "cell_type": "code",
   "execution_count": 88,
   "metadata": {
    "ExecuteTime": {
     "end_time": "2017-09-23T13:11:12.856985Z",
     "start_time": "2017-09-23T13:11:12.854115Z"
    },
    "collapsed": true
   },
   "outputs": [],
   "source": [
    "train_batch_size = 6\n",
    "val_batch_size   = 24"
   ]
  },
  {
   "cell_type": "code",
   "execution_count": 41,
   "metadata": {
    "ExecuteTime": {
     "end_time": "2017-09-22T17:55:28.254324Z",
     "start_time": "2017-09-22T17:55:28.042719Z"
    },
    "collapsed": true
   },
   "outputs": [],
   "source": [
    "model.load_weights('weights/horiz_cut.hdf5')"
   ]
  },
  {
   "cell_type": "code",
   "execution_count": 22,
   "metadata": {
    "ExecuteTime": {
     "end_time": "2017-09-22T22:57:54.309544Z",
     "start_time": "2017-09-22T22:57:54.253872Z"
    },
    "collapsed": true
   },
   "outputs": [],
   "source": [
    "model.compile(optimizer=RMSprop(lr=0.00001), loss=bce_dice_loss, metrics=[dice_coeff])"
   ]
  },
  {
   "cell_type": "code",
   "execution_count": null,
   "metadata": {
    "ExecuteTime": {
     "start_time": "2017-09-22T17:55:29.037Z"
    }
   },
   "outputs": [
    {
     "data": {
      "text/plain": [
       "[0.008009706292674678, 0.99667233603408156]"
      ]
     },
     "execution_count": 43,
     "metadata": {},
     "output_type": "execute_result"
    }
   ],
   "source": [
    "model.evaluate_generator(valid_generator(val_batch_size), np.ceil(float(len(ids_valid_split)) / float(val_batch_size)))"
   ]
  },
  {
   "cell_type": "code",
   "execution_count": null,
   "metadata": {
    "ExecuteTime": {
     "start_time": "2017-09-22T17:55:29.453Z"
    }
   },
   "outputs": [
    {
     "name": "stdout",
     "output_type": "stream",
     "text": [
      "Epoch 1/10\n",
      "1582s - loss: 0.0133 - dice_coeff: 0.9953 - val_loss: 0.0078 - val_dice_coeff: 0.9966\n",
      "Epoch 2/10\n",
      "1577s - loss: 0.0073 - dice_coeff: 0.9966 - val_loss: 0.0077 - val_dice_coeff: 0.9966\n",
      "Epoch 3/10\n",
      "1577s - loss: 0.0071 - dice_coeff: 0.9967 - val_loss: 0.0076 - val_dice_coeff: 0.9967\n",
      "Epoch 4/10\n",
      "1578s - loss: 0.0071 - dice_coeff: 0.9968 - val_loss: 0.0075 - val_dice_coeff: 0.9967\n",
      "Epoch 5/10\n",
      "1576s - loss: 0.0070 - dice_coeff: 0.9968 - val_loss: 0.0075 - val_dice_coeff: 0.9967\n",
      "Epoch 6/10\n",
      "1577s - loss: 0.0069 - dice_coeff: 0.9968 - val_loss: 0.0075 - val_dice_coeff: 0.9967\n",
      "Epoch 7/10\n"
     ]
    }
   ],
   "source": [
    "callbacks = [EarlyStopping(monitor='val_loss',\n",
    "                           patience=5,\n",
    "                           verbose=1,\n",
    "                           min_delta=1e-4),\n",
    "             ReduceLROnPlateau(monitor='val_loss',\n",
    "                               factor=0.1,\n",
    "                               patience=3,\n",
    "                               verbose=1,\n",
    "                               epsilon=1e-4),\n",
    "             ModelCheckpoint(monitor='val_loss',\n",
    "                             filepath='weights/horiz_cut_bottom.hdf5',\n",
    "                             save_best_only=True,\n",
    "                             save_weights_only=True)]\n",
    "\n",
    "history = model.fit_generator(generator=train_generator(train_batch_size),\n",
    "                    steps_per_epoch=int(np.ceil(float(len(ids_train_split)) / float(train_batch_size))),\n",
    "                    epochs=10,\n",
    "                    verbose=2,\n",
    "                    callbacks=callbacks,\n",
    "                    validation_data=valid_generator(val_batch_size),\n",
    "                    validation_steps=int(np.ceil(float(len(ids_valid_split)) / float(val_batch_size))))"
   ]
  },
  {
   "cell_type": "code",
   "execution_count": 23,
   "metadata": {
    "ExecuteTime": {
     "end_time": "2017-09-22T22:58:31.322882Z",
     "start_time": "2017-09-22T22:58:17.248009Z"
    },
    "collapsed": true
   },
   "outputs": [],
   "source": [
    "model.load_weights('./weights/horiz_cut_bottom.hdf5')"
   ]
  },
  {
   "cell_type": "code",
   "execution_count": 24,
   "metadata": {
    "ExecuteTime": {
     "end_time": "2017-09-22T22:59:51.555337Z",
     "start_time": "2017-09-22T22:58:31.324518Z"
    }
   },
   "outputs": [
    {
     "data": {
      "text/plain": [
       "[0.0074602240515408086, 0.99670403680539088]"
      ]
     },
     "execution_count": 24,
     "metadata": {},
     "output_type": "execute_result"
    }
   ],
   "source": [
    "model.evaluate_generator(valid_generator(val_batch_size), np.ceil(float(len(ids_valid_split)) / float(val_batch_size)))"
   ]
  },
  {
   "cell_type": "code",
   "execution_count": 25,
   "metadata": {
    "ExecuteTime": {
     "end_time": "2017-09-22T22:59:51.610662Z",
     "start_time": "2017-09-22T22:59:51.557596Z"
    },
    "collapsed": true
   },
   "outputs": [],
   "source": [
    "model.compile(optimizer=RMSprop(lr=0.000001), loss=bce_dice_loss, metrics=[dice_coeff])"
   ]
  },
  {
   "cell_type": "code",
   "execution_count": 26,
   "metadata": {
    "ExecuteTime": {
     "end_time": "2017-09-23T01:12:17.153657Z",
     "start_time": "2017-09-22T23:00:23.309485Z"
    }
   },
   "outputs": [
    {
     "name": "stdout",
     "output_type": "stream",
     "text": [
      "Epoch 1/5\n",
      "1588s - loss: 0.0071 - dice_coeff: 0.9968 - val_loss: 0.0074 - val_dice_coeff: 0.9967\n",
      "Epoch 2/5\n",
      "1579s - loss: 0.0069 - dice_coeff: 0.9968 - val_loss: 0.0074 - val_dice_coeff: 0.9967\n",
      "Epoch 3/5\n",
      "1578s - loss: 0.0068 - dice_coeff: 0.9968 - val_loss: 0.0074 - val_dice_coeff: 0.9967\n",
      "Epoch 4/5\n",
      "1579s - loss: 0.0068 - dice_coeff: 0.9969 - val_loss: 0.0074 - val_dice_coeff: 0.9967\n",
      "Epoch 5/5\n",
      "\n",
      "Epoch 00004: reducing learning rate to 9.999999974752428e-08.\n",
      "1579s - loss: 0.0069 - dice_coeff: 0.9968 - val_loss: 0.0074 - val_dice_coeff: 0.9967\n"
     ]
    }
   ],
   "source": [
    "callbacks = [EarlyStopping(monitor='val_loss',\n",
    "                           patience=5,\n",
    "                           verbose=1,\n",
    "                           min_delta=1e-4),\n",
    "             ReduceLROnPlateau(monitor='val_loss',\n",
    "                               factor=0.1,\n",
    "                               patience=3,\n",
    "                               verbose=1,\n",
    "                               epsilon=1e-4),\n",
    "             ModelCheckpoint(monitor='val_loss',\n",
    "                             filepath='weights/horiz_cut_bottom2.hdf5',\n",
    "                             save_best_only=True,\n",
    "                             save_weights_only=True)]\n",
    "\n",
    "history = model.fit_generator(generator=train_generator(train_batch_size),\n",
    "                    steps_per_epoch=int(np.ceil(float(len(ids_train_split)) / float(train_batch_size))),\n",
    "                    epochs=5,\n",
    "                    verbose=2,\n",
    "                    callbacks=callbacks,\n",
    "                    validation_data=valid_generator(val_batch_size),\n",
    "                    validation_steps=int(np.ceil(float(len(ids_valid_split)) / float(val_batch_size))))"
   ]
  },
  {
   "cell_type": "code",
   "execution_count": 76,
   "metadata": {
    "ExecuteTime": {
     "end_time": "2017-09-23T09:47:57.923184Z",
     "start_time": "2017-09-23T09:47:57.894006Z"
    },
    "collapsed": true
   },
   "outputs": [],
   "source": [
    "def train_generator(train_batch_size):\n",
    "    while True:\n",
    "        this_ids_train_split = random.sample(ids_train_split, len(ids_train_split))\n",
    "        for start in range(0, len(ids_train_split), train_batch_size):\n",
    "            x_batch = []\n",
    "            y_batch = []\n",
    "            end = min(start + train_batch_size, len(ids_train_split))\n",
    "            ids_train_batch = this_ids_train_split[start:end]\n",
    "            for id in ids_train_batch:\n",
    "                img  = cv2.imread('data/train/{}.jpg'.format(id))\n",
    "                mask = cv2.imread('data/train_masks/{}_mask.png'.format(id), cv2.IMREAD_GRAYSCALE)\n",
    "                \n",
    "                img = randomHueSaturationValue(img,\n",
    "                                               hue_shift_limit=(-50, 50),\n",
    "                                               sat_shift_limit=(-5, 5),\n",
    "                                               val_shift_limit=(-15, 15))\n",
    "                img, mask = randomShiftScaleRotate(img, mask,\n",
    "                                                   shift_limit=(-0.2, 0.2),\n",
    "                                                   scale_limit=(-0.1, 0.1),\n",
    "                                                   rotate_limit=(-0.05, 0.05))\n",
    "                img, mask = randomHorizontalFlip(img, mask)\n",
    "                \n",
    "                \n",
    "                img2  = np.copy(img[512:1280, :, :])\n",
    "                img2  = np.concatenate([img2, np.zeros((768,2,3), np.uint8)], axis=1)\n",
    "                \n",
    "                mask2 = np.copy(mask[512:1280, :])\n",
    "                mask2 = np.expand_dims(mask2, axis=2)\n",
    "                mask2 = np.concatenate([mask2, np.zeros((768,2,1), np.uint8)], axis=1)\n",
    "                \n",
    "                x_batch.append(img2)\n",
    "                y_batch.append(mask2)\n",
    "                \n",
    "            x_batch = np.array(x_batch, np.float32) / 255\n",
    "            y_batch = np.array(y_batch, np.float32) / 255\n",
    "            yield x_batch, y_batch"
   ]
  },
  {
   "cell_type": "code",
   "execution_count": 77,
   "metadata": {
    "ExecuteTime": {
     "end_time": "2017-09-23T09:48:00.270206Z",
     "start_time": "2017-09-23T09:48:00.218014Z"
    },
    "collapsed": true
   },
   "outputs": [],
   "source": [
    "model.compile(optimizer=RMSprop(lr=0.000001), loss=bce_dice_loss, metrics=[dice_coeff])"
   ]
  },
  {
   "cell_type": "code",
   "execution_count": 78,
   "metadata": {
    "ExecuteTime": {
     "end_time": "2017-09-23T09:48:01.460349Z",
     "start_time": "2017-09-23T09:48:00.558753Z"
    },
    "collapsed": true
   },
   "outputs": [],
   "source": [
    "model.load_weights('./weights/horiz_cut_bottom2.hdf5')"
   ]
  },
  {
   "cell_type": "code",
   "execution_count": 79,
   "metadata": {
    "ExecuteTime": {
     "end_time": "2017-09-23T09:49:17.495595Z",
     "start_time": "2017-09-23T09:48:12.951411Z"
    }
   },
   "outputs": [
    {
     "data": {
      "text/plain": [
       "[0.0074096450477853151, 0.9967301567551663]"
      ]
     },
     "execution_count": 79,
     "metadata": {},
     "output_type": "execute_result"
    }
   ],
   "source": [
    "model.evaluate_generator(valid_generator(val_batch_size), np.ceil(float(len(ids_valid_split)) / float(val_batch_size)))"
   ]
  },
  {
   "cell_type": "code",
   "execution_count": 80,
   "metadata": {
    "ExecuteTime": {
     "end_time": "2017-09-23T12:53:26.165611Z",
     "start_time": "2017-09-23T09:49:17.497589Z"
    }
   },
   "outputs": [
    {
     "name": "stdout",
     "output_type": "stream",
     "text": [
      "Epoch 1/10\n",
      "1580s - loss: 0.0111 - dice_coeff: 0.9955 - val_loss: 0.0075 - val_dice_coeff: 0.9967\n",
      "Epoch 2/10\n",
      "1576s - loss: 0.0084 - dice_coeff: 0.9962 - val_loss: 0.0075 - val_dice_coeff: 0.9967\n",
      "Epoch 3/10\n",
      "1575s - loss: 0.0082 - dice_coeff: 0.9963 - val_loss: 0.0075 - val_dice_coeff: 0.9967\n",
      "Epoch 4/10\n",
      "1577s - loss: 0.0080 - dice_coeff: 0.9963 - val_loss: 0.0075 - val_dice_coeff: 0.9967\n",
      "Epoch 5/10\n",
      "\n",
      "Epoch 00004: reducing learning rate to 9.999999974752428e-08.\n",
      "1576s - loss: 0.0085 - dice_coeff: 0.9962 - val_loss: 0.0075 - val_dice_coeff: 0.9967\n",
      "Epoch 6/10\n",
      "1576s - loss: 0.0080 - dice_coeff: 0.9964 - val_loss: 0.0075 - val_dice_coeff: 0.9967\n",
      "Epoch 7/10\n",
      "1578s - loss: 0.0079 - dice_coeff: 0.9964 - val_loss: 0.0075 - val_dice_coeff: 0.9967\n",
      "Epoch 00006: early stopping\n"
     ]
    }
   ],
   "source": [
    "callbacks = [EarlyStopping(monitor='val_loss',\n",
    "                           patience=5,\n",
    "                           verbose=1,\n",
    "                           min_delta=1e-4),\n",
    "             ReduceLROnPlateau(monitor='val_loss',\n",
    "                               factor=0.1,\n",
    "                               patience=3,\n",
    "                               verbose=1,\n",
    "                               epsilon=1e-4),\n",
    "             ModelCheckpoint(monitor='val_loss',\n",
    "                             filepath='weights/horiz_cut_bottom3.hdf5',\n",
    "                             save_best_only=True,\n",
    "                             save_weights_only=True)]\n",
    "\n",
    "history = model.fit_generator(generator=train_generator(train_batch_size),\n",
    "                    steps_per_epoch=int(np.ceil(float(len(ids_train_split)) / float(train_batch_size))),\n",
    "                    epochs=10,\n",
    "                    verbose=2,\n",
    "                    callbacks=callbacks,\n",
    "                    validation_data=valid_generator(val_batch_size),\n",
    "                    validation_steps=int(np.ceil(float(len(ids_valid_split)) / float(val_batch_size))))"
   ]
  },
  {
   "cell_type": "markdown",
   "metadata": {},
   "source": [
    "### Pseudo labeling"
   ]
  },
  {
   "cell_type": "code",
   "execution_count": 89,
   "metadata": {
    "ExecuteTime": {
     "end_time": "2017-09-23T13:12:12.004689Z",
     "start_time": "2017-09-23T13:12:11.813424Z"
    },
    "collapsed": true
   },
   "outputs": [],
   "source": [
    "model.load_weights('./weights/horiz_cut_bottom2.hdf5')"
   ]
  },
  {
   "cell_type": "code",
   "execution_count": 90,
   "metadata": {
    "ExecuteTime": {
     "end_time": "2017-09-23T13:13:24.709733Z",
     "start_time": "2017-09-23T13:12:20.369736Z"
    }
   },
   "outputs": [
    {
     "data": {
      "text/plain": [
       "[0.0074096960079634818, 0.9967301085093635]"
      ]
     },
     "execution_count": 90,
     "metadata": {},
     "output_type": "execute_result"
    }
   ],
   "source": [
    "model.evaluate_generator(valid_generator(val_batch_size), np.ceil(float(len(ids_valid_split)) / float(val_batch_size)))"
   ]
  },
  {
   "cell_type": "code",
   "execution_count": 91,
   "metadata": {
    "ExecuteTime": {
     "end_time": "2017-09-23T13:13:24.902544Z",
     "start_time": "2017-09-23T13:13:24.711875Z"
    },
    "collapsed": true
   },
   "outputs": [],
   "source": [
    "model.load_weights('./weights/horiz_cut_bottom3.hdf5')"
   ]
  },
  {
   "cell_type": "code",
   "execution_count": 92,
   "metadata": {
    "ExecuteTime": {
     "end_time": "2017-09-23T13:14:28.197914Z",
     "start_time": "2017-09-23T13:13:24.904421Z"
    }
   },
   "outputs": [
    {
     "data": {
      "text/plain": [
       "[0.0074598992276343947, 0.99669412908479127]"
      ]
     },
     "execution_count": 92,
     "metadata": {},
     "output_type": "execute_result"
    }
   ],
   "source": [
    "model.evaluate_generator(valid_generator(val_batch_size), np.ceil(float(len(ids_valid_split)) / float(val_batch_size)))"
   ]
  },
  {
   "cell_type": "markdown",
   "metadata": {},
   "source": [
    "# Is the specialised model much better than the common model"
   ]
  },
  {
   "cell_type": "markdown",
   "metadata": {
    "ExecuteTime": {
     "start_time": "2017-09-14T05:09:31.797Z"
    }
   },
   "source": [
    "## top part"
   ]
  },
  {
   "cell_type": "code",
   "execution_count": 25,
   "metadata": {
    "ExecuteTime": {
     "end_time": "2017-09-23T13:20:30.001654Z",
     "start_time": "2017-09-23T13:20:29.983466Z"
    },
    "collapsed": true
   },
   "outputs": [],
   "source": [
    "def valid_generator(val_batch_size):\n",
    "    while True:\n",
    "        for start in range(0, len(ids_valid_split), val_batch_size):\n",
    "            \n",
    "            x_batch = []\n",
    "            y_batch = []\n",
    "            \n",
    "            end = min(start + val_batch_size, len(ids_valid_split))\n",
    "            ids_valid_batch = ids_valid_split[start:end]\n",
    "            for id in ids_valid_batch:\n",
    "                img  = cv2.imread('data/train/{}.jpg'.format(id))\n",
    "                mask = cv2.imread('data/train_masks/{}_mask.png'.format(id), cv2.IMREAD_GRAYSCALE)\n",
    "                \n",
    "                img1  = np.copy(img[0:768, :, :])\n",
    "                img1  = np.concatenate([np.zeros((768,2,3), np.uint8), img1], axis=1)\n",
    "                mask1 = np.copy(mask[0:768, :])\n",
    "                mask1 = np.expand_dims(mask1, axis=2)\n",
    "                mask1 = np.concatenate([np.zeros((768,2,1), np.uint8), mask1], axis=1)\n",
    "                \n",
    "                x_batch.append(img1)\n",
    "                y_batch.append(mask1)\n",
    "            \n",
    "            x_batch = np.array(x_batch, np.float32) / 255\n",
    "            y_batch = np.array(y_batch, np.float32) / 255\n",
    "            yield x_batch, y_batch"
   ]
  },
  {
   "cell_type": "code",
   "execution_count": 26,
   "metadata": {
    "ExecuteTime": {
     "end_time": "2017-09-23T13:20:30.744739Z",
     "start_time": "2017-09-23T13:20:30.454916Z"
    },
    "collapsed": true
   },
   "outputs": [],
   "source": [
    "model.load_weights('weights/horiz_cut.hdf5')"
   ]
  },
  {
   "cell_type": "code",
   "execution_count": 27,
   "metadata": {
    "ExecuteTime": {
     "end_time": "2017-09-23T13:20:30.781769Z",
     "start_time": "2017-09-23T13:20:30.778794Z"
    },
    "collapsed": true
   },
   "outputs": [],
   "source": [
    "val_batch_size   = 24"
   ]
  },
  {
   "cell_type": "code",
   "execution_count": 28,
   "metadata": {
    "ExecuteTime": {
     "end_time": "2017-09-23T13:21:39.589552Z",
     "start_time": "2017-09-23T13:20:31.116840Z"
    }
   },
   "outputs": [
    {
     "data": {
      "text/plain": [
       "[0.0059811309636854122, 0.99730860519502862]"
      ]
     },
     "execution_count": 28,
     "metadata": {},
     "output_type": "execute_result"
    }
   ],
   "source": [
    "model.evaluate_generator(valid_generator(val_batch_size), np.ceil(float(len(ids_valid_split)) / float(val_batch_size)))"
   ]
  },
  {
   "cell_type": "code",
   "execution_count": 29,
   "metadata": {
    "ExecuteTime": {
     "end_time": "2017-09-23T13:21:39.779898Z",
     "start_time": "2017-09-23T13:21:39.591085Z"
    },
    "collapsed": true
   },
   "outputs": [],
   "source": [
    "model.load_weights('weights/horiz_cut_top.hdf5')"
   ]
  },
  {
   "cell_type": "code",
   "execution_count": 30,
   "metadata": {
    "ExecuteTime": {
     "end_time": "2017-09-23T13:22:43.904458Z",
     "start_time": "2017-09-23T13:21:39.781358Z"
    }
   },
   "outputs": [
    {
     "data": {
      "text/plain": [
       "[0.005567687237909711, 0.99738266952848154]"
      ]
     },
     "execution_count": 30,
     "metadata": {},
     "output_type": "execute_result"
    }
   ],
   "source": [
    "model.evaluate_generator(valid_generator(val_batch_size), np.ceil(float(len(ids_valid_split)) / float(val_batch_size)))"
   ]
  },
  {
   "cell_type": "markdown",
   "metadata": {},
   "source": [
    "## bottom part"
   ]
  },
  {
   "cell_type": "code",
   "execution_count": 31,
   "metadata": {
    "ExecuteTime": {
     "end_time": "2017-09-23T13:22:43.923186Z",
     "start_time": "2017-09-23T13:22:43.906307Z"
    },
    "collapsed": true
   },
   "outputs": [],
   "source": [
    "def valid_generator(val_batch_size):\n",
    "    while True:\n",
    "        for start in range(0, len(ids_valid_split), val_batch_size):\n",
    "            \n",
    "            x_batch = []\n",
    "            y_batch = []\n",
    "            \n",
    "            end = min(start + val_batch_size, len(ids_valid_split))\n",
    "            ids_valid_batch = ids_valid_split[start:end]\n",
    "            for id in ids_valid_batch:\n",
    "                img  = cv2.imread('data/train/{}.jpg'.format(id))\n",
    "                mask = cv2.imread('data/train_masks/{}_mask.png'.format(id), cv2.IMREAD_GRAYSCALE)\n",
    "                \n",
    "                img2  = np.copy(img[512:1280, :, :])\n",
    "                img2  = np.concatenate([img2, np.zeros((768,2,3), np.uint8)], axis=1)\n",
    "                mask2 = np.copy(mask[512:1280, :])\n",
    "                mask2 = np.expand_dims(mask2, axis=2)\n",
    "                mask2 = np.concatenate([mask2, np.zeros((768,2,1), np.uint8)], axis=1)\n",
    "                                \n",
    "                x_batch.append(img2)\n",
    "                y_batch.append(mask2)\n",
    "            \n",
    "            x_batch = np.array(x_batch, np.float32) / 255\n",
    "            y_batch = np.array(y_batch, np.float32) / 255\n",
    "            yield x_batch, y_batch"
   ]
  },
  {
   "cell_type": "code",
   "execution_count": 32,
   "metadata": {
    "ExecuteTime": {
     "end_time": "2017-09-23T13:22:44.131655Z",
     "start_time": "2017-09-23T13:22:43.925344Z"
    },
    "collapsed": true
   },
   "outputs": [],
   "source": [
    "model.load_weights('weights/horiz_cut.hdf5')"
   ]
  },
  {
   "cell_type": "code",
   "execution_count": 33,
   "metadata": {
    "ExecuteTime": {
     "end_time": "2017-09-23T13:23:47.345093Z",
     "start_time": "2017-09-23T13:22:44.133415Z"
    }
   },
   "outputs": [
    {
     "data": {
      "text/plain": [
       "[0.0080095959391832828, 0.99667244798308041]"
      ]
     },
     "execution_count": 33,
     "metadata": {},
     "output_type": "execute_result"
    }
   ],
   "source": [
    "model.evaluate_generator(valid_generator(val_batch_size), np.ceil(float(len(ids_valid_split)) / float(val_batch_size)))"
   ]
  },
  {
   "cell_type": "code",
   "execution_count": 34,
   "metadata": {
    "ExecuteTime": {
     "end_time": "2017-09-23T13:23:47.538573Z",
     "start_time": "2017-09-23T13:23:47.347464Z"
    },
    "collapsed": true
   },
   "outputs": [],
   "source": [
    "model.load_weights('weights/horiz_cut_bottom2.hdf5')"
   ]
  },
  {
   "cell_type": "code",
   "execution_count": 35,
   "metadata": {
    "ExecuteTime": {
     "end_time": "2017-09-23T13:24:51.708658Z",
     "start_time": "2017-09-23T13:23:47.540597Z"
    }
   },
   "outputs": [
    {
     "data": {
      "text/plain": [
       "[0.0074096983024202773, 0.99673010523052252]"
      ]
     },
     "execution_count": 35,
     "metadata": {},
     "output_type": "execute_result"
    }
   ],
   "source": [
    "model.evaluate_generator(valid_generator(val_batch_size), np.ceil(float(len(ids_valid_split)) / float(val_batch_size)))"
   ]
  },
  {
   "cell_type": "markdown",
   "metadata": {
    "collapsed": true
   },
   "source": [
    "# Test set predictions"
   ]
  },
  {
   "cell_type": "markdown",
   "metadata": {
    "ExecuteTime": {
     "end_time": "2017-09-14T05:37:06.048135Z",
     "start_time": "2017-09-14T05:37:06.045531Z"
    }
   },
   "source": [
    "## top part"
   ]
  },
  {
   "cell_type": "code",
   "execution_count": 20,
   "metadata": {
    "ExecuteTime": {
     "end_time": "2017-09-23T13:34:08.895282Z",
     "start_time": "2017-09-23T13:34:07.422984Z"
    },
    "collapsed": true
   },
   "outputs": [],
   "source": [
    "model.load_weights('weights/horiz_cut_top.hdf5')"
   ]
  },
  {
   "cell_type": "code",
   "execution_count": 21,
   "metadata": {
    "ExecuteTime": {
     "end_time": "2017-09-23T13:34:09.554841Z",
     "start_time": "2017-09-23T13:34:09.548028Z"
    },
    "collapsed": true
   },
   "outputs": [],
   "source": [
    "from tqdm import tqdm"
   ]
  },
  {
   "cell_type": "code",
   "execution_count": 22,
   "metadata": {
    "ExecuteTime": {
     "end_time": "2017-09-23T13:34:10.177696Z",
     "start_time": "2017-09-23T13:34:10.078348Z"
    },
    "collapsed": true
   },
   "outputs": [],
   "source": [
    "df_test = pd.read_csv('data/sample_submission.csv')\n",
    "ids_test = df_test['img'].map(lambda s: s.split('.')[0])"
   ]
  },
  {
   "cell_type": "code",
   "execution_count": 23,
   "metadata": {
    "ExecuteTime": {
     "end_time": "2017-09-23T13:34:10.778855Z",
     "start_time": "2017-09-23T13:34:10.724475Z"
    },
    "collapsed": true
   },
   "outputs": [],
   "source": [
    "names = []\n",
    "for id in ids_test:\n",
    "    names.append('{}.jpg'.format(id))"
   ]
  },
  {
   "cell_type": "code",
   "execution_count": 24,
   "metadata": {
    "ExecuteTime": {
     "end_time": "2017-09-23T13:34:11.550781Z",
     "start_time": "2017-09-23T13:34:11.494330Z"
    },
    "collapsed": true
   },
   "outputs": [],
   "source": [
    "import bcolz"
   ]
  },
  {
   "cell_type": "code",
   "execution_count": 25,
   "metadata": {
    "ExecuteTime": {
     "end_time": "2017-09-23T13:34:12.202189Z",
     "start_time": "2017-09-23T13:34:12.197239Z"
    },
    "collapsed": true
   },
   "outputs": [],
   "source": [
    "def save_array(fname, arr):\n",
    "    c=bcolz.carray(arr, rootdir=fname, mode='w')\n",
    "    c.flush()\n",
    "\n",
    "def load_array(fname):\n",
    "    return bcolz.open(fname)[:]"
   ]
  },
  {
   "cell_type": "code",
   "execution_count": 26,
   "metadata": {
    "ExecuteTime": {
     "end_time": "2017-09-23T13:34:12.826552Z",
     "start_time": "2017-09-23T13:34:12.813431Z"
    },
    "collapsed": true
   },
   "outputs": [],
   "source": [
    "def save_test_predictions(ids_test, fname):\n",
    "    val_batch_size = 24\n",
    "    all_preds = []\n",
    "    for start in range(0, len(ids_test), val_batch_size):\n",
    "        x_batch = []\n",
    "        end = min(start + val_batch_size, len(ids_test))\n",
    "        ids_test_batch = ids_test[start:end]\n",
    "        for id in ids_test_batch.values:\n",
    "            img = cv2.imread('data/test/{}.jpg'.format(id))\n",
    "            img1  = np.copy(img[0:768, :, :])\n",
    "            img1  = np.concatenate([np.zeros((768,2,3), np.uint8), img1], axis=1)\n",
    "            x_batch.append(img1)\n",
    "        x_batch = np.array(x_batch, np.float32) / 255\n",
    "        preds = model.predict_on_batch(x_batch)\n",
    "        preds = np.squeeze(preds, axis=3)\n",
    "        all_preds.append(preds)\n",
    "    all_preds = np.concatenate(all_preds, axis=0)\n",
    "    all_preds = (all_preds*100).astype(np.uint8)\n",
    "    save_array(fname, all_preds)"
   ]
  },
  {
   "cell_type": "code",
   "execution_count": 27,
   "metadata": {
    "ExecuteTime": {
     "end_time": "2017-09-23T16:45:28.595009Z",
     "start_time": "2017-09-23T13:34:19.860902Z"
    }
   },
   "outputs": [
    {
     "name": "stderr",
     "output_type": "stream",
     "text": [
      "100%|██████████| 401/401 [3:11:08<00:00, 22.82s/it]  \n"
     ]
    }
   ],
   "source": [
    "for start in tqdm(range(0, len(ids_test), 250)):\n",
    "    end = min(start + 250, len(ids_test))\n",
    "    ids_test_batch = ids_test[start:end]\n",
    "    save_test_predictions(ids_test_batch, './horiz-cut-top-preds/batch-' + str(start))"
   ]
  },
  {
   "cell_type": "markdown",
   "metadata": {
    "collapsed": true
   },
   "source": [
    "## Bottom part"
   ]
  },
  {
   "cell_type": "code",
   "execution_count": 28,
   "metadata": {
    "ExecuteTime": {
     "end_time": "2017-09-23T16:45:39.301219Z",
     "start_time": "2017-09-23T16:45:38.564258Z"
    },
    "collapsed": true
   },
   "outputs": [],
   "source": [
    "model.load_weights('weights/horiz_cut_bottom2.hdf5')"
   ]
  },
  {
   "cell_type": "code",
   "execution_count": 29,
   "metadata": {
    "ExecuteTime": {
     "end_time": "2017-09-23T16:45:40.320883Z",
     "start_time": "2017-09-23T16:45:40.318007Z"
    },
    "collapsed": true
   },
   "outputs": [],
   "source": [
    "from tqdm import tqdm"
   ]
  },
  {
   "cell_type": "code",
   "execution_count": 17,
   "metadata": {
    "ExecuteTime": {
     "end_time": "2017-09-24T02:11:24.797141Z",
     "start_time": "2017-09-24T02:11:24.544117Z"
    },
    "collapsed": true
   },
   "outputs": [],
   "source": [
    "df_test = pd.read_csv('data/sample_submission.csv')\n",
    "ids_test = df_test['img'].map(lambda s: s.split('.')[0])"
   ]
  },
  {
   "cell_type": "code",
   "execution_count": 18,
   "metadata": {
    "ExecuteTime": {
     "end_time": "2017-09-24T02:11:24.963798Z",
     "start_time": "2017-09-24T02:11:24.909402Z"
    },
    "collapsed": true
   },
   "outputs": [],
   "source": [
    "names = []\n",
    "for id in ids_test:\n",
    "    names.append('{}.jpg'.format(id))"
   ]
  },
  {
   "cell_type": "code",
   "execution_count": 32,
   "metadata": {
    "ExecuteTime": {
     "end_time": "2017-09-23T16:45:42.812978Z",
     "start_time": "2017-09-23T16:45:42.810023Z"
    },
    "collapsed": true
   },
   "outputs": [],
   "source": [
    "import bcolz"
   ]
  },
  {
   "cell_type": "code",
   "execution_count": 33,
   "metadata": {
    "ExecuteTime": {
     "end_time": "2017-09-23T16:45:43.314666Z",
     "start_time": "2017-09-23T16:45:43.310117Z"
    },
    "collapsed": true
   },
   "outputs": [],
   "source": [
    "def save_array(fname, arr):\n",
    "    c=bcolz.carray(arr, rootdir=fname, mode='w')\n",
    "    c.flush()\n",
    "\n",
    "def load_array(fname):\n",
    "    return bcolz.open(fname)[:]"
   ]
  },
  {
   "cell_type": "code",
   "execution_count": 35,
   "metadata": {
    "ExecuteTime": {
     "end_time": "2017-09-23T16:47:42.101097Z",
     "start_time": "2017-09-23T16:47:42.086033Z"
    },
    "collapsed": true
   },
   "outputs": [],
   "source": [
    "def save_test_predictions(ids_test, fname):\n",
    "    val_batch_size = 24\n",
    "    all_preds = []\n",
    "    for start in range(0, len(ids_test), val_batch_size):\n",
    "        x_batch = []\n",
    "        end = min(start + val_batch_size, len(ids_test))\n",
    "        ids_test_batch = ids_test[start:end]\n",
    "        for id in ids_test_batch.values:\n",
    "            img = cv2.imread('data/test/{}.jpg'.format(id))\n",
    "            img2  = np.copy(img[512:1280, :, :])\n",
    "            img2  = np.concatenate([img2, np.zeros((768,2,3), np.uint8)], axis=1)\n",
    "            x_batch.append(img2)\n",
    "        x_batch = np.array(x_batch, np.float32) / 255\n",
    "        preds = model.predict_on_batch(x_batch)\n",
    "        preds = np.squeeze(preds, axis=3)\n",
    "        all_preds.append(preds)\n",
    "    all_preds = np.concatenate(all_preds, axis=0)\n",
    "    all_preds = (all_preds*100).astype(np.uint8)\n",
    "    save_array(fname, all_preds)"
   ]
  },
  {
   "cell_type": "code",
   "execution_count": 36,
   "metadata": {
    "ExecuteTime": {
     "end_time": "2017-09-23T19:58:36.145097Z",
     "start_time": "2017-09-23T16:47:47.034946Z"
    }
   },
   "outputs": [
    {
     "name": "stderr",
     "output_type": "stream",
     "text": [
      "100%|██████████| 401/401 [3:10:49<00:00, 22.29s/it]  \n"
     ]
    }
   ],
   "source": [
    "for start in tqdm(range(0, len(ids_test), 250)):\n",
    "    end = min(start + 250, len(ids_test))\n",
    "    ids_test_batch = ids_test[start:end]\n",
    "    save_test_predictions(ids_test_batch, './horiz-cut-bottom-preds/batch-' + str(start))"
   ]
  },
  {
   "cell_type": "markdown",
   "metadata": {
    "ExecuteTime": {
     "end_time": "2017-09-14T20:01:42.080574Z",
     "start_time": "2017-09-14T20:01:42.075933Z"
    },
    "collapsed": true
   },
   "source": [
    "## combining"
   ]
  },
  {
   "cell_type": "code",
   "execution_count": 10,
   "metadata": {
    "ExecuteTime": {
     "end_time": "2017-09-24T02:08:28.138450Z",
     "start_time": "2017-09-24T02:08:28.130231Z"
    }
   },
   "outputs": [],
   "source": [
    "from tqdm import tqdm"
   ]
  },
  {
   "cell_type": "code",
   "execution_count": 25,
   "metadata": {
    "ExecuteTime": {
     "end_time": "2017-09-24T02:37:56.462721Z",
     "start_time": "2017-09-24T02:37:56.450766Z"
    },
    "collapsed": true
   },
   "outputs": [],
   "source": [
    "# https://www.kaggle.com/stainsby/fast-tested-rle\n",
    "def run_length_encode(mask):\n",
    "    '''\n",
    "    img: numpy array, 1 - mask, 0 - background\n",
    "    Returns run length as string formated\n",
    "    '''\n",
    "    inds = mask.flatten()\n",
    "    runs = np.where(inds[1:] != inds[:-1])[0] + 2\n",
    "    runs[1::2] = runs[1::2] - runs[:-1:2]\n",
    "    rle = ' '.join([str(r) for r in runs])\n",
    "    return rle\n",
    "\n",
    "\n",
    "rles = []"
   ]
  },
  {
   "cell_type": "code",
   "execution_count": 12,
   "metadata": {
    "ExecuteTime": {
     "end_time": "2017-09-24T02:08:43.987247Z",
     "start_time": "2017-09-24T02:08:43.345994Z"
    },
    "collapsed": true
   },
   "outputs": [],
   "source": [
    "import bcolz\n",
    "def save_array(fname, arr):\n",
    "    c=bcolz.carray(arr, rootdir=fname, mode='w')\n",
    "    c.flush()\n",
    "\n",
    "def load_array(fname):\n",
    "    return bcolz.open(fname)[:]"
   ]
  },
  {
   "cell_type": "code",
   "execution_count": 38,
   "metadata": {
    "ExecuteTime": {
     "end_time": "2017-09-23T20:44:58.147574Z",
     "start_time": "2017-09-23T20:04:46.464968Z"
    },
    "collapsed": true
   },
   "outputs": [
    {
     "name": "stderr",
     "output_type": "stream",
     "text": [
      "100%|█████████▉| 400/401 [40:10<00:05,  5.90s/it]"
     ]
    },
    {
     "ename": "IndexError",
     "evalue": "index 64 is out of bounds for axis 0 with size 64",
     "output_type": "error",
     "traceback": [
      "\u001b[0;31m---------------------------------------------------------------------------\u001b[0m",
      "\u001b[0;31mIndexError\u001b[0m                                Traceback (most recent call last)",
      "\u001b[0;32m<ipython-input-38-c09e9953b684>\u001b[0m in \u001b[0;36m<module>\u001b[0;34m()\u001b[0m\n\u001b[1;32m     18\u001b[0m \u001b[0;34m\u001b[0m\u001b[0m\n\u001b[1;32m     19\u001b[0m     \u001b[0;32mfor\u001b[0m \u001b[0mi\u001b[0m \u001b[0;32min\u001b[0m \u001b[0mrange\u001b[0m\u001b[0;34m(\u001b[0m\u001b[0;36m250\u001b[0m\u001b[0;34m)\u001b[0m\u001b[0;34m:\u001b[0m\u001b[0;34m\u001b[0m\u001b[0m\n\u001b[0;32m---> 20\u001b[0;31m         \u001b[0mmask\u001b[0m \u001b[0;34m=\u001b[0m \u001b[0mall_parts\u001b[0m\u001b[0;34m[\u001b[0m\u001b[0mi\u001b[0m\u001b[0;34m,\u001b[0m\u001b[0;34m:\u001b[0m\u001b[0;34m,\u001b[0m\u001b[0;34m:\u001b[0m\u001b[0;34m]\u001b[0m\u001b[0;34m\u001b[0m\u001b[0m\n\u001b[0m\u001b[1;32m     21\u001b[0m         \u001b[0mrle\u001b[0m \u001b[0;34m=\u001b[0m \u001b[0mrun_length_encode\u001b[0m\u001b[0;34m(\u001b[0m\u001b[0mmask\u001b[0m\u001b[0;34m)\u001b[0m\u001b[0;34m\u001b[0m\u001b[0m\n\u001b[1;32m     22\u001b[0m         \u001b[0mrles\u001b[0m\u001b[0;34m.\u001b[0m\u001b[0mappend\u001b[0m\u001b[0;34m(\u001b[0m\u001b[0mrle\u001b[0m\u001b[0;34m)\u001b[0m\u001b[0;34m\u001b[0m\u001b[0m\n",
      "\u001b[0;31mIndexError\u001b[0m: index 64 is out of bounds for axis 0 with size 64"
     ]
    }
   ],
   "source": [
    "for start in tqdm(range(0, len(ids_test), 250)):\n",
    "    end = min(start + 250, len(ids_test))\n",
    "    ids_test_batch = ids_test[start:end]\n",
    "    \n",
    "    top_part = load_array('./horiz-cut-top-preds/batch-'+str(start))\n",
    "    bottom_part = load_array('./horiz-cut-bottom-preds/batch-'+str(start))\n",
    "    \n",
    "    top_part = top_part[:,:,2:]\n",
    "    bottom_part = bottom_part[:,:,0:1918]\n",
    "    \n",
    "    part_1 = top_part[:,0:512,:]\n",
    "    part_2_1 = top_part[:,512:,:]\n",
    "    part_2_2 = bottom_part[:,0:256,:]\n",
    "    part_3 = bottom_part[:,256:,:]\n",
    "    part_2 = np.add(part_2_1, part_2_2)/2\n",
    "    all_parts = np.concatenate((part_1, part_2, part_3), axis=1)\n",
    "    all_parts = all_parts > 50\n",
    "    \n",
    "    for i in range(250):\n",
    "        mask = all_parts[i,:,:]\n",
    "        rle = run_length_encode(mask)\n",
    "        rles.append(rle)"
   ]
  },
  {
   "cell_type": "code",
   "execution_count": 40,
   "metadata": {
    "ExecuteTime": {
     "end_time": "2017-09-23T20:48:22.090602Z",
     "start_time": "2017-09-23T20:45:31.913026Z"
    }
   },
   "outputs": [
    {
     "name": "stdout",
     "output_type": "stream",
     "text": [
      "Generating submission file...\n"
     ]
    }
   ],
   "source": [
    "print(\"Generating submission file...\")\n",
    "df = pd.DataFrame({'img': names, 'rle_mask': rles})\n",
    "df.to_csv('submit/submission13.csv.gz', index=False, compression='gzip')"
   ]
  },
  {
   "cell_type": "code",
   "execution_count": 19,
   "metadata": {
    "ExecuteTime": {
     "end_time": "2017-09-24T02:32:37.389668Z",
     "start_time": "2017-09-24T02:11:28.826429Z"
    },
    "collapsed": true
   },
   "outputs": [
    {
     "name": "stderr",
     "output_type": "stream",
     "text": [
      "100%|█████████▉| 400/401 [21:07<00:03,  3.19s/it]"
     ]
    },
    {
     "ename": "IndexError",
     "evalue": "index 64 is out of bounds for axis 0 with size 64",
     "output_type": "error",
     "traceback": [
      "\u001b[0;31m---------------------------------------------------------------------------\u001b[0m",
      "\u001b[0;31mIndexError\u001b[0m                                Traceback (most recent call last)",
      "\u001b[0;32m<ipython-input-19-3fd546d10c74>\u001b[0m in \u001b[0;36m<module>\u001b[0;34m()\u001b[0m\n\u001b[1;32m     17\u001b[0m \u001b[0;34m\u001b[0m\u001b[0m\n\u001b[1;32m     18\u001b[0m     \u001b[0;32mfor\u001b[0m \u001b[0mi\u001b[0m \u001b[0;32min\u001b[0m \u001b[0mrange\u001b[0m\u001b[0;34m(\u001b[0m\u001b[0;36m250\u001b[0m\u001b[0;34m)\u001b[0m\u001b[0;34m:\u001b[0m\u001b[0;34m\u001b[0m\u001b[0m\n\u001b[0;32m---> 19\u001b[0;31m         \u001b[0mmask\u001b[0m \u001b[0;34m=\u001b[0m \u001b[0mall_parts\u001b[0m\u001b[0;34m[\u001b[0m\u001b[0mi\u001b[0m\u001b[0;34m,\u001b[0m\u001b[0;34m:\u001b[0m\u001b[0;34m,\u001b[0m\u001b[0;34m:\u001b[0m\u001b[0;34m]\u001b[0m\u001b[0;34m\u001b[0m\u001b[0m\n\u001b[0m\u001b[1;32m     20\u001b[0m         \u001b[0mrle\u001b[0m \u001b[0;34m=\u001b[0m \u001b[0mrun_length_encode\u001b[0m\u001b[0;34m(\u001b[0m\u001b[0mmask\u001b[0m\u001b[0;34m)\u001b[0m\u001b[0;34m\u001b[0m\u001b[0m\n\u001b[1;32m     21\u001b[0m         \u001b[0mrles\u001b[0m\u001b[0;34m.\u001b[0m\u001b[0mappend\u001b[0m\u001b[0;34m(\u001b[0m\u001b[0mrle\u001b[0m\u001b[0;34m)\u001b[0m\u001b[0;34m\u001b[0m\u001b[0m\n",
      "\u001b[0;31mIndexError\u001b[0m: index 64 is out of bounds for axis 0 with size 64"
     ]
    }
   ],
   "source": [
    "for start in tqdm(range(0, len(ids_test), 250)):\n",
    "    end = min(start + 250, len(ids_test))\n",
    "    ids_test_batch = ids_test[start:end]\n",
    "    \n",
    "    top_part = load_array('./horiz-cut-top-preds/batch-'+str(start))\n",
    "    bottom_part = load_array('./horiz-cut-bottom-preds/batch-'+str(start))\n",
    "    \n",
    "    top_part = top_part[:,:,2:]\n",
    "    bottom_part = bottom_part[:,:,0:1918]\n",
    "    \n",
    "    part_1   = np.copy(top_part[:,0:512,:]) > 50\n",
    "    part_2_1 = np.copy(top_part[:,512:,:]) > 50\n",
    "    part_2_2 = np.copy(bottom_part[:,0:256,:]) > 50\n",
    "    part_2   = np.add(part_2_1, part_2_2)\n",
    "    part_3   = np.copy(bottom_part[:,256:,:]) > 50\n",
    "    all_parts = np.concatenate((part_1, part_2, part_3), axis=1)\n",
    "    \n",
    "    for i in range(250):\n",
    "        mask = all_parts[i,:,:]\n",
    "        rle = run_length_encode(mask)\n",
    "        rles.append(rle)"
   ]
  },
  {
   "cell_type": "code",
   "execution_count": 20,
   "metadata": {
    "ExecuteTime": {
     "end_time": "2017-09-24T02:36:05.146869Z",
     "start_time": "2017-09-24T02:32:45.366369Z"
    }
   },
   "outputs": [
    {
     "name": "stdout",
     "output_type": "stream",
     "text": [
      "Generating submission file...\n"
     ]
    }
   ],
   "source": [
    "print(\"Generating submission file...\")\n",
    "df = pd.DataFrame({'img': names, 'rle_mask': rles})\n",
    "df.to_csv('submit/submission14.csv.gz', index=False, compression='gzip')"
   ]
  },
  {
   "cell_type": "code",
   "execution_count": 26,
   "metadata": {
    "ExecuteTime": {
     "end_time": "2017-09-24T02:58:35.960086Z",
     "start_time": "2017-09-24T02:38:20.674193Z"
    },
    "collapsed": true
   },
   "outputs": [
    {
     "name": "stderr",
     "output_type": "stream",
     "text": [
      "\n",
      "  0%|          | 0/401 [00:00<?, ?it/s]\u001b[A\n",
      "  0%|          | 1/401 [00:03<20:14,  3.04s/it]\u001b[A\n",
      "  0%|          | 2/401 [00:06<20:19,  3.06s/it]\u001b[A\n",
      "  1%|          | 3/401 [00:09<20:13,  3.05s/it]\u001b[A\n",
      "100%|█████████▉| 400/401 [20:14<00:03,  3.05s/it]"
     ]
    },
    {
     "ename": "IndexError",
     "evalue": "index 64 is out of bounds for axis 0 with size 64",
     "output_type": "error",
     "traceback": [
      "\u001b[0;31m---------------------------------------------------------------------------\u001b[0m",
      "\u001b[0;31mIndexError\u001b[0m                                Traceback (most recent call last)",
      "\u001b[0;32m<ipython-input-26-267ed38715f8>\u001b[0m in \u001b[0;36m<module>\u001b[0;34m()\u001b[0m\n\u001b[1;32m     17\u001b[0m \u001b[0;34m\u001b[0m\u001b[0m\n\u001b[1;32m     18\u001b[0m     \u001b[0;32mfor\u001b[0m \u001b[0mi\u001b[0m \u001b[0;32min\u001b[0m \u001b[0mrange\u001b[0m\u001b[0;34m(\u001b[0m\u001b[0;36m250\u001b[0m\u001b[0;34m)\u001b[0m\u001b[0;34m:\u001b[0m\u001b[0;34m\u001b[0m\u001b[0m\n\u001b[0;32m---> 19\u001b[0;31m         \u001b[0mmask\u001b[0m \u001b[0;34m=\u001b[0m \u001b[0mall_parts\u001b[0m\u001b[0;34m[\u001b[0m\u001b[0mi\u001b[0m\u001b[0;34m,\u001b[0m\u001b[0;34m:\u001b[0m\u001b[0;34m,\u001b[0m\u001b[0;34m:\u001b[0m\u001b[0;34m]\u001b[0m\u001b[0;34m\u001b[0m\u001b[0m\n\u001b[0m\u001b[1;32m     20\u001b[0m         \u001b[0mrle\u001b[0m \u001b[0;34m=\u001b[0m \u001b[0mrun_length_encode\u001b[0m\u001b[0;34m(\u001b[0m\u001b[0mmask\u001b[0m\u001b[0;34m)\u001b[0m\u001b[0;34m\u001b[0m\u001b[0m\n\u001b[1;32m     21\u001b[0m         \u001b[0mrles\u001b[0m\u001b[0;34m.\u001b[0m\u001b[0mappend\u001b[0m\u001b[0;34m(\u001b[0m\u001b[0mrle\u001b[0m\u001b[0;34m)\u001b[0m\u001b[0;34m\u001b[0m\u001b[0m\n",
      "\u001b[0;31mIndexError\u001b[0m: index 64 is out of bounds for axis 0 with size 64"
     ]
    }
   ],
   "source": [
    "for start in tqdm(range(0, len(ids_test), 250)):\n",
    "    end = min(start + 250, len(ids_test))\n",
    "    ids_test_batch = ids_test[start:end]\n",
    "    \n",
    "    top_part = load_array('./horiz-cut-top-preds/batch-'+str(start))\n",
    "    bottom_part = load_array('./horiz-cut-bottom-preds/batch-'+str(start))\n",
    "    \n",
    "    top_part = top_part[:,:,2:]\n",
    "    bottom_part = bottom_part[:,:,0:1918]\n",
    "    \n",
    "    part_1   = np.copy(top_part[:,0:512,:]) > 50\n",
    "    part_2_1 = np.copy(top_part[:,512:,:]) > 50\n",
    "    part_2_2 = np.copy(bottom_part[:,0:256,:]) > 50\n",
    "    part_2   = np.logical_and(part_2_1, part_2_2)\n",
    "    part_3   = np.copy(bottom_part[:,256:,:]) > 50\n",
    "    all_parts = np.concatenate((part_1, part_2, part_3), axis=1)\n",
    "    \n",
    "    for i in range(250):\n",
    "        mask = all_parts[i,:,:]\n",
    "        rle = run_length_encode(mask)\n",
    "        rles.append(rle)"
   ]
  },
  {
   "cell_type": "code",
   "execution_count": 27,
   "metadata": {
    "ExecuteTime": {
     "end_time": "2017-09-24T03:02:13.296014Z",
     "start_time": "2017-09-24T02:58:53.410476Z"
    }
   },
   "outputs": [
    {
     "name": "stdout",
     "output_type": "stream",
     "text": [
      "Generating submission file...\n"
     ]
    }
   ],
   "source": [
    "print(\"Generating submission file...\")\n",
    "df = pd.DataFrame({'img': names, 'rle_mask': rles})\n",
    "df.to_csv('submit/submission15.csv.gz', index=False, compression='gzip')"
   ]
  },
  {
   "cell_type": "code",
   "execution_count": null,
   "metadata": {
    "collapsed": true
   },
   "outputs": [],
   "source": []
  }
 ],
 "metadata": {
  "anaconda-cloud": {},
  "kernelspec": {
   "display_name": "Python 3",
   "language": "python",
   "name": "python3"
  },
  "language_info": {
   "codemirror_mode": {
    "name": "ipython",
    "version": 3
   },
   "file_extension": ".py",
   "mimetype": "text/x-python",
   "name": "python",
   "nbconvert_exporter": "python",
   "pygments_lexer": "ipython3",
   "version": "3.6.1"
  },
  "toc": {
   "nav_menu": {
    "height": "48px",
    "width": "252px"
   },
   "number_sections": true,
   "sideBar": false,
   "skip_h1_title": false,
   "toc_cell": true,
   "toc_position": {
    "height": "819px",
    "left": "1px",
    "right": "1702px",
    "top": "106px",
    "width": "343px"
   },
   "toc_section_display": "block",
   "toc_window_display": false
  }
 },
 "nbformat": 4,
 "nbformat_minor": 2
}
