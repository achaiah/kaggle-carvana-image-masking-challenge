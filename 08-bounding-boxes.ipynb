{
 "cells": [
  {
   "cell_type": "markdown",
   "metadata": {
    "toc": "true"
   },
   "source": [
    "# Table of Contents\n",
    " <p><div class=\"lev1 toc-item\"><a href=\"#Load-libraries\" data-toc-modified-id=\"Load-libraries-1\"><span class=\"toc-item-num\">1&nbsp;&nbsp;</span>Load libraries</a></div><div class=\"lev1 toc-item\"><a href=\"#Load-previously-trained-model\" data-toc-modified-id=\"Load-previously-trained-model-2\"><span class=\"toc-item-num\">2&nbsp;&nbsp;</span>Load previously trained model</a></div><div class=\"lev1 toc-item\"><a href=\"#Generate-predictions\" data-toc-modified-id=\"Generate-predictions-3\"><span class=\"toc-item-num\">3&nbsp;&nbsp;</span>Generate predictions</a></div><div class=\"lev1 toc-item\"><a href=\"#Find-bounding-boxes\" data-toc-modified-id=\"Find-bounding-boxes-4\"><span class=\"toc-item-num\">4&nbsp;&nbsp;</span>Find bounding boxes</a></div><div class=\"lev1 toc-item\"><a href=\"#Cut-the-images-based-on-bounding-box\" data-toc-modified-id=\"Cut-the-images-based-on-bounding-box-5\"><span class=\"toc-item-num\">5&nbsp;&nbsp;</span>Cut the images based on bounding box</a></div><div class=\"lev1 toc-item\"><a href=\"#Test-set-predictions\" data-toc-modified-id=\"Test-set-predictions-6\"><span class=\"toc-item-num\">6&nbsp;&nbsp;</span>Test set predictions</a></div>"
   ]
  },
  {
   "cell_type": "markdown",
   "metadata": {},
   "source": [
    "# Load libraries"
   ]
  },
  {
   "cell_type": "code",
   "execution_count": 1,
   "metadata": {
    "ExecuteTime": {
     "end_time": "2017-09-02T02:14:44.285280Z",
     "start_time": "2017-09-02T02:14:29.434197Z"
    }
   },
   "outputs": [
    {
     "name": "stderr",
     "output_type": "stream",
     "text": [
      "Using TensorFlow backend.\n"
     ]
    }
   ],
   "source": [
    "import cv2\n",
    "import numpy as np\n",
    "import pandas as pd\n",
    "\n",
    "from keras.callbacks import EarlyStopping, ReduceLROnPlateau, ModelCheckpoint, TensorBoard\n",
    "from keras.models import Model\n",
    "from keras.layers import Input, concatenate, Conv2D, MaxPooling2D, Activation, UpSampling2D, BatchNormalization\n",
    "from keras.optimizers import RMSprop\n",
    "from keras.losses import binary_crossentropy\n",
    "import keras.backend as K\n",
    "\n",
    "from sklearn.model_selection import train_test_split"
   ]
  },
  {
   "cell_type": "code",
   "execution_count": 2,
   "metadata": {
    "ExecuteTime": {
     "end_time": "2017-09-02T02:14:44.406887Z",
     "start_time": "2017-09-02T02:14:44.286671Z"
    },
    "collapsed": true
   },
   "outputs": [],
   "source": [
    "import matplotlib.pyplot as plt\n",
    "%matplotlib inline"
   ]
  },
  {
   "cell_type": "code",
   "execution_count": 3,
   "metadata": {
    "ExecuteTime": {
     "end_time": "2017-09-02T02:14:44.446760Z",
     "start_time": "2017-09-02T02:14:44.408636Z"
    },
    "collapsed": true
   },
   "outputs": [],
   "source": [
    "from os import listdir\n",
    "ids_list = [x.split('.')[0] for x in listdir('data/train')]"
   ]
  },
  {
   "cell_type": "markdown",
   "metadata": {},
   "source": [
    "# Load previously trained model"
   ]
  },
  {
   "cell_type": "code",
   "execution_count": 4,
   "metadata": {
    "ExecuteTime": {
     "end_time": "2017-09-02T02:14:48.124830Z",
     "start_time": "2017-09-02T02:14:44.448343Z"
    },
    "collapsed": true
   },
   "outputs": [],
   "source": [
    "def dice_loss(y_true, y_pred):\n",
    "    smooth = 1.\n",
    "    y_true_f = K.flatten(y_true)\n",
    "    y_pred_f = K.flatten(y_pred)\n",
    "    intersection = K.sum(y_true_f * y_pred_f)\n",
    "    return (2. * intersection + smooth) / (K.sum(y_true_f) + K.sum(y_pred_f) + smooth)\n",
    "\n",
    "\n",
    "def bce_dice_loss(y_true, y_pred):\n",
    "    return binary_crossentropy(y_true, y_pred) + (1 - dice_loss(y_true, y_pred))\n",
    "\n",
    "def unet_down_one_block(inputs, num_filters):\n",
    "    x = Conv2D(num_filters, (3, 3), padding='same')(inputs)\n",
    "    x = BatchNormalization()(x)\n",
    "    x = Activation('relu')(x)\n",
    "    x = Conv2D(num_filters, (3, 3), padding='same')(x)\n",
    "    x = BatchNormalization()(x)\n",
    "    x = Activation('relu')(x)\n",
    "    return x\n",
    "\n",
    "def unet_max_pool(inputs):\n",
    "    x = MaxPooling2D((2, 2), strides=(2, 2))(inputs)\n",
    "    return x\n",
    "\n",
    "def unet_up_one_block(up_input, down_input, num_filters):\n",
    "    x = UpSampling2D((2,2))(up_input)\n",
    "    x = concatenate([down_input, x], axis=3)\n",
    "    x = Conv2D(num_filters, (3,3), padding='same')(x)\n",
    "    x = BatchNormalization()(x)\n",
    "    x = Activation('relu')(x)\n",
    "    x = Conv2D(num_filters, (3,3), padding='same')(x)\n",
    "    x = BatchNormalization()(x)\n",
    "    x = Activation('relu')(x)\n",
    "    x = Conv2D(num_filters, (3,3), padding='same')(x)\n",
    "    x = BatchNormalization()(x)\n",
    "    x = Activation('relu')(x)\n",
    "    return x\n",
    "\n",
    "def get_unet(input_shape = (256, 256, 3),\n",
    "             num_classes = 1,\n",
    "             initial_filters = 32,\n",
    "             central_filters = 1024):\n",
    "    \n",
    "    num_filters = initial_filters\n",
    "    \n",
    "    out_list    = [Input(shape=input_shape)]\n",
    "    down_interim_list = []\n",
    "    \n",
    "    while num_filters <= central_filters/2:\n",
    "        x = unet_down_one_block(out_list[-1], num_filters)\n",
    "        down_interim_list.append(x)\n",
    "        num_filters = num_filters * 2\n",
    "        y = unet_max_pool(x)\n",
    "        out_list.append(y)\n",
    "    \n",
    "    x = unet_down_one_block(out_list[-1], num_filters)\n",
    "    out_list.append(x)\n",
    "    num_filters = int(num_filters / 2)\n",
    "    \n",
    "    while num_filters >= initial_filters:\n",
    "        x = unet_up_one_block(out_list[-1], down_interim_list.pop(), num_filters)\n",
    "        out_list.append(x)\n",
    "        num_filters = int(num_filters / 2)\n",
    "    \n",
    "    classify = Conv2D(num_classes, (1,1), activation = 'sigmoid')(out_list[-1])\n",
    "    \n",
    "    model = Model(inputs=out_list[0], outputs=classify)\n",
    "    \n",
    "    model.compile(optimizer=RMSprop(lr=0.0001),\n",
    "                  loss=bce_dice_loss,\n",
    "                  metrics=[dice_loss])\n",
    "    \n",
    "    return model\n",
    "\n",
    "model = get_unet(input_shape=(256,256,3), initial_filters=32)\n",
    "model.load_weights(filepath='weights/best_weights_256_2.hdf5')"
   ]
  },
  {
   "cell_type": "markdown",
   "metadata": {},
   "source": [
    "# Generate predictions"
   ]
  },
  {
   "cell_type": "code",
   "execution_count": 5,
   "metadata": {
    "ExecuteTime": {
     "end_time": "2017-09-02T02:14:15.511405Z",
     "start_time": "2017-09-02T02:14:10.817Z"
    },
    "collapsed": true
   },
   "outputs": [],
   "source": [
    "input_size=256\n",
    "all_imgs=[]\n",
    "for id in ids_list:\n",
    "    img = cv2.imread('data/train/{}.jpg'.format(id))\n",
    "    img = cv2.resize(img, (input_size, input_size))\n",
    "    all_imgs.append(img)"
   ]
  },
  {
   "cell_type": "code",
   "execution_count": 6,
   "metadata": {
    "ExecuteTime": {
     "end_time": "2017-09-02T02:14:15.512168Z",
     "start_time": "2017-09-02T02:14:11.081Z"
    },
    "collapsed": true
   },
   "outputs": [],
   "source": [
    "preds = model.predict(np.array(all_imgs, np.float32)/255, batch_size=64)\n",
    "preds = np.squeeze(preds, axis=3)"
   ]
  },
  {
   "cell_type": "code",
   "execution_count": 7,
   "metadata": {
    "ExecuteTime": {
     "end_time": "2017-09-02T02:14:15.512999Z",
     "start_time": "2017-09-02T02:14:11.465Z"
    },
    "collapsed": true
   },
   "outputs": [],
   "source": [
    "preds = (preds > 0.5).astype(int)"
   ]
  },
  {
   "cell_type": "markdown",
   "metadata": {},
   "source": [
    "# Find bounding boxes"
   ]
  },
  {
   "cell_type": "code",
   "execution_count": 8,
   "metadata": {
    "ExecuteTime": {
     "end_time": "2017-09-02T02:14:50.967025Z",
     "start_time": "2017-09-02T02:14:50.959253Z"
    },
    "collapsed": true
   },
   "outputs": [],
   "source": [
    "def find_bounding_boxes(i):\n",
    "    tmp = np.copy(preds[i,:,:])\n",
    "    \n",
    "    axis_0_sum = np.sum(tmp, axis=0)\n",
    "    axis_1_sum = np.sum(tmp, axis=1)\n",
    "    \n",
    "    y_min = np.nonzero(axis_1_sum)[0][0]\n",
    "    y_max = np.nonzero(axis_1_sum)[0][-1]\n",
    "    \n",
    "    x_min = np.nonzero(axis_0_sum)[0][0]\n",
    "    x_max = np.nonzero(axis_0_sum)[0][-1]\n",
    "    \n",
    "    return (x_min, x_max, y_min, y_max)"
   ]
  },
  {
   "cell_type": "code",
   "execution_count": 9,
   "metadata": {
    "ExecuteTime": {
     "end_time": "2017-09-02T02:14:51.211275Z",
     "start_time": "2017-09-02T02:14:51.205106Z"
    },
    "collapsed": true
   },
   "outputs": [],
   "source": [
    "def plot_bounding_box(i):\n",
    "    (x_min, x_max, y_min, y_max) = find_bounding_boxes(i)\n",
    "    tmp = np.copy(preds[i,:,:])\n",
    "    tmp[y_min,:] = -1\n",
    "    tmp[y_max,:] = -1\n",
    "    tmp[:,x_min] = -1\n",
    "    tmp[:,x_max] = -1\n",
    "    plt.figure(figsize=(10, 10))\n",
    "    plt.imshow(tmp);"
   ]
  },
  {
   "cell_type": "code",
   "execution_count": 10,
   "metadata": {
    "ExecuteTime": {
     "end_time": "2017-09-01T06:53:28.995998Z",
     "start_time": "2017-09-01T06:53:28.703334Z"
    }
   },
   "outputs": [
    {
     "name": "stdout",
     "output_type": "stream",
     "text": [
      "(56, 226, 71, 186)\n"
     ]
    },
    {
     "data": {
      "image/png": "[encoded data removed]",
      "text/plain": [
       "<matplotlib.figure.Figure at 0x7f4b7d46e9b0>"
      ]
     },
     "metadata": {},
     "output_type": "display_data"
    }
   ],
   "source": [
    "print(find_bounding_boxes(10))\n",
    "plot_bounding_box(10)"
   ]
  },
  {
   "cell_type": "code",
   "execution_count": 11,
   "metadata": {
    "ExecuteTime": {
     "end_time": "2017-09-01T06:53:29.929160Z",
     "start_time": "2017-09-01T06:53:28.997647Z"
    },
    "collapsed": true
   },
   "outputs": [],
   "source": [
    "all_bboxes = {}\n",
    "for i in range(len(ids_list)):\n",
    "    all_bboxes[ids_list[i]] = find_bounding_boxes(i)"
   ]
  },
  {
   "cell_type": "code",
   "execution_count": 12,
   "metadata": {
    "ExecuteTime": {
     "end_time": "2017-09-01T06:53:29.995888Z",
     "start_time": "2017-09-01T06:53:29.930901Z"
    },
    "collapsed": true
   },
   "outputs": [],
   "source": [
    "import pickle\n",
    "pickle.dump( all_bboxes, open( \"bboxes.pkl\", \"wb\" ) )"
   ]
  },
  {
   "cell_type": "code",
   "execution_count": 17,
   "metadata": {
    "collapsed": true
   },
   "outputs": [],
   "source": [
    "import math"
   ]
  },
  {
   "cell_type": "code",
   "execution_count": 21,
   "metadata": {},
   "outputs": [],
   "source": [
    "train_bboxes = {}\n",
    "for id in all_bboxes:\n",
    "    this_bbox = all_bboxes[id]\n",
    "    ys_resized = [math.floor(this_bbox[2]*1280/256),math.ceil(this_bbox[3]*1280/256)]\n",
    "    ys_resized = extend_bounds(ys_resized, 1024, [0,1279])\n",
    "    img_1_box = [0, 1023, ys_resized[0], ys_resized[1]]\n",
    "    img_2_box = [894, 1917, ys_resized[0], ys_resized[1]]\n",
    "        \n",
    "    train_bboxes[id] = [img_1_box, img_2_box]"
   ]
  },
  {
   "cell_type": "code",
   "execution_count": 24,
   "metadata": {
    "collapsed": true
   },
   "outputs": [],
   "source": [
    "pickle.dump( train_bboxes, open( \"train_bboxes.pkl\", \"wb\" ) )"
   ]
  },
  {
   "cell_type": "markdown",
   "metadata": {},
   "source": [
    "# Cut the images based on bounding box"
   ]
  },
  {
   "cell_type": "code",
   "execution_count": 14,
   "metadata": {
    "ExecuteTime": {
     "end_time": "2017-09-01T06:53:30.189639Z",
     "start_time": "2017-09-01T06:53:29.997509Z"
    }
   },
   "outputs": [
    {
     "data": {
      "image/png": "[encoded data removed]",
      "text/plain": [
       "<matplotlib.figure.Figure at 0x7f71d6b7be48>"
      ]
     },
     "metadata": {},
     "output_type": "display_data"
    }
   ],
   "source": [
    "plt.hist([(all_bboxes[keyval][1]-all_bboxes[keyval][0]+1)*1918/256 for keyval in ids_list]);"
   ]
  },
  {
   "cell_type": "code",
   "execution_count": 15,
   "metadata": {
    "ExecuteTime": {
     "end_time": "2017-09-01T06:53:30.394095Z",
     "start_time": "2017-09-01T06:53:30.191548Z"
    }
   },
   "outputs": [
    {
     "data": {
      "image/png": "[encoded data removed]",
      "text/plain": [
       "<matplotlib.figure.Figure at 0x7f71d6b9e518>"
      ]
     },
     "metadata": {},
     "output_type": "display_data"
    }
   ],
   "source": [
    "plt.hist([(all_bboxes[keyval][3]-all_bboxes[keyval][2]+1)*1280/256 for keyval in ids_list]);"
   ]
  },
  {
   "cell_type": "code",
   "execution_count": 8,
   "metadata": {
    "ExecuteTime": {
     "end_time": "2017-09-02T02:14:57.602655Z",
     "start_time": "2017-09-02T02:14:57.599877Z"
    },
    "collapsed": true
   },
   "outputs": [],
   "source": [
    "import math"
   ]
  },
  {
   "cell_type": "code",
   "execution_count": 19,
   "metadata": {
    "ExecuteTime": {
     "end_time": "2017-09-02T02:14:57.932380Z",
     "start_time": "2017-09-02T02:14:57.922083Z"
    },
    "collapsed": true
   },
   "outputs": [],
   "source": [
    "def extend_bounds(orig_x, new_len, lim_x):\n",
    "    rem = new_len - (orig_x[1] - orig_x[0] + 1)\n",
    "    rem_half = math.floor(rem/2)\n",
    "    \n",
    "    if orig_x[1] + rem_half <= lim_x[1]:\n",
    "        orig_x[1] = orig_x[1] + rem_half\n",
    "    else:\n",
    "        orig_x[1] = lim_x[1]\n",
    "    \n",
    "    rem = new_len - (orig_x[1] - orig_x[0] + 1)\n",
    "    \n",
    "    if orig_x[0] - rem >= lim_x[0]:\n",
    "        orig_x[0] = orig_x[0] - rem\n",
    "    else:\n",
    "        orig_x[0] = lim_x[0]\n",
    "        orig_x[1] = new_len + orig_x[0] - 1\n",
    "    \n",
    "    return orig_x"
   ]
  },
  {
   "cell_type": "code",
   "execution_count": 20,
   "metadata": {
    "ExecuteTime": {
     "end_time": "2017-09-02T02:14:58.450452Z",
     "start_time": "2017-09-02T02:14:58.444180Z"
    },
    "collapsed": true
   },
   "outputs": [],
   "source": [
    "def get_cut_bounds(this_id):\n",
    "    this_bbox = all_bboxes[this_id]\n",
    "    \n",
    "    ys_resized = [math.floor(this_bbox[2]*1280/256),math.ceil(this_bbox[3]*1280/256)]\n",
    "    ys_resized = extend_bounds(ys_resized, 1024, [0,1279])\n",
    "    \n",
    "    img_1_box = [0, 1023, ys_resized[0], ys_resized[1]]\n",
    "    img_2_box = [894, 1917, ys_resized[0], ys_resized[1]]\n",
    "    \n",
    "    return (img_1_box, img_2_box)"
   ]
  },
  {
   "cell_type": "code",
   "execution_count": 11,
   "metadata": {
    "ExecuteTime": {
     "end_time": "2017-09-02T02:14:59.944806Z",
     "start_time": "2017-09-02T02:14:59.942225Z"
    },
    "collapsed": true
   },
   "outputs": [],
   "source": [
    "import gzip"
   ]
  },
  {
   "cell_type": "code",
   "execution_count": 12,
   "metadata": {
    "ExecuteTime": {
     "end_time": "2017-09-02T02:15:00.487738Z",
     "start_time": "2017-09-02T02:15:00.461940Z"
    },
    "collapsed": true
   },
   "outputs": [],
   "source": [
    "def save_new_imgs(this_id):\n",
    "    img_1_box, img_2_box = get_cut_bounds(this_id)\n",
    "    \n",
    "    img  = cv2.imread('data/train/{}.jpg'.format(this_id))\n",
    "    \n",
    "    img_1 = np.copy(img[img_1_box[2]:(img_1_box[3]+1), img_1_box[0]:(img_1_box[1]+1),:])\n",
    "    img_2 = np.copy(img[img_2_box[2]:(img_2_box[3]+1), img_2_box[0]:(img_2_box[1]+1),:])\n",
    "    img_2 = cv2.flip(img_2, 1)\n",
    "    \n",
    "    f = gzip.open(\"./data/train_cut/\" + this_id + '_01.pklz','wb')\n",
    "    pickle.dump( img_1, f )\n",
    "    f.close()\n",
    "    \n",
    "    f = gzip.open(\"./data/train_cut/\" + this_id + '_02.pklz','wb')\n",
    "    pickle.dump( img_2, f )\n",
    "    f.close()\n",
    "    \n",
    "    mask = cv2.imread('data/train_masks/{}_mask.png'.format(this_id), cv2.IMREAD_GRAYSCALE)\n",
    "    \n",
    "    mask_1 = np.copy(mask[img_1_box[2]:(img_1_box[3]+1), img_1_box[0]:(img_1_box[1]+1)])\n",
    "    mask_2 = np.copy(mask[img_2_box[2]:(img_2_box[3]+1), img_2_box[0]:(img_2_box[1]+1)])\n",
    "    mask_2 = cv2.flip(mask_2, 1)\n",
    "    \n",
    "    f = gzip.open(\"./data/train_masks_cut/\" + this_id + '_01.pklz','wb')\n",
    "    pickle.dump( mask_1, f )\n",
    "    f.close()\n",
    "    \n",
    "    f = gzip.open(\"./data/train_masks_cut/\" + this_id + '_02.pklz','wb')\n",
    "    pickle.dump( mask_2, f )\n",
    "    f.close()"
   ]
  },
  {
   "cell_type": "code",
   "execution_count": 21,
   "metadata": {
    "ExecuteTime": {
     "end_time": "2017-09-01T07:33:04.021912Z",
     "start_time": "2017-09-01T06:53:36.745514Z"
    },
    "collapsed": true
   },
   "outputs": [],
   "source": [
    "for this_id in ids_list:\n",
    "    save_new_imgs(this_id)"
   ]
  },
  {
   "cell_type": "markdown",
   "metadata": {
    "collapsed": true
   },
   "source": [
    "# Test set predictions"
   ]
  },
  {
   "cell_type": "code",
   "execution_count": 13,
   "metadata": {
    "ExecuteTime": {
     "end_time": "2017-09-02T02:15:07.015214Z",
     "start_time": "2017-09-02T02:15:06.365251Z"
    },
    "collapsed": true
   },
   "outputs": [],
   "source": [
    "all_test_ids = [x.split('.')[0] for x in listdir('data/test')]"
   ]
  },
  {
   "cell_type": "code",
   "execution_count": 14,
   "metadata": {
    "ExecuteTime": {
     "end_time": "2017-09-02T02:15:07.822306Z",
     "start_time": "2017-09-02T02:15:07.819432Z"
    },
    "collapsed": true
   },
   "outputs": [],
   "source": [
    "input_size=256\n",
    "test_batch_size=64"
   ]
  },
  {
   "cell_type": "code",
   "execution_count": 15,
   "metadata": {
    "ExecuteTime": {
     "end_time": "2017-09-02T02:15:11.339200Z",
     "start_time": "2017-09-02T02:15:11.330858Z"
    },
    "collapsed": true
   },
   "outputs": [],
   "source": [
    "def test_generator(test_batch_size):\n",
    "    while True:\n",
    "        for start in range(0, len(all_test_ids), test_batch_size):\n",
    "            x_batch = []\n",
    "            y_batch = []\n",
    "            end = min(start + test_batch_size, len(all_test_ids))\n",
    "            ids_test_batch = all_test_ids[start:end]\n",
    "            for id in ids_test_batch:\n",
    "                img  = cv2.imread('data/test/{}.jpg'.format(id))\n",
    "                img  = cv2.resize(img, (input_size, input_size))\n",
    "                x_batch.append(img)\n",
    "            x_batch = np.array(x_batch, np.float32) / 255\n",
    "            yield x_batch"
   ]
  },
  {
   "cell_type": "code",
   "execution_count": 16,
   "metadata": {
    "ExecuteTime": {
     "end_time": "2017-09-02T02:15:12.664902Z",
     "start_time": "2017-09-02T02:15:12.662134Z"
    },
    "collapsed": true
   },
   "outputs": [],
   "source": [
    "test_gen = test_generator(test_batch_size)"
   ]
  },
  {
   "cell_type": "code",
   "execution_count": 17,
   "metadata": {
    "ExecuteTime": {
     "end_time": "2017-09-02T02:15:13.939325Z",
     "start_time": "2017-09-02T02:15:13.932247Z"
    },
    "collapsed": true
   },
   "outputs": [],
   "source": [
    "from tqdm import tqdm"
   ]
  },
  {
   "cell_type": "code",
   "execution_count": 18,
   "metadata": {
    "ExecuteTime": {
     "end_time": "2017-09-02T04:19:59.771105Z",
     "start_time": "2017-09-02T02:15:18.789264Z"
    }
   },
   "outputs": [
    {
     "name": "stderr",
     "output_type": "stream",
     "text": [
      "100%|██████████| 1564/1564 [2:04:40<00:00,  5.39s/it] \n"
     ]
    }
   ],
   "source": [
    "test_bboxes = {}\n",
    "for batch_slno in tqdm(range(int(np.ceil(float(len(all_test_ids)) / float(test_batch_size))))):\n",
    "    \n",
    "    preds = model.predict_on_batch(next(test_gen))\n",
    "    preds = np.squeeze(preds, axis=3)\n",
    "    preds = (preds > 0.5).astype(int)\n",
    "    \n",
    "    for i in range(preds.shape[0]):\n",
    "        slno = (batch_slno*test_batch_size) + i\n",
    "        id = all_test_ids[slno]\n",
    "        \n",
    "        this_bbox = find_bounding_boxes(i)\n",
    "        ys_resized = [math.floor(this_bbox[2]*1280/256),math.ceil(this_bbox[3]*1280/256)]\n",
    "        ys_resized = extend_bounds(ys_resized, 1024, [0,1279])\n",
    "        img_1_box = [0, 1023, ys_resized[0], ys_resized[1]]\n",
    "        img_2_box = [894, 1917, ys_resized[0], ys_resized[1]]\n",
    "        \n",
    "        test_bboxes[id] = [img_1_box, img_2_box]"
   ]
  },
  {
   "cell_type": "code",
   "execution_count": 19,
   "metadata": {
    "ExecuteTime": {
     "end_time": "2017-09-02T04:20:02.826452Z",
     "start_time": "2017-09-02T04:19:59.772756Z"
    },
    "collapsed": true
   },
   "outputs": [],
   "source": [
    "f = gzip.open('test_bboxes.pklz','wb')\n",
    "pickle.dump(test_bboxes, f)\n",
    "f.close()"
   ]
  },
  {
   "cell_type": "code",
   "execution_count": null,
   "metadata": {
    "collapsed": true
   },
   "outputs": [],
   "source": []
  }
 ],
 "metadata": {
  "kernelspec": {
   "display_name": "Python 3",
   "language": "python",
   "name": "python3"
  },
  "language_info": {
   "codemirror_mode": {
    "name": "ipython",
    "version": 3
   },
   "file_extension": ".py",
   "mimetype": "text/x-python",
   "name": "python",
   "nbconvert_exporter": "python",
   "pygments_lexer": "ipython3",
   "version": "3.6.1"
  },
  "toc": {
   "colors": {
    "hover_highlight": "#DAA520",
    "navigate_num": "#000000",
    "navigate_text": "#333333",
    "running_highlight": "#FF0000",
    "selected_highlight": "#FFD700",
    "sidebar_border": "#EEEEEE",
    "wrapper_background": "#FFFFFF"
   },
   "moveMenuLeft": true,
   "nav_menu": {
    "height": "84px",
    "width": "252px"
   },
   "navigate_menu": true,
   "number_sections": true,
   "sideBar": true,
   "threshold": 4,
   "toc_cell": true,
   "toc_section_display": "block",
   "toc_window_display": false,
   "widenNotebook": false
  }
 },
 "nbformat": 4,
 "nbformat_minor": 2
}
