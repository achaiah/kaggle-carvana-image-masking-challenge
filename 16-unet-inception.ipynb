{
 "cells": [
  {
   "cell_type": "markdown",
   "metadata": {
    "toc": "true"
   },
   "source": [
    " # Table of Contents\n",
    "<div class=\"toc\" style=\"margin-top: 1em;\"><ul class=\"toc-item\" id=\"toc-level0\"><li><span><a href=\"http://localhost:8890/notebooks/16-unet-inception.ipynb#Load-libraries\" data-toc-modified-id=\"Load-libraries-1\"><span class=\"toc-item-num\">1&nbsp;&nbsp;</span>Load libraries</a></span></li><li><span><a href=\"http://localhost:8890/notebooks/16-unet-inception.ipynb#Define-loss-functions\" data-toc-modified-id=\"Define-loss-functions-2\"><span class=\"toc-item-num\">2&nbsp;&nbsp;</span>Define loss functions</a></span></li><li><span><a href=\"http://localhost:8890/notebooks/16-unet-inception.ipynb#Define-models\" data-toc-modified-id=\"Define-models-3\"><span class=\"toc-item-num\">3&nbsp;&nbsp;</span>Define models</a></span></li><li><span><a href=\"http://localhost:8890/notebooks/16-unet-inception.ipynb#Modeling\" data-toc-modified-id=\"Modeling-4\"><span class=\"toc-item-num\">4&nbsp;&nbsp;</span>Modeling</a></span></li><li><span><a href=\"http://localhost:8890/notebooks/16-unet-inception.ipynb#Predictions\" data-toc-modified-id=\"Predictions-5\"><span class=\"toc-item-num\">5&nbsp;&nbsp;</span>Predictions</a></span></li></ul></div>"
   ]
  },
  {
   "cell_type": "markdown",
   "metadata": {},
   "source": [
    "# Load libraries"
   ]
  },
  {
   "cell_type": "code",
   "execution_count": 1,
   "metadata": {
    "ExecuteTime": {
     "end_time": "2017-09-08T05:27:29.821479Z",
     "start_time": "2017-09-08T05:27:16.748193Z"
    }
   },
   "outputs": [
    {
     "name": "stderr",
     "output_type": "stream",
     "text": [
      "Using TensorFlow backend.\n"
     ]
    }
   ],
   "source": [
    "import cv2\n",
    "import numpy as np\n",
    "import pandas as pd\n",
    "\n",
    "from keras.callbacks import EarlyStopping, ReduceLROnPlateau, ModelCheckpoint, TensorBoard\n",
    "from keras.models import Model\n",
    "from keras.layers import Input, concatenate, Conv2D, MaxPooling2D, Activation, UpSampling2D, BatchNormalization\n",
    "from keras.optimizers import RMSprop, Adam\n",
    "from keras.losses import binary_crossentropy\n",
    "import keras.backend as K\n",
    "\n",
    "from sklearn.model_selection import train_test_split"
   ]
  },
  {
   "cell_type": "markdown",
   "metadata": {},
   "source": [
    "# Define loss functions"
   ]
  },
  {
   "cell_type": "code",
   "execution_count": 2,
   "metadata": {
    "ExecuteTime": {
     "end_time": "2017-09-08T05:27:29.832308Z",
     "start_time": "2017-09-08T05:27:29.822993Z"
    },
    "collapsed": true
   },
   "outputs": [],
   "source": [
    "def dice_coeff(y_true, y_pred):\n",
    "    smooth = 1.\n",
    "    y_true_f = K.flatten(y_true)\n",
    "    y_pred_f = K.flatten(y_pred)\n",
    "    intersection = K.sum(y_true_f * y_pred_f)\n",
    "    score = (2. * intersection + smooth) / (K.sum(y_true_f) + K.sum(y_pred_f) + smooth)\n",
    "    return score\n",
    "\n",
    "\n",
    "def dice_loss(y_true, y_pred):\n",
    "    loss = 1 - dice_coeff(y_true, y_pred)\n",
    "    return loss\n",
    "\n",
    "\n",
    "def bce_dice_loss(y_true, y_pred):\n",
    "    loss = binary_crossentropy(y_true, y_pred) + dice_loss(y_true, y_pred)\n",
    "    return loss"
   ]
  },
  {
   "cell_type": "markdown",
   "metadata": {},
   "source": [
    "# Define models"
   ]
  },
  {
   "cell_type": "code",
   "execution_count": 3,
   "metadata": {
    "ExecuteTime": {
     "end_time": "2017-09-08T05:27:30.367950Z",
     "start_time": "2017-09-08T05:27:29.834241Z"
    },
    "collapsed": true
   },
   "outputs": [],
   "source": [
    "import sys\n",
    "from keras.models import Model\n",
    "from keras.layers import Input, merge, Convolution2D, MaxPooling2D, UpSampling2D, Dense\n",
    "from keras.layers import BatchNormalization, Dropout, Flatten, Lambda\n",
    "from keras.layers.advanced_activations import ELU, LeakyReLU\n",
    "\n",
    "IMG_ROWS, IMG_COLS = 128, 128\n",
    "\n",
    "def _shortcut(_input, residual):\n",
    "    stride_width = _input._keras_shape[2] / residual._keras_shape[2]\n",
    "    stride_height = _input._keras_shape[3] / residual._keras_shape[3]\n",
    "    equal_channels = residual._keras_shape[1] == _input._keras_shape[1]\n",
    "\n",
    "    shortcut = _input\n",
    "    # 1 X 1 conv if shape is different. Else identity.\n",
    "    if stride_width > 1 or stride_height > 1 or not equal_channels:\n",
    "        shortcut = Convolution2D(nb_filter=residual._keras_shape[1], nb_row=1, nb_col=1,\n",
    "                                 subsample=(stride_width, stride_height),\n",
    "                                 init=\"he_normal\", border_mode=\"valid\")(_input)\n",
    "\n",
    "    return merge([shortcut, residual], mode=\"sum\")\n",
    "\n",
    "\n",
    "def inception_block(inputs, depth, batch_mode=0, splitted=False, activation='relu'):\n",
    "    assert depth % 16 == 0\n",
    "    actv = activation == 'relu' and (lambda: LeakyReLU(0.0)) or activation == 'elu' and (lambda: ELU(1.0)) or None\n",
    "    \n",
    "    c1_1 = Convolution2D(int(depth/4), 1, 1, init='he_normal', border_mode='same')(inputs)\n",
    "    \n",
    "    c2_1 = Convolution2D(int(depth/8*3), 1, 1, init='he_normal', border_mode='same')(inputs)\n",
    "    c2_1 = actv()(c2_1)\n",
    "    if splitted:\n",
    "        c2_2 = Convolution2D(int(depth/2), 1, 3, init='he_normal', border_mode='same')(c2_1)\n",
    "        c2_2 = BatchNormalization(axis=3)(c2_2)\n",
    "        c2_2 = actv()(c2_2)\n",
    "        c2_3 = Convolution2D(int(depth/2), 3, 1, init='he_normal', border_mode='same')(c2_2)\n",
    "    else:\n",
    "        c2_3 = Convolution2D(int(depth/2), 3, 3, init='he_normal', border_mode='same')(c2_1)\n",
    "    \n",
    "    c3_1 = Convolution2D(int(depth/16), 1, 1, init='he_normal', border_mode='same')(inputs)\n",
    "    #missed batch norm\n",
    "    c3_1 = actv()(c3_1)\n",
    "    if splitted:\n",
    "        c3_2 = Convolution2D(int(depth/8), 1, 5, init='he_normal', border_mode='same')(c3_1)\n",
    "        c3_2 = BatchNormalization(axis=3)(c3_2)\n",
    "        c3_2 = actv()(c3_2)\n",
    "        c3_3 = Convolution2D(int(depth/8), 5, 1, init='he_normal', border_mode='same')(c3_2)\n",
    "    else:\n",
    "        c3_3 = Convolution2D(int(depth/8), 5, 5, init='he_normal', border_mode='same')(c3_1)\n",
    "    \n",
    "    p4_1 = MaxPooling2D(pool_size=(3,3), strides=(1,1), border_mode='same')(inputs)\n",
    "    c4_2 = Convolution2D(int(depth/8), 1, 1, init='he_normal', border_mode='same')(p4_1)\n",
    "    \n",
    "    res = merge([c1_1, c2_3, c3_3, c4_2], mode='concat', concat_axis=3)\n",
    "    res = BatchNormalization(axis=3)(res)\n",
    "    res = actv()(res)\n",
    "    return res\n",
    "    \n",
    "\n",
    "def rblock(inputs, num, depth, scale=0.1):    \n",
    "    residual = Convolution2D(depth, num, num, border_mode='same')(inputs)\n",
    "    residual = BatchNormalization(axis=3)(residual)\n",
    "    residual = Lambda(lambda x: x*scale)(residual)\n",
    "    res = _shortcut(inputs, residual)\n",
    "    return ELU()(res) \n",
    "    \n",
    "\n",
    "def NConvolution2D(nb_filter, nb_row, nb_col, border_mode='same', subsample=(1, 1)):\n",
    "    def f(_input):\n",
    "        conv = Convolution2D(nb_filter=nb_filter, nb_row=nb_row, nb_col=nb_col, subsample=subsample,\n",
    "                              border_mode=border_mode)(_input)\n",
    "        norm = BatchNormalization(axis=3)(conv)\n",
    "        return ELU()(norm)\n",
    "\n",
    "    return f\n",
    "\n",
    "def BNA(_input):\n",
    "    inputs_norm = BatchNormalization(axis=3)(_input)\n",
    "    return ELU()(inputs_norm)\n",
    "\n",
    "def reduction_a(inputs, k=64, l=64, m=96, n=96):\n",
    "    \"35x35 -> 17x17\"\n",
    "    inputs_norm = BNA(inputs)\n",
    "    pool1 = MaxPooling2D((3,3), strides=(2,2), border_mode='same')(inputs_norm)\n",
    "    \n",
    "    conv2 = Convolution2D(n, 3, 3, subsample=(2,2), border_mode='same')(inputs_norm)\n",
    "    \n",
    "    conv3_1 = NConvolution2D(k, 1, 1, subsample=(1,1), border_mode='same')(inputs_norm)\n",
    "    conv3_2 = NConvolution2D(l, 3, 3, subsample=(1,1), border_mode='same')(conv3_1)\n",
    "    conv3_2 = Convolution2D(m, 3, 3, subsample=(2,2), border_mode='same')(conv3_2)\n",
    "    \n",
    "    res = merge([pool1, conv2, conv3_2], mode='concat', concat_axis=3)\n",
    "    return res\n",
    "\n",
    "\n",
    "def reduction_b(inputs):\n",
    "    \"17x17 -> 8x8\"\n",
    "    inputs_norm = BNA(inputs)\n",
    "    pool1 = MaxPooling2D((3,3), strides=(2,2), border_mode='same')(inputs_norm)\n",
    "    #\n",
    "    conv2_1 = NConvolution2D(64, 1, 1, subsample=(1,1), border_mode='same')(inputs_norm)\n",
    "    conv2_2 = Convolution2D(96, 3, 3, subsample=(2,2), border_mode='same')(conv2_1)\n",
    "    #\n",
    "    conv3_1 = NConvolution2D(64, 1, 1, subsample=(1,1), border_mode='same')(inputs_norm)\n",
    "    conv3_2 = Convolution2D(72, 3, 3, subsample=(2,2), border_mode='same')(conv3_1)\n",
    "    #\n",
    "    conv4_1 = NConvolution2D(64, 1, 1, subsample=(1,1), border_mode='same')(inputs_norm)\n",
    "    conv4_2 = NConvolution2D(72, 3, 3, subsample=(1,1), border_mode='same')(conv4_1)\n",
    "    conv4_3 = Convolution2D(80, 3, 3, subsample=(2,2), border_mode='same')(conv4_2)\n",
    "    #\n",
    "    res = merge([pool1, conv2_2, conv3_2, conv4_3], mode='concat', concat_axis=3)\n",
    "    return res\n",
    "    \n",
    "    \n",
    "\n",
    "\n",
    "def get_unet_inception_2head(optimizer):\n",
    "    splitted = True\n",
    "    act = 'elu'\n",
    "    \n",
    "    inputs = Input((IMG_ROWS, IMG_COLS, 3), name='main_input')\n",
    "    conv1 = inception_block(inputs, 32, batch_mode=2, splitted=splitted, activation=act)\n",
    "    #conv1 = inception_block(conv1, 32, batch_mode=2, splitted=splitted, activation=act)\n",
    "    \n",
    "    #pool1 = MaxPooling2D(pool_size=(2, 2))(conv1)\n",
    "    pool1 = NConvolution2D(32, 3, 3, border_mode='same', subsample=(2,2))(conv1)\n",
    "    pool1 = Dropout(0.5)(pool1)\n",
    "    \n",
    "    conv2 = inception_block(pool1, 64, batch_mode=2, splitted=splitted, activation=act)\n",
    "    #pool2 = MaxPooling2D(pool_size=(2, 2))(conv2)\n",
    "    pool2 = NConvolution2D(64, 3, 3, border_mode='same', subsample=(2,2))(conv2)\n",
    "    pool2 = Dropout(0.5)(pool2)\n",
    "    \n",
    "    conv3 = inception_block(pool2, 128, batch_mode=2, splitted=splitted, activation=act)\n",
    "    #pool3 = MaxPooling2D(pool_size=(2, 2))(conv3)\n",
    "    pool3 = NConvolution2D(128, 3, 3, border_mode='same', subsample=(2,2))(conv3)\n",
    "    pool3 = Dropout(0.5)(pool3)\n",
    "     \n",
    "    conv4 = inception_block(pool3, 256, batch_mode=2, splitted=splitted, activation=act)\n",
    "    #pool4 = MaxPooling2D(pool_size=(2, 2))(conv4)\n",
    "    pool4 = NConvolution2D(256, 3, 3, border_mode='same', subsample=(2,2))(conv4)\n",
    "    pool4 = Dropout(0.5)(pool4)\n",
    "    \n",
    "    conv5 = inception_block(pool4, 512, batch_mode=2, splitted=splitted, activation=act)\n",
    "    #conv5 = inception_block(conv5, 512, batch_mode=2, splitted=splitted, activation=act)\n",
    "    conv5 = Dropout(0.5)(conv5)\n",
    "    \n",
    "    after_conv4 = rblock(conv4, 1, 256)\n",
    "    up6 = merge([UpSampling2D(size=(2, 2))(conv5), after_conv4], mode='concat', concat_axis=3)\n",
    "    conv6 = inception_block(up6, 256, batch_mode=2, splitted=splitted, activation=act)\n",
    "    conv6 = Dropout(0.5)(conv6)\n",
    "    \n",
    "    after_conv3 = rblock(conv3, 1, 128)\n",
    "    up7 = merge([UpSampling2D(size=(2, 2))(conv6), after_conv3], mode='concat', concat_axis=3)\n",
    "    conv7 = inception_block(up7, 128, batch_mode=2, splitted=splitted, activation=act)\n",
    "    conv7 = Dropout(0.5)(conv7)\n",
    "    \n",
    "    after_conv2 = rblock(conv2, 1, 64)\n",
    "    up8 = merge([UpSampling2D(size=(2, 2))(conv7), after_conv2], mode='concat', concat_axis=3)\n",
    "    conv8 = inception_block(up8, 64, batch_mode=2, splitted=splitted, activation=act)\n",
    "    conv8 = Dropout(0.5)(conv8)\n",
    "    \n",
    "    after_conv1 = rblock(conv1, 1, 32)\n",
    "    up9 = merge([UpSampling2D(size=(2, 2))(conv8), after_conv1], mode='concat', concat_axis=3)\n",
    "    conv9 = inception_block(up9, 32, batch_mode=2, splitted=splitted, activation=act)\n",
    "    #conv9 = inception_block(conv9, 32, batch_mode=2, splitted=splitted, activation=act)\n",
    "    conv9 = Dropout(0.5)(conv9)\n",
    "\n",
    "    conv10 = Convolution2D(1, 1, 1, init='he_normal', activation='sigmoid', name='main_output')(conv9)\n",
    "    #print conv10._keras_shape\n",
    "\n",
    "    model = Model(input=inputs, output=conv10)\n",
    "    model.compile(optimizer=optimizer,\n",
    "                  loss=bce_dice_loss,\n",
    "                  metrics=[dice_coeff])\n",
    "\n",
    "    return model\n",
    "\n",
    "\n",
    "get_unet = get_unet_inception_2head"
   ]
  },
  {
   "cell_type": "code",
   "execution_count": 4,
   "metadata": {
    "ExecuteTime": {
     "end_time": "2017-09-08T05:27:32.798464Z",
     "start_time": "2017-09-08T05:27:30.369801Z"
    }
   },
   "outputs": [
    {
     "name": "stderr",
     "output_type": "stream",
     "text": [
      "/home/sainath/anaconda3/lib/python3.6/site-packages/ipykernel_launcher.py:28: UserWarning: Update your `Conv2D` call to the Keras 2 API: `Conv2D(8, (1, 1), padding=\"same\", kernel_initializer=\"he_normal\")`\n",
      "/home/sainath/anaconda3/lib/python3.6/site-packages/ipykernel_launcher.py:30: UserWarning: Update your `Conv2D` call to the Keras 2 API: `Conv2D(12, (1, 1), padding=\"same\", kernel_initializer=\"he_normal\")`\n",
      "/home/sainath/anaconda3/lib/python3.6/site-packages/ipykernel_launcher.py:33: UserWarning: Update your `Conv2D` call to the Keras 2 API: `Conv2D(16, (1, 3), padding=\"same\", kernel_initializer=\"he_normal\")`\n",
      "/home/sainath/anaconda3/lib/python3.6/site-packages/ipykernel_launcher.py:36: UserWarning: Update your `Conv2D` call to the Keras 2 API: `Conv2D(16, (3, 1), padding=\"same\", kernel_initializer=\"he_normal\")`\n",
      "/home/sainath/anaconda3/lib/python3.6/site-packages/ipykernel_launcher.py:40: UserWarning: Update your `Conv2D` call to the Keras 2 API: `Conv2D(2, (1, 1), padding=\"same\", kernel_initializer=\"he_normal\")`\n",
      "/home/sainath/anaconda3/lib/python3.6/site-packages/ipykernel_launcher.py:44: UserWarning: Update your `Conv2D` call to the Keras 2 API: `Conv2D(4, (1, 5), padding=\"same\", kernel_initializer=\"he_normal\")`\n",
      "/home/sainath/anaconda3/lib/python3.6/site-packages/ipykernel_launcher.py:47: UserWarning: Update your `Conv2D` call to the Keras 2 API: `Conv2D(4, (5, 1), padding=\"same\", kernel_initializer=\"he_normal\")`\n",
      "/home/sainath/anaconda3/lib/python3.6/site-packages/ipykernel_launcher.py:51: UserWarning: Update your `MaxPooling2D` call to the Keras 2 API: `MaxPooling2D(pool_size=(3, 3), strides=(1, 1), padding=\"same\")`\n",
      "/home/sainath/anaconda3/lib/python3.6/site-packages/ipykernel_launcher.py:52: UserWarning: Update your `Conv2D` call to the Keras 2 API: `Conv2D(4, (1, 1), padding=\"same\", kernel_initializer=\"he_normal\")`\n",
      "/home/sainath/anaconda3/lib/python3.6/site-packages/ipykernel_launcher.py:54: UserWarning: The `merge` function is deprecated and will be removed after 08/2017. Use instead layers from `keras.layers.merge`, e.g. `add`, `concatenate`, etc.\n",
      "/home/sainath/anaconda3/lib/python3.6/site-packages/keras/legacy/layers.py:458: UserWarning: The `Merge` layer is deprecated and will be removed after 08/2017. Use instead layers from `keras.layers.merge`, e.g. `add`, `concatenate`, etc.\n",
      "  name=name)\n",
      "/home/sainath/anaconda3/lib/python3.6/site-packages/ipykernel_launcher.py:71: UserWarning: Update your `Conv2D` call to the Keras 2 API: `Conv2D(kernel_size=(3, 3), filters=32, strides=(2, 2), padding=\"same\")`\n",
      "/home/sainath/anaconda3/lib/python3.6/site-packages/ipykernel_launcher.py:28: UserWarning: Update your `Conv2D` call to the Keras 2 API: `Conv2D(16, (1, 1), padding=\"same\", kernel_initializer=\"he_normal\")`\n",
      "/home/sainath/anaconda3/lib/python3.6/site-packages/ipykernel_launcher.py:30: UserWarning: Update your `Conv2D` call to the Keras 2 API: `Conv2D(24, (1, 1), padding=\"same\", kernel_initializer=\"he_normal\")`\n",
      "/home/sainath/anaconda3/lib/python3.6/site-packages/ipykernel_launcher.py:33: UserWarning: Update your `Conv2D` call to the Keras 2 API: `Conv2D(32, (1, 3), padding=\"same\", kernel_initializer=\"he_normal\")`\n",
      "/home/sainath/anaconda3/lib/python3.6/site-packages/ipykernel_launcher.py:36: UserWarning: Update your `Conv2D` call to the Keras 2 API: `Conv2D(32, (3, 1), padding=\"same\", kernel_initializer=\"he_normal\")`\n",
      "/home/sainath/anaconda3/lib/python3.6/site-packages/ipykernel_launcher.py:40: UserWarning: Update your `Conv2D` call to the Keras 2 API: `Conv2D(4, (1, 1), padding=\"same\", kernel_initializer=\"he_normal\")`\n",
      "/home/sainath/anaconda3/lib/python3.6/site-packages/ipykernel_launcher.py:44: UserWarning: Update your `Conv2D` call to the Keras 2 API: `Conv2D(8, (1, 5), padding=\"same\", kernel_initializer=\"he_normal\")`\n",
      "/home/sainath/anaconda3/lib/python3.6/site-packages/ipykernel_launcher.py:47: UserWarning: Update your `Conv2D` call to the Keras 2 API: `Conv2D(8, (5, 1), padding=\"same\", kernel_initializer=\"he_normal\")`\n",
      "/home/sainath/anaconda3/lib/python3.6/site-packages/ipykernel_launcher.py:52: UserWarning: Update your `Conv2D` call to the Keras 2 API: `Conv2D(8, (1, 1), padding=\"same\", kernel_initializer=\"he_normal\")`\n",
      "/home/sainath/anaconda3/lib/python3.6/site-packages/ipykernel_launcher.py:71: UserWarning: Update your `Conv2D` call to the Keras 2 API: `Conv2D(kernel_size=(3, 3), filters=64, strides=(2, 2), padding=\"same\")`\n",
      "/home/sainath/anaconda3/lib/python3.6/site-packages/ipykernel_launcher.py:28: UserWarning: Update your `Conv2D` call to the Keras 2 API: `Conv2D(32, (1, 1), padding=\"same\", kernel_initializer=\"he_normal\")`\n",
      "/home/sainath/anaconda3/lib/python3.6/site-packages/ipykernel_launcher.py:30: UserWarning: Update your `Conv2D` call to the Keras 2 API: `Conv2D(48, (1, 1), padding=\"same\", kernel_initializer=\"he_normal\")`\n",
      "/home/sainath/anaconda3/lib/python3.6/site-packages/ipykernel_launcher.py:33: UserWarning: Update your `Conv2D` call to the Keras 2 API: `Conv2D(64, (1, 3), padding=\"same\", kernel_initializer=\"he_normal\")`\n",
      "/home/sainath/anaconda3/lib/python3.6/site-packages/ipykernel_launcher.py:36: UserWarning: Update your `Conv2D` call to the Keras 2 API: `Conv2D(64, (3, 1), padding=\"same\", kernel_initializer=\"he_normal\")`\n",
      "/home/sainath/anaconda3/lib/python3.6/site-packages/ipykernel_launcher.py:40: UserWarning: Update your `Conv2D` call to the Keras 2 API: `Conv2D(8, (1, 1), padding=\"same\", kernel_initializer=\"he_normal\")`\n",
      "/home/sainath/anaconda3/lib/python3.6/site-packages/ipykernel_launcher.py:44: UserWarning: Update your `Conv2D` call to the Keras 2 API: `Conv2D(16, (1, 5), padding=\"same\", kernel_initializer=\"he_normal\")`\n",
      "/home/sainath/anaconda3/lib/python3.6/site-packages/ipykernel_launcher.py:47: UserWarning: Update your `Conv2D` call to the Keras 2 API: `Conv2D(16, (5, 1), padding=\"same\", kernel_initializer=\"he_normal\")`\n",
      "/home/sainath/anaconda3/lib/python3.6/site-packages/ipykernel_launcher.py:52: UserWarning: Update your `Conv2D` call to the Keras 2 API: `Conv2D(16, (1, 1), padding=\"same\", kernel_initializer=\"he_normal\")`\n",
      "/home/sainath/anaconda3/lib/python3.6/site-packages/ipykernel_launcher.py:71: UserWarning: Update your `Conv2D` call to the Keras 2 API: `Conv2D(kernel_size=(3, 3), filters=128, strides=(2, 2), padding=\"same\")`\n",
      "/home/sainath/anaconda3/lib/python3.6/site-packages/ipykernel_launcher.py:28: UserWarning: Update your `Conv2D` call to the Keras 2 API: `Conv2D(64, (1, 1), padding=\"same\", kernel_initializer=\"he_normal\")`\n",
      "/home/sainath/anaconda3/lib/python3.6/site-packages/ipykernel_launcher.py:30: UserWarning: Update your `Conv2D` call to the Keras 2 API: `Conv2D(96, (1, 1), padding=\"same\", kernel_initializer=\"he_normal\")`\n",
      "/home/sainath/anaconda3/lib/python3.6/site-packages/ipykernel_launcher.py:33: UserWarning: Update your `Conv2D` call to the Keras 2 API: `Conv2D(128, (1, 3), padding=\"same\", kernel_initializer=\"he_normal\")`\n",
      "/home/sainath/anaconda3/lib/python3.6/site-packages/ipykernel_launcher.py:36: UserWarning: Update your `Conv2D` call to the Keras 2 API: `Conv2D(128, (3, 1), padding=\"same\", kernel_initializer=\"he_normal\")`\n",
      "/home/sainath/anaconda3/lib/python3.6/site-packages/ipykernel_launcher.py:40: UserWarning: Update your `Conv2D` call to the Keras 2 API: `Conv2D(16, (1, 1), padding=\"same\", kernel_initializer=\"he_normal\")`\n",
      "/home/sainath/anaconda3/lib/python3.6/site-packages/ipykernel_launcher.py:44: UserWarning: Update your `Conv2D` call to the Keras 2 API: `Conv2D(32, (1, 5), padding=\"same\", kernel_initializer=\"he_normal\")`\n",
      "/home/sainath/anaconda3/lib/python3.6/site-packages/ipykernel_launcher.py:47: UserWarning: Update your `Conv2D` call to the Keras 2 API: `Conv2D(32, (5, 1), padding=\"same\", kernel_initializer=\"he_normal\")`\n",
      "/home/sainath/anaconda3/lib/python3.6/site-packages/ipykernel_launcher.py:52: UserWarning: Update your `Conv2D` call to the Keras 2 API: `Conv2D(32, (1, 1), padding=\"same\", kernel_initializer=\"he_normal\")`\n",
      "/home/sainath/anaconda3/lib/python3.6/site-packages/ipykernel_launcher.py:71: UserWarning: Update your `Conv2D` call to the Keras 2 API: `Conv2D(kernel_size=(3, 3), filters=256, strides=(2, 2), padding=\"same\")`\n",
      "/home/sainath/anaconda3/lib/python3.6/site-packages/ipykernel_launcher.py:28: UserWarning: Update your `Conv2D` call to the Keras 2 API: `Conv2D(128, (1, 1), padding=\"same\", kernel_initializer=\"he_normal\")`\n",
      "/home/sainath/anaconda3/lib/python3.6/site-packages/ipykernel_launcher.py:30: UserWarning: Update your `Conv2D` call to the Keras 2 API: `Conv2D(192, (1, 1), padding=\"same\", kernel_initializer=\"he_normal\")`\n",
      "/home/sainath/anaconda3/lib/python3.6/site-packages/ipykernel_launcher.py:33: UserWarning: Update your `Conv2D` call to the Keras 2 API: `Conv2D(256, (1, 3), padding=\"same\", kernel_initializer=\"he_normal\")`\n",
      "/home/sainath/anaconda3/lib/python3.6/site-packages/ipykernel_launcher.py:36: UserWarning: Update your `Conv2D` call to the Keras 2 API: `Conv2D(256, (3, 1), padding=\"same\", kernel_initializer=\"he_normal\")`\n",
      "/home/sainath/anaconda3/lib/python3.6/site-packages/ipykernel_launcher.py:40: UserWarning: Update your `Conv2D` call to the Keras 2 API: `Conv2D(32, (1, 1), padding=\"same\", kernel_initializer=\"he_normal\")`\n",
      "/home/sainath/anaconda3/lib/python3.6/site-packages/ipykernel_launcher.py:44: UserWarning: Update your `Conv2D` call to the Keras 2 API: `Conv2D(64, (1, 5), padding=\"same\", kernel_initializer=\"he_normal\")`\n",
      "/home/sainath/anaconda3/lib/python3.6/site-packages/ipykernel_launcher.py:47: UserWarning: Update your `Conv2D` call to the Keras 2 API: `Conv2D(64, (5, 1), padding=\"same\", kernel_initializer=\"he_normal\")`\n",
      "/home/sainath/anaconda3/lib/python3.6/site-packages/ipykernel_launcher.py:52: UserWarning: Update your `Conv2D` call to the Keras 2 API: `Conv2D(64, (1, 1), padding=\"same\", kernel_initializer=\"he_normal\")`\n"
     ]
    },
    {
     "name": "stderr",
     "output_type": "stream",
     "text": [
      "/home/sainath/anaconda3/lib/python3.6/site-packages/ipykernel_launcher.py:61: UserWarning: Update your `Conv2D` call to the Keras 2 API: `Conv2D(256, (1, 1), padding=\"same\")`\n",
      "/home/sainath/anaconda3/lib/python3.6/site-packages/ipykernel_launcher.py:21: UserWarning: The `merge` function is deprecated and will be removed after 08/2017. Use instead layers from `keras.layers.merge`, e.g. `add`, `concatenate`, etc.\n",
      "/home/sainath/anaconda3/lib/python3.6/site-packages/ipykernel_launcher.py:149: UserWarning: The `merge` function is deprecated and will be removed after 08/2017. Use instead layers from `keras.layers.merge`, e.g. `add`, `concatenate`, etc.\n",
      "/home/sainath/anaconda3/lib/python3.6/site-packages/ipykernel_launcher.py:61: UserWarning: Update your `Conv2D` call to the Keras 2 API: `Conv2D(128, (1, 1), padding=\"same\")`\n",
      "/home/sainath/anaconda3/lib/python3.6/site-packages/ipykernel_launcher.py:154: UserWarning: The `merge` function is deprecated and will be removed after 08/2017. Use instead layers from `keras.layers.merge`, e.g. `add`, `concatenate`, etc.\n",
      "/home/sainath/anaconda3/lib/python3.6/site-packages/ipykernel_launcher.py:61: UserWarning: Update your `Conv2D` call to the Keras 2 API: `Conv2D(64, (1, 1), padding=\"same\")`\n",
      "/home/sainath/anaconda3/lib/python3.6/site-packages/ipykernel_launcher.py:159: UserWarning: The `merge` function is deprecated and will be removed after 08/2017. Use instead layers from `keras.layers.merge`, e.g. `add`, `concatenate`, etc.\n",
      "/home/sainath/anaconda3/lib/python3.6/site-packages/ipykernel_launcher.py:61: UserWarning: Update your `Conv2D` call to the Keras 2 API: `Conv2D(32, (1, 1), padding=\"same\")`\n",
      "/home/sainath/anaconda3/lib/python3.6/site-packages/ipykernel_launcher.py:164: UserWarning: The `merge` function is deprecated and will be removed after 08/2017. Use instead layers from `keras.layers.merge`, e.g. `add`, `concatenate`, etc.\n",
      "/home/sainath/anaconda3/lib/python3.6/site-packages/ipykernel_launcher.py:169: UserWarning: Update your `Conv2D` call to the Keras 2 API: `Conv2D(1, (1, 1), activation=\"sigmoid\", name=\"main_output\", kernel_initializer=\"he_normal\")`\n",
      "/home/sainath/anaconda3/lib/python3.6/site-packages/ipykernel_launcher.py:172: UserWarning: Update your `Model` call to the Keras 2 API: `Model(inputs=Tensor(\"ma..., outputs=Tensor(\"ma...)`\n"
     ]
    }
   ],
   "source": [
    "model = get_unet(Adam(lr=1e-5))"
   ]
  },
  {
   "cell_type": "markdown",
   "metadata": {},
   "source": [
    "# Modeling"
   ]
  },
  {
   "cell_type": "code",
   "execution_count": 5,
   "metadata": {
    "ExecuteTime": {
     "end_time": "2017-09-08T05:27:32.803942Z",
     "start_time": "2017-09-08T05:27:32.800158Z"
    },
    "collapsed": true
   },
   "outputs": [],
   "source": [
    "input_size = 128\n",
    "max_epochs = 50\n",
    "train_batch_size = 16\n",
    "val_batch_size=32\n",
    "orig_width = 1918\n",
    "orig_height= 1280\n",
    "threshold  = 0.5"
   ]
  },
  {
   "cell_type": "code",
   "execution_count": 6,
   "metadata": {
    "ExecuteTime": {
     "end_time": "2017-09-08T05:27:33.217107Z",
     "start_time": "2017-09-08T05:27:32.805533Z"
    },
    "collapsed": true
   },
   "outputs": [],
   "source": [
    "df_train = pd.read_csv('data/train_masks.csv')"
   ]
  },
  {
   "cell_type": "code",
   "execution_count": 7,
   "metadata": {
    "ExecuteTime": {
     "end_time": "2017-09-08T05:27:33.233390Z",
     "start_time": "2017-09-08T05:27:33.218734Z"
    }
   },
   "outputs": [
    {
     "data": {
      "text/html": [
       "<div>\n",
       "<style>\n",
       "    .dataframe thead tr:only-child th {\n",
       "        text-align: right;\n",
       "    }\n",
       "\n",
       "    .dataframe thead th {\n",
       "        text-align: left;\n",
       "    }\n",
       "\n",
       "    .dataframe tbody tr th {\n",
       "        vertical-align: top;\n",
       "    }\n",
       "</style>\n",
       "<table border=\"1\" class=\"dataframe\">\n",
       "  <thead>\n",
       "    <tr style=\"text-align: right;\">\n",
       "      <th></th>\n",
       "      <th>img</th>\n",
       "      <th>rle_mask</th>\n",
       "    </tr>\n",
       "  </thead>\n",
       "  <tbody>\n",
       "    <tr>\n",
       "      <th>0</th>\n",
       "      <td>00087a6bd4dc_01.jpg</td>\n",
       "      <td>879386 40 881253 141 883140 205 885009 17 8850...</td>\n",
       "    </tr>\n",
       "    <tr>\n",
       "      <th>1</th>\n",
       "      <td>00087a6bd4dc_02.jpg</td>\n",
       "      <td>873779 4 875695 7 877612 9 879528 12 881267 15...</td>\n",
       "    </tr>\n",
       "    <tr>\n",
       "      <th>2</th>\n",
       "      <td>00087a6bd4dc_03.jpg</td>\n",
       "      <td>864300 9 866217 13 868134 15 870051 16 871969 ...</td>\n",
       "    </tr>\n",
       "    <tr>\n",
       "      <th>3</th>\n",
       "      <td>00087a6bd4dc_04.jpg</td>\n",
       "      <td>879735 20 881650 26 883315 92 883564 30 885208...</td>\n",
       "    </tr>\n",
       "    <tr>\n",
       "      <th>4</th>\n",
       "      <td>00087a6bd4dc_05.jpg</td>\n",
       "      <td>883365 74 883638 28 885262 119 885550 34 88716...</td>\n",
       "    </tr>\n",
       "  </tbody>\n",
       "</table>\n",
       "</div>"
      ],
      "text/plain": [
       "                   img                                           rle_mask\n",
       "0  00087a6bd4dc_01.jpg  879386 40 881253 141 883140 205 885009 17 8850...\n",
       "1  00087a6bd4dc_02.jpg  873779 4 875695 7 877612 9 879528 12 881267 15...\n",
       "2  00087a6bd4dc_03.jpg  864300 9 866217 13 868134 15 870051 16 871969 ...\n",
       "3  00087a6bd4dc_04.jpg  879735 20 881650 26 883315 92 883564 30 885208...\n",
       "4  00087a6bd4dc_05.jpg  883365 74 883638 28 885262 119 885550 34 88716..."
      ]
     },
     "execution_count": 7,
     "metadata": {},
     "output_type": "execute_result"
    }
   ],
   "source": [
    "df_train.head()"
   ]
  },
  {
   "cell_type": "code",
   "execution_count": 8,
   "metadata": {
    "ExecuteTime": {
     "end_time": "2017-09-08T05:27:33.240722Z",
     "start_time": "2017-09-08T05:27:33.235069Z"
    },
    "collapsed": true
   },
   "outputs": [],
   "source": [
    "ids_train = df_train['img'].map(lambda s: s.split('.')[0])"
   ]
  },
  {
   "cell_type": "code",
   "execution_count": 9,
   "metadata": {
    "ExecuteTime": {
     "end_time": "2017-09-08T05:27:33.246999Z",
     "start_time": "2017-09-08T05:27:33.242341Z"
    },
    "collapsed": true
   },
   "outputs": [],
   "source": [
    "ids_train_split, ids_valid_split = train_test_split(ids_train, test_size=0.2, random_state=42)"
   ]
  },
  {
   "cell_type": "code",
   "execution_count": 10,
   "metadata": {
    "ExecuteTime": {
     "end_time": "2017-09-08T05:27:33.258747Z",
     "start_time": "2017-09-08T05:27:33.248612Z"
    },
    "collapsed": true
   },
   "outputs": [],
   "source": [
    "def randomHueSaturationValue(image, hue_shift_limit=(-180, 180),\n",
    "                             sat_shift_limit=(-255, 255),\n",
    "                             val_shift_limit=(-255, 255), u=0.5):\n",
    "    if np.random.random() < u:\n",
    "        image = cv2.cvtColor(image, cv2.COLOR_BGR2HSV)\n",
    "        h, s, v = cv2.split(image)\n",
    "        hue_shift = np.random.uniform(hue_shift_limit[0], hue_shift_limit[1])\n",
    "        h = cv2.add(h, hue_shift)\n",
    "        sat_shift = np.random.uniform(sat_shift_limit[0], sat_shift_limit[1])\n",
    "        s = cv2.add(s, sat_shift)\n",
    "        val_shift = np.random.uniform(val_shift_limit[0], val_shift_limit[1])\n",
    "        v = cv2.add(v, val_shift)\n",
    "        image = cv2.merge((h, s, v))\n",
    "        image = cv2.cvtColor(image, cv2.COLOR_HSV2BGR)\n",
    "\n",
    "    return image"
   ]
  },
  {
   "cell_type": "code",
   "execution_count": 11,
   "metadata": {
    "ExecuteTime": {
     "end_time": "2017-09-08T05:27:33.289157Z",
     "start_time": "2017-09-08T05:27:33.260292Z"
    },
    "collapsed": true
   },
   "outputs": [],
   "source": [
    "def randomShiftScaleRotate(image, mask,\n",
    "                           shift_limit=(-0.0625, 0.0625),\n",
    "                           scale_limit=(-0.1, 0.1),\n",
    "                           rotate_limit=(-45, 45), aspect_limit=(0, 0),\n",
    "                           borderMode=cv2.BORDER_CONSTANT, u=0.5):\n",
    "    if np.random.random() < u:\n",
    "        height, width, channel = image.shape\n",
    "\n",
    "        angle = np.random.uniform(rotate_limit[0], rotate_limit[1])  # degree\n",
    "        scale = np.random.uniform(1 + scale_limit[0], 1 + scale_limit[1])\n",
    "        aspect = np.random.uniform(1 + aspect_limit[0], 1 + aspect_limit[1])\n",
    "        sx = scale * aspect / (aspect ** 0.5)\n",
    "        sy = scale / (aspect ** 0.5)\n",
    "        dx = round(np.random.uniform(shift_limit[0], shift_limit[1]) * width)\n",
    "        dy = round(np.random.uniform(shift_limit[0], shift_limit[1]) * height)\n",
    "\n",
    "        cc = np.math.cos(angle / 180 * np.math.pi) * sx\n",
    "        ss = np.math.sin(angle / 180 * np.math.pi) * sy\n",
    "        rotate_matrix = np.array([[cc, -ss], [ss, cc]])\n",
    "\n",
    "        box0 = np.array([[0, 0], [width, 0], [width, height], [0, height], ])\n",
    "        box1 = box0 - np.array([width / 2, height / 2])\n",
    "        box1 = np.dot(box1, rotate_matrix.T) + np.array([width / 2 + dx, height / 2 + dy])\n",
    "\n",
    "        box0 = box0.astype(np.float32)\n",
    "        box1 = box1.astype(np.float32)\n",
    "        mat = cv2.getPerspectiveTransform(box0, box1)\n",
    "        image = cv2.warpPerspective(image, mat, (width, height), flags=cv2.INTER_LINEAR, borderMode=borderMode,\n",
    "                                    borderValue=(\n",
    "                                        0, 0,\n",
    "                                        0,))\n",
    "        mask = cv2.warpPerspective(mask, mat, (width, height), flags=cv2.INTER_LINEAR, borderMode=borderMode,\n",
    "                                   borderValue=(\n",
    "                                       0, 0,\n",
    "                                       0,))\n",
    "\n",
    "    return image, mask\n"
   ]
  },
  {
   "cell_type": "code",
   "execution_count": 12,
   "metadata": {
    "ExecuteTime": {
     "end_time": "2017-09-08T05:27:33.294778Z",
     "start_time": "2017-09-08T05:27:33.290571Z"
    },
    "collapsed": true
   },
   "outputs": [],
   "source": [
    "def randomHorizontalFlip(image, mask, u=0.5):\n",
    "    if np.random.random() < u:\n",
    "        image = cv2.flip(image, 1)\n",
    "        mask = cv2.flip(mask, 1)\n",
    "\n",
    "    return image, mask\n"
   ]
  },
  {
   "cell_type": "code",
   "execution_count": 13,
   "metadata": {
    "ExecuteTime": {
     "end_time": "2017-09-08T05:30:32.768321Z",
     "start_time": "2017-09-08T05:27:33.296220Z"
    },
    "collapsed": true
   },
   "outputs": [],
   "source": [
    "all_imgs  = {}\n",
    "all_masks = {}\n",
    "for id in ids_train:\n",
    "    img  = cv2.imread('data/train/{}.jpg'.format(id))\n",
    "    img  = cv2.resize(img, (input_size, input_size))\n",
    "    mask = cv2.imread('data/train_masks/{}_mask.png'.format(id), cv2.IMREAD_GRAYSCALE)\n",
    "    mask = cv2.resize(mask, (input_size, input_size))\n",
    "    all_imgs[id]  = img\n",
    "    all_masks[id] = mask"
   ]
  },
  {
   "cell_type": "code",
   "execution_count": 14,
   "metadata": {
    "ExecuteTime": {
     "end_time": "2017-09-08T05:30:32.772312Z",
     "start_time": "2017-09-08T05:30:32.769964Z"
    },
    "collapsed": true
   },
   "outputs": [],
   "source": [
    "import random"
   ]
  },
  {
   "cell_type": "code",
   "execution_count": 15,
   "metadata": {
    "ExecuteTime": {
     "end_time": "2017-09-08T05:30:32.845154Z",
     "start_time": "2017-09-08T05:30:32.773867Z"
    },
    "collapsed": true
   },
   "outputs": [],
   "source": [
    "def train_generator(train_batch_size):\n",
    "    while True:\n",
    "        this_ids_train_split = random.sample(list(ids_train_split), len(list(ids_train_split)))\n",
    "        for start in range(0, len(ids_train_split), train_batch_size):\n",
    "            x_batch = []\n",
    "            y_batch = []\n",
    "            \n",
    "            end = min(start + train_batch_size, len(ids_train_split))\n",
    "            ids_train_batch = this_ids_train_split[start:end]\n",
    "            \n",
    "            for id in ids_train_batch:\n",
    "                img  = all_imgs[id]\n",
    "                mask = all_masks[id]\n",
    "                img = randomHueSaturationValue(img,\n",
    "                                               hue_shift_limit=(-50, 50),\n",
    "                                               sat_shift_limit=(-5, 5),\n",
    "                                               val_shift_limit=(-15, 15))\n",
    "                img, mask = randomShiftScaleRotate(img, mask,\n",
    "                                                   shift_limit=(-0.0625, 0.0625),\n",
    "                                                   scale_limit=(-0.1, 0.1),\n",
    "                                                   rotate_limit=(-0, 0))\n",
    "                img, mask = randomHorizontalFlip(img, mask)\n",
    "                mask = np.expand_dims(mask, axis=2)\n",
    "                x_batch.append(img)\n",
    "                y_batch.append(mask)\n",
    "            x_batch = np.array(x_batch, np.float32) / 255\n",
    "            y_batch = np.array(y_batch, np.float32) / 255\n",
    "            yield x_batch, y_batch\n"
   ]
  },
  {
   "cell_type": "code",
   "execution_count": null,
   "metadata": {
    "ExecuteTime": {
     "start_time": "2017-09-08T05:27:16.659Z"
    },
    "collapsed": true
   },
   "outputs": [],
   "source": [
    "def valid_generator(val_batch_size):\n",
    "    while True:\n",
    "        for start in range(0, len(ids_valid_split), val_batch_size):\n",
    "            x_batch = []\n",
    "            y_batch = []\n",
    "            end = min(start + val_batch_size, len(ids_valid_split))\n",
    "            ids_valid_batch = ids_valid_split[start:end]\n",
    "            for id in ids_valid_batch.values:\n",
    "                img  = all_imgs[id]\n",
    "                mask = all_masks[id]\n",
    "                mask = np.expand_dims(mask, axis=2)\n",
    "                x_batch.append(img)\n",
    "                y_batch.append(mask)\n",
    "            x_batch = np.array(x_batch, np.float32) / 255\n",
    "            y_batch = np.array(y_batch, np.float32) / 255\n",
    "            yield x_batch, y_batch"
   ]
  },
  {
   "cell_type": "code",
   "execution_count": null,
   "metadata": {
    "ExecuteTime": {
     "start_time": "2017-09-08T05:27:16.661Z"
    }
   },
   "outputs": [
    {
     "name": "stdout",
     "output_type": "stream",
     "text": [
      "Epoch 1/50\n",
      "208s - loss: 1.2588 - dice_coeff: 0.4351 - val_loss: 1.1301 - val_dice_coeff: 0.3091\n",
      "Epoch 2/50\n",
      "192s - loss: 0.9890 - dice_coeff: 0.5376 - val_loss: 1.1081 - val_dice_coeff: 0.3145\n",
      "Epoch 3/50\n",
      "192s - loss: 0.8052 - dice_coeff: 0.6017 - val_loss: 0.8988 - val_dice_coeff: 0.4504\n",
      "Epoch 4/50\n",
      "192s - loss: 0.6790 - dice_coeff: 0.6488 - val_loss: 0.8308 - val_dice_coeff: 0.4970\n",
      "Epoch 5/50\n",
      "192s - loss: 0.5943 - dice_coeff: 0.6836 - val_loss: 0.7180 - val_dice_coeff: 0.5706\n",
      "Epoch 6/50\n",
      "192s - loss: 0.5322 - dice_coeff: 0.7107 - val_loss: 0.6272 - val_dice_coeff: 0.6281\n",
      "Epoch 7/50\n",
      "192s - loss: 0.4846 - dice_coeff: 0.7328 - val_loss: 0.5708 - val_dice_coeff: 0.6643\n",
      "Epoch 8/50\n",
      "192s - loss: 0.4419 - dice_coeff: 0.7536 - val_loss: 0.5256 - val_dice_coeff: 0.6938\n",
      "Epoch 9/50\n",
      "192s - loss: 0.4078 - dice_coeff: 0.7710 - val_loss: 0.4832 - val_dice_coeff: 0.7208\n",
      "Epoch 10/50\n",
      "192s - loss: 0.3791 - dice_coeff: 0.7851 - val_loss: 0.4303 - val_dice_coeff: 0.7525\n",
      "Epoch 11/50\n",
      "192s - loss: 0.3553 - dice_coeff: 0.7979 - val_loss: 0.4288 - val_dice_coeff: 0.7547\n",
      "Epoch 12/50\n",
      "192s - loss: 0.3357 - dice_coeff: 0.8081 - val_loss: 0.3868 - val_dice_coeff: 0.7802\n",
      "Epoch 13/50\n",
      "192s - loss: 0.3188 - dice_coeff: 0.8173 - val_loss: 0.3836 - val_dice_coeff: 0.7828\n",
      "Epoch 14/50\n",
      "194s - loss: 0.3038 - dice_coeff: 0.8253 - val_loss: 0.3647 - val_dice_coeff: 0.7948\n",
      "Epoch 15/50\n",
      "192s - loss: 0.2898 - dice_coeff: 0.8333 - val_loss: 0.3450 - val_dice_coeff: 0.8059\n",
      "Epoch 16/50\n",
      "192s - loss: 0.2781 - dice_coeff: 0.8397 - val_loss: 0.3394 - val_dice_coeff: 0.8105\n",
      "Epoch 17/50\n",
      "192s - loss: 0.2685 - dice_coeff: 0.8452 - val_loss: 0.3184 - val_dice_coeff: 0.8220\n",
      "Epoch 18/50\n",
      "192s - loss: 0.2573 - dice_coeff: 0.8516 - val_loss: 0.3079 - val_dice_coeff: 0.8286\n",
      "Epoch 19/50\n",
      "192s - loss: 0.2479 - dice_coeff: 0.8569 - val_loss: 0.2985 - val_dice_coeff: 0.8343\n",
      "Epoch 20/50\n",
      "192s - loss: 0.2394 - dice_coeff: 0.8618 - val_loss: 0.2945 - val_dice_coeff: 0.8375\n",
      "Epoch 21/50\n",
      "192s - loss: 0.2325 - dice_coeff: 0.8660 - val_loss: 0.2899 - val_dice_coeff: 0.8416\n",
      "Epoch 22/50\n",
      "192s - loss: 0.2237 - dice_coeff: 0.8710 - val_loss: 0.2702 - val_dice_coeff: 0.8521\n",
      "Epoch 23/50\n",
      "192s - loss: 0.2159 - dice_coeff: 0.8757 - val_loss: 0.2778 - val_dice_coeff: 0.8494\n",
      "Epoch 24/50\n",
      "192s - loss: 0.2117 - dice_coeff: 0.8784 - val_loss: 0.2773 - val_dice_coeff: 0.8511\n",
      "Epoch 25/50\n",
      "192s - loss: 0.2031 - dice_coeff: 0.8831 - val_loss: 0.2607 - val_dice_coeff: 0.8595\n",
      "Epoch 26/50\n",
      "192s - loss: 0.1976 - dice_coeff: 0.8865 - val_loss: 0.2579 - val_dice_coeff: 0.8617\n",
      "Epoch 27/50\n",
      "192s - loss: 0.1913 - dice_coeff: 0.8902 - val_loss: 0.2490 - val_dice_coeff: 0.8670\n",
      "Epoch 28/50\n",
      "192s - loss: 0.1858 - dice_coeff: 0.8934 - val_loss: 0.2454 - val_dice_coeff: 0.8697\n",
      "Epoch 29/50\n",
      "192s - loss: 0.1805 - dice_coeff: 0.8967 - val_loss: 0.2395 - val_dice_coeff: 0.8732\n",
      "Epoch 30/50\n",
      "192s - loss: 0.1753 - dice_coeff: 0.8998 - val_loss: 0.2451 - val_dice_coeff: 0.8719\n",
      "Epoch 31/50\n",
      "192s - loss: 0.1714 - dice_coeff: 0.9023 - val_loss: 0.2342 - val_dice_coeff: 0.8775\n",
      "Epoch 32/50\n",
      "192s - loss: 0.1661 - dice_coeff: 0.9056 - val_loss: 0.2204 - val_dice_coeff: 0.8850\n",
      "Epoch 33/50\n",
      "192s - loss: 0.1626 - dice_coeff: 0.9077 - val_loss: 0.2188 - val_dice_coeff: 0.8861\n",
      "Epoch 34/50\n",
      "192s - loss: 0.1579 - dice_coeff: 0.9106 - val_loss: 0.2042 - val_dice_coeff: 0.8934\n",
      "Epoch 35/50\n",
      "192s - loss: 0.1542 - dice_coeff: 0.9128 - val_loss: 0.2067 - val_dice_coeff: 0.8929\n",
      "Epoch 36/50\n"
     ]
    }
   ],
   "source": [
    "callbacks = [EarlyStopping(monitor='val_dice_coeff',\n",
    "                           patience=8,\n",
    "                           verbose=1,\n",
    "                           min_delta=1e-4,\n",
    "                           mode='max'),\n",
    "             ReduceLROnPlateau(monitor='val_dice_coeff',\n",
    "                               factor=0.1,\n",
    "                               patience=4,\n",
    "                               verbose=1,\n",
    "                               epsilon=1e-4,\n",
    "                               mode='max'),\n",
    "             ModelCheckpoint(monitor='val_dice_coeff',\n",
    "                             filepath='weights/unet-inception-128.hdf5',\n",
    "                             save_best_only=True,\n",
    "                             save_weights_only=True,\n",
    "                             mode='max')]\n",
    "\n",
    "history = model.fit_generator(generator=train_generator(train_batch_size),\n",
    "                    steps_per_epoch=np.ceil(float(len(ids_train_split)) / float(train_batch_size)),\n",
    "                    epochs=max_epochs,\n",
    "                    verbose=2,\n",
    "                    callbacks=callbacks,\n",
    "                    validation_data=valid_generator(val_batch_size),\n",
    "                    validation_steps=np.ceil(float(len(ids_valid_split)) / float(val_batch_size)))"
   ]
  },
  {
   "cell_type": "code",
   "execution_count": null,
   "metadata": {
    "ExecuteTime": {
     "end_time": "2017-08-20T18:32:20.542421Z",
     "start_time": "2017-08-20T18:32:20.532876Z"
    }
   },
   "outputs": [],
   "source": [
    "history.history"
   ]
  },
  {
   "cell_type": "markdown",
   "metadata": {
    "heading_collapsed": true
   },
   "source": [
    "# Predictions"
   ]
  },
  {
   "cell_type": "code",
   "execution_count": null,
   "metadata": {
    "ExecuteTime": {
     "end_time": "2017-08-21T01:51:02.440394Z",
     "start_time": "2017-08-21T01:51:02.420184Z"
    },
    "collapsed": true,
    "hidden": true
   },
   "outputs": [],
   "source": [
    "from tqdm import tqdm"
   ]
  },
  {
   "cell_type": "code",
   "execution_count": null,
   "metadata": {
    "ExecuteTime": {
     "end_time": "2017-08-21T01:51:17.246520Z",
     "start_time": "2017-08-21T01:51:17.116661Z"
    },
    "collapsed": true,
    "hidden": true
   },
   "outputs": [],
   "source": [
    "df_test = pd.read_csv('data/sample_submission.csv')\n",
    "ids_test = df_test['img'].map(lambda s: s.split('.')[0])"
   ]
  },
  {
   "cell_type": "code",
   "execution_count": null,
   "metadata": {
    "ExecuteTime": {
     "end_time": "2017-08-21T01:51:23.682526Z",
     "start_time": "2017-08-21T01:51:23.625948Z"
    },
    "collapsed": true,
    "hidden": true
   },
   "outputs": [],
   "source": [
    "names = []\n",
    "for id in ids_test:\n",
    "    names.append('{}.jpg'.format(id))"
   ]
  },
  {
   "cell_type": "code",
   "execution_count": null,
   "metadata": {
    "ExecuteTime": {
     "end_time": "2017-08-21T01:51:38.478118Z",
     "start_time": "2017-08-21T01:51:37.693693Z"
    },
    "collapsed": true,
    "hidden": true
   },
   "outputs": [],
   "source": [
    "# https://www.kaggle.com/stainsby/fast-tested-rle\n",
    "def run_length_encode(mask):\n",
    "    '''\n",
    "    img: numpy array, 1 - mask, 0 - background\n",
    "    Returns run length as string formated\n",
    "    '''\n",
    "    inds = mask.flatten()\n",
    "    runs = np.where(inds[1:] != inds[:-1])[0] + 2\n",
    "    runs[1::2] = runs[1::2] - runs[:-1:2]\n",
    "    rle = ' '.join([str(r) for r in runs])\n",
    "    return rle\n",
    "\n",
    "\n",
    "rles = []\n",
    "\n",
    "model.load_weights(filepath='weights/best_weights.hdf5')\n"
   ]
  },
  {
   "cell_type": "code",
   "execution_count": null,
   "metadata": {
    "ExecuteTime": {
     "end_time": "2017-08-21T03:44:01.797114Z",
     "start_time": "2017-08-21T01:51:56.726233Z"
    },
    "collapsed": true,
    "hidden": true
   },
   "outputs": [],
   "source": [
    "print('Predicting on {} samples with batch_size = {}...'.format(len(ids_test), batch_size))\n",
    "for start in tqdm(range(0, len(ids_test), batch_size)):\n",
    "    x_batch = []\n",
    "    end = min(start + batch_size, len(ids_test))\n",
    "    ids_test_batch = ids_test[start:end]\n",
    "    for id in ids_test_batch.values:\n",
    "        img = cv2.imread('data/test/{}.jpg'.format(id))\n",
    "        img = cv2.resize(img, (input_size, input_size))\n",
    "        x_batch.append(img)\n",
    "    x_batch = np.array(x_batch, np.float32) / 255\n",
    "    preds = model.predict_on_batch(x_batch)\n",
    "    preds = np.squeeze(preds, axis=3)\n",
    "    for pred in preds:\n",
    "        prob = cv2.resize(pred, (orig_width, orig_height))\n",
    "        mask = prob > threshold\n",
    "        rle = run_length_encode(mask)\n",
    "        rles.append(rle)"
   ]
  },
  {
   "cell_type": "code",
   "execution_count": null,
   "metadata": {
    "ExecuteTime": {
     "end_time": "2017-08-21T04:16:10.101830Z",
     "start_time": "2017-08-21T04:13:02.737741Z"
    },
    "hidden": true
   },
   "outputs": [],
   "source": [
    "print(\"Generating submission file...\")\n",
    "df = pd.DataFrame({'img': names, 'rle_mask': rles})\n",
    "df.to_csv('submit/submission.csv.gz', index=False, compression='gzip')"
   ]
  },
  {
   "cell_type": "code",
   "execution_count": null,
   "metadata": {
    "collapsed": true,
    "hidden": true
   },
   "outputs": [],
   "source": []
  }
 ],
 "metadata": {
  "anaconda-cloud": {},
  "kernelspec": {
   "display_name": "Python 3",
   "language": "python",
   "name": "python3"
  },
  "language_info": {
   "codemirror_mode": {
    "name": "ipython",
    "version": 3
   },
   "file_extension": ".py",
   "mimetype": "text/x-python",
   "name": "python",
   "nbconvert_exporter": "python",
   "pygments_lexer": "ipython3",
   "version": "3.6.1"
  },
  "toc": {
   "nav_menu": {
    "height": "48px",
    "width": "252px"
   },
   "number_sections": true,
   "sideBar": true,
   "skip_h1_title": false,
   "toc_cell": true,
   "toc_position": {},
   "toc_section_display": "block",
   "toc_window_display": false
  }
 },
 "nbformat": 4,
 "nbformat_minor": 2
}
