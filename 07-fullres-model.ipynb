{
 "cells": [
  {
   "cell_type": "markdown",
   "metadata": {
    "toc": "true"
   },
   "source": [
    "# Table of Contents\n",
    " <p><div class=\"lev1 toc-item\"><a href=\"#Load-libraries\" data-toc-modified-id=\"Load-libraries-1\"><span class=\"toc-item-num\">1&nbsp;&nbsp;</span>Load libraries</a></div><div class=\"lev1 toc-item\"><a href=\"#Define-loss-functions\" data-toc-modified-id=\"Define-loss-functions-2\"><span class=\"toc-item-num\">2&nbsp;&nbsp;</span>Define loss functions</a></div><div class=\"lev1 toc-item\"><a href=\"#Define-models\" data-toc-modified-id=\"Define-models-3\"><span class=\"toc-item-num\">3&nbsp;&nbsp;</span>Define models</a></div><div class=\"lev1 toc-item\"><a href=\"#Training\" data-toc-modified-id=\"Training-4\"><span class=\"toc-item-num\">4&nbsp;&nbsp;</span>Training</a></div><div class=\"lev1 toc-item\"><a href=\"#Predictions\" data-toc-modified-id=\"Predictions-5\"><span class=\"toc-item-num\">5&nbsp;&nbsp;</span>Predictions</a></div>"
   ]
  },
  {
   "cell_type": "markdown",
   "metadata": {},
   "source": [
    "# Load libraries"
   ]
  },
  {
   "cell_type": "code",
   "execution_count": 1,
   "metadata": {
    "ExecuteTime": {
     "end_time": "2017-08-30T14:56:01.567241Z",
     "start_time": "2017-08-30T14:55:45.984408Z"
    }
   },
   "outputs": [
    {
     "name": "stderr",
     "output_type": "stream",
     "text": [
      "Using TensorFlow backend.\n"
     ]
    }
   ],
   "source": [
    "import cv2\n",
    "import numpy as np\n",
    "import pandas as pd\n",
    "\n",
    "from keras.callbacks import EarlyStopping, ReduceLROnPlateau, ModelCheckpoint, TensorBoard\n",
    "from keras.models import Model\n",
    "from keras.layers import Input, concatenate, Conv2D, MaxPooling2D, Activation, UpSampling2D, BatchNormalization\n",
    "from keras.optimizers import RMSprop\n",
    "from keras.losses import binary_crossentropy\n",
    "import keras.backend as K\n",
    "\n",
    "from sklearn.model_selection import train_test_split"
   ]
  },
  {
   "cell_type": "markdown",
   "metadata": {},
   "source": [
    "# Define loss functions"
   ]
  },
  {
   "cell_type": "code",
   "execution_count": 2,
   "metadata": {
    "ExecuteTime": {
     "end_time": "2017-08-30T14:56:01.574495Z",
     "start_time": "2017-08-30T14:56:01.568749Z"
    },
    "collapsed": true
   },
   "outputs": [],
   "source": [
    "def dice_loss(y_true, y_pred):\n",
    "    smooth = 1.\n",
    "    y_true_f = K.flatten(y_true)\n",
    "    y_pred_f = K.flatten(y_pred)\n",
    "    intersection = K.sum(y_true_f * y_pred_f)\n",
    "    return (2. * intersection + smooth) / (K.sum(y_true_f) + K.sum(y_pred_f) + smooth)\n",
    "\n",
    "\n",
    "def bce_dice_loss(y_true, y_pred):\n",
    "    return binary_crossentropy(y_true, y_pred) + (1 - dice_loss(y_true, y_pred))"
   ]
  },
  {
   "cell_type": "markdown",
   "metadata": {},
   "source": [
    "# Define models"
   ]
  },
  {
   "cell_type": "code",
   "execution_count": 3,
   "metadata": {
    "ExecuteTime": {
     "end_time": "2017-08-30T14:56:01.582499Z",
     "start_time": "2017-08-30T14:56:01.576172Z"
    },
    "collapsed": true
   },
   "outputs": [],
   "source": [
    "def unet_down_one_block(inputs, num_filters):\n",
    "    x = Conv2D(num_filters, (3, 3), padding='same')(inputs)\n",
    "    x = BatchNormalization()(x)\n",
    "    x = Activation('relu')(x)\n",
    "    x = Conv2D(num_filters, (3, 3), padding='same')(x)\n",
    "    x = BatchNormalization()(x)\n",
    "    x = Activation('relu')(x)\n",
    "    return x"
   ]
  },
  {
   "cell_type": "code",
   "execution_count": 4,
   "metadata": {
    "ExecuteTime": {
     "end_time": "2017-08-30T14:56:01.587608Z",
     "start_time": "2017-08-30T14:56:01.584039Z"
    },
    "collapsed": true
   },
   "outputs": [],
   "source": [
    "def unet_max_pool(inputs):\n",
    "    x = MaxPooling2D((2, 2), strides=(2, 2))(inputs)\n",
    "    return x"
   ]
  },
  {
   "cell_type": "code",
   "execution_count": 5,
   "metadata": {
    "ExecuteTime": {
     "end_time": "2017-08-30T14:56:01.599254Z",
     "start_time": "2017-08-30T14:56:01.589310Z"
    },
    "collapsed": true
   },
   "outputs": [],
   "source": [
    "def unet_up_one_block(up_input, down_input, num_filters):\n",
    "    x = UpSampling2D((2,2))(up_input)\n",
    "    x = concatenate([down_input, x], axis=3)\n",
    "    x = Conv2D(num_filters, (3,3), padding='same')(x)\n",
    "    x = BatchNormalization()(x)\n",
    "    x = Activation('relu')(x)\n",
    "    x = Conv2D(num_filters, (3,3), padding='same')(x)\n",
    "    x = BatchNormalization()(x)\n",
    "    x = Activation('relu')(x)\n",
    "    x = Conv2D(num_filters, (3,3), padding='same')(x)\n",
    "    x = BatchNormalization()(x)\n",
    "    x = Activation('relu')(x)\n",
    "    return x"
   ]
  },
  {
   "cell_type": "code",
   "execution_count": 6,
   "metadata": {
    "ExecuteTime": {
     "end_time": "2017-08-30T14:56:01.621261Z",
     "start_time": "2017-08-30T14:56:01.600770Z"
    },
    "collapsed": true
   },
   "outputs": [],
   "source": [
    "def get_unet(input_shape = (256, 256, 3),\n",
    "             num_classes = 1,\n",
    "             initial_filters = 32,\n",
    "             central_filters = 1024):\n",
    "    \n",
    "    num_filters = initial_filters\n",
    "    \n",
    "    out_list    = [Input(shape=input_shape)]\n",
    "    down_interim_list = []\n",
    "    \n",
    "    while num_filters <= central_filters/2:\n",
    "        x = unet_down_one_block(out_list[-1], num_filters)\n",
    "        down_interim_list.append(x)\n",
    "        num_filters = num_filters * 2\n",
    "        y = unet_max_pool(x)\n",
    "        out_list.append(y)\n",
    "    \n",
    "    x = unet_down_one_block(out_list[-1], num_filters)\n",
    "    out_list.append(x)\n",
    "    num_filters = int(num_filters / 2)\n",
    "    \n",
    "    while num_filters >= initial_filters:\n",
    "        x = unet_up_one_block(out_list[-1], down_interim_list.pop(), num_filters)\n",
    "        out_list.append(x)\n",
    "        num_filters = int(num_filters / 2)\n",
    "    \n",
    "    classify = Conv2D(num_classes, (1,1), activation = 'sigmoid')(out_list[-1])\n",
    "    \n",
    "    model = Model(inputs=out_list[0], outputs=classify)\n",
    "    \n",
    "    model.compile(optimizer=RMSprop(lr=0.0001),\n",
    "                  loss=bce_dice_loss,\n",
    "                  metrics=[dice_loss])\n",
    "    \n",
    "    return model"
   ]
  },
  {
   "cell_type": "code",
   "execution_count": 7,
   "metadata": {
    "ExecuteTime": {
     "end_time": "2017-08-30T14:56:03.617369Z",
     "start_time": "2017-08-30T14:56:01.622876Z"
    },
    "collapsed": true,
    "scrolled": true
   },
   "outputs": [],
   "source": [
    "model = get_unet(input_shape=(1024,1024,3), initial_filters=8)"
   ]
  },
  {
   "cell_type": "code",
   "execution_count": 8,
   "metadata": {
    "ExecuteTime": {
     "end_time": "2017-08-29T16:24:44.440660Z",
     "start_time": "2017-08-29T16:24:43.061286Z"
    },
    "collapsed": true
   },
   "outputs": [],
   "source": [
    "model.load_weights('./weights/best_weights_1024.hdf5')"
   ]
  },
  {
   "cell_type": "markdown",
   "metadata": {
    "heading_collapsed": true
   },
   "source": [
    "# Training"
   ]
  },
  {
   "cell_type": "code",
   "execution_count": 9,
   "metadata": {
    "ExecuteTime": {
     "end_time": "2017-08-29T16:24:47.507800Z",
     "start_time": "2017-08-29T16:24:47.504770Z"
    },
    "collapsed": true,
    "hidden": true
   },
   "outputs": [],
   "source": [
    "max_epochs = 50\n",
    "threshold  = 0.5"
   ]
  },
  {
   "cell_type": "code",
   "execution_count": 10,
   "metadata": {
    "ExecuteTime": {
     "end_time": "2017-08-29T16:24:48.289667Z",
     "start_time": "2017-08-29T16:24:47.860506Z"
    },
    "collapsed": true,
    "hidden": true
   },
   "outputs": [],
   "source": [
    "df_train = pd.read_csv('data/train_masks.csv')"
   ]
  },
  {
   "cell_type": "code",
   "execution_count": 11,
   "metadata": {
    "ExecuteTime": {
     "end_time": "2017-08-29T16:24:48.297479Z",
     "start_time": "2017-08-29T16:24:48.291316Z"
    },
    "collapsed": true,
    "hidden": true
   },
   "outputs": [],
   "source": [
    "ids_train = df_train['img'].map(lambda s: s.split('.')[0])"
   ]
  },
  {
   "cell_type": "code",
   "execution_count": 12,
   "metadata": {
    "ExecuteTime": {
     "end_time": "2017-08-29T16:24:48.602532Z",
     "start_time": "2017-08-29T16:24:48.597315Z"
    },
    "collapsed": true,
    "hidden": true
   },
   "outputs": [],
   "source": [
    "ids_train_split, ids_valid_split = train_test_split(ids_train, test_size=0.2, random_state=42)"
   ]
  },
  {
   "cell_type": "code",
   "execution_count": 13,
   "metadata": {
    "ExecuteTime": {
     "end_time": "2017-08-29T16:24:49.030558Z",
     "start_time": "2017-08-29T16:24:49.019046Z"
    },
    "collapsed": true,
    "hidden": true
   },
   "outputs": [],
   "source": [
    "def randomHueSaturationValue(image, hue_shift_limit=(-180, 180),\n",
    "                             sat_shift_limit=(-255, 255),\n",
    "                             val_shift_limit=(-255, 255), u=0.5):\n",
    "    if np.random.random() < u:\n",
    "        image = cv2.cvtColor(image, cv2.COLOR_BGR2HSV)\n",
    "        h, s, v = cv2.split(image)\n",
    "        hue_shift = np.random.uniform(hue_shift_limit[0], hue_shift_limit[1])\n",
    "        h = cv2.add(h, hue_shift)\n",
    "        sat_shift = np.random.uniform(sat_shift_limit[0], sat_shift_limit[1])\n",
    "        s = cv2.add(s, sat_shift)\n",
    "        val_shift = np.random.uniform(val_shift_limit[0], val_shift_limit[1])\n",
    "        v = cv2.add(v, val_shift)\n",
    "        image = cv2.merge((h, s, v))\n",
    "        image = cv2.cvtColor(image, cv2.COLOR_HSV2BGR)\n",
    "\n",
    "    return image"
   ]
  },
  {
   "cell_type": "code",
   "execution_count": 14,
   "metadata": {
    "ExecuteTime": {
     "end_time": "2017-08-29T16:24:49.723497Z",
     "start_time": "2017-08-29T16:24:49.691563Z"
    },
    "collapsed": true,
    "hidden": true
   },
   "outputs": [],
   "source": [
    "def randomShiftScaleRotate(image, mask,\n",
    "                           shift_limit=(-0.0625, 0.0625),\n",
    "                           scale_limit=(-0.1, 0.1),\n",
    "                           rotate_limit=(-45, 45), aspect_limit=(0, 0),\n",
    "                           borderMode=cv2.BORDER_CONSTANT, u=0.5):\n",
    "    if np.random.random() < u:\n",
    "        height, width, channel = image.shape\n",
    "\n",
    "        angle = np.random.uniform(rotate_limit[0], rotate_limit[1])  # degree\n",
    "        scale = np.random.uniform(1 + scale_limit[0], 1 + scale_limit[1])\n",
    "        aspect = np.random.uniform(1 + aspect_limit[0], 1 + aspect_limit[1])\n",
    "        sx = scale * aspect / (aspect ** 0.5)\n",
    "        sy = scale / (aspect ** 0.5)\n",
    "        dx = round(np.random.uniform(shift_limit[0], shift_limit[1]) * width)\n",
    "        dy = round(np.random.uniform(shift_limit[0], shift_limit[1]) * height)\n",
    "\n",
    "        cc = np.math.cos(angle / 180 * np.math.pi) * sx\n",
    "        ss = np.math.sin(angle / 180 * np.math.pi) * sy\n",
    "        rotate_matrix = np.array([[cc, -ss], [ss, cc]])\n",
    "\n",
    "        box0 = np.array([[0, 0], [width, 0], [width, height], [0, height], ])\n",
    "        box1 = box0 - np.array([width / 2, height / 2])\n",
    "        box1 = np.dot(box1, rotate_matrix.T) + np.array([width / 2 + dx, height / 2 + dy])\n",
    "\n",
    "        box0 = box0.astype(np.float32)\n",
    "        box1 = box1.astype(np.float32)\n",
    "        mat = cv2.getPerspectiveTransform(box0, box1)\n",
    "        image = cv2.warpPerspective(image, mat, (width, height), flags=cv2.INTER_LINEAR, borderMode=borderMode,\n",
    "                                    borderValue=(\n",
    "                                        0, 0,\n",
    "                                        0,))\n",
    "        mask = cv2.warpPerspective(mask, mat, (width, height), flags=cv2.INTER_LINEAR, borderMode=borderMode,\n",
    "                                   borderValue=(\n",
    "                                       0, 0,\n",
    "                                       0,))\n",
    "\n",
    "    return image, mask\n"
   ]
  },
  {
   "cell_type": "code",
   "execution_count": 15,
   "metadata": {
    "ExecuteTime": {
     "end_time": "2017-08-29T16:24:50.408250Z",
     "start_time": "2017-08-29T16:24:50.403913Z"
    },
    "collapsed": true,
    "hidden": true
   },
   "outputs": [],
   "source": [
    "def randomHorizontalFlip(image, mask, u=0.5):\n",
    "    if np.random.random() < u:\n",
    "        image = cv2.flip(image, 1)\n",
    "        mask = cv2.flip(mask, 1)\n",
    "\n",
    "    return image, mask\n"
   ]
  },
  {
   "cell_type": "code",
   "execution_count": 16,
   "metadata": {
    "ExecuteTime": {
     "end_time": "2017-08-29T16:24:51.436525Z",
     "start_time": "2017-08-29T16:24:51.202273Z"
    },
    "collapsed": true,
    "hidden": true
   },
   "outputs": [],
   "source": [
    "import random\n",
    "import gzip\n",
    "import pickle\n",
    "import matplotlib.pyplot as plt\n",
    "%matplotlib inline"
   ]
  },
  {
   "cell_type": "code",
   "execution_count": 17,
   "metadata": {
    "ExecuteTime": {
     "end_time": "2017-08-29T16:24:57.440861Z",
     "start_time": "2017-08-29T16:24:57.392337Z"
    },
    "collapsed": true,
    "hidden": true
   },
   "outputs": [],
   "source": [
    "def train_generator(train_batch_size):\n",
    "    while True:\n",
    "        this_ids_train_split = random.sample(list(ids_train_split), len(list(ids_train_split)))\n",
    "        for start in range(0, len(this_ids_train_split), train_batch_size):\n",
    "            x_batch = []\n",
    "            y_batch = []\n",
    "            \n",
    "            end = min(start + train_batch_size, len(this_ids_train_split))\n",
    "            ids_train_batch = this_ids_train_split[start:end]\n",
    "            \n",
    "            for id in ids_train_batch:\n",
    "                \n",
    "                f = gzip.open(\"./data/train_cut/\" + id + '_01.pklz','rb')\n",
    "                img = pickle.load(f)\n",
    "                f.close()\n",
    "                \n",
    "                f = gzip.open(\"./data/train_masks_cut/\" + id + '_01.pklz','rb')\n",
    "                mask = pickle.load(f)\n",
    "                f.close()\n",
    "                \n",
    "                img = randomHueSaturationValue(img,\n",
    "                                               hue_shift_limit=(-50, 50),\n",
    "                                               sat_shift_limit=(-5, 5),\n",
    "                                               val_shift_limit=(-15, 15))\n",
    "                \n",
    "                img, mask = randomShiftScaleRotate(img, mask,\n",
    "                                                   shift_limit=(0,0),\n",
    "                                                   scale_limit=(-0.1, 0.1),\n",
    "                                                   rotate_limit=(-0, 0))\n",
    "                \n",
    "                mask = np.expand_dims(mask, axis=2)\n",
    "                \n",
    "                x_batch.append(img)\n",
    "                y_batch.append(mask)\n",
    "                \n",
    "                f = gzip.open(\"./data/train_cut/\" + id + '_02.pklz','rb')\n",
    "                img = pickle.load(f)\n",
    "                f.close()\n",
    "                \n",
    "                f = gzip.open(\"./data/train_masks_cut/\" + id + '_02.pklz','rb')\n",
    "                mask = pickle.load(f)\n",
    "                f.close()\n",
    "                \n",
    "                img = randomHueSaturationValue(img,\n",
    "                                               hue_shift_limit=(-50, 50),\n",
    "                                               sat_shift_limit=(-5, 5),\n",
    "                                               val_shift_limit=(-15, 15))\n",
    "                \n",
    "                img, mask = randomShiftScaleRotate(img, mask,\n",
    "                                                   shift_limit=(-0.0625, 0.0625),\n",
    "                                                   scale_limit=(-0.1, 0.1),\n",
    "                                                   rotate_limit=(-0, 0))\n",
    "                \n",
    "                mask = np.expand_dims(mask, axis=2)\n",
    "                \n",
    "                x_batch.append(img)\n",
    "                y_batch.append(mask)\n",
    "                \n",
    "            x_batch = np.array(x_batch, np.float32) / 255\n",
    "            y_batch = np.array(y_batch, np.float32) / 255\n",
    "            \n",
    "            yield x_batch, y_batch\n"
   ]
  },
  {
   "cell_type": "code",
   "execution_count": 18,
   "metadata": {
    "ExecuteTime": {
     "end_time": "2017-08-29T16:24:58.629634Z",
     "start_time": "2017-08-29T16:24:58.602025Z"
    },
    "collapsed": true,
    "hidden": true
   },
   "outputs": [],
   "source": [
    "def valid_generator(val_batch_size):\n",
    "    while True:\n",
    "        for start in range(0, len(ids_valid_split), val_batch_size):\n",
    "            \n",
    "            x_batch = []\n",
    "            y_batch = []\n",
    "            \n",
    "            end = min(start + val_batch_size, len(ids_valid_split))\n",
    "            ids_valid_batch = ids_valid_split[start:end]\n",
    "            \n",
    "            for id in ids_valid_batch.values:\n",
    "                f = gzip.open(\"./data/train_cut/\" + id + '_01.pklz','rb')\n",
    "                img = pickle.load(f)\n",
    "                f.close()\n",
    "                \n",
    "                f = gzip.open(\"./data/train_masks_cut/\" + id + '_01.pklz','rb')\n",
    "                mask = pickle.load(f)\n",
    "                f.close()\n",
    "                \n",
    "                mask = np.expand_dims(mask, axis=2)\n",
    "                \n",
    "                x_batch.append(img)\n",
    "                y_batch.append(mask)\n",
    "                \n",
    "                f = gzip.open(\"./data/train_cut/\" + id + '_02.pklz','rb')\n",
    "                img = pickle.load(f)\n",
    "                f.close()\n",
    "                \n",
    "                f = gzip.open(\"./data/train_masks_cut/\" + id + '_02.pklz','rb')\n",
    "                mask = pickle.load(f)\n",
    "                f.close()\n",
    "                \n",
    "                mask = np.expand_dims(mask, axis=2)\n",
    "                \n",
    "                x_batch.append(img)\n",
    "                y_batch.append(mask)\n",
    "                \n",
    "            x_batch = np.array(x_batch, np.float32) / 255\n",
    "            y_batch = np.array(y_batch, np.float32) / 255\n",
    "            yield x_batch, y_batch\n",
    "\n"
   ]
  },
  {
   "cell_type": "code",
   "execution_count": 19,
   "metadata": {
    "ExecuteTime": {
     "end_time": "2017-08-29T16:24:59.175566Z",
     "start_time": "2017-08-29T16:24:59.172668Z"
    },
    "collapsed": true,
    "hidden": true
   },
   "outputs": [],
   "source": [
    "train_batch_size = 3\n",
    "val_batch_size   = 8"
   ]
  },
  {
   "cell_type": "code",
   "execution_count": 20,
   "metadata": {
    "ExecuteTime": {
     "end_time": "2017-08-29T16:25:55.746486Z",
     "start_time": "2017-08-29T16:25:55.743757Z"
    },
    "collapsed": true,
    "hidden": true
   },
   "outputs": [],
   "source": [
    "max_epochs = 10"
   ]
  },
  {
   "cell_type": "code",
   "execution_count": null,
   "metadata": {
    "ExecuteTime": {
     "start_time": "2017-08-29T16:25:55.973Z"
    },
    "hidden": true
   },
   "outputs": [
    {
     "name": "stdout",
     "output_type": "stream",
     "text": [
      "Epoch 1/10\n",
      "4745s - loss: 0.0126 - dice_loss: 0.9946 - val_loss: 0.0102 - val_dice_loss: 0.9954\n",
      "Epoch 2/10\n",
      "4737s - loss: 0.0106 - dice_loss: 0.9952 - val_loss: 0.0096 - val_dice_loss: 0.9957\n",
      "Epoch 3/10\n",
      "4750s - loss: 0.0093 - dice_loss: 0.9958 - val_loss: 0.0088 - val_dice_loss: 0.9961\n",
      "Epoch 7/10\n",
      "4739s - loss: 0.0090 - dice_loss: 0.9959 - val_loss: 0.0090 - val_dice_loss: 0.9960\n",
      "Epoch 8/10\n",
      "4746s - loss: 0.0088 - dice_loss: 0.9959 - val_loss: 0.0085 - val_dice_loss: 0.9962\n",
      "Epoch 9/10\n",
      "4719s - loss: 0.0086 - dice_loss: 0.9960 - val_loss: 0.0084 - val_dice_loss: 0.9962\n"
     ]
    }
   ],
   "source": [
    "callbacks = [EarlyStopping(monitor='val_dice_loss',\n",
    "                           patience=8,\n",
    "                           verbose=1,\n",
    "                           min_delta=1e-4,\n",
    "                           mode='max'),\n",
    "             ReduceLROnPlateau(monitor='val_dice_loss',\n",
    "                               factor=0.1,\n",
    "                               patience=4,\n",
    "                               verbose=1,\n",
    "                               epsilon=1e-4,\n",
    "                               mode='max'),\n",
    "             ModelCheckpoint(monitor='val_dice_loss',\n",
    "                             filepath='weights/best_weights_fullres.hdf5',\n",
    "                             save_best_only=True,\n",
    "                             save_weights_only=True,\n",
    "                             mode='max')]\n",
    "\n",
    "history = model.fit_generator(generator=train_generator(train_batch_size),\n",
    "                    steps_per_epoch=np.ceil(float(len(ids_train_split)) / float(train_batch_size)),\n",
    "                    epochs=max_epochs,\n",
    "                    verbose=2,\n",
    "                    callbacks=callbacks,\n",
    "                    validation_data=valid_generator(val_batch_size),\n",
    "                    validation_steps=np.ceil(float(len(ids_valid_split)) / float(val_batch_size)))"
   ]
  },
  {
   "cell_type": "code",
   "execution_count": 22,
   "metadata": {
    "ExecuteTime": {
     "end_time": "2017-08-30T07:17:56.945842Z",
     "start_time": "2017-08-30T07:17:56.939418Z"
    },
    "collapsed": true,
    "hidden": true
   },
   "outputs": [
    {
     "data": {
      "text/plain": [
       "{'dice_loss': [0.99455717988037651,\n",
       "  0.99523690183273994,\n",
       "  0.99549948939234389,\n",
       "  0.99558489984610743,\n",
       "  0.99571890987693823,\n",
       "  0.99577322744327335,\n",
       "  0.99587732943035756,\n",
       "  0.99594144582455513,\n",
       "  0.99599119864166219,\n",
       "  0.99604955582126642],\n",
       " 'loss': [0.012566470506507216,\n",
       "  0.010626543152285626,\n",
       "  0.0098885208991852745,\n",
       "  0.0097225947816986635,\n",
       "  0.0093753033230671579,\n",
       "  0.0093229840597691561,\n",
       "  0.00901451963686478,\n",
       "  0.0088203120025913684,\n",
       "  0.0087231123681507407,\n",
       "  0.0085802589302896286],\n",
       " 'lr': [9.9999997e-05,\n",
       "  9.9999997e-05,\n",
       "  9.9999997e-05,\n",
       "  9.9999997e-05,\n",
       "  9.9999997e-05,\n",
       "  9.9999997e-05,\n",
       "  9.9999997e-05,\n",
       "  9.9999997e-05,\n",
       "  9.9999997e-05,\n",
       "  9.9999997e-05],\n",
       " 'val_dice_loss': [0.99542900527624345,\n",
       "  0.99569059987433528,\n",
       "  0.99584974052863884,\n",
       "  0.99568002455829407,\n",
       "  0.99598537950478272,\n",
       "  0.99606583324537301,\n",
       "  0.99600846359912443,\n",
       "  0.99615332700883008,\n",
       "  0.99587027895427171,\n",
       "  0.996229651400523],\n",
       " 'val_loss': [0.010190892889583391,\n",
       "  0.0095771339837249468,\n",
       "  0.0091141288832913211,\n",
       "  0.0094946613443799479,\n",
       "  0.0089247389870360933,\n",
       "  0.0087529743284221247,\n",
       "  0.0090019664688727481,\n",
       "  0.0085303235601465448,\n",
       "  0.0091026621488287073,\n",
       "  0.0084405600739192871]}"
      ]
     },
     "execution_count": 22,
     "metadata": {},
     "output_type": "execute_result"
    }
   ],
   "source": [
    "history.history"
   ]
  },
  {
   "cell_type": "code",
   "execution_count": 31,
   "metadata": {
    "ExecuteTime": {
     "end_time": "2017-08-30T07:22:07.485100Z",
     "start_time": "2017-08-30T07:22:07.048791Z"
    },
    "collapsed": true,
    "hidden": true
   },
   "outputs": [
    {
     "data": {
      "image/png": "[encoded data removed]",
      "text/plain": [
       "<matplotlib.figure.Figure at 0x7efb885999b0>"
      ]
     },
     "metadata": {},
     "output_type": "display_data"
    }
   ],
   "source": [
    "plt.figure(figsize=(10, 10))\n",
    "plt.subplot(3,1,1)\n",
    "plt.plot(range(10), history.history['loss'],\n",
    "         range(10), history.history['val_loss'])\n",
    "plt.subplot(3,1,2)\n",
    "plt.plot(range(10), history.history['dice_loss'],\n",
    "         range(10), history.history['val_dice_loss'])\n",
    "plt.subplot(3,1,3)\n",
    "plt.plot(range(10), history.history['lr']);"
   ]
  },
  {
   "cell_type": "code",
   "execution_count": null,
   "metadata": {
    "ExecuteTime": {
     "start_time": "2017-08-30T07:23:14.350Z"
    },
    "hidden": true
   },
   "outputs": [
    {
     "name": "stdout",
     "output_type": "stream",
     "text": [
      "Epoch 1/5\n",
      "4755s - loss: 0.0085 - dice_loss: 0.9961 - val_loss: 0.0085 - val_dice_loss: 0.9961\n",
      "Epoch 2/5\n",
      "4770s - loss: 0.0083 - dice_loss: 0.9962 - val_loss: 0.0084 - val_dice_loss: 0.9963\n",
      "Epoch 3/5\n",
      "4751s - loss: 0.0083 - dice_loss: 0.9962 - val_loss: 0.0092 - val_dice_loss: 0.9959\n",
      "Epoch 4/5\n",
      "4784s - loss: 0.0082 - dice_loss: 0.9962 - val_loss: 0.0083 - val_dice_loss: 0.9963\n",
      "Epoch 5/5\n",
      "4780s - loss: 0.0081 - dice_loss: 0.9963 - val_loss: 0.0084 - val_dice_loss: 0.9963\n"
     ]
    }
   ],
   "source": [
    "max_epochs = 5\n",
    "\n",
    "callbacks = [EarlyStopping(monitor='val_dice_loss',\n",
    "                           patience=8,\n",
    "                           verbose=1,\n",
    "                           min_delta=1e-4,\n",
    "                           mode='max'),\n",
    "             ReduceLROnPlateau(monitor='val_dice_loss',\n",
    "                               factor=0.1,\n",
    "                               patience=4,\n",
    "                               verbose=1,\n",
    "                               epsilon=1e-4,\n",
    "                               mode='max'),\n",
    "             ModelCheckpoint(monitor='val_dice_loss',\n",
    "                             filepath='weights/best_weights_fullres2.hdf5',\n",
    "                             save_best_only=True,\n",
    "                             save_weights_only=True,\n",
    "                             mode='max')]\n",
    "\n",
    "history = model.fit_generator(generator=train_generator(train_batch_size),\n",
    "                    steps_per_epoch=np.ceil(float(len(ids_train_split)) / float(train_batch_size)),\n",
    "                    epochs=max_epochs,\n",
    "                    verbose=2,\n",
    "                    callbacks=callbacks,\n",
    "                    validation_data=valid_generator(val_batch_size),\n",
    "                    validation_steps=np.ceil(float(len(ids_valid_split)) / float(val_batch_size)))"
   ]
  },
  {
   "cell_type": "code",
   "execution_count": 33,
   "metadata": {
    "ExecuteTime": {
     "end_time": "2017-08-30T14:02:53.535208Z",
     "start_time": "2017-08-30T14:02:53.530194Z"
    },
    "hidden": true
   },
   "outputs": [
    {
     "data": {
      "text/plain": [
       "{'dice_loss': [0.99609746410161326,\n",
       "  0.99615396379838705,\n",
       "  0.9961748024023136,\n",
       "  0.99622358783750042,\n",
       "  0.99625886428268307],\n",
       " 'loss': [0.0084647872822739053,\n",
       "  0.0083404836334123357,\n",
       "  0.0082724137658468401,\n",
       "  0.0081692011720278929,\n",
       "  0.0081006346269297883],\n",
       " 'lr': [9.9999997e-05,\n",
       "  9.9999997e-05,\n",
       "  9.9999997e-05,\n",
       "  9.9999997e-05,\n",
       "  9.9999997e-05],\n",
       " 'val_dice_loss': [0.99613702742196253,\n",
       "  0.99626036524070039,\n",
       "  0.99589551876944971,\n",
       "  0.99630729634541659,\n",
       "  0.99631929608365644],\n",
       " 'val_loss': [0.0085428459130681336,\n",
       "  0.0084342336563909444,\n",
       "  0.0092407378014945571,\n",
       "  0.008318381248616516,\n",
       "  0.0083795360276706088]}"
      ]
     },
     "execution_count": 33,
     "metadata": {},
     "output_type": "execute_result"
    }
   ],
   "source": [
    "history.history"
   ]
  },
  {
   "cell_type": "code",
   "execution_count": 35,
   "metadata": {
    "ExecuteTime": {
     "end_time": "2017-08-30T14:03:06.188082Z",
     "start_time": "2017-08-30T14:03:05.675786Z"
    },
    "hidden": true
   },
   "outputs": [
    {
     "data": {
      "image/png": "[encoded data removed]",
      "text/plain": [
       "<matplotlib.figure.Figure at 0x7efb415fa978>"
      ]
     },
     "metadata": {},
     "output_type": "display_data"
    }
   ],
   "source": [
    "plt.figure(figsize=(10, 10))\n",
    "plt.subplot(3,1,1)\n",
    "plt.plot(range(5), history.history['loss'],\n",
    "         range(5), history.history['val_loss'])\n",
    "plt.subplot(3,1,2)\n",
    "plt.plot(range(5), history.history['dice_loss'],\n",
    "         range(5), history.history['val_dice_loss'])\n",
    "plt.subplot(3,1,3)\n",
    "plt.plot(range(5), history.history['lr']);"
   ]
  },
  {
   "cell_type": "markdown",
   "metadata": {},
   "source": [
    "# Predictions"
   ]
  },
  {
   "cell_type": "code",
   "execution_count": 8,
   "metadata": {
    "ExecuteTime": {
     "end_time": "2017-08-30T14:56:03.625236Z",
     "start_time": "2017-08-30T14:56:03.619157Z"
    },
    "collapsed": true
   },
   "outputs": [],
   "source": [
    "from tqdm import tqdm"
   ]
  },
  {
   "cell_type": "code",
   "execution_count": 9,
   "metadata": {
    "ExecuteTime": {
     "end_time": "2017-08-30T14:56:03.738079Z",
     "start_time": "2017-08-30T14:56:03.626928Z"
    },
    "collapsed": true
   },
   "outputs": [],
   "source": [
    "df_test = pd.read_csv('data/sample_submission.csv')\n",
    "ids_test = df_test['img'].map(lambda s: s.split('.')[0])"
   ]
  },
  {
   "cell_type": "code",
   "execution_count": 10,
   "metadata": {
    "ExecuteTime": {
     "end_time": "2017-08-30T14:56:03.795063Z",
     "start_time": "2017-08-30T14:56:03.739960Z"
    },
    "collapsed": true
   },
   "outputs": [],
   "source": [
    "names = []\n",
    "for id in ids_test:\n",
    "    names.append('{}.jpg'.format(id))"
   ]
  },
  {
   "cell_type": "code",
   "execution_count": 11,
   "metadata": {
    "ExecuteTime": {
     "end_time": "2017-08-30T14:56:03.803513Z",
     "start_time": "2017-08-30T14:56:03.796577Z"
    },
    "collapsed": true
   },
   "outputs": [],
   "source": [
    "# https://www.kaggle.com/stainsby/fast-tested-rle\n",
    "def run_length_encode(mask):\n",
    "    '''\n",
    "    img: numpy array, 1 - mask, 0 - background\n",
    "    Returns run length as string formated\n",
    "    '''\n",
    "    inds = mask.flatten()\n",
    "    runs = np.where(inds[1:] != inds[:-1])[0] + 2\n",
    "    runs[1::2] = runs[1::2] - runs[:-1:2]\n",
    "    rle = ' '.join([str(r) for r in runs])\n",
    "    return rle\n",
    "\n",
    "\n",
    "rles = []"
   ]
  },
  {
   "cell_type": "code",
   "execution_count": 12,
   "metadata": {
    "ExecuteTime": {
     "end_time": "2017-08-30T14:56:05.217976Z",
     "start_time": "2017-08-30T14:56:03.805223Z"
    },
    "collapsed": true
   },
   "outputs": [],
   "source": [
    "model.load_weights(filepath='weights/best_weights_fullres2.hdf5')"
   ]
  },
  {
   "cell_type": "code",
   "execution_count": 13,
   "metadata": {
    "ExecuteTime": {
     "end_time": "2017-08-30T14:56:05.224734Z",
     "start_time": "2017-08-30T14:56:05.221045Z"
    },
    "collapsed": true
   },
   "outputs": [],
   "source": [
    "val_batch_size = 8\n",
    "threshold = 0.5"
   ]
  },
  {
   "cell_type": "code",
   "execution_count": null,
   "metadata": {
    "ExecuteTime": {
     "start_time": "2017-08-30T14:55:53.784Z"
    },
    "collapsed": true
   },
   "outputs": [],
   "source": [
    "import gzip\n",
    "import pickle\n",
    "f = gzip.open('test_bboxes.pklz','rb')\n",
    "test_bboxes = pickle.load(f)\n",
    "f.close()"
   ]
  },
  {
   "cell_type": "code",
   "execution_count": null,
   "metadata": {
    "ExecuteTime": {
     "start_time": "2017-08-30T14:55:54.091Z"
    }
   },
   "outputs": [
    {
     "name": "stderr",
     "output_type": "stream",
     "text": [
      "\r",
      "  0%|          | 0/12508 [00:00<?, ?it/s]"
     ]
    },
    {
     "name": "stdout",
     "output_type": "stream",
     "text": [
      "Predicting on 100064 samples with batch_size = 8...\n"
     ]
    },
    {
     "name": "stderr",
     "output_type": "stream",
     "text": [
      " 57%|█████▋    | 7171/12508 [6:30:12<4:48:45,  3.25s/it] "
     ]
    }
   ],
   "source": [
    "print('Predicting on {} samples with batch_size = {}...'.format(len(ids_test), val_batch_size))\n",
    "for start in tqdm(range(0, len(ids_test), val_batch_size)):\n",
    "    \n",
    "    x_batch = []\n",
    "    end = min(start + val_batch_size, len(ids_test))\n",
    "    ids_test_batch = ids_test[start:end]\n",
    "    \n",
    "    for id in ids_test_batch.values:\n",
    "        img = cv2.imread('data/test/{}.jpg'.format(id))\n",
    "        \n",
    "        this_bbox = test_bboxes[id]\n",
    "        img_1_box = this_bbox[0]\n",
    "        img_2_box = this_bbox[1]\n",
    "        \n",
    "        img_1 = np.copy(img[img_1_box[2]:(img_1_box[3]+1), img_1_box[0]:(img_1_box[1]+1),:])\n",
    "        img_2 = np.copy(img[img_2_box[2]:(img_2_box[3]+1), img_2_box[0]:(img_2_box[1]+1),:])\n",
    "        img_2 = cv2.flip(img_2, 1)\n",
    "        \n",
    "        x_batch.append(img_1)\n",
    "        x_batch.append(img_2)\n",
    "    \n",
    "    x_batch = np.array(x_batch, np.float32) / 255\n",
    "    preds = model.predict_on_batch(x_batch)\n",
    "    preds = np.squeeze(preds, axis=3)\n",
    "    \n",
    "    final_preds = []\n",
    "    for i in range(len(ids_test_batch.values)):\n",
    "        id = ids_test_batch.values[i]\n",
    "        \n",
    "        this_bbox = test_bboxes[id]\n",
    "        img_1_box = this_bbox[0]\n",
    "        img_2_box = this_bbox[1]\n",
    "        \n",
    "        pred_1 = np.copy(preds[(i*2), :, :])\n",
    "        pred_2 = np.copy(preds[(i*2) + 1, :, :])\n",
    "        pred_2 = cv2.flip(pred_2, 1)\n",
    "        \n",
    "        left_part   = np.copy(pred_1[:, 0:894])\n",
    "        middle_1    = np.copy(pred_1[:, 894:1024])\n",
    "        middle_2    = np.copy(pred_2[:, 0:130])\n",
    "        middle_part = np.add(middle_1, middle_2)/2\n",
    "        right_part  = np.copy(pred_2[:, 130:1024])\n",
    "        all_parts   = np.concatenate((left_part, middle_part, right_part), axis=1)\n",
    "        \n",
    "        if img_1_box[2] != 0:\n",
    "            top_part = np.zeros(shape = (img_1_box[2],1918), dtype = np.float32)\n",
    "            all_parts = np.concatenate((top_part, all_parts), axis = 0)\n",
    "            \n",
    "        if img_1_box[3] != 1279:\n",
    "            bottom_part = np.zeros(shape = (1279-img_1_box[3],1918), dtype = np.float32)\n",
    "            all_parts = np.concatenate((all_parts, bottom_part), axis = 0)\n",
    "        \n",
    "        final_preds.append(all_parts)\n",
    "        \n",
    "    \n",
    "    for prob in final_preds:\n",
    "        mask = prob > threshold\n",
    "        rle = run_length_encode(mask)\n",
    "        rles.append(rle)"
   ]
  },
  {
   "cell_type": "code",
   "execution_count": 17,
   "metadata": {
    "ExecuteTime": {
     "end_time": "2017-08-31T02:22:03.177083Z",
     "start_time": "2017-08-31T02:18:39.879892Z"
    }
   },
   "outputs": [
    {
     "name": "stdout",
     "output_type": "stream",
     "text": [
      "Generating submission file...\n"
     ]
    }
   ],
   "source": [
    "print(\"Generating submission file...\")\n",
    "df = pd.DataFrame({'img': names, 'rle_mask': rles})\n",
    "df.to_csv('submit/submission6.csv.gz', index=False, compression='gzip')"
   ]
  },
  {
   "cell_type": "code",
   "execution_count": null,
   "metadata": {
    "collapsed": true
   },
   "outputs": [],
   "source": []
  }
 ],
 "metadata": {
  "anaconda-cloud": {},
  "kernelspec": {
   "display_name": "Python 3",
   "language": "python",
   "name": "python3"
  },
  "language_info": {
   "codemirror_mode": {
    "name": "ipython",
    "version": 3
   },
   "file_extension": ".py",
   "mimetype": "text/x-python",
   "name": "python",
   "nbconvert_exporter": "python",
   "pygments_lexer": "ipython3",
   "version": "3.6.1"
  },
  "toc": {
   "colors": {
    "hover_highlight": "#DAA520",
    "navigate_num": "#000000",
    "navigate_text": "#333333",
    "running_highlight": "#FF0000",
    "selected_highlight": "#FFD700",
    "sidebar_border": "#EEEEEE",
    "wrapper_background": "#FFFFFF"
   },
   "moveMenuLeft": true,
   "nav_menu": {
    "height": "48px",
    "width": "252px"
   },
   "navigate_menu": true,
   "number_sections": true,
   "sideBar": true,
   "threshold": 4,
   "toc_cell": true,
   "toc_section_display": "block",
   "toc_window_display": false,
   "widenNotebook": false
  }
 },
 "nbformat": 4,
 "nbformat_minor": 2
}
